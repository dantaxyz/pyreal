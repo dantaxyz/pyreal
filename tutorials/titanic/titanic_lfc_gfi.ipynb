{
 "cells": [
  {
   "cell_type": "markdown",
   "metadata": {},
   "source": [
    "Data source:\n",
    "Kaggle. (2012). Titanic: Machine Learning from Disaster. Retrieved from https://www.kaggle.com/c/titanic/data.\n",
    "\n",
    "In this tutorial, we will walk through the process of getting a local and global feature-based explanation for model predictions on the Titanic dataset. We will see which features contribute most to survival predictions for passengers who were on board the Titanic.\n"
   ]
  },
  {
   "cell_type": "code",
   "execution_count": null,
   "metadata": {},
   "outputs": [],
   "source": [
    "import pandas as pd\n",
    "import numpy as np\n",
    "\n",
    "np.random.seed(123)\n",
    "raise Exception"
   ]
  },
  {
   "cell_type": "markdown",
   "metadata": {},
   "source": [
    "We will begin by loading the data, and writing out human-readable descriptions of all features."
   ]
  },
  {
   "cell_type": "code",
   "execution_count": null,
   "metadata": {},
   "outputs": [],
   "source": [
    "from sklearn.model_selection import train_test_split\n",
    "from pyreal.applications import titanic\n",
    "\n",
    "np.random.seed(1)\n",
    "\n",
    "x_orig, y = titanic.load_titanic_data()\n",
    "\n",
    "x_train_orig, x_test_orig, y_train, y_test = train_test_split(x_orig, y, test_size=.20)\n",
    "\n",
    "print(\"Features:\", x_orig.columns.values)\n",
    "\n",
    "feature_descriptions = {\n",
    "    \"PassengerId\": \"Passenger ID\",\n",
    "    \"Pclass\": \"Ticket Class\",\n",
    "    \"SibSp\": \"Number of siblings/spouses aboard\",\n",
    "    \"Parch\": \"Number of parents/children aboard\",\n",
    "    \"Ticket\": \"Ticket Number\",\n",
    "    \"Fare\": \"Passenger Fare\",\n",
    "    \"Cabin\": \"Cabin Number\",\n",
    "    \"Embarked\": \"Port of Embarkment\",\n",
    "}"
   ]
  },
  {
   "cell_type": "markdown",
   "metadata": {},
   "source": [
    "Next, we will make the transformers. `Pyreal`'s built-in transformers all have explanation transforms, which bring explanations from the model form to the interpretable form."
   ]
  },
  {
   "cell_type": "code",
   "execution_count": null,
   "metadata": {},
   "outputs": [],
   "source": [
    "from pyreal.transformers import OneHotEncoder, ColumnDropTransformer, MultiTypeImputer\n",
    "from pyreal.transformers import fit_transformers, run_transformers\n",
    "\n",
    "column_drop = ColumnDropTransformer([\"PassengerId\", \"Name\", \"Ticket\", \"Cabin\"])\n",
    "imputer = MultiTypeImputer()\n",
    "one_hot_encoder = OneHotEncoder([\"Sex\", \"Embarked\"])\n",
    "\n",
    "transformers = [column_drop, imputer, one_hot_encoder]\n",
    "fit_transformers(transformers, x_train_orig)\n",
    "x_transform_train = run_transformers(transformers, x_train_orig)\n",
    "x_transform_test = run_transformers(transformers, x_test_orig)"
   ]
  },
  {
   "cell_type": "code",
   "execution_count": null,
   "metadata": {},
   "outputs": [],
   "source": [
    "from sklearn.linear_model import LogisticRegression\n",
    "import pickle\n",
    "\n",
    "model = LogisticRegression(max_iter=500)\n",
    "model.fit(x_transform_train, y_train)\n",
    "\n",
    "preds = model.predict(x_transform_test)\n",
    "print(\"Test accuracy: %.2f\" % (np.mean(preds==y_test)*100))"
   ]
  },
  {
   "cell_type": "markdown",
   "metadata": {},
   "source": [
    "Now, we can make the explainer..."
   ]
  },
  {
   "cell_type": "code",
   "execution_count": null,
   "metadata": {},
   "outputs": [],
   "source": [
    "from pyreal.explainers import LocalFeatureContribution\n",
    "\n",
    "lfc = LocalFeatureContribution(model=model, x_train_orig=x_train_orig, m_transformers=transformers, e_transformers=transformers,\n",
    "                               feature_descriptions=feature_descriptions, fit_on_init=True)"
   ]
  },
  {
   "cell_type": "markdown",
   "metadata": {},
   "source": [
    "... and visualize the explanation."
   ]
  },
  {
   "cell_type": "code",
   "execution_count": null,
   "metadata": {},
   "outputs": [],
   "source": [
    "from pyreal.utils import visualize\n",
    "\n",
    "input_to_explain = x_test_orig.iloc[0]\n",
    "contributions = lfc.produce(input_to_explain)\n",
    "x_interpret = lfc.convert_data_to_interpretable(input_to_explain)\n",
    "\n",
    "visualize.plot_top_contributors(contributions, select_by=\"absolute\", values=x_interpret)"
   ]
  },
  {
   "cell_type": "markdown",
   "metadata": {},
   "source": [
    "We can also generate a global feature explanation, that explains the overall importance of features."
   ]
  },
  {
   "cell_type": "code",
   "execution_count": null,
   "metadata": {},
   "outputs": [],
   "source": [
    "from pyreal.explainers import LocalFeatureContribution\n",
    "\n",
    "lfc = LocalFeatureContribution(model=model, x_train_orig=x_train_orig, m_transformers=transformers, e_transformers=transformers,\n",
    "                               feature_descriptions=feature_descriptions, fit_on_init=True)"
   ]
  }
 ],
 "metadata": {
  "kernelspec": {
   "display_name": "Python 3",
   "language": "python",
   "name": "python3"
  },
  "language_info": {
   "codemirror_mode": {
    "name": "ipython",
    "version": 3
   },
   "file_extension": ".py",
   "mimetype": "text/x-python",
   "name": "python",
   "nbconvert_exporter": "python",
   "pygments_lexer": "ipython3",
   "version": "3.8.5"
  }
 },
 "nbformat": 4,
 "nbformat_minor": 2
}