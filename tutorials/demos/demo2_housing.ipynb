{
 "cells": [
  {
   "cell_type": "markdown",
   "metadata": {
    "id": "kr9Ut95fpCN5"
   },
   "source": [
    "# Developing Pyreal Applications\n",
    "\n",
    "In this tutorial, we will be going through the process of putting together a RealApp object for future use.\n",
    "\n",
    "If you have not already tried Demonstration 1: Using Pyreal, please do so before trying this demo, to better understand the purpose of RealApp objects.\n",
    "\n",
    "## Scenario Details\n",
    "### Goals for this Scenario\n",
    "1. Learn the components of a Pyreal RealApp, and the steps required to create one for your target application\n",
    "2. Learn about Pyreal's built-in Transformers, and how to make custom, application-specific transformers\n",
    "\n",
    "### User Details\n",
    "\n",
    "- **User Role:** ML Engineer for Real Estate Firm\n",
    "- **Expertise:**\n",
    "    - **Domain (House Pricing):** Some experience\n",
    "    - **Machine Learning:** Expert\n",
    "    - **Explainable ML techniques:** Basic understanding\n",
    "- **User Goals:**\n",
    "    1. Understand what features contribute to average block prices in California\n",
    "\n",
    "### Model and Data Details\n",
    "- 9 Features\n",
    "- Predicts average price of block of houses"
   ]
  },
  {
   "cell_type": "markdown",
   "metadata": {},
   "source": [
    "## Data Loading\n",
    "\n",
    "We will begin by loading in our data matrix and targets.\n"
   ]
  },
  {
   "cell_type": "code",
   "execution_count": 2,
   "metadata": {
    "id": "jo606ew7GUGS"
   },
   "outputs": [
    {
     "data": {
      "text/plain": "       longitude  latitude  housing_median_age  total_rooms  total_bedrooms  \\\n12826    -121.44     38.71                  25         2336           406.0   \n12596    -121.48     38.53                  43         1378           280.0   \n10778    -117.90     33.65                  30         1634           373.0   \n18837    -122.64     41.73                  50         1525           308.0   \n18198    -122.03     37.39                  34         2600           650.0   \n\n       population  households  median_income ocean_proximity  \\\n12826        1172         408         3.5129          INLAND   \n12596         708         280         2.3542          INLAND   \n10778         771         364         3.4125       <1H OCEAN   \n18837         661         285         2.2206          INLAND   \n18198        1994         650         4.0223       <1H OCEAN   \n\n       median_house_value  \n12826              101200  \n12596              103900  \n10778              284100  \n18837               63200  \n18198              250200  ",
      "text/html": "<div>\n<style scoped>\n    .dataframe tbody tr th:only-of-type {\n        vertical-align: middle;\n    }\n\n    .dataframe tbody tr th {\n        vertical-align: top;\n    }\n\n    .dataframe thead th {\n        text-align: right;\n    }\n</style>\n<table border=\"1\" class=\"dataframe\">\n  <thead>\n    <tr style=\"text-align: right;\">\n      <th></th>\n      <th>longitude</th>\n      <th>latitude</th>\n      <th>housing_median_age</th>\n      <th>total_rooms</th>\n      <th>total_bedrooms</th>\n      <th>population</th>\n      <th>households</th>\n      <th>median_income</th>\n      <th>ocean_proximity</th>\n      <th>median_house_value</th>\n    </tr>\n  </thead>\n  <tbody>\n    <tr>\n      <th>12826</th>\n      <td>-121.44</td>\n      <td>38.71</td>\n      <td>25</td>\n      <td>2336</td>\n      <td>406.0</td>\n      <td>1172</td>\n      <td>408</td>\n      <td>3.5129</td>\n      <td>INLAND</td>\n      <td>101200</td>\n    </tr>\n    <tr>\n      <th>12596</th>\n      <td>-121.48</td>\n      <td>38.53</td>\n      <td>43</td>\n      <td>1378</td>\n      <td>280.0</td>\n      <td>708</td>\n      <td>280</td>\n      <td>2.3542</td>\n      <td>INLAND</td>\n      <td>103900</td>\n    </tr>\n    <tr>\n      <th>10778</th>\n      <td>-117.90</td>\n      <td>33.65</td>\n      <td>30</td>\n      <td>1634</td>\n      <td>373.0</td>\n      <td>771</td>\n      <td>364</td>\n      <td>3.4125</td>\n      <td>&lt;1H OCEAN</td>\n      <td>284100</td>\n    </tr>\n    <tr>\n      <th>18837</th>\n      <td>-122.64</td>\n      <td>41.73</td>\n      <td>50</td>\n      <td>1525</td>\n      <td>308.0</td>\n      <td>661</td>\n      <td>285</td>\n      <td>2.2206</td>\n      <td>INLAND</td>\n      <td>63200</td>\n    </tr>\n    <tr>\n      <th>18198</th>\n      <td>-122.03</td>\n      <td>37.39</td>\n      <td>34</td>\n      <td>2600</td>\n      <td>650.0</td>\n      <td>1994</td>\n      <td>650</td>\n      <td>4.0223</td>\n      <td>&lt;1H OCEAN</td>\n      <td>250200</td>\n    </tr>\n  </tbody>\n</table>\n</div>"
     },
     "execution_count": 2,
     "metadata": {},
     "output_type": "execute_result"
    }
   ],
   "source": [
    "from urllib.parse import urljoin\n",
    "import pandas as pd\n",
    "\n",
    "AWS_BASE_URL = 'https://pyreal-data.s3.amazonaws.com/'\n",
    "data_url = urljoin(AWS_BASE_URL, \"usability_study/california.csv\")\n",
    "data = pd.read_csv(data_url)\n",
    "\n",
    "city_url = urljoin(AWS_BASE_URL, \"usability_study/cal_cities_lat_long.csv\")\n",
    "cities = pd.read_csv(city_url)\n",
    "\n",
    "data = data[data[\"median_house_value\"] < 500000]\n",
    "\n",
    "data = data.sample(5000, random_state=100)  # we will work with a truncated dataset to avoid memory crashes\n",
    "\n",
    "X = data.drop(\"median_house_value\", axis=1)\n",
    "y = data[\"median_house_value\"]\n",
    "\n",
    "data.head()"
   ]
  },
  {
   "cell_type": "markdown",
   "metadata": {
    "id": "Yge_u_wO-dpB"
   },
   "source": [
    "We will be working with a pretrained model to predict the median house values for each block.\n",
    "\n",
    "**Run the code below to load in the model.**"
   ]
  },
  {
   "cell_type": "code",
   "execution_count": 2,
   "metadata": {
    "id": "7FIJC51KGu53"
   },
   "outputs": [],
   "source": [
    "import lightgbm\n",
    "import requests\n",
    "import os\n",
    "\n",
    "model_url = urljoin(AWS_BASE_URL, \"usability_study/model.model\")\n",
    "r = requests.get(model_url, allow_redirects=True)\n",
    "open(os.path.join('..', 'data', 'california_housing.model'), 'wb').write(r.content)\n",
    "\n",
    "model = lightgbm.Booster(model_file=os.path.join('..', 'data', 'california_housing.model'))"
   ]
  },
  {
   "cell_type": "markdown",
   "metadata": {
    "id": "BfmXzJH_HgiP"
   },
   "source": [
    "## Custom Transformers Basics\n",
    "\n",
    "Pyreal generates ML explanations using Explainer objects, which take in data Transformers through their `transformer` parameter. These Transformers take in three flags in their initialization, two of which we will use in this tutorial:\n",
    "\n",
    "- Transformers with a `model=True` flag take data from the original feature space (as we loaded in above) to the feature space used by the model.\n",
    "- Transformers with an `interpret=True` flag take data from the original feature space to a feature space more readable or interpretable by humans.\n",
    "\n",
    "<div class=\"alert alert-block alert-info\" style=\"background-color: white; border: 2px solid; padding: 10px\">\n",
    "    <b><i class=\"fa fa-info-circle\" aria-hidden=\"true\"></i>&nbsp; Note</b><br>\n",
    "    <p style=\"color: black\">\n",
    "         For information about the third transformer flag (<code>algorithm</code>), please see the <a href=\"https://github.com/sibyl-dev/pyreal/blob/dev/tutorials/advanced_explanation_generation.ipynb\">advanced explanation generation tutorial.</a>\n",
    "    </p>\n",
    "</div>\n",
    "\n",
    "The Pyreal `transformer` module has some common transformers available for use, but some use-cases may require you to write your own transformer. This can be done by extending the base `Transformer` class.\n",
    "\n",
    "### Transformer Functions\n",
    "When defining a custom transformer, you will need to consider three types of functions:\n",
    "- `data_transform` (*required*): A single function that transforms the data from space A to B.\n",
    "- `inverse_transform_explanation_XXX` (*optional*): Functions that transform an explanation from space B to A. This type of function only needs to be considered if the transformer is used by the explanation algorithm and leads to the data being more obfuscated/less interpretable (ie, will have the `algorithm` flag set to True and the `interpret` flag set to False)\n",
    "- `transform_explanation_XXX` (*optional*): Functions that transform an explanation from space A to B. This type of function only needs to be considered if the transformer is used to make data and explanations more interpretable than the algorithm-ready state (ie, will have the `algorithm` flag set to False and the `interpret` flag set to True)\n",
    "\n",
    "The `transform_explantion` type functions are written per Explanation output type. For this tutorial, we will consider additive local feature contribution and additive global feature importance explanations. At the end of this tutorial, we will consider some special cases."
   ]
  },
  {
   "cell_type": "markdown",
   "metadata": {
    "id": "ZsXVvpTYaLs7"
   },
   "source": [
    "### Custom Transformer Example 1: Per-Household Averager\n",
    "\n",
    "Let's take a look at one possible custom transformer we can add, which will average the values of certain features per household. We will follow these steps to write the function:\n",
    "\n",
    "1. Define the transformer `__init__()` method, using a `super()` call for the parent `Transformer` class. The function can take optional arguments to configure the transformer. We will take in a list of columns to average.\n",
    "2. Define the `data_transform()` function, which takes an input DataFrame `x` and returns `x` after undergoing the transformation. In this case, we simply divide the selected columns by the households feature.\n",
    "3. Consider which flags we expect to be used with this transformer. In this case, our transformation will be used for the explanation algorithm, but also makes the data more interpretable, so our flags are `interpret=True` and `algorithm=True`. Therefore, we do not need to define any explanation transform functions for this use case.\n",
    "\n",
    "**Run the cell below to define the PerHouseholdAverager**\n"
   ]
  },
  {
   "cell_type": "code",
   "execution_count": 3,
   "metadata": {
    "id": "Yg9PZ5HDHD_C"
   },
   "outputs": [],
   "source": [
    "from pyreal.transformers import Transformer\n",
    "\n",
    "class PerHouseholdAverager(Transformer):\n",
    "    def __init__(self, columns, **kwargs):\n",
    "        # columns: the columns to average. Must be list of strings (column names)\n",
    "        self.columns = columns\n",
    "        super().__init__(**kwargs)\n",
    "\n",
    "    def data_transform(self, x):\n",
    "        # Transform the data by adding a new column from total_[column] called\n",
    "        #   average_[column]. This feature represents the average value of\n",
    "        #   [column] per household.\n",
    "        for column in self.columns:\n",
    "            name = column.replace(\"total\", \"average\")\n",
    "            x[name] = x[column] / x[\"households\"]\n",
    "        return x"
   ]
  },
  {
   "cell_type": "markdown",
   "metadata": {},
   "source": [
    "### Custom Transformer Example 2: City Converter\n",
    "\n",
    "Now, let's take a look at another custom transformer, this one requiring an explanation transform. This transformer will be used to convert latitude/longitude values into city areas, based on the closest city to the given coordinates.\n",
    "\n",
    "Again, we will follow the following steps:\n",
    "\n",
    "1. Define the transformer `__init__()` method, using a `super()` call for the parent `Transformer` class. The function can take optional arguments to configure the transformer. In this case, we will not take in any parameters.\n",
    "2. Define the `data_transform()` function, which takes an input DataFrame `x` and returns `x` after undergoing the transformation. In this case, we convert long/lat values to nearby cities.\n",
    "3. Consider which flags we expect to be used with this transformer. In this case, our transformation will be used to make the data more interpretable, but will not be fed into the model, so our flags are `interpret=True` and `algorithm=model=False`. Therefore, the `transform_explanation_XXX` functions will be called, but not the `inverse_transform_explanation` functions.\n",
    "4. Consider the explanation output types you are interested in. For now, let's consider additive local feature contribution and additive global feature importance explanations. These are explanations that provide an importance weighting to each feature, and where these importances can be meaningfully added together to represent the importance of multiple features. We will need to define `transform_explanation_additive_feature_contribution` and `transform_explanation_additive_feature_importance` functions.\n",
    "\n",
    "\n",
    "<div class=\"alert alert-block alert-info\" style=\"background-color: white; border: 2px solid; padding: 10px\">\n",
    "    <b><i class=\"fa fa-info-circle\" aria-hidden=\"true\"></i>&nbsp; Note</b><br>\n",
    "    <p style=\"color: black\">\n",
    "         Note that explanation output types are heirarchial, and Pyreal will use the explanation transforms of higher-level types when the lower-level types are not available. For example, if <code>transform_explanation_additive_feature_contribution</code> is not defined, Pyreal will attempt to use <code>transform_explanation_feature_contribution</code>.\n",
    "    </p>\n",
    "</div>\n"
   ]
  },
  {
   "cell_type": "code",
   "execution_count": 4,
   "metadata": {},
   "outputs": [],
   "source": [
    "from pyreal.types.explanations.feature_based import AdditiveFeatureContributionExplanation, AdditiveFeatureImportanceExplanation\n",
    "\n",
    "class CityConverter(Transformer):\n",
    "    def __init__(self, **kwargs):\n",
    "        self.cities = cities\n",
    "        super().__init__(**kwargs)\n",
    "\n",
    "    def data_transform(self, x):\n",
    "        # Converts latitude/longitude coordinates to closest city name. Note that\n",
    "        #    we are using a very rough estimate here, assuming constant size.\n",
    "        flag = False\n",
    "        if isinstance(x, pd.Series):\n",
    "            x = x.to_frame().T\n",
    "            flag = True\n",
    "        for index, row in self.cities.iterrows():\n",
    "            lat = row[\"Latitude\"]\n",
    "            lon = row[\"Longitude\"]\n",
    "            x.loc[(x[\"latitude\"] > lat-0.1) & (x[\"latitude\"] < lat+0.1) & (x[\"longitude\"] > lon-0.1) & (x[\"longitude\"] < lon+0.1), \"city\"] = row[\"Name\"]\n",
    "        x = x.drop(\"latitude\", axis=1)\n",
    "        x = x.drop(\"longitude\", axis=1)\n",
    "        if flag:\n",
    "            x = x.squeeze(axis=0)\n",
    "        return x\n",
    "\n",
    "    def transform_explanation_additive_feature_contribution(self, explanation):\n",
    "        df = explanation.get()  # A DataFrame with one row per instance and one column per feature\n",
    "        return AdditiveFeatureContributionExplanation(CityConverter.helper_sum_lat_long_columns(df))\n",
    "\n",
    "    def transform_explanation_additive_feature_importance(self, explanation):\n",
    "        df = explanation.get()  # A DataFrame with one row and one column per feature\n",
    "        return AdditiveFeatureImportanceExplanation(CityConverter.helper_sum_lat_long_columns(df))\n",
    "\n",
    "    def helper_sum_lat_long_columns(explanation):\n",
    "        # In the case of additive contributions or importances, we can combine the latitude and\n",
    "        #    longitude explanation contributions by summing to get the city contribution. In this\n",
    "        #    case, our implementation is almost identical for both types of explanations\n",
    "        explanation[\"city\"] = explanation[\"longitude\"] + explanation[\"latitude\"]\n",
    "        explanation = explanation.drop(\"longitude\", axis=1)\n",
    "        explanation = explanation.drop(\"latitude\", axis=1)\n",
    "        return explanation"
   ]
  },
  {
   "cell_type": "markdown",
   "metadata": {
    "id": "uPtavPkfKf91"
   },
   "source": [
    "## Using Transformers\n",
    "\n",
    "In the next code cell, we will using our custom defined transformers, as well as some predefined Pyreal transformers, to generate local and global explanations."
   ]
  },
  {
   "cell_type": "code",
   "execution_count": 5,
   "metadata": {},
   "outputs": [
    {
     "name": "stderr",
     "output_type": "stream",
     "text": [
      "`sparse` was renamed to `sparse_output` in version 1.2 and will be removed in 1.4. `sparse_output` is ignored unless you leave `sparse` to its default value.\n"
     ]
    }
   ],
   "source": [
    "from pyreal.transformers import OneHotEncoder, MultiTypeImputer, fit_transformers\n",
    "from pyreal import RealApp\n",
    "\n",
    "# Initialize and fit transformers using fit_transformers\n",
    "transformers = [MultiTypeImputer(model=True),\n",
    "                OneHotEncoder(columns=\"ocean_proximity\", model=True),\n",
    "                PerHouseholdAverager(columns=[\"total_bedrooms\", \"total_rooms\"], model=True, interpret=True),\n",
    "                CityConverter(model=False, interpret=True)]\n",
    "fit_transformers(transformers, X)\n",
    "\n",
    "\n",
    "realApp = RealApp(model, X_train_orig=X, transformers=transformers)"
   ]
  },
  {
   "cell_type": "code",
   "execution_count": 11,
   "outputs": [
    {
     "name": "stderr",
     "output_type": "stream",
     "text": [
      "The series.append method is deprecated and will be removed from pandas in a future version. Use pandas.concat instead.\n"
     ]
    },
    {
     "data": {
      "text/plain": "<Figure size 640x480 with 1 Axes>",
      "image/png": "[encoded data removed]"
     },
     "metadata": {},
     "output_type": "display_data"
    }
   ],
   "source": [
    "from pyreal import visualize\n",
    "\n",
    "explanation = realApp.produce_local_feature_contributions(X.iloc[1])\n",
    "visualize.plot_top_contributors(explanation[0], select_by=\"absolute\", show=True)"
   ],
   "metadata": {
    "collapsed": false,
    "pycharm": {
     "name": "#%%\n"
    }
   }
  },
  {
   "cell_type": "code",
   "execution_count": null,
   "outputs": [],
   "source": [],
   "metadata": {
    "collapsed": false,
    "pycharm": {
     "name": "#%%\n"
    }
   }
  }
 ],
 "metadata": {
  "colab": {
   "collapsed_sections": [],
   "name": "Pyreal Usability Study",
   "private_outputs": true,
   "provenance": []
  },
  "kernelspec": {
   "display_name": "Python 3 (ipykernel)",
   "language": "python",
   "name": "python3"
  },
  "language_info": {
   "codemirror_mode": {
    "name": "ipython",
    "version": 3
   },
   "file_extension": ".py",
   "mimetype": "text/x-python",
   "name": "python",
   "nbconvert_exporter": "python",
   "pygments_lexer": "ipython3",
   "version": "3.8.8"
  }
 },
 "nbformat": 4,
 "nbformat_minor": 1
}