{
 "cells": [
  {
   "cell_type": "code",
   "execution_count": 76,
   "metadata": {
    "collapsed": true
   },
   "outputs": [],
   "source": [
    "import pyreal.sample_applications.titanic as titanic\n",
    "import numpy as np\n",
    "\n",
    "real_app = titanic.load_titanic_app()\n",
    "sample_data, _ = titanic.load_titanic_data(n_rows=300)"
   ]
  },
  {
   "cell_type": "code",
   "execution_count": null,
   "outputs": [],
   "source": [
    "explanation = real_app.produce_local_feature_contributions(sample_data)"
   ],
   "metadata": {
    "collapsed": false,
    "pycharm": {
     "name": "#%%\n",
     "is_executing": true
    }
   }
  },
  {
   "cell_type": "code",
   "execution_count": null,
   "outputs": [],
   "source": [
    "from pyreal.visualize import plot_top_contributors\n",
    "\n",
    "passenger_id = 1\n",
    "predictions = real_app.predict(sample_data)\n",
    "predictions = np.array([\"Died\" if pred==0 else \"Survived\" for pred in predictions])\n",
    "\n",
    "plot_top_contributors(explanation[1], prediction=predictions[passenger_id])"
   ],
   "metadata": {
    "collapsed": false,
    "pycharm": {
     "name": "#%%\n",
     "is_executing": true
    }
   }
  },
  {
   "cell_type": "code",
   "execution_count": null,
   "outputs": [],
   "source": [
    "from pyreal.visualize import swarm_plot\n",
    "\n",
    "swarm_plot(explanation, type=\"strip\")"
   ],
   "metadata": {
    "collapsed": false,
    "pycharm": {
     "name": "#%%\n",
     "is_executing": true
    }
   }
  },
  {
   "cell_type": "code",
   "execution_count": null,
   "outputs": [],
   "source": [
    "from pyreal.types.explanations.feature_based import FeatureContributionExplanation\n",
    "import pandas as pd\n",
    "import matplotlib.pyplot as plt\n",
    "from pyreal.visualize.visualize_config import NEGATIVE_COLOR_LIGHT, NEUTRAL_COLOR, POSITIVE_COLOR_LIGHT, PALETTE_CMAP\n",
    "import seaborn as sns\n",
    "import numpy as np\n",
    "\n",
    "\n",
    "def feature_scatter_plot(explanation, feature, predictions, legend=True, legend_titles=None):\n",
    "    if isinstance(explanation, FeatureContributionExplanation):\n",
    "        contributions = explanation.get()\n",
    "        values = explanation.get()\n",
    "    else:\n",
    "        contribution_list = [explanation[i][\"Contribution\"] for i in explanation]\n",
    "        value_list = [explanation[i][\"Feature Value\"] for i in explanation]\n",
    "        contributions = pd.DataFrame(contribution_list)\n",
    "        values = pd.DataFrame(value_list)\n",
    "\n",
    "    contributions = contributions[feature]\n",
    "    values = values[feature]\n",
    "\n",
    "    data = pd.DataFrame({\"Contribution\": contributions.values, \"Value\":values.values, \"Prediction\":predictions})\n",
    "\n",
    "    num_colors = len(np.unique(predictions.astype(\"str\")))\n",
    "    palette = sns.blend_palette(\n",
    "            [NEGATIVE_COLOR_LIGHT, NEUTRAL_COLOR, POSITIVE_COLOR_LIGHT], n_colors=num_colors\n",
    "        )\n",
    "    legend = True\n",
    "    if isinstance(predictions[0], (float)) or (isinstance(predictions[0], (int)) and num_colors > 6):\n",
    "        legend = False\n",
    "    ax = sns.lmplot( x=\"Value\", y=\"Contribution\",\n",
    "                data=data, fit_reg=False,\n",
    "                hue='Prediction', palette=palette,\n",
    "                legend=legend)\n",
    "    plt.xlabel(\"Values for %s\" % feature)\n",
    "    if not legend:\n",
    "        norm = plt.Normalize(0, 1)\n",
    "        sm = plt.cm.ScalarMappable(cmap=PALETTE_CMAP, norm=norm)\n",
    "        min = predictions.min()\n",
    "        max = predictions.max()\n",
    "        sm.set_array([])\n",
    "        cbar = ax.figure.colorbar(sm)\n",
    "        cbar.ax.get_yaxis().set_ticks([])\n",
    "        cbar.ax.text(1.5, 0.05, ('%.2f' % min).rstrip('0').rstrip('.'), ha=\"left\", va=\"center\")\n",
    "        cbar.ax.text(1.5, 0.95, ('%.2f' % max).rstrip('0').rstrip('.'), ha=\"left\", va=\"center\")\n",
    "        cbar.ax.set_ylabel(\"Feature Value\", rotation=270)\n",
    "        cbar.ax.get_yaxis().labelpad = 15\n",
    "\n",
    "\n",
    "feature_scatter_plot(explanation, \"Age\", predictions, legend_titles=[\"Died\", \"Survived\"])\n"
   ],
   "metadata": {
    "collapsed": false,
    "pycharm": {
     "name": "#%%\n",
     "is_executing": true
    }
   }
  },
  {
   "cell_type": "code",
   "execution_count": null,
   "outputs": [],
   "source": [],
   "metadata": {
    "collapsed": false,
    "pycharm": {
     "name": "#%%\n",
     "is_executing": true
    }
   }
  },
  {
   "cell_type": "code",
   "execution_count": null,
   "outputs": [],
   "source": [],
   "metadata": {
    "collapsed": false,
    "pycharm": {
     "name": "#%%\n",
     "is_executing": true
    }
   }
  }
 ],
 "metadata": {
  "kernelspec": {
   "display_name": "Python 3",
   "language": "python",
   "name": "python3"
  },
  "language_info": {
   "codemirror_mode": {
    "name": "ipython",
    "version": 2
   },
   "file_extension": ".py",
   "mimetype": "text/x-python",
   "name": "python",
   "nbconvert_exporter": "python",
   "pygments_lexer": "ipython2",
   "version": "2.7.6"
  }
 },
 "nbformat": 4,
 "nbformat_minor": 0
}