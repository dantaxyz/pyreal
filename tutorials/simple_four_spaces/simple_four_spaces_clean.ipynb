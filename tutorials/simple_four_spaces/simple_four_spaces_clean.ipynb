{
 "cells": [
  {
   "cell_type": "markdown",
   "id": "f2a93af3",
   "metadata": {},
   "source": [
    "![title](feature_types.png)"
   ]
  },
  {
   "cell_type": "markdown",
   "id": "16d578d4",
   "metadata": {},
   "source": [
    "## Simple Four-Feature-Spaces Tutorial\n",
    "\n",
    "In this tutorial, we will work through an simple, artificial ML problem to illustrate the full `Pyreal` workflow, including four unique feature spaces and multiple explanation types.\n",
    "\n",
    "### ML Problem Setup\n",
    "\n",
    "In this example, we will use a simple ML model to predict the prices of hypothetical Trinkets based on five pieces of information:\n",
    "1. Trinket Type `type` (categorical)\n",
    "2. Trinket Color `color` (categorical)\n",
    "3. Trinket Age `age` (integer)\n",
    "4. Trinket Weight `width` (float)\n",
    "4. Trinket Height `height` (float)\n",
    "\n",
    "This information can be formatted in multiple ways - each of these introduces a new *feature space*.\n",
    "\n",
    "### Original Feature Space\n",
    "\n",
    "In this example, we have been given the data in what we will refer to as the **original** feature space, or `X_orig`. This is an arbitrary feature space, that includes the information in whatever form our data-collection team happened to use. Let's load in and take a look at this space now.\n",
    "\n",
    "We see that we have five columns, one per piece of information listed above. The color feature is listed using HTML color codes, which are not very understandable to most people. The type feature is categorical, and can take one of three values - `foo`, `bar`, or `foobar`. The other three features are numeric, as expected."
   ]
  },
  {
   "cell_type": "code",
   "execution_count": 1,
   "id": "5988b5d6",
   "metadata": {
    "pycharm": {
     "is_executing": true
    }
   },
   "outputs": [
    {
     "data": {
      "text/html": [
       "<div>\n",
       "<style scoped>\n",
       "    .dataframe tbody tr th:only-of-type {\n",
       "        vertical-align: middle;\n",
       "    }\n",
       "\n",
       "    .dataframe tbody tr th {\n",
       "        vertical-align: top;\n",
       "    }\n",
       "\n",
       "    .dataframe thead th {\n",
       "        text-align: right;\n",
       "    }\n",
       "</style>\n",
       "<table border=\"1\" class=\"dataframe\">\n",
       "  <thead>\n",
       "    <tr style=\"text-align: right;\">\n",
       "      <th></th>\n",
       "      <th>color</th>\n",
       "      <th>age</th>\n",
       "      <th>width</th>\n",
       "      <th>height</th>\n",
       "      <th>type_bar</th>\n",
       "      <th>type_foo</th>\n",
       "      <th>type_foobar</th>\n",
       "    </tr>\n",
       "  </thead>\n",
       "  <tbody>\n",
       "    <tr>\n",
       "      <th>0</th>\n",
       "      <td>#e51e32</td>\n",
       "      <td>41</td>\n",
       "      <td>43.569090</td>\n",
       "      <td>68.784567</td>\n",
       "      <td>1.0</td>\n",
       "      <td>0.0</td>\n",
       "      <td>0.0</td>\n",
       "    </tr>\n",
       "    <tr>\n",
       "      <th>1</th>\n",
       "      <td>#f51a2f</td>\n",
       "      <td>71</td>\n",
       "      <td>84.261218</td>\n",
       "      <td>60.542412</td>\n",
       "      <td>0.0</td>\n",
       "      <td>0.0</td>\n",
       "      <td>1.0</td>\n",
       "    </tr>\n",
       "    <tr>\n",
       "      <th>2</th>\n",
       "      <td>#21e308</td>\n",
       "      <td>90</td>\n",
       "      <td>71.574072</td>\n",
       "      <td>45.595469</td>\n",
       "      <td>1.0</td>\n",
       "      <td>0.0</td>\n",
       "      <td>0.0</td>\n",
       "    </tr>\n",
       "    <tr>\n",
       "      <th>3</th>\n",
       "      <td>#0630cf</td>\n",
       "      <td>32</td>\n",
       "      <td>23.125698</td>\n",
       "      <td>83.431874</td>\n",
       "      <td>0.0</td>\n",
       "      <td>1.0</td>\n",
       "      <td>0.0</td>\n",
       "    </tr>\n",
       "    <tr>\n",
       "      <th>4</th>\n",
       "      <td>#04d82b</td>\n",
       "      <td>44</td>\n",
       "      <td>54.253466</td>\n",
       "      <td>20.646017</td>\n",
       "      <td>0.0</td>\n",
       "      <td>0.0</td>\n",
       "      <td>1.0</td>\n",
       "    </tr>\n",
       "  </tbody>\n",
       "</table>\n",
       "</div>"
      ],
      "text/plain": [
       "     color  age      width     height  type_bar  type_foo  type_foobar\n",
       "0  #e51e32   41  43.569090  68.784567       1.0       0.0          0.0\n",
       "1  #f51a2f   71  84.261218  60.542412       0.0       0.0          1.0\n",
       "2  #21e308   90  71.574072  45.595469       1.0       0.0          0.0\n",
       "3  #0630cf   32  23.125698  83.431874       0.0       1.0          0.0\n",
       "4  #04d82b   44  54.253466  20.646017       0.0       0.0          1.0"
      ]
     },
     "execution_count": 1,
     "metadata": {},
     "output_type": "execute_result"
    }
   ],
   "source": [
    "import pandas as pd\n",
    "\n",
    "data_orig =  pd.read_csv(\"trinket_data_orig.csv\", index_col=0)\n",
    "y_orig = data_orig[\"price\"]\n",
    "X_orig = data_orig.drop(\"price\", axis=1)\n",
    "\n",
    "X_orig.head()"
   ]
  },
  {
   "cell_type": "markdown",
   "id": "3442096c",
   "metadata": {},
   "source": [
    "### Model-Ready Feature Space\n",
    "\n",
    "Let's go ahead and train a model to predict the price variable from the features. To do so, we will first need to transform the data to a model-ready standpoint. Our research on the topic of trinket-price-prediction has suggested that a simple linear regression model may work well. We also have the following domain knowledge that may be useful for feature engineering:\n",
    "1. All trinkets are generally \"reddish\" or \"blueish\" - this is much more important to their price than the exact HTML color value.\n",
    "2. Bigger trinkets sell for more - but the difference between width and height is arbitrary. In fact, only the larger of these axis matter\n",
    "\n",
    "Based on this information, combined with the requirements of a linear regression model, let's put together some transformers using Pyreal's `transformer` package, and take a look at what the model-ready feature space looks like. As you can see, this feature space includes one-hot-encoded and aggregated features."
   ]
  },
  {
   "cell_type": "code",
   "execution_count": 2,
   "id": "3d2a5fe8",
   "metadata": {
    "pycharm": {
     "is_executing": true
    }
   },
   "outputs": [
    {
     "data": {
      "text/html": [
       "<div>\n",
       "<style scoped>\n",
       "    .dataframe tbody tr th:only-of-type {\n",
       "        vertical-align: middle;\n",
       "    }\n",
       "\n",
       "    .dataframe tbody tr th {\n",
       "        vertical-align: top;\n",
       "    }\n",
       "\n",
       "    .dataframe thead th {\n",
       "        text-align: right;\n",
       "    }\n",
       "</style>\n",
       "<table border=\"1\" class=\"dataframe\">\n",
       "  <thead>\n",
       "    <tr style=\"text-align: right;\">\n",
       "      <th></th>\n",
       "      <th>age</th>\n",
       "      <th>type_bar</th>\n",
       "      <th>type_foo</th>\n",
       "      <th>type_foobar</th>\n",
       "      <th>color_blue</th>\n",
       "      <th>color_green</th>\n",
       "      <th>color_red</th>\n",
       "      <th>MAX(width,height)</th>\n",
       "    </tr>\n",
       "  </thead>\n",
       "  <tbody>\n",
       "    <tr>\n",
       "      <th>0</th>\n",
       "      <td>41</td>\n",
       "      <td>1.0</td>\n",
       "      <td>0.0</td>\n",
       "      <td>0.0</td>\n",
       "      <td>0.0</td>\n",
       "      <td>0.0</td>\n",
       "      <td>1.0</td>\n",
       "      <td>68.784567</td>\n",
       "    </tr>\n",
       "    <tr>\n",
       "      <th>1</th>\n",
       "      <td>71</td>\n",
       "      <td>0.0</td>\n",
       "      <td>0.0</td>\n",
       "      <td>1.0</td>\n",
       "      <td>0.0</td>\n",
       "      <td>0.0</td>\n",
       "      <td>1.0</td>\n",
       "      <td>84.261218</td>\n",
       "    </tr>\n",
       "    <tr>\n",
       "      <th>2</th>\n",
       "      <td>90</td>\n",
       "      <td>1.0</td>\n",
       "      <td>0.0</td>\n",
       "      <td>0.0</td>\n",
       "      <td>0.0</td>\n",
       "      <td>1.0</td>\n",
       "      <td>0.0</td>\n",
       "      <td>71.574072</td>\n",
       "    </tr>\n",
       "    <tr>\n",
       "      <th>3</th>\n",
       "      <td>32</td>\n",
       "      <td>0.0</td>\n",
       "      <td>1.0</td>\n",
       "      <td>0.0</td>\n",
       "      <td>1.0</td>\n",
       "      <td>0.0</td>\n",
       "      <td>0.0</td>\n",
       "      <td>83.431874</td>\n",
       "    </tr>\n",
       "    <tr>\n",
       "      <th>4</th>\n",
       "      <td>44</td>\n",
       "      <td>0.0</td>\n",
       "      <td>0.0</td>\n",
       "      <td>1.0</td>\n",
       "      <td>0.0</td>\n",
       "      <td>1.0</td>\n",
       "      <td>0.0</td>\n",
       "      <td>54.253466</td>\n",
       "    </tr>\n",
       "  </tbody>\n",
       "</table>\n",
       "</div>"
      ],
      "text/plain": [
       "   age  type_bar  type_foo  type_foobar  color_blue  color_green  color_red  \\\n",
       "0   41       1.0       0.0          0.0         0.0          0.0        1.0   \n",
       "1   71       0.0       0.0          1.0         0.0          0.0        1.0   \n",
       "2   90       1.0       0.0          0.0         0.0          1.0        0.0   \n",
       "3   32       0.0       1.0          0.0         1.0          0.0        0.0   \n",
       "4   44       0.0       0.0          1.0         0.0          1.0        0.0   \n",
       "\n",
       "   MAX(width,height)  \n",
       "0          68.784567  \n",
       "1          84.261218  \n",
       "2          71.574072  \n",
       "3          83.431874  \n",
       "4          54.253466  "
      ]
     },
     "execution_count": 2,
     "metadata": {},
     "output_type": "execute_result"
    }
   ],
   "source": [
    "from pyreal.transformers import Transformer, OneHotEncoder, Mappings, MappingsOneHotDecoder, FeatureSelectTransformer\n",
    "from pyreal.transformers import fit_transformers, run_transformers\n",
    "\n",
    "\n",
    "def hex_to_color_name(h):\n",
    "    h = h.lstrip('#')\n",
    "    rgb = tuple(int(h[i:i+2], 16) for i in (0, 2, 4))\n",
    "    return [\"red\", \"green\", \"blue\"][rgb.index(max(rgb))]\n",
    "\n",
    "class ColorTransformer(Transformer):\n",
    "    \"\"\"\n",
    "    Transforms a hex color to `red` or `blue`\n",
    "    \"\"\"\n",
    "    def __init__(self, columns):\n",
    "        self.columns = columns\n",
    "\n",
    "    def fit(self, x):\n",
    "        return self\n",
    "\n",
    "    def transform(self, x):\n",
    "        for col in self.columns:\n",
    "            x[col] = x[col].apply(hex_to_color_name)\n",
    "        return x\n",
    "\n",
    "    def transform_explanation(self, explanation):\n",
    "        return explanation\n",
    "\n",
    "\n",
    "class MaxAggregator(Transformer):\n",
    "    \"\"\"\n",
    "    Converts a set of numeric features to a single feature of the max value\n",
    "    \"\"\"\n",
    "    def __init__(self, columns):\n",
    "        self.columns = columns\n",
    "\n",
    "    def transform(self, x):\n",
    "        column_name = \"MAX(\"\n",
    "        column_name += \",\".join(self.columns)\n",
    "        column_name += \")\"\n",
    "        x[column_name] = x[self.columns].max(axis=1)\n",
    "        x = x.drop(self.columns, axis=1)\n",
    "        return x\n",
    "\n",
    "\n",
    "colorTransformer = ColorTransformer(columns = [\"color\"])\n",
    "colorEncoder = OneHotEncoder(columns = [\"color\"])\n",
    "maxAggregator = MaxAggregator(columns=[\"width\", \"height\"])\n",
    "featureSelect = FeatureSelectTransformer(['age', 'type_bar', 'type_foo', 'type_foobar',\n",
    "                                          'color_blue', 'color_green', 'color_red',\n",
    "                                          'MAX(width,height)'])\n",
    "\n",
    "model_transformers = [maxAggregator, colorTransformer, colorEncoder, featureSelect]\n",
    "fit_transformers(model_transformers, X_orig)\n",
    "X_model = run_transformers(model_transformers, X_orig)\n",
    "X_model.head()"
   ]
  },
  {
   "cell_type": "markdown",
   "id": "13d39c1c",
   "metadata": {},
   "source": [
    "And now let's train a model and check the score..."
   ]
  },
  {
   "cell_type": "code",
   "execution_count": 3,
   "id": "144f4bcc",
   "metadata": {},
   "outputs": [
    {
     "name": "stdout",
     "output_type": "stream",
     "text": [
      "Model r-squared: 0.9998\n"
     ]
    }
   ],
   "source": [
    "from sklearn.linear_model import LinearRegression\n",
    "\n",
    "model = LinearRegression()\n",
    "model.fit(X_model[0:400], y_orig[0:400])\n",
    "print(\"Model r-squared: %.4f\" % model.score(X_model[401:], y_orig[401:]))"
   ]
  },
  {
   "cell_type": "markdown",
   "id": "6419468e",
   "metadata": {},
   "source": [
    "Our model development team has confirmed that this model performs well - but we would like to know how its making its predictions! How are our features interacting to give a price? Let's address this question by generating a local explanation for the first item in our dataset, using the popular explanation algorithm SHAP:"
   ]
  },
  {
   "cell_type": "code",
   "execution_count": 4,
   "id": "56f29df1",
   "metadata": {},
   "outputs": [
    {
     "data": {
      "image/png": "[encoded data removed]",
      "text/plain": [
       "<Figure size 432x288 with 1 Axes>"
      ]
     },
     "metadata": {
      "needs_background": "light"
     },
     "output_type": "display_data"
    }
   ],
   "source": [
    "import shap\n",
    "from pyreal.utils import visualize\n",
    "\n",
    "explainer = shap.LinearExplainer(model, shap.maskers.Independent(data = X_model))\n",
    "shap_values = explainer.shap_values(X_model[0:1])[0]\n",
    "explanation = pd.DataFrame([shap_values], columns=X_model.columns)\n",
    "\n",
    "visualize.plot_top_contributors(explanation, select_by=\"absolute\", values=X_model.iloc[0])\n"
   ]
  },
  {
   "cell_type": "markdown",
   "id": "320d7618",
   "metadata": {},
   "source": [
    "The explanation above can be hard to parse. The fact that the trinket is not of type `foobar` is greatly decreasing the predicted price; the fact that it is not of type `foo` is greatly increasing it. This level of granularity, including things like one-hot-encoded features, may be useful for some users - especially ML experts looking to work on the model itself. But what about other users, for example Trinket sellers looking to use this model to help them decide on an appropriate Trinket price? Let's talk to some of them, and learn how they want their data presented."
   ]
  },
  {
   "cell_type": "markdown",
   "id": "9aca8af1",
   "metadata": {},
   "source": [
    "### Interpretable feature space\n",
    "\n",
    "There are some transforms we can apply to help. Our users want to see the features that actually contribute to the model prediction, but are confused when features are presented one-hot-encoded. Let's compile a few more transformers (from the original feature space again) - including some that were also useful for getting to the model-ready feature space. We'll take a look at the interpretable feature space.\n",
    "\n",
    "We could make this space even more clear to human users with more descriptive feature names - but we'll add that in later."
   ]
  },
  {
   "cell_type": "code",
   "execution_count": 5,
   "id": "bf146abf",
   "metadata": {},
   "outputs": [
    {
     "data": {
      "text/html": [
       "<div>\n",
       "<style scoped>\n",
       "    .dataframe tbody tr th:only-of-type {\n",
       "        vertical-align: middle;\n",
       "    }\n",
       "\n",
       "    .dataframe tbody tr th {\n",
       "        vertical-align: top;\n",
       "    }\n",
       "\n",
       "    .dataframe thead th {\n",
       "        text-align: right;\n",
       "    }\n",
       "</style>\n",
       "<table border=\"1\" class=\"dataframe\">\n",
       "  <thead>\n",
       "    <tr style=\"text-align: right;\">\n",
       "      <th></th>\n",
       "      <th>color</th>\n",
       "      <th>age</th>\n",
       "      <th>type</th>\n",
       "      <th>MAX(width,height)</th>\n",
       "    </tr>\n",
       "  </thead>\n",
       "  <tbody>\n",
       "    <tr>\n",
       "      <th>0</th>\n",
       "      <td>red</td>\n",
       "      <td>41</td>\n",
       "      <td>bar</td>\n",
       "      <td>68.784567</td>\n",
       "    </tr>\n",
       "    <tr>\n",
       "      <th>1</th>\n",
       "      <td>red</td>\n",
       "      <td>71</td>\n",
       "      <td>foobar</td>\n",
       "      <td>84.261218</td>\n",
       "    </tr>\n",
       "    <tr>\n",
       "      <th>2</th>\n",
       "      <td>green</td>\n",
       "      <td>90</td>\n",
       "      <td>bar</td>\n",
       "      <td>71.574072</td>\n",
       "    </tr>\n",
       "    <tr>\n",
       "      <th>3</th>\n",
       "      <td>blue</td>\n",
       "      <td>32</td>\n",
       "      <td>foo</td>\n",
       "      <td>83.431874</td>\n",
       "    </tr>\n",
       "    <tr>\n",
       "      <th>4</th>\n",
       "      <td>green</td>\n",
       "      <td>44</td>\n",
       "      <td>foobar</td>\n",
       "      <td>54.253466</td>\n",
       "    </tr>\n",
       "  </tbody>\n",
       "</table>\n",
       "</div>"
      ],
      "text/plain": [
       "   color  age    type  MAX(width,height)\n",
       "0    red   41     bar          68.784567\n",
       "1    red   71  foobar          84.261218\n",
       "2  green   90     bar          71.574072\n",
       "3   blue   32     foo          83.431874\n",
       "4  green   44  foobar          54.253466"
      ]
     },
     "execution_count": 5,
     "metadata": {},
     "output_type": "execute_result"
    }
   ],
   "source": [
    "mappings = Mappings.generate_mappings(\n",
    "    categorical_to_one_hot={\"type\": {\"type_foo\": \"foo\", \"type_bar\": \"bar\", \"type_foobar\": \"foobar\"}})\n",
    "typeDecoder = MappingsOneHotDecoder(mappings)\n",
    "colorTransformer = ColorTransformer(columns = [\"color\"])\n",
    "\n",
    "interpretable_transformers = [typeDecoder, colorTransformer, maxAggregator]\n",
    "\n",
    "fit_transformers(interpretable_transformers, X_orig)\n",
    "X_interpret = run_transformers(interpretable_transformers, X_orig)\n",
    "X_interpret.head()"
   ]
  },
  {
   "cell_type": "markdown",
   "id": "98b73f8a",
   "metadata": {},
   "source": [
    "### Pyreal Explainers\n",
    "\n",
    "Many existing explanation algorithm implementations can't just take data in the interpretable form to produce an interpretable explanation - they have their own requirements for feature space.\n",
    "\n",
    "Pyreal handles the details of transforming both data and explanations between feature spaces, using its `Explainer` classes and  `m_transformers`, `e_transformers`, and `i_transformers` parameters. Let's see how that works, and one again generate a local SHAP contribution explanation.\n",
    "\n",
    "The first thing we need to do is identify what feature space is required by the explanation type we'd like to use. We can take a look at the documentation for ShapFeatureContribution explainers to see that, in this case, the explanation algorithm expects data in the model-ready feature space. We set `e_transformers` to the set of transformers that takes us to this space from the original feature space. We then set `m_transformers` to the list of transformers that takes use from this explanation-ready space to the model-ready space (in this case, there are none - these spaces are identical). We set the `i_transformers` to the list of transformers that takes us from the original feature space to the most interpretable option."
   ]
  },
  {
   "cell_type": "code",
   "execution_count": 6,
   "id": "f640fb16",
   "metadata": {},
   "outputs": [],
   "source": [
    "from pyreal.explainers import ShapFeatureContribution\n",
    "\n",
    "explainer = ShapFeatureContribution(model, X_orig,\n",
    "                                    e_transformers=model_transformers,\n",
    "                                    i_transformers=interpretable_transformers,\n",
    "                                    fit_on_init=True,\n",
    "                                    stop_on_missing_transform=False)"
   ]
  },
  {
   "cell_type": "markdown",
   "id": "af087d60",
   "metadata": {},
   "source": [
    "We can now produce and visualize an explanation"
   ]
  },
  {
   "cell_type": "code",
   "execution_count": 7,
   "id": "ec460e8b",
   "metadata": {},
   "outputs": [
    {
     "name": "stdout",
     "output_type": "stream",
     "text": [
      "Transformer class MaxAggregator does not have the required explanation transform\n",
      "Transformer class ColorTransformer does not have the required inverse explanation transform\n",
      "Transformer class MaxAggregator does not have the required inverse explanation transform\n",
      "         age MAX(width,height)      color      type\n",
      "0 -15.656246          8.279705 -20.622256 -8.060027\n"
     ]
    },
    {
     "data": {
      "image/png": "[encoded data removed]",
      "text/plain": [
       "<Figure size 432x288 with 1 Axes>"
      ]
     },
     "metadata": {
      "needs_background": "light"
     },
     "output_type": "display_data"
    }
   ],
   "source": [
    "explanation = explainer.produce(X_orig.iloc[0])\n",
    "print(explanation)\n",
    "\n",
    "X_interpret = explainer.convert_data_to_interpretable(X_orig.iloc[0:1])\n",
    "visualize.plot_top_contributors(explanation, select_by=\"absolute\", values=X_interpret.iloc[0])"
   ]
  },
  {
   "cell_type": "markdown",
   "id": "25f10086",
   "metadata": {},
   "source": [
    "You may notice the warning `Transformer class MaxAggregator does not have the required explanation transform`. This is because we did not provide a way of distributing contribution for this kind of aggregation. The final explanation therefore includes a contribution for the aggregated MAX feature - which works well, as that's also what we determined to be more interpretable."
   ]
  },
  {
   "cell_type": "markdown",
   "id": "13948493",
   "metadata": {},
   "source": [
    "Next, we can generate an interpretable explanation using a different algorithm - the `SimpleCounterfactualContribution` explainer. This explainer requires features in a different feature space, using categorical features."
   ]
  },
  {
   "cell_type": "code",
   "execution_count": 8,
   "id": "a45fceb8",
   "metadata": {},
   "outputs": [
    {
     "name": "stdout",
     "output_type": "stream",
     "text": [
      "Transformer class MappingsOneHotDecoder does not have the required explanation transform\n",
      "Stopping explanation transform process\n"
     ]
    },
    {
     "data": {
      "image/png": "[encoded data removed]",
      "text/plain": [
       "<Figure size 432x288 with 1 Axes>"
      ]
     },
     "metadata": {
      "needs_background": "light"
     },
     "output_type": "display_data"
    }
   ],
   "source": [
    "from pyreal.explainers import SimpleCounterfactualContribution\n",
    "\n",
    "typeEncoder = OneHotEncoder(columns = [\"type\"])\n",
    "fit_transformers([typeDecoder, typeEncoder], X_orig)\n",
    "\n",
    "explainer = SimpleCounterfactualContribution(model, X_orig,\n",
    "                                             e_transformers=[typeDecoder],\n",
    "                                             m_transformers=[typeEncoder, maxAggregator, colorTransformer, colorEncoder, featureSelect],\n",
    "                                             i_transformers=[typeDecoder, colorTransformer],\n",
    "                                             fit_on_init=True)\n",
    "\n",
    "explanation = explainer.produce(X_orig.iloc[0:1])\n",
    "X_interpret = explainer.convert_data_to_interpretable(X_orig.iloc[0:1])\n",
    "visualize.plot_top_contributors(explanation, select_by=\"absolute\", values=X_interpret.iloc[0])"
   ]
  },
  {
   "cell_type": "code",
   "execution_count": 9,
   "id": "d8ee0b84",
   "metadata": {
    "pycharm": {
     "is_executing": true
    }
   },
   "outputs": [
    {
     "name": "stdout",
     "output_type": "stream",
     "text": [
      "Transformer class MaxAggregator does not have the required explanation transform\n",
      "Stopping explanation transform process\n",
      "       color        age       type  MAX(width,height)\n",
      "0  22.462121  17.324643  56.683663          34.861189\n"
     ]
    },
    {
     "data": {
      "image/png": "[encoded data removed]",
      "text/plain": [
       "<Figure size 432x288 with 1 Axes>"
      ]
     },
     "metadata": {
      "needs_background": "light"
     },
     "output_type": "display_data"
    }
   ],
   "source": [
    "explainer = SimpleCounterfactualContribution(model, X_orig,\n",
    "                                             e_transformers=[typeDecoder, maxAggregator],\n",
    "                                             m_transformers=[typeEncoder, colorTransformer, colorEncoder, featureSelect],\n",
    "                                             i_transformers=[maxAggregator, typeDecoder, colorTransformer],\n",
    "                                             fit_on_init=True)\n",
    "\n",
    "explanation = explainer.produce(X_orig.iloc[0:1])\n",
    "print(explanation)\n",
    "X_interpret = explainer.convert_data_to_interpretable(X_orig.iloc[0:1])\n",
    "visualize.plot_top_contributors(explanation, select_by=\"absolute\", values=X_interpret.iloc[0])"
   ]
  },
  {
   "cell_type": "code",
   "execution_count": 10,
   "id": "1438a07c",
   "metadata": {
    "pycharm": {
     "is_executing": true
    }
   },
   "outputs": [
    {
     "name": "stdout",
     "output_type": "stream",
     "text": [
      "Transformer class MaxAggregator does not have the required explanation transform\n",
      "Transformer class ColorTransformer does not have the required inverse explanation transform\n",
      "Transformer class MaxAggregator does not have the required inverse explanation transform\n"
     ]
    },
    {
     "data": {
      "image/png": "[encoded data removed]",
      "text/plain": [
       "<Figure size 432x288 with 1 Axes>"
      ]
     },
     "metadata": {
      "needs_background": "light"
     },
     "output_type": "display_data"
    }
   ],
   "source": [
    "from pyreal.explainers import ShapFeatureImportance\n",
    "\n",
    "explainer = ShapFeatureImportance(model, X_orig,\n",
    "                                  e_transformers=model_transformers,\n",
    "                                  i_transformers=interpretable_transformers,\n",
    "                                  fit_on_init=True,\n",
    "                                  stop_on_missing_transform=False)\n",
    "\n",
    "explanation = explainer.produce()\n",
    "X_interpret = explainer.convert_data_to_interpretable(X_orig.iloc[0:1])\n",
    "visualize.plot_top_contributors(explanation, select_by=\"absolute\", values=X_interpret.iloc[0])"
   ]
  },
  {
   "cell_type": "code",
   "execution_count": null,
   "id": "a31ae3f5",
   "metadata": {},
   "outputs": [],
   "source": []
  }
 ],
 "metadata": {
  "kernelspec": {
   "display_name": "Python 3 (ipykernel)",
   "language": "python",
   "name": "python3"
  },
  "language_info": {
   "codemirror_mode": {
    "name": "ipython",
    "version": 3
   },
   "file_extension": ".py",
   "mimetype": "text/x-python",
   "name": "python",
   "nbconvert_exporter": "python",
   "pygments_lexer": "ipython3",
   "version": "3.8.8"
  }
 },
 "nbformat": 4,
 "nbformat_minor": 5
}
