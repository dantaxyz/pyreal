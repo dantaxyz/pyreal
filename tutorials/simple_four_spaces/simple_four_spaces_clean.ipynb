{
 "cells": [
  {
   "cell_type": "markdown",
   "id": "f2a93af3",
   "metadata": {},
   "source": [
    "![title](feature_types.png)"
   ]
  },
  {
   "cell_type": "code",
   "execution_count": 5,
   "id": "5988b5d6",
   "metadata": {},
   "outputs": [
    {
     "data": {
      "text/html": [
       "<div>\n",
       "<style scoped>\n",
       "    .dataframe tbody tr th:only-of-type {\n",
       "        vertical-align: middle;\n",
       "    }\n",
       "\n",
       "    .dataframe tbody tr th {\n",
       "        vertical-align: top;\n",
       "    }\n",
       "\n",
       "    .dataframe thead th {\n",
       "        text-align: right;\n",
       "    }\n",
       "</style>\n",
       "<table border=\"1\" class=\"dataframe\">\n",
       "  <thead>\n",
       "    <tr style=\"text-align: right;\">\n",
       "      <th></th>\n",
       "      <th>color</th>\n",
       "      <th>age</th>\n",
       "      <th>weight</th>\n",
       "      <th>height</th>\n",
       "      <th>type_bar</th>\n",
       "      <th>type_foo</th>\n",
       "      <th>type_foobar</th>\n",
       "    </tr>\n",
       "  </thead>\n",
       "  <tbody>\n",
       "    <tr>\n",
       "      <th>0</th>\n",
       "      <td>#e51e32</td>\n",
       "      <td>41</td>\n",
       "      <td>43.569090</td>\n",
       "      <td>68.784567</td>\n",
       "      <td>1.0</td>\n",
       "      <td>0.0</td>\n",
       "      <td>0.0</td>\n",
       "    </tr>\n",
       "    <tr>\n",
       "      <th>1</th>\n",
       "      <td>#f51a2f</td>\n",
       "      <td>71</td>\n",
       "      <td>84.261218</td>\n",
       "      <td>60.542412</td>\n",
       "      <td>0.0</td>\n",
       "      <td>0.0</td>\n",
       "      <td>1.0</td>\n",
       "    </tr>\n",
       "    <tr>\n",
       "      <th>2</th>\n",
       "      <td>#21e308</td>\n",
       "      <td>90</td>\n",
       "      <td>71.574072</td>\n",
       "      <td>45.595469</td>\n",
       "      <td>1.0</td>\n",
       "      <td>0.0</td>\n",
       "      <td>0.0</td>\n",
       "    </tr>\n",
       "    <tr>\n",
       "      <th>3</th>\n",
       "      <td>#0630cf</td>\n",
       "      <td>32</td>\n",
       "      <td>23.125698</td>\n",
       "      <td>83.431874</td>\n",
       "      <td>0.0</td>\n",
       "      <td>1.0</td>\n",
       "      <td>0.0</td>\n",
       "    </tr>\n",
       "    <tr>\n",
       "      <th>4</th>\n",
       "      <td>#04d82b</td>\n",
       "      <td>44</td>\n",
       "      <td>54.253466</td>\n",
       "      <td>20.646017</td>\n",
       "      <td>0.0</td>\n",
       "      <td>0.0</td>\n",
       "      <td>1.0</td>\n",
       "    </tr>\n",
       "  </tbody>\n",
       "</table>\n",
       "</div>"
      ],
      "text/plain": [
       "     color  age     weight     height  type_bar  type_foo  type_foobar\n",
       "0  #e51e32   41  43.569090  68.784567       1.0       0.0          0.0\n",
       "1  #f51a2f   71  84.261218  60.542412       0.0       0.0          1.0\n",
       "2  #21e308   90  71.574072  45.595469       1.0       0.0          0.0\n",
       "3  #0630cf   32  23.125698  83.431874       0.0       1.0          0.0\n",
       "4  #04d82b   44  54.253466  20.646017       0.0       0.0          1.0"
      ]
     },
     "execution_count": 5,
     "metadata": {},
     "output_type": "execute_result"
    }
   ],
   "source": [
    "import pandas as pd\n",
    "\n",
    "data_orig =  pd.read_csv(\"trinket_data_orig.csv\", index_col=0)\n",
    "y_orig = data_orig[\"price\"]\n",
    "X_orig = data_orig.drop(\"price\", axis=1)\n",
    "\n",
    "X_orig.head()"
   ]
  },
  {
   "cell_type": "code",
   "execution_count": 11,
   "id": "3d2a5fe8",
   "metadata": {},
   "outputs": [],
   "source": [
    "from pyreal.transformers import BaseTransformer, OneHotEncoder, DataFrameWrapper, Mappings, MappingsOneHotDecoder, FeatureSelectTransformer\n",
    "\n",
    "class ColorTransformer(BaseTransformer):\n",
    "    def __init__(self, columns):\n",
    "        self.columns = columns\n",
    "\n",
    "    def fit(self, x_orig):\n",
    "        return self\n",
    "\n",
    "    def transform(self, x):\n",
    "        for col in self.columns:\n",
    "            x[col] = x[col].apply(hex_to_color_name)\n",
    "        return x\n",
    "\n",
    "class MaxAggregator(BaseTransformer):\n",
    "    def __init__(self, columns):\n",
    "        self.columns = columns\n",
    "\n",
    "    def transform(self, x):\n",
    "        column_name = \"MAX(\"\n",
    "        column_name += \",\".join(self.columns)\n",
    "        column_name += \")\"\n",
    "        x[column_name] = x[self.columns].max(axis=1)\n",
    "        x = x.drop(self.columns, axis=1)\n",
    "        return x\n",
    "\n",
    "def hex_to_color_name(h):\n",
    "    h = h.lstrip('#')\n",
    "    rgb = tuple(int(h[i:i+2], 16) for i in (0, 2, 4))\n",
    "    return [\"red\", \"green\", \"blue\"][rgb.index(max(rgb))]\n",
    "\n",
    "colorTransformer = ColorTransformer(columns = [\"color\"])\n",
    "typeEncoder = OneHotEncoder(columns = [\"type\"])\n",
    "colorEncoder = OneHotEncoder(columns = [\"color\"])\n",
    "maxAggregator = MaxAggregator(columns=[\"weight\", \"height\"])\n",
    "mappings = Mappings.generate_mappings(categorical_to_one_hot={\"type\": {\"type_foo\": \"foo\", \"type_bar\": \"bar\", \"type_foobar\": \"foobar\"}})\n",
    "typeDecoder = MappingsOneHotDecoder(mappings)\n",
    "featureSelect = FeatureSelectTransformer(['age', 'type_bar', 'type_foo', 'type_foobar', \n",
    "                                          'color_blue', 'color_green', 'color_red', \n",
    "                                          'MAX(weight,height)'])"
   ]
  },
  {
   "cell_type": "code",
   "execution_count": 23,
   "id": "d8ee0b84",
   "metadata": {},
   "outputs": [
    {
     "name": "stdout",
     "output_type": "stream",
     "text": [
      "0.9998228611356162\n"
     ]
    }
   ],
   "source": [
    "from pyreal.transformers import fit_transformers, run_transformers\n",
    "from sklearn.linear_model import LinearRegression\n",
    "\n",
    "e_transformers = [typeDecoder]\n",
    "m_transformers = [colorTransformer, colorEncoder, maxAggregator, typeEncoder, featureSelect]\n",
    "i_transformers = [typeDecoder, colorTransformer]\n",
    "\n",
    "fit_transformers(e_transformers + m_transformers, X_orig)\n",
    "fit_transformers(i_transformers, X_orig)\n",
    "\n",
    "X_model = run_transformers(e_transformers + m_transformers, X_orig)\n",
    "model = LinearRegression()\n",
    "model.fit(X_model[0:400], y_orig[0:400])\n",
    "print(model.score(X_model[401:], y[401:]))"
   ]
  },
  {
   "cell_type": "code",
   "execution_count": 33,
   "id": "1438a07c",
   "metadata": {},
   "outputs": [
    {
     "name": "stdout",
     "output_type": "stream",
     "text": [
      "  color  age    weight     height type\n",
      "0   red   41  43.56909  68.784567  bar\n"
     ]
    },
    {
     "data": {
      "image/png": "[encoded data removed]",
      "text/plain": [
       "<Figure size 432x288 with 1 Axes>"
      ]
     },
     "metadata": {
      "needs_background": "light"
     },
     "output_type": "display_data"
    }
   ],
   "source": [
    "from pyreal.explainers.lfc import simple_counterfactual_contribution as scc\n",
    "from pyreal.utils import visualize\n",
    "\n",
    "explainer = scc.SimpleCounterfactualContribution(model, X_orig,\n",
    "                                                 m_transforms=m_transformers,\n",
    "                                                 e_transforms=e_transformers,\n",
    "                                                 i_transforms=i_transformers,\n",
    "                                                 fit_on_init=True)\n",
    "\n",
    "explanation = explainer.produce(X_orig.iloc[0:1])\n",
    "X_interpret = explainer.convert_data_to_interpretable(X_orig.iloc[0:1])\n",
    "print(X_interpret)\n",
    "visualize.plot_top_contributors(explanation, select_by=\"absolute\", values=X_interpret.iloc[0])"
   ]
  },
  {
   "cell_type": "code",
   "execution_count": null,
   "id": "41f76a5c",
   "metadata": {},
   "outputs": [],
   "source": []
  }
 ],
 "metadata": {
  "kernelspec": {
   "display_name": "Python 3 (ipykernel)",
   "language": "python",
   "name": "python3"
  },
  "language_info": {
   "codemirror_mode": {
    "name": "ipython",
    "version": 3
   },
   "file_extension": ".py",
   "mimetype": "text/x-python",
   "name": "python",
   "nbconvert_exporter": "python",
   "pygments_lexer": "ipython3",
   "version": "3.8.8"
  }
 },
 "nbformat": 4,
 "nbformat_minor": 5
}
