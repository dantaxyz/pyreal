{
 "cells": [
  {
   "cell_type": "code",
   "execution_count": null,
   "metadata": {},
   "outputs": [],
   "source": [
    "# Feature 1:\n",
    "# Trinket type\n",
    "# interpretable: categorical\n",
    "# orig: one-hot-encoded\n",
    "# explain: categorical\n",
    "# model: one-hot-encoded\n",
    "\n",
    "# Feature 2:\n",
    "# Trinket color\n",
    "# interpretable: english\n",
    "# orig: html\n",
    "# explain: html\n",
    "# model: one-hot-encoded\n",
    "\n",
    "# Feature 3:\n",
    "# Trinket age\n",
    "# interpretable: numeric\n",
    "# orig: standardized numeric\n",
    "# explain: standardized numeric\n",
    "# model: standardized numeric\n",
    "\n",
    "# Feature 4:\n",
    "# Trinket weight\n",
    "# interpretable: numeric\n",
    "# orig: numeric\n",
    "# explain: numeric\n",
    "# model: combined with 5\n",
    "\n",
    "# Feature 5:\n",
    "# Trinket height\n",
    "# interpretable: numeric\n",
    "# orig: numeric\n",
    "# explain: numeric\n",
    "# model: combined with 5\n",
    "\n",
    "# Target\n",
    "# Trinket price"
   ]
  },
  {
   "cell_type": "code",
   "execution_count": 118,
   "metadata": {
    "pycharm": {
     "name": "#%%\n"
    }
   },
   "outputs": [],
   "source": [
    "import importlib\n",
    "\n",
    "from pyreal.explainers.lfc import simple_counterfactual_contribution as scc\n",
    "importlib.reload(scc)\n",
    "import pandas as pd\n",
    "from sklearn.linear_model import LinearRegression\n",
    "import random\n",
    "\n",
    "random.seed(100)\n",
    "\n",
    "def random_color():\n",
    "    cat = random.randint(0, 2)\n",
    "    major = random.randint(200, 254)\n",
    "    minor1 = random.randint(1, 50)\n",
    "    minor2 = random.randint(1, 50)\n",
    "    if cat == 0:\n",
    "        return '#%02x%02x%02x' % (major, minor1, minor2), cat\n",
    "    if cat == 1:\n",
    "        return '#%02x%02x%02x' % (minor1, major, minor2), cat\n",
    "    if cat == 2:\n",
    "        return '#%02x%02x%02x' % (minor1, minor2, major), cat\n",
    "\n",
    "colors = []\n",
    "cats = []\n",
    "for i in range(500):\n",
    "    color, cat = random_color()\n",
    "    colors.append(color)\n",
    "    cats.append(cat)\n",
    "\n",
    "types = random.choices([\"foo\", \"bar\", \"foobar\"], k=500)\n",
    "\n",
    "age = random.choices(range(20, 100), k=500)\n",
    "\n",
    "weight = [random.uniform(10, 90) for i in range(500)]\n",
    "height = [random.gauss(10, 90) for i in range(500)]\n",
    "\n",
    "data = pd.DataFrame([colors, types, age, weight, height], index=[\"color\", \"type\", \"age\", \"weight\", \"height\"]).transpose()\n",
    "\n",
    "prices = []\n",
    "for i in range(500):\n",
    "    price = cats[i] * 20 * (1+random.uniform(-.01, .01))\n",
    "    price += [\"foo\", \"bar\", \"foobar\"].index(types[i]) * 100 * (1+random.uniform(-.01, .01))\n",
    "    price += ((age[i] - 20) / 100) * 80 * (1+random.uniform(-.01, .01))\n",
    "    price += (max(weight[i], height[i])) * 2 * (1+random.uniform(-.01, .01))\n",
    "    prices.append(price)\n",
    "data[\"price\"] = prices\n",
    "data.to_csv(\"trinket_data.csv\")\n"
   ]
  },
  {
   "cell_type": "code",
   "execution_count": 123,
   "metadata": {},
   "outputs": [
    {
     "data": {
      "text/plain": [
       "0.999834249119441"
      ]
     },
     "execution_count": 123,
     "metadata": {},
     "output_type": "execute_result"
    }
   ],
   "source": [
    "from pyreal.transformers import BaseTransformer, OneHotEncoder, DataFrameWrapper\n",
    "\n",
    "class ColorTransformer(BaseTransformer): \n",
    "    def __init__(self, columns):\n",
    "        self.columns = columns\n",
    "        \n",
    "    def fit(self, x_orig):\n",
    "        return self\n",
    "    \n",
    "    def transform(self, x):\n",
    "        for col in self.columns:\n",
    "            x[col] = x[col].apply(hex_to_color_name)\n",
    "        return x\n",
    "    \n",
    "class MaxAggregator(BaseTransformer):\n",
    "    def __init__(self, columns):\n",
    "        self.columns = columns\n",
    "    \n",
    "    def transform(self, x):\n",
    "        column_name = \"MAX(\"\n",
    "        column_name += \"-\".join(self.columns)\n",
    "        column_name += \")\"\n",
    "        x[column_name] = x[self.columns].max(axis=1)\n",
    "        x.drop(self.columns, axis=1)\n",
    "        return x\n",
    "            \n",
    "def hex_to_color_name(h):\n",
    "    h = h.lstrip('#')\n",
    "    rgb = tuple(int(h[i:i+2], 16) for i in (0, 2, 4))\n",
    "    return [\"red\", \"green\", \"blue\"][rgb.index(max(rgb))]\n",
    "        \n",
    "colorTransformer = ColorTransformer(columns = [\"color\"])\n",
    "typeEncoder = OneHotEncoder(feature_list = [\"type\"])\n",
    "colorEncoder = OneHotEncoder(feature_list = [\"color\"])\n",
    "maxAggregator = MaxAggregator(columns=[\"weight\", \"height\"])\n",
    "normalizer = DataFrameWrapper()\n",
    "\n",
    "data = pd.read_csv(\"trinket_data.csv\", index_col=0)\n",
    "y = data[\"price\"]\n",
    "X = data.drop(\"price\", axis=1)\n",
    "\n",
    "X_model = colorTransformer.fit_transform(X)\n",
    "X_model = oneHotEncoder.fit_transform(X_model)\n",
    "x_model = maxAggregator.fit_transform(X_model)\n",
    "\n",
    "\n",
    "model = LinearRegression()\n",
    "model.fit(X_model[0:400], y[0:400])\n",
    "\n",
    "model.score(X_model[401:], y[401:])\n"
   ]
  },
  {
   "cell_type": "code",
   "execution_count": 65,
   "metadata": {
    "pycharm": {
     "name": "#%%\n"
    }
   },
   "outputs": [
    {
     "name": "stdout",
     "output_type": "stream",
     "text": [
      "[1.  0.  0.1]\n"
     ]
    },
    {
     "data": {
      "text/html": [
       "<div>\n",
       "<style scoped>\n",
       "    .dataframe tbody tr th:only-of-type {\n",
       "        vertical-align: middle;\n",
       "    }\n",
       "\n",
       "    .dataframe tbody tr th {\n",
       "        vertical-align: top;\n",
       "    }\n",
       "\n",
       "    .dataframe thead th {\n",
       "        text-align: right;\n",
       "    }\n",
       "</style>\n",
       "<table border=\"1\" class=\"dataframe\">\n",
       "  <thead>\n",
       "    <tr style=\"text-align: right;\">\n",
       "      <th></th>\n",
       "      <th>0</th>\n",
       "      <th>1</th>\n",
       "      <th>2</th>\n",
       "    </tr>\n",
       "  </thead>\n",
       "  <tbody>\n",
       "    <tr>\n",
       "      <th>0</th>\n",
       "      <td>0.4</td>\n",
       "      <td>0.0</td>\n",
       "      <td>0.023333</td>\n",
       "    </tr>\n",
       "  </tbody>\n",
       "</table>\n",
       "</div>"
      ],
      "text/plain": [
       "     0    1         2\n",
       "0  0.4  0.0  0.023333"
      ]
     },
     "execution_count": 65,
     "metadata": {},
     "output_type": "execute_result"
    }
   ],
   "source": [
    "print(model.coef_)\n",
    "\n",
    "scf.produce(pd.DataFrame([[1, 0, 0]]))"
   ]
  },
  {
   "cell_type": "code",
   "execution_count": null,
   "metadata": {},
   "outputs": [],
   "source": []
  }
 ],
 "metadata": {
  "kernelspec": {
   "display_name": "Python 3 (ipykernel)",
   "language": "python",
   "name": "python3"
  },
  "language_info": {
   "codemirror_mode": {
    "name": "ipython",
    "version": 3
   },
   "file_extension": ".py",
   "mimetype": "text/x-python",
   "name": "python",
   "nbconvert_exporter": "python",
   "pygments_lexer": "ipython3",
   "version": "3.8.8"
  }
 },
 "nbformat": 4,
 "nbformat_minor": 1
}
