{
 "cells": [
  {
   "cell_type": "code",
   "execution_count": 3,
   "metadata": {},
   "outputs": [],
   "source": [
    "# Feature 1:\n",
    "# Trinket type\n",
    "# interpretable: categorical\n",
    "# orig: one-hot-encoded\n",
    "# explain: categorical\n",
    "# model: one-hot-encoded\n",
    "\n",
    "# Feature 2:\n",
    "# Trinket color\n",
    "# interpretable: english\n",
    "# orig: html\n",
    "# explain: html\n",
    "# model: one-hot-encoded\n",
    "\n",
    "# Feature 3:\n",
    "# Trinket age\n",
    "# interpretable: numeric\n",
    "# orig: standardized numeric\n",
    "# explain: standardized numeric\n",
    "# model: standardized numeric\n",
    "\n",
    "# Feature 4:\n",
    "# Trinket weight\n",
    "# interpretable: numeric\n",
    "# orig: numeric\n",
    "# explain: numeric\n",
    "# model: combined with 5\n",
    "\n",
    "# Feature 5:\n",
    "# Trinket height\n",
    "# interpretable: numeric\n",
    "# orig: numeric\n",
    "# explain: numeric\n",
    "# model: combined with 5\n",
    "\n",
    "# Target\n",
    "# Trinket price"
   ]
  },
  {
   "cell_type": "code",
   "execution_count": 7,
   "metadata": {
    "pycharm": {
     "is_executing": true,
     "name": "#%%\n"
    }
   },
   "outputs": [],
   "source": [
    "import importlib\n",
    "\n",
    "from pyreal.explainers.lfc import simple_counterfactual_contribution as scc\n",
    "from pyreal.explainers.lfc import local_feature_contribution as lfc\n",
    "importlib.reload(scc)\n",
    "import pandas as pd\n",
    "from sklearn.linear_model import LinearRegression\n",
    "import random\n",
    "\n",
    "random.seed(100)\n",
    "\n",
    "def random_color():\n",
    "    cat = random.randint(0, 2)\n",
    "    major = random.randint(200, 254)\n",
    "    minor1 = random.randint(1, 50)\n",
    "    minor2 = random.randint(1, 50)\n",
    "    if cat == 0:\n",
    "        return '#%02x%02x%02x' % (major, minor1, minor2), cat\n",
    "    if cat == 1:\n",
    "        return '#%02x%02x%02x' % (minor1, major, minor2), cat\n",
    "    if cat == 2:\n",
    "        return '#%02x%02x%02x' % (minor1, minor2, major), cat\n",
    "\n",
    "colors = []\n",
    "cats = []\n",
    "for i in range(500):\n",
    "    color, cat = random_color()\n",
    "    colors.append(color)\n",
    "    cats.append(cat)\n",
    "\n",
    "types = random.choices([\"foo\", \"bar\", \"foobar\"], k=500)\n",
    "\n",
    "age = random.choices(range(20, 100), k=500)\n",
    "\n",
    "weight = [random.uniform(10, 90) for i in range(500)]\n",
    "height = [random.uniform(10, 90) for i in range(500)]\n",
    "\n",
    "data = pd.DataFrame([colors, types, age, weight, height], index=[\"color\", \"type\", \"age\", \"weight\", \"height\"]).transpose()\n",
    "\n",
    "prices = []\n",
    "for i in range(500):\n",
    "    price = cats[i] * 20 * (1+random.uniform(-.01, .01))\n",
    "    price += [\"foo\", \"bar\", \"foobar\"].index(types[i]) * 100 * (1+random.uniform(-.01, .01))\n",
    "    price += ((age[i] - 20) / 100) * 80 * (1+random.uniform(-.01, .01))\n",
    "    price += (max(weight[i], height[i])) * 2 * (1+random.uniform(-.01, .01))\n",
    "    prices.append(price)\n",
    "data[\"price\"] = prices\n",
    "data.to_csv(\"trinket_data_negs.csv\")\n"
   ]
  },
  {
   "cell_type": "code",
   "execution_count": 5,
   "metadata": {
    "pycharm": {
     "is_executing": true
    }
   },
   "outputs": [
    {
     "ename": "ImportError",
     "evalue": "cannot import name 'BaseTransformer' from 'pyreal.transformers' (C:\\Users\\Ola\\Documents\\github\\pyreal\\pyreal\\transformers\\__init__.py)",
     "output_type": "error",
     "traceback": [
      "\u001b[1;31m---------------------------------------------------------------------------\u001b[0m",
      "\u001b[1;31mImportError\u001b[0m                               Traceback (most recent call last)",
      "\u001b[1;32m~\\AppData\\Local\\Temp/ipykernel_11060/1124853329.py\u001b[0m in \u001b[0;36m<module>\u001b[1;34m\u001b[0m\n\u001b[1;32m----> 1\u001b[1;33m \u001b[1;32mfrom\u001b[0m \u001b[0mpyreal\u001b[0m\u001b[1;33m.\u001b[0m\u001b[0mtransformers\u001b[0m \u001b[1;32mimport\u001b[0m \u001b[0mBaseTransformer\u001b[0m\u001b[1;33m,\u001b[0m \u001b[0mOneHotEncoder\u001b[0m\u001b[1;33m,\u001b[0m \u001b[0mDataFrameWrapper\u001b[0m\u001b[1;33m,\u001b[0m \u001b[0mMappings\u001b[0m\u001b[1;33m,\u001b[0m \u001b[0mMappingsOneHotDecoder\u001b[0m\u001b[1;33m,\u001b[0m \u001b[0mFeatureSelectTransformer\u001b[0m\u001b[1;33m\u001b[0m\u001b[1;33m\u001b[0m\u001b[0m\n\u001b[0m\u001b[0;32m      2\u001b[0m \u001b[1;32mfrom\u001b[0m \u001b[0msklearn\u001b[0m\u001b[1;33m.\u001b[0m\u001b[0mpreprocessing\u001b[0m \u001b[1;32mimport\u001b[0m \u001b[0mMinMaxScaler\u001b[0m\u001b[1;33m\u001b[0m\u001b[1;33m\u001b[0m\u001b[0m\n\u001b[0;32m      3\u001b[0m \u001b[1;33m\u001b[0m\u001b[0m\n\u001b[0;32m      4\u001b[0m \u001b[1;32mclass\u001b[0m \u001b[0mColorTransformer\u001b[0m\u001b[1;33m(\u001b[0m\u001b[0mBaseTransformer\u001b[0m\u001b[1;33m)\u001b[0m\u001b[1;33m:\u001b[0m\u001b[1;33m\u001b[0m\u001b[1;33m\u001b[0m\u001b[0m\n\u001b[0;32m      5\u001b[0m     \u001b[1;32mdef\u001b[0m \u001b[0m__init__\u001b[0m\u001b[1;33m(\u001b[0m\u001b[0mself\u001b[0m\u001b[1;33m,\u001b[0m \u001b[0mcolumns\u001b[0m\u001b[1;33m)\u001b[0m\u001b[1;33m:\u001b[0m\u001b[1;33m\u001b[0m\u001b[1;33m\u001b[0m\u001b[0m\n",
      "\u001b[1;31mImportError\u001b[0m: cannot import name 'BaseTransformer' from 'pyreal.transformers' (C:\\Users\\Ola\\Documents\\github\\pyreal\\pyreal\\transformers\\__init__.py)"
     ]
    }
   ],
   "source": [
    "from pyreal.transformers import BaseTransformer, OneHotEncoder, DataFrameWrapper, Mappings, MappingsOneHotDecoder, FeatureSelectTransformer\n",
    "from sklearn.preprocessing import MinMaxScaler\n",
    "\n",
    "class ColorTransformer(BaseTransformer):\n",
    "    def __init__(self, columns):\n",
    "        self.columns = columns\n",
    "\n",
    "    def fit(self, x_orig):\n",
    "        return self\n",
    "\n",
    "    def transform(self, x):\n",
    "        for col in self.columns:\n",
    "            x[col] = x[col].apply(hex_to_color_name)\n",
    "        return x\n",
    "\n",
    "class MaxAggregator(BaseTransformer):\n",
    "    def __init__(self, columns):\n",
    "        self.columns = columns\n",
    "\n",
    "    def transform(self, x):\n",
    "        column_name = \"MAX(\"\n",
    "        column_name += \",\".join(self.columns)\n",
    "        column_name += \")\"\n",
    "        x[column_name] = x[self.columns].max(axis=1)\n",
    "        x = x.drop(self.columns, axis=1)\n",
    "        return x\n",
    "\n",
    "def hex_to_color_name(h):\n",
    "    h = h.lstrip('#')\n",
    "    rgb = tuple(int(h[i:i+2], 16) for i in (0, 2, 4))\n",
    "    return [\"red\", \"green\", \"blue\"][rgb.index(max(rgb))]\n",
    "\n",
    "colorTransformer = ColorTransformer(columns = [\"color\"])\n",
    "typeEncoder = OneHotEncoder(columns = [\"type\"])\n",
    "colorEncoder = OneHotEncoder(columns = [\"color\"])\n",
    "maxAggregator = MaxAggregator(columns=[\"weight\", \"height\"])\n",
    "#scaler = DataFrameWrapper(MinMaxScaler(), columns=[\"age\"])\n",
    "mappings = Mappings.generate_mappings(categorical_to_one_hot={\"type\": {\"type_foo\": \"foo\", \"type_bar\": \"bar\", \"type_foobar\": \"foobar\"}})\n",
    "typeDecoder = MappingsOneHotDecoder(mappings)\n",
    "\n",
    "data = pd.read_csv(\"trinket_data.csv\", index_col=0)\n",
    "y = data[\"price\"]\n",
    "X = data.drop(\"price\", axis=1)\n",
    "\n",
    "X_orig = typeEncoder.fit_transform(X)\n",
    "data_orig = X_orig\n",
    "data_orig[\"price\"] = y\n",
    "data_orig.to_csv(\"trinket_data_orig.csv\")\n",
    "\n",
    "X_model = colorTransformer.fit_transform(X)\n",
    "X_model = typeEncoder.fit_transform(X_model)\n",
    "X_model = colorEncoder.fit_transform(X_model)\n",
    "X_model = maxAggregator.fit_transform(X_model)\n",
    "\n",
    "print(X_model.columns)\n",
    "\n",
    "featureSelect = FeatureSelectTransformer(X_model.columns)\n",
    "\n",
    "\n",
    "model = LinearRegression()\n",
    "model.fit(X_model[0:400], y[0:400])\n",
    "\n",
    "print(model.score(X_model[401:], y[401:]))\n"
   ]
  },
  {
   "cell_type": "code",
   "execution_count": null,
   "metadata": {
    "pycharm": {
     "is_executing": true
    }
   },
   "outputs": [],
   "source": [
    "data_orig =  pd.read_csv(\"trinket_data_orig.csv\", index_col=0)\n",
    "y_orig = data_orig[\"price\"]\n",
    "X_orig = data_orig.drop(\"price\", axis=1)\n",
    "\n",
    "e_transforms = [typeDecoder]\n",
    "m_transforms = [colorTransformer, colorEncoder, maxAggregator, typeEncoder, featureSelect]\n",
    "i_transforms = [typeDecoder, colorTransformer]\n",
    "\n",
    "explainer1 = scc.SimpleCounterfactualContribution(model, X_orig,\n",
    "                                                 m_transforms=m_transforms,\n",
    "                                                 e_transforms=e_transforms,\n",
    "                                                 i_transforms=i_transforms,\n",
    "                                                 fit_on_init=True)\n",
    "\n",
    "transforms = [colorTransformer, colorEncoder, maxAggregator, featureSelect]\n",
    "explainer2 = lfc.LocalFeatureContribution(model, X_orig,\n",
    "                                          transforms=transforms,\n",
    "                                          #e_transforms=e_transforms,\n",
    "                                          i_transforms=i_transforms,\n",
    "                                          fit_on_init=True)"
   ]
  },
  {
   "cell_type": "code",
   "execution_count": null,
   "metadata": {
    "pycharm": {
     "is_executing": true,
     "name": "#%%\n"
    }
   },
   "outputs": [],
   "source": [
    "import matplotlib.pyplot as plt\n",
    "print(X_model[0:5])\n",
    "print(explainer2.transform_to_x_model(X_orig[0:5]))\n",
    "plt.scatter(model.predict(explainer1.transform_to_x_model(X_orig[0:100])), y[0:100])\n",
    "\n",
    "\n",
    "explanation = explainer2.produce(X_orig.iloc[0])\n",
    "print(explanation)"
   ]
  },
  {
   "cell_type": "code",
   "execution_count": null,
   "metadata": {
    "pycharm": {
     "is_executing": true
    }
   },
   "outputs": [],
   "source": []
  }
 ],
 "metadata": {
  "kernelspec": {
   "display_name": "Python 3 (ipykernel)",
   "language": "python",
   "name": "python3"
  },
  "language_info": {
   "codemirror_mode": {
    "name": "ipython",
    "version": 3
   },
   "file_extension": ".py",
   "mimetype": "text/x-python",
   "name": "python",
   "nbconvert_exporter": "python",
   "pygments_lexer": "ipython3",
   "version": "3.8.6"
  }
 },
 "nbformat": 4,
 "nbformat_minor": 1
}
