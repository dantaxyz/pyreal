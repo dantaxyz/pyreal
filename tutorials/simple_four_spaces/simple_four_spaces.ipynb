{
 "cells": [
  {
   "cell_type": "code",
   "execution_count": 1,
   "metadata": {},
   "outputs": [],
   "source": [
    "# Feature 1:\n",
    "# Trinket type\n",
    "# interpretable: categorical\n",
    "# orig: one-hot-encoded\n",
    "# explain: categorical\n",
    "# model: one-hot-encoded\n",
    "\n",
    "# Feature 2:\n",
    "# Trinket color\n",
    "# interpretable: english\n",
    "# orig: html\n",
    "# explain: html\n",
    "# model: one-hot-encoded\n",
    "\n",
    "# Feature 3:\n",
    "# Trinket age\n",
    "# interpretable: numeric\n",
    "# orig: standardized numeric\n",
    "# explain: standardized numeric\n",
    "# model: standardized numeric\n",
    "\n",
    "# Feature 4:\n",
    "# Trinket weight\n",
    "# interpretable: numeric\n",
    "# orig: numeric\n",
    "# explain: numeric\n",
    "# model: combined with 5\n",
    "\n",
    "# Feature 5:\n",
    "# Trinket height\n",
    "# interpretable: numeric\n",
    "# orig: numeric\n",
    "# explain: numeric\n",
    "# model: combined with 5\n",
    "\n",
    "# Target\n",
    "# Trinket price"
   ]
  },
  {
   "cell_type": "code",
   "execution_count": 2,
   "metadata": {
    "pycharm": {
     "name": "#%%\n"
    }
   },
   "outputs": [],
   "source": [
    "import importlib\n",
    "\n",
    "from pyreal.explainers.lfc import simple_counterfactual_contribution as scc\n",
    "from pyreal.explainers.lfc import local_feature_contribution as lfc\n",
    "importlib.reload(scc)\n",
    "import pandas as pd\n",
    "from sklearn.linear_model import LinearRegression\n",
    "import random\n",
    "\n",
    "random.seed(100)\n",
    "\n",
    "def random_color():\n",
    "    cat = random.randint(0, 2)\n",
    "    major = random.randint(200, 254)\n",
    "    minor1 = random.randint(1, 50)\n",
    "    minor2 = random.randint(1, 50)\n",
    "    if cat == 0:\n",
    "        return '#%02x%02x%02x' % (major, minor1, minor2), cat\n",
    "    if cat == 1:\n",
    "        return '#%02x%02x%02x' % (minor1, major, minor2), cat\n",
    "    if cat == 2:\n",
    "        return '#%02x%02x%02x' % (minor1, minor2, major), cat\n",
    "\n",
    "colors = []\n",
    "cats = []\n",
    "for i in range(500):\n",
    "    color, cat = random_color()\n",
    "    colors.append(color)\n",
    "    cats.append(cat)\n",
    "\n",
    "types = random.choices([\"foo\", \"bar\", \"foobar\"], k=500)\n",
    "\n",
    "age = random.choices(range(20, 100), k=500)\n",
    "\n",
    "weight = [random.uniform(10, 90) for i in range(500)]\n",
    "height = [random.uniform(10, 90) for i in range(500)]\n",
    "\n",
    "data = pd.DataFrame([colors, types, age, weight, height], index=[\"color\", \"type\", \"age\", \"weight\", \"height\"]).transpose()\n",
    "\n",
    "prices = []\n",
    "for i in range(500):\n",
    "    price = cats[i] * 20 * (1+random.uniform(-.01, .01))\n",
    "    price += [\"foo\", \"bar\", \"foobar\"].index(types[i]) * 100 * (1+random.uniform(-.01, .01))\n",
    "    price += ((age[i] - 20) / 100) * 80 * (1+random.uniform(-.01, .01))\n",
    "    price += (max(weight[i], height[i])) * 2 * (1+random.uniform(-.01, .01))\n",
    "    prices.append(price)\n",
    "data[\"price\"] = prices\n",
    "data.to_csv(\"trinket_data.csv\")\n"
   ]
  },
  {
   "cell_type": "code",
   "execution_count": 3,
   "metadata": {},
   "outputs": [
    {
     "name": "stdout",
     "output_type": "stream",
     "text": [
      "0.9998228611356162\n"
     ]
    }
   ],
   "source": [
    "from pyreal.transformers import BaseTransformer, OneHotEncoder, DataFrameWrapper, Mappings, MappingsOneHotDecoder, FeatureSelectTransformer\n",
    "from sklearn.preprocessing import MinMaxScaler\n",
    "\n",
    "class ColorTransformer(BaseTransformer):\n",
    "    def __init__(self, columns):\n",
    "        self.columns = columns\n",
    "\n",
    "    def fit(self, x_orig):\n",
    "        return self\n",
    "\n",
    "    def transform(self, x):\n",
    "        for col in self.columns:\n",
    "            x[col] = x[col].apply(hex_to_color_name)\n",
    "        return x\n",
    "\n",
    "class MaxAggregator(BaseTransformer):\n",
    "    def __init__(self, columns):\n",
    "        self.columns = columns\n",
    "\n",
    "    def transform(self, x):\n",
    "        column_name = \"MAX(\"\n",
    "        column_name += \",\".join(self.columns)\n",
    "        column_name += \")\"\n",
    "        x[column_name] = x[self.columns].max(axis=1)\n",
    "        x = x.drop(self.columns, axis=1)\n",
    "        return x\n",
    "\n",
    "def hex_to_color_name(h):\n",
    "    h = h.lstrip('#')\n",
    "    rgb = tuple(int(h[i:i+2], 16) for i in (0, 2, 4))\n",
    "    return [\"red\", \"green\", \"blue\"][rgb.index(max(rgb))]\n",
    "\n",
    "colorTransformer = ColorTransformer(columns = [\"color\"])\n",
    "typeEncoder = OneHotEncoder(columns = [\"type\"])\n",
    "colorEncoder = OneHotEncoder(columns = [\"color\"])\n",
    "maxAggregator = MaxAggregator(columns=[\"weight\", \"height\"])\n",
    "#scaler = DataFrameWrapper(MinMaxScaler(), columns=[\"age\"])\n",
    "mappings = Mappings.generate_mappings(categorical_to_one_hot={\"type\": {\"type_foo\": \"foo\", \"type_bar\": \"bar\", \"type_foobar\": \"foobar\"}})\n",
    "typeDecoder = MappingsOneHotDecoder(mappings)\n",
    "\n",
    "data = pd.read_csv(\"trinket_data.csv\", index_col=0)\n",
    "y = data[\"price\"]\n",
    "X = data.drop(\"price\", axis=1)\n",
    "\n",
    "X_orig = typeEncoder.fit_transform(X)\n",
    "data_orig = X_orig\n",
    "data_orig[\"price\"] = y\n",
    "data_orig.to_csv(\"trinket_data_orig.csv\")\n",
    "\n",
    "X_model = colorTransformer.fit_transform(X)\n",
    "X_model = typeEncoder.fit_transform(X_model)\n",
    "X_model = colorEncoder.fit_transform(X_model)\n",
    "X_model = maxAggregator.fit_transform(X_model)\n",
    "\n",
    "featureSelect = FeatureSelectTransformer(X_model.columns)\n",
    "\n",
    "\n",
    "model = LinearRegression()\n",
    "model.fit(X_model[0:400], y[0:400])\n",
    "\n",
    "print(model.score(X_model[401:], y[401:]))\n"
   ]
  },
  {
   "cell_type": "code",
   "execution_count": 4,
   "metadata": {},
   "outputs": [],
   "source": [
    "data_orig =  pd.read_csv(\"trinket_data_orig.csv\", index_col=0)\n",
    "y_orig = data_orig[\"price\"]\n",
    "X_orig = data_orig.drop(\"price\", axis=1)\n",
    "\n",
    "e_transforms = [typeDecoder]\n",
    "m_transforms = [colorTransformer, colorEncoder, maxAggregator, typeEncoder, featureSelect]\n",
    "i_transforms = [typeDecoder, colorTransformer]\n",
    "\n",
    "explainer1 = scc.SimpleCounterfactualContribution(model, X_orig,\n",
    "                                                 m_transforms=m_transforms,\n",
    "                                                 e_transforms=e_transforms,\n",
    "                                                 i_transforms=i_transforms,\n",
    "                                                 fit_on_init=True)\n",
    "\n",
    "transforms = [colorTransformer, colorEncoder, maxAggregator, featureSelect]\n",
    "explainer2 = lfc.LocalFeatureContribution(model, X_orig,\n",
    "                                          transforms=transforms,\n",
    "                                          #e_transforms=e_transforms,\n",
    "                                          i_transforms=i_transforms,\n",
    "                                          fit_on_init=True)"
   ]
  },
  {
   "cell_type": "code",
   "execution_count": 5,
   "metadata": {
    "pycharm": {
     "name": "#%%\n"
    }
   },
   "outputs": [
    {
     "name": "stdout",
     "output_type": "stream",
     "text": [
      "   age  type_bar  type_foo  type_foobar  color_blue  color_green  color_red  \\\n",
      "0   41       1.0       0.0          0.0         0.0          0.0        1.0   \n",
      "1   71       0.0       0.0          1.0         0.0          0.0        1.0   \n",
      "2   90       1.0       0.0          0.0         0.0          1.0        0.0   \n",
      "3   32       0.0       1.0          0.0         1.0          0.0        0.0   \n",
      "4   44       0.0       0.0          1.0         0.0          1.0        0.0   \n",
      "\n",
      "   MAX(weight,height)  \n",
      "0           68.784567  \n",
      "1           84.261218  \n",
      "2           71.574072  \n",
      "3           83.431874  \n",
      "4           54.253466  \n",
      "   age  type_bar  type_foo  type_foobar  color_blue  color_green  color_red  \\\n",
      "0   41       1.0       0.0          0.0         0.0          0.0        1.0   \n",
      "1   71       0.0       0.0          1.0         0.0          0.0        1.0   \n",
      "2   90       1.0       0.0          0.0         0.0          1.0        0.0   \n",
      "3   32       0.0       1.0          0.0         1.0          0.0        0.0   \n",
      "4   44       0.0       0.0          1.0         0.0          1.0        0.0   \n",
      "\n",
      "   MAX(weight,height)  \n",
      "0           68.784567  \n",
      "1           84.261218  \n",
      "2           71.574072  \n",
      "3           83.431874  \n",
      "4           54.253466  \n",
      "         age  type_bar   type_foo type_foobar MAX(weight,height)      color\n",
      "0 -15.656246 -0.038162  31.002339  -39.024204           8.279705 -20.622256\n"
     ]
    },
    {
     "data": {
      "image/png": "[encoded data removed]",
      "text/plain": [
       "<Figure size 432x288 with 1 Axes>"
      ]
     },
     "metadata": {
      "needs_background": "light"
     },
     "output_type": "display_data"
    }
   ],
   "source": [
    "import matplotlib.pyplot as plt\n",
    "print(X_model[0:5])\n",
    "print(explainer2.transform_to_x_model(X_orig[0:5]))\n",
    "plt.scatter(model.predict(explainer1.transform_to_x_model(X_orig[0:100])), y[0:100])\n",
    "\n",
    "\n",
    "explanation = explainer2.produce(X_orig.iloc[0])\n",
    "print(explanation)"
   ]
  },
  {
   "cell_type": "code",
   "execution_count": null,
   "metadata": {},
   "outputs": [],
   "source": []
  }
 ],
 "metadata": {
  "kernelspec": {
   "display_name": "Python 3 (ipykernel)",
   "language": "python",
   "name": "python3"
  },
  "language_info": {
   "codemirror_mode": {
    "name": "ipython",
    "version": 3
   },
   "file_extension": ".py",
   "mimetype": "text/x-python",
   "name": "python",
   "nbconvert_exporter": "python",
   "pygments_lexer": "ipython3",
   "version": "3.8.8"
  }
 },
 "nbformat": 4,
 "nbformat_minor": 1
}
