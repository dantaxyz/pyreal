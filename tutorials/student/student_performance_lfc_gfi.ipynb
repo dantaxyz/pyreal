{
 "cells": [
  {
   "cell_type": "markdown",
   "metadata": {},
   "source": [
    "In this example, we will use Pyreal to find the top contributing features in the Student Performance dataset.\n",
    "\n",
    "Data source:\n",
    "\n",
    "P. Cortez and A. Silva. Using Data Mining to Predict Secondary School Student Performance. In A. Brito and J. Teixeira Eds., Proceedings of 5th FUture BUsiness TEChnology Conference (FUBUTEC 2008) pp. 5-12, Porto, Portugal, April, 2008, EUROSIS, ISBN 978-9077381-39-7.\n"
   ]
  },
  {
   "cell_type": "code",
   "execution_count": 9,
   "metadata": {},
   "outputs": [],
   "source": [
    "### Imports\n",
    "import pandas as pd\n",
    "import numpy as np\n",
    "import sys"
   ]
  },
  {
   "cell_type": "markdown",
   "metadata": {},
   "source": [
    "First, we load in the data, and provide human-readable descriptions of every feature. These descriptions will make the resulting explanations much more user friendly."
   ]
  },
  {
   "cell_type": "code",
   "execution_count": 10,
   "metadata": {},
   "outputs": [],
   "source": [
    "feature_descriptions = {\n",
    "    \"school\":\"School\",\n",
    "    \"sex\":\"Sex\",\n",
    "    \"age\":\"Age\",\n",
    "    \"address\":\"Address type\",\n",
    "    \"famsize\":\"Family size\",\n",
    "    \"Pstatus\":\"Parent's cohibition status\",\n",
    "    \"Medu\":\"Mother's education\",\n",
    "    \"Fedu\":\"Father's education\",\n",
    "    \"Mjob\":\"Mother's job\",\n",
    "    \"Fjob\":\"Father's job\",\n",
    "    \"reason\":\"Reason for choosing this school\",\n",
    "    \"guardian\":\"Student's guardian\",\n",
    "    \"traveltime\":\"Home to school travel time\",\n",
    "    \"studytime\":\"Weekly study time\",\n",
    "    \"failures\":\"Number of past class failures\",\n",
    "    \"schoolsup\":\"Extra education support\",\n",
    "    \"famsup\":\"Family eductional support\",\n",
    "    \"paid\":\"Extra paid classes within the subject\",\n",
    "    \"activities\":\"Extra-curricular activities\",\n",
    "    \"nursery\":\"Attended nursery school\",\n",
    "    \"higher\":\"Wants to take higher education\",\n",
    "    \"internet\":\"Has internet at home\",\n",
    "    \"romantic\":\"In a romantic relationship\",\n",
    "    \"famrel\":\"Quality of family relationships (1-5)\",\n",
    "    \"freetime\":\"Amount of free time after school (1-5)\",\n",
    "    \"goout\":\"Frequency of going out with friends (1-5)\",\n",
    "    \"Dalc\":\"Frequency of workday alcohol consumption (1-5)\",\n",
    "    \"Walc\":\"Frequency of workday alcohol consumption (1-5)\",\n",
    "    \"health\":\"Current health status (1-5)\",\n",
    "    \"absences\":\"Number of school absences\"\n",
    "}\n",
    "\n",
    "file_path = \"student-por.csv\"\n",
    "data_table = pd.read_csv(file_path, sep=\";\")"
   ]
  },
  {
   "cell_type": "markdown",
   "metadata": {},
   "source": [
    "Next, we extract our chosen target variable. In this case, we will be predicting whether a student will pass (score > 10)."
   ]
  },
  {
   "cell_type": "code",
   "execution_count": 11,
   "metadata": {},
   "outputs": [],
   "source": [
    "y = (data_table[\"G3\"]>10).astype(int)\n",
    "\n",
    "data = data_table.drop([\"G1\", \"G2\",\"G3\"], axis='columns')\n",
    "X = data"
   ]
  },
  {
   "cell_type": "markdown",
   "metadata": {},
   "source": [
    "Now, we will create the transformers. The first will encode boolean features as integers, the second will one hot encode categorical features, and the first with standardize the data.\n",
    "\n",
    "Some transformation and explanation type combos require post-hoc transformations on the explanations themselves. In this case, we will run SHAP on the one-hot-encoded features, and then recombine the contributions of these features. The OneHotEncoderWrapper includes this functionality."
   ]
  },
  {
   "cell_type": "code",
   "execution_count": 12,
   "metadata": {},
   "outputs": [
    {
     "name": "stderr",
     "output_type": "stream",
     "text": [
      "The `inplace` parameter in pandas.Categorical.set_categories is deprecated and will be removed in a future version. Removing unused categories will always return a new Categorical object.\n",
      "The `inplace` parameter in pandas.Categorical.reorder_categories is deprecated and will be removed in a future version. Reordering categories will always return a new Categorical object.\n"
     ]
    }
   ],
   "source": [
    "from pyreal.transformers import OneHotEncoder, DataFrameWrapper\n",
    "from sklearn.preprocessing import StandardScaler\n",
    "\n",
    "class BooleanEncoder:\n",
    "    def __init__(self, cols):\n",
    "        self.cols = cols\n",
    "    def transform(self, data):\n",
    "        data_transform = data.copy()\n",
    "        for col in self.cols:\n",
    "            data_transform[col].replace(('yes', 'no'), (1, 0), inplace=True)\n",
    "        data_transform[\"famsize\"] = data_transform[\"famsize\"].astype('category')\n",
    "        data_transform[\"famsize\"].cat.set_categories(['LE3', 'GT3'], inplace=True)\n",
    "        data_transform[\"famsize\"].cat.reorder_categories(['LE3', 'GT3'], inplace=True)\n",
    "        data_transform[\"famsize\"] = data_transform[\"famsize\"].cat.codes\n",
    "        return data_transform\n",
    "\n",
    "onehotencoder = OneHotEncoder([\"school\", \"sex\", \"address\", \"Pstatus\", \"reason\", \"guardian\", \"Mjob\", \"Fjob\"])\n",
    "onehotencoder.fit(data)\n",
    "\n",
    "boolean_encoder = BooleanEncoder([\"schoolsup\", \"famsup\", \"paid\", \"activities\", \"nursery\", \"internet\", \"romantic\", \"higher\"])\n",
    "\n",
    "standard_scaler = DataFrameWrapper(StandardScaler())\n",
    "data_for_fitting = boolean_encoder.transform(onehotencoder.transform(X))\n",
    "standard_scaler.fit(data_for_fitting)"
   ]
  },
  {
   "cell_type": "markdown",
   "metadata": {},
   "source": [
    "Now, we can create the LocalFeatureContribution object, using the information generated above."
   ]
  },
  {
   "cell_type": "code",
   "execution_count": 13,
   "metadata": {},
   "outputs": [
    {
     "name": "stderr",
     "output_type": "stream",
     "text": [
      "Trying to unpickle estimator LogisticRegression from version 0.23.1 when using version 0.24.2. This might lead to breaking code or invalid results. Use at your own risk.\n"
     ]
    }
   ],
   "source": [
    "from pyreal.explainers import LocalFeatureContribution\n",
    "\n",
    "transformers = [boolean_encoder, onehotencoder, standard_scaler]\n",
    "lfc = LocalFeatureContribution(model=\"model.pkl\",\n",
    "                               x_train_orig=X, e_transformers=transformers,\n",
    "                               feature_descriptions=feature_descriptions)"
   ]
  },
  {
   "cell_type": "markdown",
   "metadata": {},
   "source": [
    "We can test the accuracy of the model"
   ]
  },
  {
   "cell_type": "code",
   "execution_count": 14,
   "metadata": {},
   "outputs": [
    {
     "name": "stdout",
     "output_type": "stream",
     "text": [
      "Accuracy: 81.97%\n"
     ]
    },
    {
     "name": "stderr",
     "output_type": "stream",
     "text": [
      "The `inplace` parameter in pandas.Categorical.set_categories is deprecated and will be removed in a future version. Removing unused categories will always return a new Categorical object.\n",
      "The `inplace` parameter in pandas.Categorical.reorder_categories is deprecated and will be removed in a future version. Reordering categories will always return a new Categorical object.\n"
     ]
    }
   ],
   "source": [
    "preds = lfc.model_predict(X)\n",
    "print(\"Accuracy: %.2f%%\" % (np.mean(preds==y)*100))"
   ]
  },
  {
   "cell_type": "markdown",
   "metadata": {},
   "source": [
    "Finally, we fit our explainer, and take a look at the most predictive features."
   ]
  },
  {
   "cell_type": "code",
   "execution_count": 15,
   "metadata": {},
   "outputs": [
    {
     "name": "stderr",
     "output_type": "stream",
     "text": [
      "The `inplace` parameter in pandas.Categorical.set_categories is deprecated and will be removed in a future version. Removing unused categories will always return a new Categorical object.\n",
      "The `inplace` parameter in pandas.Categorical.reorder_categories is deprecated and will be removed in a future version. Reordering categories will always return a new Categorical object.\n"
     ]
    }
   ],
   "source": [
    "lfc.fit()"
   ]
  },
  {
   "cell_type": "code",
   "execution_count": 16,
   "metadata": {},
   "outputs": [
    {
     "name": "stdout",
     "output_type": "stream",
     "text": [
      "Transformer class DataFrameWrapper does not have the required explanation transform: stopping process\n"
     ]
    },
    {
     "name": "stderr",
     "output_type": "stream",
     "text": [
      "The `inplace` parameter in pandas.Categorical.set_categories is deprecated and will be removed in a future version. Removing unused categories will always return a new Categorical object.\n",
      "The `inplace` parameter in pandas.Categorical.reorder_categories is deprecated and will be removed in a future version. Reordering categories will always return a new Categorical object.\n"
     ]
    },
    {
     "ename": "KeyError",
     "evalue": "'school_GP'",
     "output_type": "error",
     "traceback": [
      "\u001B[1;31m---------------------------------------------------------------------------\u001B[0m",
      "\u001B[1;31mKeyError\u001B[0m                                  Traceback (most recent call last)",
      "\u001B[1;32m~\\AppData\\Local\\pypoetry\\Cache\\virtualenvs\\pyreal-BgWg7FQV-py3.8\\lib\\site-packages\\pandas\\core\\indexes\\base.py\u001B[0m in \u001B[0;36mget_loc\u001B[1;34m(self, key, method, tolerance)\u001B[0m\n\u001B[0;32m   3360\u001B[0m             \u001B[1;32mtry\u001B[0m\u001B[1;33m:\u001B[0m\u001B[1;33m\u001B[0m\u001B[1;33m\u001B[0m\u001B[0m\n\u001B[1;32m-> 3361\u001B[1;33m                 \u001B[1;32mreturn\u001B[0m \u001B[0mself\u001B[0m\u001B[1;33m.\u001B[0m\u001B[0m_engine\u001B[0m\u001B[1;33m.\u001B[0m\u001B[0mget_loc\u001B[0m\u001B[1;33m(\u001B[0m\u001B[0mcasted_key\u001B[0m\u001B[1;33m)\u001B[0m\u001B[1;33m\u001B[0m\u001B[1;33m\u001B[0m\u001B[0m\n\u001B[0m\u001B[0;32m   3362\u001B[0m             \u001B[1;32mexcept\u001B[0m \u001B[0mKeyError\u001B[0m \u001B[1;32mas\u001B[0m \u001B[0merr\u001B[0m\u001B[1;33m:\u001B[0m\u001B[1;33m\u001B[0m\u001B[1;33m\u001B[0m\u001B[0m\n",
      "\u001B[1;32m~\\AppData\\Local\\pypoetry\\Cache\\virtualenvs\\pyreal-BgWg7FQV-py3.8\\lib\\site-packages\\pandas\\_libs\\index.pyx\u001B[0m in \u001B[0;36mpandas._libs.index.IndexEngine.get_loc\u001B[1;34m()\u001B[0m\n",
      "\u001B[1;32m~\\AppData\\Local\\pypoetry\\Cache\\virtualenvs\\pyreal-BgWg7FQV-py3.8\\lib\\site-packages\\pandas\\_libs\\index.pyx\u001B[0m in \u001B[0;36mpandas._libs.index.IndexEngine.get_loc\u001B[1;34m()\u001B[0m\n",
      "\u001B[1;32m~\\AppData\\Local\\pypoetry\\Cache\\virtualenvs\\pyreal-BgWg7FQV-py3.8\\lib\\site-packages\\pandas\\_libs\\index.pyx\u001B[0m in \u001B[0;36mpandas._libs.index.IndexEngine._get_loc_duplicates\u001B[1;34m()\u001B[0m\n",
      "\u001B[1;32m~\\AppData\\Local\\pypoetry\\Cache\\virtualenvs\\pyreal-BgWg7FQV-py3.8\\lib\\site-packages\\pandas\\_libs\\index.pyx\u001B[0m in \u001B[0;36mpandas._libs.index.IndexEngine._maybe_get_bool_indexer\u001B[1;34m()\u001B[0m\n",
      "\u001B[1;32m~\\AppData\\Local\\pypoetry\\Cache\\virtualenvs\\pyreal-BgWg7FQV-py3.8\\lib\\site-packages\\pandas\\_libs\\index.pyx\u001B[0m in \u001B[0;36mpandas._libs.index.IndexEngine._unpack_bool_indexer\u001B[1;34m()\u001B[0m\n",
      "\u001B[1;31mKeyError\u001B[0m: 'school_GP'",
      "\nThe above exception was the direct cause of the following exception:\n",
      "\u001B[1;31mKeyError\u001B[0m                                  Traceback (most recent call last)",
      "\u001B[1;32m~\\AppData\\Local\\Temp/ipykernel_33168/3344082766.py\u001B[0m in \u001B[0;36m<module>\u001B[1;34m\u001B[0m\n\u001B[0;32m      5\u001B[0m \u001B[0mx_interpret\u001B[0m \u001B[1;33m=\u001B[0m \u001B[0mlfc\u001B[0m\u001B[1;33m.\u001B[0m\u001B[0mconvert_data_to_interpretable\u001B[0m\u001B[1;33m(\u001B[0m\u001B[0minput_to_explain\u001B[0m\u001B[1;33m)\u001B[0m\u001B[1;33m\u001B[0m\u001B[1;33m\u001B[0m\u001B[0m\n\u001B[0;32m      6\u001B[0m \u001B[1;33m\u001B[0m\u001B[0m\n\u001B[1;32m----> 7\u001B[1;33m \u001B[0mvisualize\u001B[0m\u001B[1;33m.\u001B[0m\u001B[0mplot_top_contributors\u001B[0m\u001B[1;33m(\u001B[0m\u001B[0mcontributions\u001B[0m\u001B[1;33m,\u001B[0m \u001B[0mselect_by\u001B[0m\u001B[1;33m=\u001B[0m\u001B[1;34m\"absolute\"\u001B[0m\u001B[1;33m,\u001B[0m \u001B[0mvalues\u001B[0m\u001B[1;33m=\u001B[0m\u001B[0mx_interpret\u001B[0m\u001B[1;33m)\u001B[0m\u001B[1;33m\u001B[0m\u001B[1;33m\u001B[0m\u001B[0m\n\u001B[0m\u001B[0;32m      8\u001B[0m \u001B[1;33m\u001B[0m\u001B[0m\n",
      "\u001B[1;32m~\\Documents\\github\\pyreal\\pyreal\\utils\\visualize.py\u001B[0m in \u001B[0;36mplot_top_contributors\u001B[1;34m(contributions, select_by, n, values, flip_colors, precision)\u001B[0m\n\u001B[0;32m     32\u001B[0m     \u001B[0mfeatures\u001B[0m \u001B[1;33m=\u001B[0m \u001B[0mcontributions\u001B[0m\u001B[1;33m.\u001B[0m\u001B[0mcolumns\u001B[0m\u001B[1;33m.\u001B[0m\u001B[0mto_numpy\u001B[0m\u001B[1;33m(\u001B[0m\u001B[1;33m)\u001B[0m\u001B[1;33m\u001B[0m\u001B[1;33m\u001B[0m\u001B[0m\n\u001B[0;32m     33\u001B[0m     \u001B[1;32mif\u001B[0m \u001B[0mvalues\u001B[0m \u001B[1;32mis\u001B[0m \u001B[1;32mnot\u001B[0m \u001B[1;32mNone\u001B[0m\u001B[1;33m:\u001B[0m\u001B[1;33m\u001B[0m\u001B[1;33m\u001B[0m\u001B[0m\n\u001B[1;32m---> 34\u001B[1;33m         features = np.array([\"%s (%.*f)\" % (feature, precision, values[feature])\n\u001B[0m\u001B[0;32m     35\u001B[0m                              \u001B[1;32mif\u001B[0m \u001B[0misinstance\u001B[0m\u001B[1;33m(\u001B[0m\u001B[0mvalues\u001B[0m\u001B[1;33m[\u001B[0m\u001B[0mfeature\u001B[0m\u001B[1;33m]\u001B[0m\u001B[1;33m,\u001B[0m \u001B[0mfloat\u001B[0m\u001B[1;33m)\u001B[0m\u001B[1;33m\u001B[0m\u001B[1;33m\u001B[0m\u001B[0m\n\u001B[0;32m     36\u001B[0m                              \u001B[1;32melse\u001B[0m \u001B[1;34m\"%s (%s)\"\u001B[0m \u001B[1;33m%\u001B[0m \u001B[1;33m(\u001B[0m\u001B[0mfeature\u001B[0m\u001B[1;33m,\u001B[0m \u001B[0mvalues\u001B[0m\u001B[1;33m[\u001B[0m\u001B[0mfeature\u001B[0m\u001B[1;33m]\u001B[0m\u001B[1;33m)\u001B[0m\u001B[1;33m\u001B[0m\u001B[1;33m\u001B[0m\u001B[0m\n",
      "\u001B[1;32m~\\Documents\\github\\pyreal\\pyreal\\utils\\visualize.py\u001B[0m in \u001B[0;36m<listcomp>\u001B[1;34m(.0)\u001B[0m\n\u001B[0;32m     33\u001B[0m     \u001B[1;32mif\u001B[0m \u001B[0mvalues\u001B[0m \u001B[1;32mis\u001B[0m \u001B[1;32mnot\u001B[0m \u001B[1;32mNone\u001B[0m\u001B[1;33m:\u001B[0m\u001B[1;33m\u001B[0m\u001B[1;33m\u001B[0m\u001B[0m\n\u001B[0;32m     34\u001B[0m         features = np.array([\"%s (%.*f)\" % (feature, precision, values[feature])\n\u001B[1;32m---> 35\u001B[1;33m                              \u001B[1;32mif\u001B[0m \u001B[0misinstance\u001B[0m\u001B[1;33m(\u001B[0m\u001B[0mvalues\u001B[0m\u001B[1;33m[\u001B[0m\u001B[0mfeature\u001B[0m\u001B[1;33m]\u001B[0m\u001B[1;33m,\u001B[0m \u001B[0mfloat\u001B[0m\u001B[1;33m)\u001B[0m\u001B[1;33m\u001B[0m\u001B[1;33m\u001B[0m\u001B[0m\n\u001B[0m\u001B[0;32m     36\u001B[0m                              \u001B[1;32melse\u001B[0m \u001B[1;34m\"%s (%s)\"\u001B[0m \u001B[1;33m%\u001B[0m \u001B[1;33m(\u001B[0m\u001B[0mfeature\u001B[0m\u001B[1;33m,\u001B[0m \u001B[0mvalues\u001B[0m\u001B[1;33m[\u001B[0m\u001B[0mfeature\u001B[0m\u001B[1;33m]\u001B[0m\u001B[1;33m)\u001B[0m\u001B[1;33m\u001B[0m\u001B[1;33m\u001B[0m\u001B[0m\n\u001B[0;32m     37\u001B[0m                              for feature in features])\n",
      "\u001B[1;32m~\\AppData\\Local\\pypoetry\\Cache\\virtualenvs\\pyreal-BgWg7FQV-py3.8\\lib\\site-packages\\pandas\\core\\series.py\u001B[0m in \u001B[0;36m__getitem__\u001B[1;34m(self, key)\u001B[0m\n\u001B[0;32m    940\u001B[0m \u001B[1;33m\u001B[0m\u001B[0m\n\u001B[0;32m    941\u001B[0m         \u001B[1;32melif\u001B[0m \u001B[0mkey_is_scalar\u001B[0m\u001B[1;33m:\u001B[0m\u001B[1;33m\u001B[0m\u001B[1;33m\u001B[0m\u001B[0m\n\u001B[1;32m--> 942\u001B[1;33m             \u001B[1;32mreturn\u001B[0m \u001B[0mself\u001B[0m\u001B[1;33m.\u001B[0m\u001B[0m_get_value\u001B[0m\u001B[1;33m(\u001B[0m\u001B[0mkey\u001B[0m\u001B[1;33m)\u001B[0m\u001B[1;33m\u001B[0m\u001B[1;33m\u001B[0m\u001B[0m\n\u001B[0m\u001B[0;32m    943\u001B[0m \u001B[1;33m\u001B[0m\u001B[0m\n\u001B[0;32m    944\u001B[0m         \u001B[1;32mif\u001B[0m \u001B[0mis_hashable\u001B[0m\u001B[1;33m(\u001B[0m\u001B[0mkey\u001B[0m\u001B[1;33m)\u001B[0m\u001B[1;33m:\u001B[0m\u001B[1;33m\u001B[0m\u001B[1;33m\u001B[0m\u001B[0m\n",
      "\u001B[1;32m~\\AppData\\Local\\pypoetry\\Cache\\virtualenvs\\pyreal-BgWg7FQV-py3.8\\lib\\site-packages\\pandas\\core\\series.py\u001B[0m in \u001B[0;36m_get_value\u001B[1;34m(self, label, takeable)\u001B[0m\n\u001B[0;32m   1049\u001B[0m \u001B[1;33m\u001B[0m\u001B[0m\n\u001B[0;32m   1050\u001B[0m         \u001B[1;31m# Similar to Index.get_value, but we do not fall back to positional\u001B[0m\u001B[1;33m\u001B[0m\u001B[1;33m\u001B[0m\u001B[1;33m\u001B[0m\u001B[0m\n\u001B[1;32m-> 1051\u001B[1;33m         \u001B[0mloc\u001B[0m \u001B[1;33m=\u001B[0m \u001B[0mself\u001B[0m\u001B[1;33m.\u001B[0m\u001B[0mindex\u001B[0m\u001B[1;33m.\u001B[0m\u001B[0mget_loc\u001B[0m\u001B[1;33m(\u001B[0m\u001B[0mlabel\u001B[0m\u001B[1;33m)\u001B[0m\u001B[1;33m\u001B[0m\u001B[1;33m\u001B[0m\u001B[0m\n\u001B[0m\u001B[0;32m   1052\u001B[0m         \u001B[1;32mreturn\u001B[0m \u001B[0mself\u001B[0m\u001B[1;33m.\u001B[0m\u001B[0mindex\u001B[0m\u001B[1;33m.\u001B[0m\u001B[0m_get_values_for_loc\u001B[0m\u001B[1;33m(\u001B[0m\u001B[0mself\u001B[0m\u001B[1;33m,\u001B[0m \u001B[0mloc\u001B[0m\u001B[1;33m,\u001B[0m \u001B[0mlabel\u001B[0m\u001B[1;33m)\u001B[0m\u001B[1;33m\u001B[0m\u001B[1;33m\u001B[0m\u001B[0m\n\u001B[0;32m   1053\u001B[0m \u001B[1;33m\u001B[0m\u001B[0m\n",
      "\u001B[1;32m~\\AppData\\Local\\pypoetry\\Cache\\virtualenvs\\pyreal-BgWg7FQV-py3.8\\lib\\site-packages\\pandas\\core\\indexes\\base.py\u001B[0m in \u001B[0;36mget_loc\u001B[1;34m(self, key, method, tolerance)\u001B[0m\n\u001B[0;32m   3361\u001B[0m                 \u001B[1;32mreturn\u001B[0m \u001B[0mself\u001B[0m\u001B[1;33m.\u001B[0m\u001B[0m_engine\u001B[0m\u001B[1;33m.\u001B[0m\u001B[0mget_loc\u001B[0m\u001B[1;33m(\u001B[0m\u001B[0mcasted_key\u001B[0m\u001B[1;33m)\u001B[0m\u001B[1;33m\u001B[0m\u001B[1;33m\u001B[0m\u001B[0m\n\u001B[0;32m   3362\u001B[0m             \u001B[1;32mexcept\u001B[0m \u001B[0mKeyError\u001B[0m \u001B[1;32mas\u001B[0m \u001B[0merr\u001B[0m\u001B[1;33m:\u001B[0m\u001B[1;33m\u001B[0m\u001B[1;33m\u001B[0m\u001B[0m\n\u001B[1;32m-> 3363\u001B[1;33m                 \u001B[1;32mraise\u001B[0m \u001B[0mKeyError\u001B[0m\u001B[1;33m(\u001B[0m\u001B[0mkey\u001B[0m\u001B[1;33m)\u001B[0m \u001B[1;32mfrom\u001B[0m \u001B[0merr\u001B[0m\u001B[1;33m\u001B[0m\u001B[1;33m\u001B[0m\u001B[0m\n\u001B[0m\u001B[0;32m   3364\u001B[0m \u001B[1;33m\u001B[0m\u001B[0m\n\u001B[0;32m   3365\u001B[0m         \u001B[1;32mif\u001B[0m \u001B[0mis_scalar\u001B[0m\u001B[1;33m(\u001B[0m\u001B[0mkey\u001B[0m\u001B[1;33m)\u001B[0m \u001B[1;32mand\u001B[0m \u001B[0misna\u001B[0m\u001B[1;33m(\u001B[0m\u001B[0mkey\u001B[0m\u001B[1;33m)\u001B[0m \u001B[1;32mand\u001B[0m \u001B[1;32mnot\u001B[0m \u001B[0mself\u001B[0m\u001B[1;33m.\u001B[0m\u001B[0mhasnans\u001B[0m\u001B[1;33m:\u001B[0m\u001B[1;33m\u001B[0m\u001B[1;33m\u001B[0m\u001B[0m\n",
      "\u001B[1;31mKeyError\u001B[0m: 'school_GP'"
     ]
    }
   ],
   "source": [
    "from pyreal.utils import visualize\n",
    "\n",
    "input_to_explain = X.iloc[0]\n",
    "contributions = lfc.produce(input_to_explain)\n",
    "x_interpret = lfc.convert_data_to_interpretable(input_to_explain)\n",
    "\n",
    "visualize.plot_top_contributors(contributions, select_by=\"absolute\", values=x_interpret)"
   ]
  },
  {
   "cell_type": "markdown",
   "metadata": {},
   "source": [
    "We can also generate a global feature importance explanation, that summarizes the overall importance of features across all inputs."
   ]
  },
  {
   "cell_type": "code",
   "execution_count": null,
   "metadata": {},
   "outputs": [],
   "source": [
    "from pyreal.explainers import GlobalFeatureImportance\n",
    "\n",
    "gfi = GlobalFeatureImportance(model=\"model.pkl\",\n",
    "                              x_train_orig=X, e_transformers=transformers,\n",
    "                              feature_descriptions=feature_descriptions,\n",
    "                              fit_on_init=True)\n",
    "\n",
    "importances = gfi.produce(input_to_explain)\n",
    "visualize.plot_top_contributors(importances, select_by=\"absolute\")"
   ]
  }
 ],
 "metadata": {
  "language_info": {
   "codemirror_mode": {
    "name": "ipython",
    "version": 3
   },
   "file_extension": ".py",
   "mimetype": "text/x-python",
   "name": "python",
   "nbconvert_exporter": "python",
   "pygments_lexer": "ipython3",
   "version": "3.8.5"
  },
  "kernelspec": {
   "name": "python3",
   "language": "python",
   "display_name": "Python 3 (ipykernel)"
  }
 },
 "nbformat": 4,
 "nbformat_minor": 2
}