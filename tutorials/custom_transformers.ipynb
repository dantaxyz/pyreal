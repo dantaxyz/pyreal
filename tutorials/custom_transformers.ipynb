{
 "cells": [
  {
   "cell_type": "markdown",
   "metadata": {
    "id": "kr9Ut95fpCN5"
   },
   "source": [
    "# Using Custom Transformers in Pyreal\n",
    "\n",
    "In this tutorial, we will be using Pyreal to investigate the California Housing Dataset.\n",
    "\n",
    "In order to generate useful explanations, we will making a few custom transformers, with functionality specific to this use-case."
   ]
  },
  {
   "cell_type": "markdown",
   "metadata": {},
   "source": [
    "## Data Loading\n",
    "\n",
    "This dataset includes 9 predictor variables, and one target variable. Each row in the dataset refers to a block of houses in California. The target variable is the median house value in this block.\n",
    "\n",
    "**Run the cell below to load in the California Housing Dataset.**"
   ]
  },
  {
   "cell_type": "code",
   "execution_count": 1,
   "metadata": {
    "id": "jo606ew7GUGS"
   },
   "outputs": [
    {
     "data": {
      "text/plain": "       longitude  latitude  housing_median_age  total_rooms  total_bedrooms  \\\n16549    -121.23     37.81                  16         2085           342.0   \n8597     -118.37     33.88                  20         2439           474.0   \n3381     -118.27     34.24                  30         2180           369.0   \n11693    -117.99     33.86                  20         2303           612.0   \n13035    -121.17     38.71                  15         3084           557.0   \n4396     -118.27     34.08                  43          962           253.0   \n13066    -121.32     38.54                  13         4715          1090.0   \n3373     -118.30     34.26                  37         2824           633.0   \n17097    -122.23     37.46                  26         4670          1039.0   \n8975     -118.41     34.01                  43         2000           529.0   \n\n       population  households  median_income ocean_proximity  \\\n16549        1236         345         5.5591          INLAND   \n8597         1219         497         5.9619       <1H OCEAN   \n3381         1050         390         6.3688       <1H OCEAN   \n11693        1607         564         2.9000       <1H OCEAN   \n13035        1040         562         2.5183          INLAND   \n4396          658         244         3.2386       <1H OCEAN   \n13066        2420        1059         2.9693          INLAND   \n3373         1619         573         3.5568       <1H OCEAN   \n17097        2103         933         4.4167      NEAR OCEAN   \n8975         1290         514         4.7031       <1H OCEAN   \n\n       median_house_value  \n16549              149300  \n8597               335900  \n3381               277600  \n11693              176100  \n13035              293300  \n4396               185000  \n13066              104400  \n3373               184500  \n17097              333800  \n8975               302500  ",
      "text/html": "<div>\n<style scoped>\n    .dataframe tbody tr th:only-of-type {\n        vertical-align: middle;\n    }\n\n    .dataframe tbody tr th {\n        vertical-align: top;\n    }\n\n    .dataframe thead th {\n        text-align: right;\n    }\n</style>\n<table border=\"1\" class=\"dataframe\">\n  <thead>\n    <tr style=\"text-align: right;\">\n      <th></th>\n      <th>longitude</th>\n      <th>latitude</th>\n      <th>housing_median_age</th>\n      <th>total_rooms</th>\n      <th>total_bedrooms</th>\n      <th>population</th>\n      <th>households</th>\n      <th>median_income</th>\n      <th>ocean_proximity</th>\n      <th>median_house_value</th>\n    </tr>\n  </thead>\n  <tbody>\n    <tr>\n      <th>16549</th>\n      <td>-121.23</td>\n      <td>37.81</td>\n      <td>16</td>\n      <td>2085</td>\n      <td>342.0</td>\n      <td>1236</td>\n      <td>345</td>\n      <td>5.5591</td>\n      <td>INLAND</td>\n      <td>149300</td>\n    </tr>\n    <tr>\n      <th>8597</th>\n      <td>-118.37</td>\n      <td>33.88</td>\n      <td>20</td>\n      <td>2439</td>\n      <td>474.0</td>\n      <td>1219</td>\n      <td>497</td>\n      <td>5.9619</td>\n      <td>&lt;1H OCEAN</td>\n      <td>335900</td>\n    </tr>\n    <tr>\n      <th>3381</th>\n      <td>-118.27</td>\n      <td>34.24</td>\n      <td>30</td>\n      <td>2180</td>\n      <td>369.0</td>\n      <td>1050</td>\n      <td>390</td>\n      <td>6.3688</td>\n      <td>&lt;1H OCEAN</td>\n      <td>277600</td>\n    </tr>\n    <tr>\n      <th>11693</th>\n      <td>-117.99</td>\n      <td>33.86</td>\n      <td>20</td>\n      <td>2303</td>\n      <td>612.0</td>\n      <td>1607</td>\n      <td>564</td>\n      <td>2.9000</td>\n      <td>&lt;1H OCEAN</td>\n      <td>176100</td>\n    </tr>\n    <tr>\n      <th>13035</th>\n      <td>-121.17</td>\n      <td>38.71</td>\n      <td>15</td>\n      <td>3084</td>\n      <td>557.0</td>\n      <td>1040</td>\n      <td>562</td>\n      <td>2.5183</td>\n      <td>INLAND</td>\n      <td>293300</td>\n    </tr>\n    <tr>\n      <th>4396</th>\n      <td>-118.27</td>\n      <td>34.08</td>\n      <td>43</td>\n      <td>962</td>\n      <td>253.0</td>\n      <td>658</td>\n      <td>244</td>\n      <td>3.2386</td>\n      <td>&lt;1H OCEAN</td>\n      <td>185000</td>\n    </tr>\n    <tr>\n      <th>13066</th>\n      <td>-121.32</td>\n      <td>38.54</td>\n      <td>13</td>\n      <td>4715</td>\n      <td>1090.0</td>\n      <td>2420</td>\n      <td>1059</td>\n      <td>2.9693</td>\n      <td>INLAND</td>\n      <td>104400</td>\n    </tr>\n    <tr>\n      <th>3373</th>\n      <td>-118.30</td>\n      <td>34.26</td>\n      <td>37</td>\n      <td>2824</td>\n      <td>633.0</td>\n      <td>1619</td>\n      <td>573</td>\n      <td>3.5568</td>\n      <td>&lt;1H OCEAN</td>\n      <td>184500</td>\n    </tr>\n    <tr>\n      <th>17097</th>\n      <td>-122.23</td>\n      <td>37.46</td>\n      <td>26</td>\n      <td>4670</td>\n      <td>1039.0</td>\n      <td>2103</td>\n      <td>933</td>\n      <td>4.4167</td>\n      <td>NEAR OCEAN</td>\n      <td>333800</td>\n    </tr>\n    <tr>\n      <th>8975</th>\n      <td>-118.41</td>\n      <td>34.01</td>\n      <td>43</td>\n      <td>2000</td>\n      <td>529.0</td>\n      <td>1290</td>\n      <td>514</td>\n      <td>4.7031</td>\n      <td>&lt;1H OCEAN</td>\n      <td>302500</td>\n    </tr>\n  </tbody>\n</table>\n</div>"
     },
     "execution_count": 1,
     "metadata": {},
     "output_type": "execute_result"
    }
   ],
   "source": [
    "from urllib.parse import urljoin\n",
    "import pandas as pd\n",
    "\n",
    "AWS_BASE_URL = 'https://pyreal-data.s3.amazonaws.com/'\n",
    "data_url = urljoin(AWS_BASE_URL, \"usability_study/california.csv\")\n",
    "data = pd.read_csv(data_url)\n",
    "\n",
    "city_url = urljoin(AWS_BASE_URL, \"usability_study/cal_cities_lat_long.csv\")\n",
    "cities = pd.read_csv(city_url)\n",
    "\n",
    "data = data[data[\"median_house_value\"] < 500000]\n",
    "\n",
    "data = data.sample(5000, random_state=100)  # we will work with a truncated dataset to avoid memory crashes\n",
    "\n",
    "X = data.drop(\"median_house_value\", axis=1)\n",
    "y = data[\"median_house_value\"]\n",
    "\n",
    "data.sample(10)"
   ]
  },
  {
   "cell_type": "markdown",
   "metadata": {
    "id": "Yge_u_wO-dpB"
   },
   "source": [
    "We will be working with a pretrained model to predict the median house values for each block.\n",
    "\n",
    "**Run the code below to load in the model.**"
   ]
  },
  {
   "cell_type": "code",
   "execution_count": 2,
   "metadata": {
    "id": "7FIJC51KGu53"
   },
   "outputs": [],
   "source": [
    "import lightgbm\n",
    "import requests\n",
    "import os\n",
    "\n",
    "model_url = urljoin(AWS_BASE_URL, \"usability_study/model.model\")\n",
    "r = requests.get(model_url, allow_redirects=True)\n",
    "open(os.path.join('data', 'california_housing.model'), 'wb').write(r.content)\n",
    "\n",
    "model = lightgbm.Booster(model_file=os.path.join('data', 'california_housing.model'))"
   ]
  },
  {
   "cell_type": "markdown",
   "metadata": {
    "id": "BfmXzJH_HgiP"
   },
   "source": [
    "## Custom Transformers Basics\n",
    "\n",
    "Pyreal generates ML explanations using Explainer objects, which take in data Transformers through their `transformer` parameter. These Transformers take in three flags in their initialization, two of which we will use in this tutorial:\n",
    "\n",
    "- Transformers with a `model=True` flag take data from the original feature space (as we loaded in above) to the feature space used by the model.\n",
    "- Transformers with an `interpret=True` flag take data from the original feature space to a feature space more readable or interpretable by humans.\n",
    "\n",
    "<div class=\"alert alert-block alert-info\" style=\"background-color: white; border: 2px solid; padding: 10px\">\n",
    "    <b><i class=\"fa fa-info-circle\" aria-hidden=\"true\"></i>&nbsp; Note</b><br>\n",
    "    <p style=\"color: black\">\n",
    "         For information about the third transformer flag (<code>algorithm</code>), please see the <a href=\"https://github.com/sibyl-dev/pyreal/blob/dev/tutorials/advanced_explanation_generation.ipynb\">advanced explanation generation tutorial.</a>\n",
    "    </p>\n",
    "</div>\n",
    "\n",
    "The Pyreal `transformer` module has some common transformers available for use, but some use-cases may require you to write your own transformer. This can be done by extending the base `Transformer` class.\n",
    "\n",
    "### Transformer Functions\n",
    "When defining a custom transformer, you will need to consider three types of functions:\n",
    "- `data_transform` (*required*): A single function that transforms the data from space A to B.\n",
    "- `inverse_transform_explanation_XXX` (*optional*): Functions that transform an explanation from space B to A. This type of function only needs to be considered if the transformer is used by the explanation algorithm and leads to the data being more obfuscated/less interpretable (ie, will have the `algorithm` flag set to True and the `interpret` flag set to False)\n",
    "- `transform_explanation_XXX` (*optional*): Functions that transform an explanation from space A to B. This type of function only needs to be considered if the transformer is used to make data and explanations more interpretable than the algorithm-ready state (ie, will have the `algorithm` flag set to False and the `interpret` flag set to True)\n",
    "\n",
    "The `transform_explantion` type functions are written per Explanation output type. For this tutorial, we will consider additive local feature contribution and additive global feature importance explanations. At the end of this tutorial, we will consider some special cases."
   ]
  },
  {
   "cell_type": "markdown",
   "metadata": {
    "id": "ZsXVvpTYaLs7"
   },
   "source": [
    "### Custom Transformer Example 1: Per-Household Averager\n",
    "\n",
    "Let's take a look at one possible custom transformer we can add, which will average the values of certain features per household. We will follow these steps to write the function:\n",
    "\n",
    "1. Define the transformer `__init__()` method, using a `super()` call for the parent `Transformer` class. The function can take optional arguments to configure the transformer. We will take in a list of columns to average.\n",
    "2. Define the `data_transform()` function, which takes an input DataFrame `x` and returns `x` after undergoing the transformation. In this case, we simply divide the selected columns by the households feature.\n",
    "3. Consider which flags we expect to be used with this transformer. In this case, our transformation will be used for the explanation algorithm, but also makes the data more interpretable, so our flags are `interpret=True` and `algorithm=True`. Therefore, we do not need to define any explanation transform functions for this use case.\n",
    "\n",
    "**Run the cell below to define the PerHouseholdAverager**\n"
   ]
  },
  {
   "cell_type": "code",
   "execution_count": 3,
   "metadata": {
    "id": "Yg9PZ5HDHD_C"
   },
   "outputs": [],
   "source": [
    "from pyreal.transformers import OneHotEncoder, MultiTypeImputer, Transformer, fit_transformers, run_transformers\n",
    "\n",
    "class PerHouseholdAverager(Transformer):\n",
    "    def __init__(self, columns, **kwargs):\n",
    "        # columns: the columns to average. Must be list of strings (column names)\n",
    "        self.columns = columns\n",
    "        super().__init__(**kwargs)\n",
    "\n",
    "    def data_transform(self, x):\n",
    "        # Transform the data by adding a new column from total_[column] called\n",
    "        #   average_[column]. This feature represents the average value of\n",
    "        #   [column] per household.\n",
    "        for column in self.columns:\n",
    "            name = column.replace(\"total\", \"average\")\n",
    "            x[name] = x[column] / x[\"households\"]\n",
    "        return x"
   ]
  },
  {
   "cell_type": "markdown",
   "metadata": {},
   "source": [
    "### Custom Transformer Example 2: City Converter\n",
    "\n",
    "Now, let's take a look at another custom transformer, this one requiring an explanation transform. This transformer will be used to convert latitude/longitude values into city areas, based on the closest city to the given coordinates.\n",
    "\n",
    "Again, we will follow the following steps:\n",
    "\n",
    "1. Define the transformer `__init__()` method, using a `super()` call for the parent `Transformer` class. The function can take optional arguments to configure the transformer. In this case, we will not take in any parameters.\n",
    "2. Define the `data_transform()` function, which takes an input DataFrame `x` and returns `x` after undergoing the transformation. In this case, we convert long/lat values to nearby cities.\n",
    "3. Consider which flags we expect to be used with this transformer. In this case, our transformation will be used to make the data more interpretable, but will not be fed into the model, so our flags are `interpret=True` and `algorithm=model=False`. Therefore, the `transform_explanation_XXX` functions will be called, but not the `inverse_transform_explanation` functions.\n",
    "4. Consider the explanation output types you are interested in. For now, let's consider additive local feature contribution and additive global feature importance explanations. These are explanations that provide an importance weighting to each feature, and where these importances can be meaningfully added together to represent the importance of multiple features. We will need to define `transform_explanation_additive_feature_contribution` and `transform_explanation_additive_feature_importance` functions.\n",
    "\n",
    "\n",
    "<div class=\"alert alert-block alert-info\" style=\"background-color: white; border: 2px solid; padding: 10px\">\n",
    "    <b><i class=\"fa fa-info-circle\" aria-hidden=\"true\"></i>&nbsp; Note</b><br>\n",
    "    <p style=\"color: black\">\n",
    "         Note that explanation output types are heirarchial, and Pyreal will use the explanation transforms of higher-level types when the lower-level types are not available. For example, if <code>transform_explanation_additive_feature_contribution</code> is not defined, Pyreal will attempt to use <code>transform_explanation_feature_contribution</code>.\n",
    "    </p>\n",
    "</div>\n"
   ]
  },
  {
   "cell_type": "code",
   "execution_count": 4,
   "metadata": {},
   "outputs": [],
   "source": [
    "from pyreal.types.explanations.feature_based import AdditiveFeatureContributionExplanation, AdditiveFeatureImportanceExplanation\n",
    "\n",
    "class CityConverter(Transformer):\n",
    "    def __init__(self, **kwargs):\n",
    "        self.cities = cities\n",
    "        super().__init__(**kwargs)\n",
    "\n",
    "    def data_transform(self, x):\n",
    "        # Converts latitude/longitude coordinates to closest city name. Note that\n",
    "        #    we are using a very rough estimate here, assuming constant size.\n",
    "        flag = False\n",
    "        if isinstance(x, pd.Series):\n",
    "            x = x.to_frame().T\n",
    "            flag = True\n",
    "        for index, row in self.cities.iterrows():\n",
    "            lat = row[\"Latitude\"]\n",
    "            lon = row[\"Longitude\"]\n",
    "            x.loc[(x[\"latitude\"] > lat-0.1) & (x[\"latitude\"] < lat+0.1) & (x[\"longitude\"] > lon-0.1) & (x[\"longitude\"] < lon+0.1), \"city\"] = row[\"Name\"]\n",
    "        x = x.drop(\"latitude\", axis=1)\n",
    "        x = x.drop(\"longitude\", axis=1)\n",
    "        if flag:\n",
    "            x = x.squeeze(axis=0)\n",
    "        return x\n",
    "\n",
    "    def transform_explanation_additive_feature_contribution(self, explanation):\n",
    "        df = explanation.get()  # A DataFrame with one row per instance and one column per feature\n",
    "        return AdditiveFeatureContributionExplanation(CityConverter.helper_sum_lat_long_columns(df))\n",
    "\n",
    "    def transform_explanation_additive_feature_importance(self, explanation):\n",
    "        df = explanation.get()  # A DataFrame with one row and one column per feature\n",
    "        return AdditiveFeatureImportanceExplanation(CityConverter.helper_sum_lat_long_columns(df))\n",
    "\n",
    "    def helper_sum_lat_long_columns(explanation):\n",
    "        # In the case of additive contributions or importances, we can combine the latitude and\n",
    "        #    longitude explanation contributions by summing to get the city contribution. In this\n",
    "        #    case, our implementation is almost identical for both types of explanations\n",
    "        explanation[\"city\"] = explanation[\"longitude\"] + explanation[\"latitude\"]\n",
    "        explanation = explanation.drop(\"longitude\", axis=1)\n",
    "        explanation = explanation.drop(\"latitude\", axis=1)\n",
    "        return explanation"
   ]
  },
  {
   "cell_type": "markdown",
   "metadata": {
    "id": "uPtavPkfKf91"
   },
   "source": [
    "## Using Transformers\n",
    "\n",
    "In the next code cell, we will using our custom defined transformers, as well as some predefined Pyreal transformers, to generate local and global explanations."
   ]
  },
  {
   "cell_type": "code",
   "execution_count": 5,
   "metadata": {},
   "outputs": [
    {
     "name": "stderr",
     "output_type": "stream",
     "text": [
      "`sparse` was renamed to `sparse_output` in version 1.2 and will be removed in 1.4. `sparse_output` is ignored unless you leave `sparse` to its default value.\n"
     ]
    }
   ],
   "source": [
    "from pyreal.explainers import LocalFeatureContribution, GlobalFeatureImportance\n",
    "from pyreal.transformers import OneHotEncoder, MultiTypeImputer, fit_transformers\n",
    "\n",
    "# Initialize and fit transformers using fit_transformers\n",
    "transformers = [MultiTypeImputer(model=True),\n",
    "                OneHotEncoder(columns=\"ocean_proximity\", model=True),\n",
    "                PerHouseholdAverager(columns=[\"total_bedrooms\", \"total_rooms\"], model=True, interpret=True),\n",
    "                CityConverter(model=False, interpret=True)]\n",
    "fit_transformers(transformers, X)\n",
    "\n",
    "# Initialize and fit the explainers\n",
    "local_explainer = LocalFeatureContribution(model=model, x_train_orig=X, transformers=transformers, fit_on_init=True)\n",
    "global_explainer = GlobalFeatureImportance(model=model, x_train_orig=X, transformers=transformers, fit_on_init=True)"
   ]
  },
  {
   "cell_type": "code",
   "execution_count": 6,
   "metadata": {
    "id": "L5N5xe0dIuTt"
   },
   "outputs": [
    {
     "name": "stderr",
     "output_type": "stream",
     "text": [
      " 97%|=================== | 4840/5000 [00:12<00:00]       The series.append method is deprecated and will be removed from pandas in a future version. Use pandas.concat instead.\n"
     ]
    },
    {
     "data": {
      "text/plain": "<Figure size 640x480 with 1 Axes>",
      "image/png": "[encoded data removed]"
     },
     "metadata": {},
     "output_type": "display_data"
    },
    {
     "data": {
      "text/plain": "<Figure size 640x480 with 1 Axes>",
      "image/png": "[encoded data removed]"
     },
     "metadata": {},
     "output_type": "display_data"
    }
   ],
   "source": [
    "from pyreal import visualize\n",
    "\n",
    "# Generate and visualize the explanation\n",
    "local_explanation = local_explainer.produce(X.iloc[1])\n",
    "global_explanation = global_explainer.produce()\n",
    "\n",
    "visualize.plot_top_contributors(local_explanation, select_by=\"absolute\", show=True)\n",
    "visualize.plot_top_contributors(global_explanation, select_by=\"absolute\", show=True)\n"
   ]
  }
 ],
 "metadata": {
  "colab": {
   "collapsed_sections": [],
   "name": "Pyreal Usability Study",
   "private_outputs": true,
   "provenance": []
  },
  "kernelspec": {
   "display_name": "Python 3 (ipykernel)",
   "language": "python",
   "name": "python3"
  },
  "language_info": {
   "codemirror_mode": {
    "name": "ipython",
    "version": 3
   },
   "file_extension": ".py",
   "mimetype": "text/x-python",
   "name": "python",
   "nbconvert_exporter": "python",
   "pygments_lexer": "ipython3",
   "version": "3.8.8"
  }
 },
 "nbformat": 4,
 "nbformat_minor": 1
}