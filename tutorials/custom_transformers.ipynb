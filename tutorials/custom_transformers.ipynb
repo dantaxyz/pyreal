{
 "cells": [
  {
   "cell_type": "markdown",
   "metadata": {
    "id": "kr9Ut95fpCN5"
   },
   "source": [
    "# Using Custom Transformers in Pyreal\n",
    "\n",
    "In this tutorial, we will be using Pyreal to investigate the California Housing Dataset. \n",
    "\n",
    "In order to generate useful explanations, we will making a few custom transformers, with functionality specific to this use-case."
   ]
  },
  {
   "cell_type": "markdown",
   "metadata": {},
   "source": [
    "## Data Loading\n",
    "\n",
    "This dataset includes 9 predictor variables, and one target variable. Each row in the dataset refers to a block of houses in California. The target variable is the median house value in this block.\n",
    "\n",
    "**Run the cell below to load in the California Housing Dataset.**"
   ]
  },
  {
   "cell_type": "code",
   "execution_count": 1,
   "metadata": {
    "id": "jo606ew7GUGS"
   },
   "outputs": [
    {
     "data": {
      "text/html": [
       "<div>\n",
       "<style scoped>\n",
       "    .dataframe tbody tr th:only-of-type {\n",
       "        vertical-align: middle;\n",
       "    }\n",
       "\n",
       "    .dataframe tbody tr th {\n",
       "        vertical-align: top;\n",
       "    }\n",
       "\n",
       "    .dataframe thead th {\n",
       "        text-align: right;\n",
       "    }\n",
       "</style>\n",
       "<table border=\"1\" class=\"dataframe\">\n",
       "  <thead>\n",
       "    <tr style=\"text-align: right;\">\n",
       "      <th></th>\n",
       "      <th>longitude</th>\n",
       "      <th>latitude</th>\n",
       "      <th>housing_median_age</th>\n",
       "      <th>total_rooms</th>\n",
       "      <th>total_bedrooms</th>\n",
       "      <th>population</th>\n",
       "      <th>households</th>\n",
       "      <th>median_income</th>\n",
       "      <th>ocean_proximity</th>\n",
       "      <th>median_house_value</th>\n",
       "    </tr>\n",
       "  </thead>\n",
       "  <tbody>\n",
       "    <tr>\n",
       "      <th>18190</th>\n",
       "      <td>-122.01</td>\n",
       "      <td>37.37</td>\n",
       "      <td>11</td>\n",
       "      <td>2559</td>\n",
       "      <td>694.0</td>\n",
       "      <td>1309</td>\n",
       "      <td>668</td>\n",
       "      <td>4.1847</td>\n",
       "      <td>&lt;1H OCEAN</td>\n",
       "      <td>167300</td>\n",
       "    </tr>\n",
       "    <tr>\n",
       "      <th>4438</th>\n",
       "      <td>-118.20</td>\n",
       "      <td>34.08</td>\n",
       "      <td>41</td>\n",
       "      <td>1807</td>\n",
       "      <td>429.0</td>\n",
       "      <td>1699</td>\n",
       "      <td>424</td>\n",
       "      <td>2.2222</td>\n",
       "      <td>&lt;1H OCEAN</td>\n",
       "      <td>126000</td>\n",
       "    </tr>\n",
       "    <tr>\n",
       "      <th>14054</th>\n",
       "      <td>-117.13</td>\n",
       "      <td>32.75</td>\n",
       "      <td>28</td>\n",
       "      <td>2279</td>\n",
       "      <td>671.0</td>\n",
       "      <td>1166</td>\n",
       "      <td>623</td>\n",
       "      <td>1.9500</td>\n",
       "      <td>NEAR OCEAN</td>\n",
       "      <td>150000</td>\n",
       "    </tr>\n",
       "    <tr>\n",
       "      <th>1499</th>\n",
       "      <td>-122.04</td>\n",
       "      <td>37.95</td>\n",
       "      <td>33</td>\n",
       "      <td>1653</td>\n",
       "      <td>334.0</td>\n",
       "      <td>814</td>\n",
       "      <td>328</td>\n",
       "      <td>3.1406</td>\n",
       "      <td>NEAR BAY</td>\n",
       "      <td>163100</td>\n",
       "    </tr>\n",
       "    <tr>\n",
       "      <th>14083</th>\n",
       "      <td>-117.11</td>\n",
       "      <td>32.77</td>\n",
       "      <td>52</td>\n",
       "      <td>1506</td>\n",
       "      <td>233.0</td>\n",
       "      <td>478</td>\n",
       "      <td>240</td>\n",
       "      <td>4.3875</td>\n",
       "      <td>NEAR OCEAN</td>\n",
       "      <td>300000</td>\n",
       "    </tr>\n",
       "    <tr>\n",
       "      <th>910</th>\n",
       "      <td>-122.00</td>\n",
       "      <td>37.55</td>\n",
       "      <td>27</td>\n",
       "      <td>6103</td>\n",
       "      <td>1249.0</td>\n",
       "      <td>3026</td>\n",
       "      <td>1134</td>\n",
       "      <td>4.1591</td>\n",
       "      <td>&lt;1H OCEAN</td>\n",
       "      <td>332400</td>\n",
       "    </tr>\n",
       "    <tr>\n",
       "      <th>8709</th>\n",
       "      <td>-118.35</td>\n",
       "      <td>33.85</td>\n",
       "      <td>34</td>\n",
       "      <td>1770</td>\n",
       "      <td>291.0</td>\n",
       "      <td>916</td>\n",
       "      <td>289</td>\n",
       "      <td>5.0000</td>\n",
       "      <td>&lt;1H OCEAN</td>\n",
       "      <td>354200</td>\n",
       "    </tr>\n",
       "    <tr>\n",
       "      <th>14219</th>\n",
       "      <td>-117.05</td>\n",
       "      <td>32.67</td>\n",
       "      <td>16</td>\n",
       "      <td>2168</td>\n",
       "      <td>343.0</td>\n",
       "      <td>1589</td>\n",
       "      <td>338</td>\n",
       "      <td>5.4863</td>\n",
       "      <td>NEAR OCEAN</td>\n",
       "      <td>153800</td>\n",
       "    </tr>\n",
       "    <tr>\n",
       "      <th>15388</th>\n",
       "      <td>-117.05</td>\n",
       "      <td>33.26</td>\n",
       "      <td>14</td>\n",
       "      <td>3103</td>\n",
       "      <td>569.0</td>\n",
       "      <td>1704</td>\n",
       "      <td>539</td>\n",
       "      <td>3.7644</td>\n",
       "      <td>&lt;1H OCEAN</td>\n",
       "      <td>264700</td>\n",
       "    </tr>\n",
       "    <tr>\n",
       "      <th>17513</th>\n",
       "      <td>-121.92</td>\n",
       "      <td>37.33</td>\n",
       "      <td>52</td>\n",
       "      <td>2009</td>\n",
       "      <td>338.0</td>\n",
       "      <td>841</td>\n",
       "      <td>338</td>\n",
       "      <td>5.5259</td>\n",
       "      <td>&lt;1H OCEAN</td>\n",
       "      <td>295800</td>\n",
       "    </tr>\n",
       "  </tbody>\n",
       "</table>\n",
       "</div>"
      ],
      "text/plain": [
       "       longitude  latitude  housing_median_age  total_rooms  total_bedrooms  \\\n",
       "18190    -122.01     37.37                  11         2559           694.0   \n",
       "4438     -118.20     34.08                  41         1807           429.0   \n",
       "14054    -117.13     32.75                  28         2279           671.0   \n",
       "1499     -122.04     37.95                  33         1653           334.0   \n",
       "14083    -117.11     32.77                  52         1506           233.0   \n",
       "910      -122.00     37.55                  27         6103          1249.0   \n",
       "8709     -118.35     33.85                  34         1770           291.0   \n",
       "14219    -117.05     32.67                  16         2168           343.0   \n",
       "15388    -117.05     33.26                  14         3103           569.0   \n",
       "17513    -121.92     37.33                  52         2009           338.0   \n",
       "\n",
       "       population  households  median_income ocean_proximity  \\\n",
       "18190        1309         668         4.1847       <1H OCEAN   \n",
       "4438         1699         424         2.2222       <1H OCEAN   \n",
       "14054        1166         623         1.9500      NEAR OCEAN   \n",
       "1499          814         328         3.1406        NEAR BAY   \n",
       "14083         478         240         4.3875      NEAR OCEAN   \n",
       "910          3026        1134         4.1591       <1H OCEAN   \n",
       "8709          916         289         5.0000       <1H OCEAN   \n",
       "14219        1589         338         5.4863      NEAR OCEAN   \n",
       "15388        1704         539         3.7644       <1H OCEAN   \n",
       "17513         841         338         5.5259       <1H OCEAN   \n",
       "\n",
       "       median_house_value  \n",
       "18190              167300  \n",
       "4438               126000  \n",
       "14054              150000  \n",
       "1499               163100  \n",
       "14083              300000  \n",
       "910                332400  \n",
       "8709               354200  \n",
       "14219              153800  \n",
       "15388              264700  \n",
       "17513              295800  "
      ]
     },
     "execution_count": 1,
     "metadata": {},
     "output_type": "execute_result"
    }
   ],
   "source": [
    "import matplotlib.pyplot as plt\n",
    "from urllib.parse import urljoin\n",
    "import pandas as pd\n",
    "\n",
    "AWS_BASE_URL = 'https://pyreal-data.s3.amazonaws.com/'\n",
    "data_url = urljoin(AWS_BASE_URL, \"usability_study/california.csv\")\n",
    "data = pd.read_csv(data_url)\n",
    "\n",
    "city_url = urljoin(AWS_BASE_URL, \"usability_study/cal_cities_lat_long.csv\")\n",
    "cities = pd.read_csv(city_url)\n",
    "\n",
    "data = data[data[\"median_house_value\"] < 500000]\n",
    "\n",
    "data = data.sample(5000, random_state=100)  # we will work with a truncated dataset to avoid memory crashes\n",
    "\n",
    "X = data.drop(\"median_house_value\", axis=1)\n",
    "y = data[\"median_house_value\"]\n",
    "\n",
    "data.sample(10)"
   ]
  },
  {
   "cell_type": "markdown",
   "metadata": {
    "id": "Yge_u_wO-dpB"
   },
   "source": [
    "We will be working with a pretrained model to predict the median house values for each block. \n",
    "\n",
    "**Run the code below to load in the model.** "
   ]
  },
  {
   "cell_type": "code",
   "execution_count": 2,
   "metadata": {
    "id": "7FIJC51KGu53"
   },
   "outputs": [
    {
     "ename": "ModuleNotFoundError",
     "evalue": "No module named 'lightgbm'",
     "output_type": "error",
     "traceback": [
      "\u001b[1;31m---------------------------------------------------------------------------\u001b[0m",
      "\u001b[1;31mModuleNotFoundError\u001b[0m                       Traceback (most recent call last)",
      "\u001b[1;32m~\\AppData\\Local\\Temp\\ipykernel_19600\\2204177027.py\u001b[0m in \u001b[0;36m<cell line: 1>\u001b[1;34m()\u001b[0m\n\u001b[1;32m----> 1\u001b[1;33m \u001b[1;32mimport\u001b[0m \u001b[0mlightgbm\u001b[0m\u001b[1;33m\u001b[0m\u001b[1;33m\u001b[0m\u001b[0m\n\u001b[0m\u001b[0;32m      2\u001b[0m \u001b[1;32mimport\u001b[0m \u001b[0mmatplotlib\u001b[0m\u001b[1;33m.\u001b[0m\u001b[0mpyplot\u001b[0m \u001b[1;32mas\u001b[0m \u001b[0mplt\u001b[0m\u001b[1;33m\u001b[0m\u001b[1;33m\u001b[0m\u001b[0m\n\u001b[0;32m      3\u001b[0m \u001b[1;32mimport\u001b[0m \u001b[0mnumpy\u001b[0m \u001b[1;32mas\u001b[0m \u001b[0mnp\u001b[0m\u001b[1;33m\u001b[0m\u001b[1;33m\u001b[0m\u001b[0m\n\u001b[0;32m      4\u001b[0m \u001b[1;32mimport\u001b[0m \u001b[0mrequests\u001b[0m\u001b[1;33m\u001b[0m\u001b[1;33m\u001b[0m\u001b[0m\n\u001b[0;32m      5\u001b[0m \u001b[1;33m\u001b[0m\u001b[0m\n",
      "\u001b[1;31mModuleNotFoundError\u001b[0m: No module named 'lightgbm'"
     ]
    }
   ],
   "source": [
    "import lightgbm\n",
    "import matplotlib.pyplot as plt\n",
    "import numpy as np\n",
    "import requests\n",
    "\n",
    "model_url = urljoin(AWS_BASE_URL, \"usability_study/model.model\")\n",
    "r = requests.get(model_url, allow_redirects=True)\n",
    "open('model.model', 'wb').write(r.content)\n",
    "\n",
    "model = lightgbm.Booster(model_file='model.model')"
   ]
  },
  {
   "cell_type": "markdown",
   "metadata": {
    "id": "5gYRgaoX52RP"
   },
   "source": [
    "# Model Performance\n",
    "\n",
    "⭐**Please read the following description of the model's performance on a held-out test set:**\n",
    "\n",
    "- Mean predicted price (the average value predicted by the model for `median_house_value`: **$199,622**\n",
    "\n",
    "- Mean real price (the average true value for `median_house_value`): **$198,990**\n",
    "\n",
    "- Mean-absolute-error (the average, absolute difference between the real value and the predicted value for `median_house_value`): **$29,823**\n",
    "\n",
    "- r^2 score (the r^2 value usually ranges from 0 to 1, with a value closer to 1 *generally* meaning the model performs better): **0.80**\n",
    "\n",
    "The plot below shows the true value versus predicted value for a selection of blocks from the held-out test set. \n",
    "\n",
    "![performance.png](data:image/png;base64,iVBORw0KGgoAAAANSUhEUgAAAQYAAAEKCAYAAADw9/tHAAAAOXRFWHRTb2Z0d2FyZQBNYXRwbG90bGliIHZlcnNpb24zLjUuMSwgaHR0cHM6Ly9tYXRwbG90bGliLm9yZy/YYfK9AAAACXBIWXMAAAsTAAALEwEAmpwYAAArdklEQVR4nO2de5gcdZnvP98kIxlIJiEQ2DAkgIKECELIgEiU5bKAKGJEFvRRQdYH9IAuKCAXOQK6ewjLrqLuUUTxAMcscs/CRg33sKBcEkKMAYEcIMBwCQRCEhKSzOQ9f1T1pKenqqt6pqu7uvv9PE8/01Vdv6q3Z6been/v7Sczw3Ecp5hh9RbAcZz84YrBcZwBuGJwHGcArhgcxxmAKwbHcQbgisFxnAGMyPLkkl4AVgO9QI+ZdWV5PcdxqkOmiiHkEDN7swbXcRynSvhUwnGcASjLzEdJzwNvAwb8wsyuijjmVOBUgK222mra5MmTM5PHcVqVDRs2sGLFCl555ZU3zWx80vFZK4ZOM+uWtB1wF/BNM3sg7viuri6bP39+ZvI4TiuybNkyZs2aRUdHB9/85jcXpPH1ZTqVMLPu8Ody4DZg/yyv5zhOf4qVwkknnZR6XGaKQdJWkkYX3gNHAH/J6nqO4/SnVCmMHj069dgsoxLbA7dJKlznP8zsDxlez3GckKEoBchQMZjZc8DeWZ3fcZxohqoUwMOVjtNUVEMpQAqLQdJI4Gjg48AOwDoCX8EcM1syqKs6jlN1qqUUIEExSLqEQCncDzwCLAdGAh8EZoZK4ywz+/OgJXAcZ8hUUylAssXwqJldFPPZD8P8hElDksBxnCFRbaUACYrBzOYkfL6cwIpwHKcOZKEUIMH5KGmMpJmS/irpLUkrJD0V7htbFQkcxxkUWSkFSI5K3EhQ63CwmY0zs22AQ8J9N1ZNCsdxKiJLpQDJimFnM7vMzF4r7DCz18zsMmCnqkriOE4qslYKkKwYlkn6jqTtCzskbS/pXOClqkvjOE5ZaqEUIFkxnABsA8yT9LaktwlCl+OA4zORyHGcSGqlFCA5KvE2cG74chynTtRSKUC6zMcjgRlAZ7irG/hPL4hynNpQa6UAyZmPVxBkOV4HvBzu3hH4R0lHmdkZ2YrnOK1NPZQCJFsMnzSzD5bulHQD8AzgisFxMqJeSgGSFcN7kvYzs8dK9u8HvJeRTI7TEsxe2M3lc5/mlZXr2GFsO+ccuTszpgYz9noqBUhWDF8Bfh52YipMJSYC74SfOY4zCGYv7Ob8WxezbmMvAN0r13H+rYsBmDqup65KAZKjEo8DH5H0NxQ5H4sTnhzHqZzL5z7dpxQKrNvYy6VzlvCZYfPrqhQgXVRiDPC3FCkGSXPNbGWWgjlOM/PKynWR+19fs4GOHeurFCC5iOpE4HHgYGDL8HUIsCD8zHGcQbDD2PbI/R3De+quFCDZYvguMK3UOpC0NUHjlusykstxmppzjty9n48BYIQ2ccHRe9ZdKUCyYhDBKlKlbAo/cxxnEBSiD5fOWRJMH4b3cMHRe/L5j+5aZ8kCkhTDPwOPS7qTzUVTk4DDgR9kKZjjNDtTx/UEjsYc+BRKKetjMLNrgS5gHrA+fN0PdJnZNVkL5zjNSr3zFJJIjEqEhVS/rYEsjtMS5F0pwCDXlZB0t6TfSzq62gI5TjPTCEoBBr8S1YnABOCAKsriOE1NoygFqEAxSBoHYGZvmdkrwCvAgqwEc5xmopGUAiQnOE2S9FtJbxDkLTwqaXm4b+eaSOg4DU6jKQVI9jHcANwG/I2Z7WZmuxJMIWbjDknHSaQRlQIkK4ZtzewGM+tLzzKzXjP7LUEvSMdxYmhUpQDJPoYFkn4GXMvmBKeJwEnAwiwFc5xGppGVAiQrhhOBrwKX0L/n4+3A1RnK5TgNS6MrBUjux7AB+Hn4chwngWZQCpDcDHYEgcUwg5Iu0cDVZrYxU+kcp4FoFqUAyVOJ/wusJJhKFHeJPgn4DcGCNI7T8jSTUoBkxTAtokv0y8DDkp5JcwFJw4H5BC3hPIXaaTqaTSlAcrjyLUl/L6nvOEnDJJ1AsOJ1Gs4AnhqsgI6TZ5pRKUCyYvg8cBzwuqRnQivhNeDY8LOySNoR+BTwq6EK6jh5o1mVAiRHJV4g9CNI2ibct6KC818BfAeI/Y1JOhU4FWDSpEkVnNpx6kczKwWooOzazFYUKwVJh5c7PizJXm5mZQutzOwqM+sys67x48enFcdx6kazKwUYZD+GkKQEp+nAMZJeIKirOFTSb4ZwPcepO62gFCA5j+H2uI9IqJUws/OB88PzHAycbWZfqlxEx8kHWSqFcsvV1YOkcOXHgS8Ba0r2C9g/E4kcJ4dkrRTilqurl3JIUgwPA2vNbF7pB5KeTnsRM7ufoIms4zQcWU8f4paru3zu0/lUDGZ2VJnPDqq+OI6TL2rhU4hbri5ufy0YivPRcZqaWjka45ari9tfCxIVg6QTJL0/fP9hSUslvSLpc9mL5zj1oZbRh3OO3J32tuH99rW3DeecI3fP7JpJpLEYziGoqIRg9akzgGnARVkJ5Tj1pNYhyRlTO7n02L3oHNuOgM6x7Vx67F75jUpIugjYATg3LIb6GEHnpi5gjKTvAfeb2QOZS+o4MVQz1FevPIUZUzvrqghKSXI+XiLpEOB5YDzwBzO7GEDSkWb2/exFdJx4qhnqa5XkpTSkmUr8D+BoYB/gbABJU4A52YnlOOkoF+qrBFcK/UmzduVTlDRkMbMngSezEspx0lKNUF+cUshbNmItSVpw5kvFvRgiPv+ApI9VXyzHSUdcSG9Me1uq8eWUwvm3LqZ75TqMzVOU2Qu7y5+wSUiaSmwDLJT0a0mnSzpe0omSvi9pHvAvwOvZi+k40Zxz5O60DdOA/e9u6Em8ictNH6o1RWlUyioGM/sxsC9wPYHz8bBwuxv4spl9zsyezVxKx4lhxtRORo0cOCPe2Gtlb+Ikn0IesxFrSRofQy9wV/hynNyxcm10s/K4mziNo3GHse10R4zPOhsxL34NT4l2Gp5KUorTRh/qkY2YJ7+GKwanoZi9sJvpM+9ll/PmMH3mvcxe2J36Jq4kJFmPbMQ8+TVkZjW/aBxdXV02f/78eovh5JTSZCYIFMClx+4FUNYEb4Q8hV3Om0PU3Sjg+Zmfqso1JC0ws66k4xJ9DOHJtgf+F7CDmR0VJjh91Mx8/UqnZsQ9Uc+6cRGbzNhhbDs/OmGfAU/1RlAKUD+/RhRppxLXAHMJ6iYAngHOzEAex4klzpnYaxY7J28UpQD5qrJMqxi2NbMbgU0AZtYD9JYf4jjVJc2Ts3hO3khKAfJVZZlqKgG8G64rYQCSDgDeyUwqx4ngnCN3H+BjiOKVlesaTikUyEuVZVrF8G3gduADkh4iSHY6LjOpHCeCwg1TcDIOk+iNcJ5vN6qtIqWQl9yBPJFKMZjZ45L+FtidwEn6tJlFZ5U4ToYUP1GjohRbjBBTepbSsW16pZC3Ds15IG1U4sSSXftKwsyuy0Amx0lFqQWx3ag2pvQsZdq2mxKVQsFKiIoCpOnQ3OxWRtqpxH5F70cS1Ew8DrhicOpKwYLo8ymksBSiLI1SytVEtIKVkXYq8c3ibUljCZadc5y6U6mjMSofopRyEZA8rgNRbQabEv0usEs1BXGcwTCY6ENShWRS7kArVF6m9THcAX3ZmsOAKcCNWQnlOGkYbEgyLsMQgtyBJH9BnjIUsyKtj+Ffi973AMvM7OUM5HGcVAwlTyEqH6JQc5FmKhA3vp7rQFSbtD6GAWtXOk69GGryUmk0o9KowlDHNwJlqyslrYbYgi8zs45qCuPVlU4Sv7prEVfc+xxrrI0JHSM596g9muqGzJqqVFeaWWPkkTotwa/uWsTMe16kh/cB8Oqq9U0XJswLFUUlJG0naVLhlZVQjlPKsmXLuOLe5+gp+ZdtpQattSSVYpB0jKRnCVakmge8APw+Q7kcp4+CT2GNRbeEb6YwYV5IazH8ADgAeMbMdiHIfHw4M6kcJ6TY0TihY2TkMc0UJswLacOVG81shaRhkoaZ2X2SrshSMMcpjT7suHRVVcOEzV7vMBTSKoaVkkYBDwCzJC0nyH6MRdLI8PgtwuvcbGYXDUVYp3WICknOmBr4wqtxM7dCvcNQSNUMVtJWwDqCqccXgTHALDNbUWaMgK3MbI2kNuBB4Awzi52CtGK40p9aA6lFk5XpM++NzF7sHNvOQ+cdWvXr5YWqNoMFvgbcYGbdwLVpBligcdaEm23hKz8tqXOAP7UGUqvOS61Q7zAU0jofRwN3SvpvSd8Iu0YnImm4pCeA5cBdZvZIxDGnSpovaf4bb7yRWvBmIE/rCOSBWrZjq2SRmlYklWIws0vM7EPA6cAEYJ6ku1OM6zWzfYAdgf0l7RlxzFVm1mVmXePHj69M+gbHn1qbqXWPxjx1ZM4jaacSBZYDrwErgO3SDjKzlZLuAz4B/KXCazYtrVClV45i/8pW2sBBYydw2UnH1aRxayvUOwyFtGXXpwHHEzSBvQk4xcyeTBgzniDMuVJSO3A4cNkQ5W0qWqFKL45S/8oaex/3rv4b7lm6qi/6kDV56cicR9JaDBOBM83siQrOPQG4VtJwginLjWb2XxXK19S08lMryr/yXs+mpuqC1MikLbs+v9ITm9mfgakVS9RitOpTK8m/4mHc+lKpj8FxhsyyZcvYShtYY+8b8NkOY9s9jJsDBtvz0WkQopaNryeF6MNBY1cyckT/f7+Cf8XDuPUntWKQtJOkvwvft0vyXg05p/Dk7V65LnbR11pSHJK87LTjmPm5D0eu0+hh3PqTNipxCnAqMA74AEFewpUEVZZOTslTm/O42ocoOVo9jJsH0loMpwPTgVUAZvYsFeQxOPUhL0/eSpOXPPmo/qRVDOvNbENhQ9IIvO4h9+Qh7TeNUij1gwC5WQ6+VUkblZgn6QKgXdLhwGnAHdmJ5VSDShOoSkOEh0wez31/fWPQIcO0SiEqAnHpsXs1dZVj3klbdj0M+CpwBEGH6LnAryzN4ApoxbLrrEmbD5BmPcfitReSzpt2+tCq5c/1Im3ZdSrFUHLiccCOYQJTVXHF0J9aJvnE3aCljG1vQ4K3127st79YacQphajv860bnohdn+D5mZ+qwjdziqlqPwZJ9wPHhMcvAJZL+qOZfWtIUjqx1DrJJ61DcuW6jZH7C9GOqeN6YpVC1PcZu2XbACUDHoGoN2mdj2PMbBVwLHCdmX0ED1VmSq2TfKpxI3avXMenrnycq1Z9mFmrJnPP0lV9n8V9HzM8ApFD0iqGEZImEFRYeiFUDah1qDEqRFg5FqY5q28xmEIyVZzc76zb6BGIHJI2KvF9Aofjg2b2mKT3A89mJ5ZT6ySfqErP0qjE2g09kWZ/gBF4BjZTnExV7vu0aiFZnklbXXkTQR+GwvZzwOeyEsqpT6+GpBs0LnKxBT2sJ9raKFgKrdx7ohFJ63z8P0QkNJnZP1RdIgfIZ6+GUpm2G9XGlJ6lTNt2E7NWTebVVesHjClYOGm+j5da54e0eQzF1sFI4LPAK2b2j9UUxsOV0eTxhikNSd4TsxhMWn9BlDVSyXgnHVUNV5rZLSUnv55gnQgnY/LYmyCLxWDyVPDlDL5Ry254EVVNyNsNUy6jcShOxLwUfDkBaX0Mq9nsdjaCTtHnZiiXE1KvGyZq+hKXvFQNvNQ6X6SdSnhTljpRjxsmavpy7i2LOHDEC0zbNpt1H8pFLfLoY2l2KungdIykfw1fR2cplLOZevQmiJq+rO8xFmzcIbPFYGZM7YxMdAJy1YWqVUg7lZgJ7AfMCnedIelAM7sgM8kcoPphyzRP37hpyuretkSlMJSne5SPYvrMe3PlY2kV0jofPwnsY2abACRdCywEXDHUgGplBqaNcAx2+pJFBMWdkvWhki7RY4vej6myHE4NSCrMKnRSilIKaaYvWRR+5aELVSuS1mK4FFgYrj8p4CDgvMykclJTiele7uk7e2E359y8iI29xQlvQSCqM+WUIIunu6dS14e0UYnrw54M+4W7zjWz1zKTyklFpaZ7uSnCJXcsKVEKAGLLtsCo/NYNT3D53KfLKogsIihxPhYI/A9pFKJHNSqnkqnEMOBNYCXwQUkHZSKRk5pKTfdyEY64qsm1GzeljghkFUGZMbWTh847lOdnfqqv3VvaSEXe1tZoFFIpBkmXAQ8B3wXOCV9nZyiXk4JKTfe4kGAlT89yiqca509DJQrRV7UaHGl9DDOA3c1sYPmcU1OKzeJhEr0RRXAF0z3OhC69UZctWxaWTqf7dyjnM6hFb4VKFKJHNQZH2qnEc0BbloI4yZSaxVFKoThbMI0JXah9OGzrt1LLUe+IQCWRCo9qDI6yikHSTyX9BFgLPCHpF5J+UnjVRkSnQJRZDDBcGmC6pzGhS9eSTEMeIgKV+DJ8VavBkWQ7FpojLABuz1gWJ4E487fXjCtO2KefCZ9kQkdVSXbGRBWGS2wyy41Hv5Js0Dw2vGkEyioGM7u2VoI4ycSFA4EBYcpyocO40um4nIE8NkupxJfhPSUrp5JwpVNnynVyLp0mxJnQJ0/bpmw/hUJUAQJLoXBeD++1FoNt1OJkTLmknDNveCJyTPfKdUyfeW+/Y4vPcfK0bVj+2Jyy/RQK4/LWNcqpLZkpBkkTgeuA7Qlya68ysx9ndb1mIimj8awbF0VGJKKOLdzIlSxFn7euUU7tSVt2/UGCpKadiseYWblVR3uAs8zscUmjgQWS7jKzJ4cicCuQdGPGKYXiY8+6cRFA2bUk4/DYv5PWYrgJuBL4JRC/HHIRZvYq8Gr4frWkp4BOwBVDAnE3YGGqkIZeM86/dTFvvvlm4vShlLj1JLd83/DU9QlOY5NWMfSY2c8HexFJOwNTgUciPjsVOBVg0qRJg71EUxEXURCkWpG6wLqNvVxx73N8vbOydmxxBsm7G3p5d0Nwffc7NDdpoxJ3SDpN0gRJ4wqvNAMljQJuAc4MF8bth5ldZWZdZtY1fvz4CkRvXqIiCoUuvJWyxtoqbsf2TsyK1qW0Ss1BoU/FLufNYfrMe1siQpPWYjgp/HlO0T4D3l9ukKQ2AqUwy8xurVy81iQqolCJpVDMhI6RFfdorOR6ze53yOO6HrUgbT+GXSo9sSQBVwNPmdkPKx3f6pQm5cR1Viqm1KoYOWIY5x61R9922r4EUYlOcRZLs9cctGqEppIu0XtKOl7SiYVXwpDpwJeBQyU9Eb4+OSRpc0YtTcykZerb24bzmSlbM0obAGNCxxbM/NyH+/55K+lLEFU+/cUDJrVkzUGrRmjShisvAg4GpgC/A44iWKLuurgxZvYgpeuiNxFZmpjlnuyF/WO3bMMs8AcUJy8VHI33LF3F5XOf5ls3PNG3hH0lT76oNOKunca1XM1Bqy6Ek9bHcBywN7DQzE6WtD3wm+zEyj9DNTHjbv4khRN17qQFZstNQSp58rVizUGr9pxMqxjWmdkmST2SOoDlwMQM5co9QzExy938cQrnkjuWpFIKo0eP5vK5j0WWZ0fR7E++odKq1ZlpFcN8SWMJEpwWAGuAP2UlVCMwFBOznLURp1jeXruR2Qu7+/1DxmU0prUCWuHJVw1a0VJK5Xw0s9PMbKWZXQkcDpxkZidnK1q+GUwDkHLrNgB9T6Q44pqslOYpxJ1jbHtb5v0YneagrMUgabKZ/VXSvhGf7Wtmj2cnWr6p1MQsnT5EUThHXPVkuSYrxcTNiy8+5kOuCJxUJE0lzgJOAf4t4jMDyhVRNT2VmJhxbdkKFKyNGVM7ufj2JayMyD4s12SlVK7CNVtpXuxUD1lCpV4t6erqsvnz5ycf2IDsct6c2JTm4RL/dvzeA3IOSp/4Zx00oeKCKMcpRtICM+tKOi5pKnFsuc89zTk9cRWLAJvM+j3NC+8vuWNJ35i2YcZDDz3EtG1dKTjZkzSV+HT4czvgQKBQ83sI8EfAFUNKyhlmpc7C2Qu7+ykFgFXrN3E/Ezly2h6uFJzMSWoGezKApDuBKWGPBSRNAK7JXLomolzFYnEk48LZi5n18IuR0w5jGDPvfI7Pf3TXDCQciK/52LqkrZWYWFAKIa8D3jyhAsqFEIt9C3FKoUCUUzILfM3H1iatYrhH0lxJX5H0FWAOcHd2YjUfcXkPFx/zob7ty+c+PaieC1ngaz62NmnLrr8h6bNAYYXrq8zstuzEaj7ShBDTZCxuvWVtVgps1apCJ6CSLtGPA6vN7G5JW0oabWarsxKskSm3mGy5OXpSg5S24eKiT38o9vNq0qpVhU5AqjwGSacQ9GUcZ2YfkLQbcKWZHVZNYeqVx1BNJ9vshd2cc9MiNm7a/HsdBozZso2Vazcypr0NKah9GB6uVt0ZXvPNN9/kn+55iahq9eJch1o4BeNyKTyNurGpSh5DEacD+xM2czWzZyVtNwT5ckO1+ypcfPuSfkoBYBP0hR6LnYeFNvDdK9dx7i2LOHDEC+y95VgWrR3Tb3zxDVmrVmOePdnapFUM681sQ9CtDSSNYHC9SXNHtVt3DTZqsL7HWGA78NB5h/U1Weleua7fMnFZyFuOVqwqdALSRiXmSboAaJd0OME6E3dkJ1btyJOTbXVvG6NHj2bG1E4OmTwe0d+qKIQPo3CnoFNN0iqG84A3gMXA1wjau12YlVC1JM6ZNlgn21CiBoVrxuUzrNvYy3BFd8tzp6BTTdL2Y9hkZr80s783s+PC900xlRhMX4VyXPTpD9E2vPJWl8XXLJfP0GtG27D+5/eGK061SdsM9mjgB2xeu1KAmVlHhrLVhME62cqFJEvPd8jk8fzXolf7/A9BK/bCrS+23rKNiz69uVdC4rRAQcZkoRGsOwWdapPW+XgFcCywuFkshWIqdbLNXtjNOTcvYmPv5vn/OTdvXkS29HyzF3Zzy4LNqcTBqM1P/fc2bup3/qR8ho29xlZbjOCJi45ILbPjVEJaH8NLwF+aUSkkEbV2xCV3LOlTCgU29hqX3LEk8hxJTVpKU42T1pAAdzY62ZLWYvgO8DtJ84D1hZ3NvsJUXM5A3E0e128hzU1cfEzxdCTOcnBno5MlaS2GfwbWAiOB0UWvpiYuZ6BSthuVHKkovdFnTO3kofMO5YoT9mnJFaCc+pLWYtjBzPbMVJIcUqm5PrZ9oAJYtmwZU3qWskIT6bFoPVx8o0c5NS89di/PQHRqSlrF8DtJR5jZnZlKkzPinIBbb9nGmvd6+qU+tw0TR+89gekz7+27gQvLxk3btoMjp+3BT+e9GLm8XNIqVJceuxcPndfSfXedGpO2iGo1sBWBf2EjGYUr89YMtlwhEQwMSd6yoLvfsSPYxBFbv8llpx2Xqh1b3JoTnWPbXTE4VaGqRVRm1vT+hGJKey4WloDvLDHjS5epL/U/9DCMhb0TU/dozFN6ttPaVNKPoSUozVGAzdVih0weHzu3j7t5X1u1PnJ/6TXLZTt6BMKpNWmjEi3D5XOfHpCjUGDWwy/G9jwcbM1FcW/FKDwC4dQDVwwllMs4NOCsGxf1S3YqcPK0bRhB/wzGtmFi7YaeyOMLlEt+8vUlnXqRtODMuHKfm9lb1RWn/hS6KsVRWgYNMHVcD8sfm8MRW09gYe9EXlu1njHtbby7oafPTxHXUCVuCiJwh6NTN5J8DAsIHpQiaBf/dvh+LPAisEuWwlWTcu3Qij+rJOd73cZeLp2zhM8Mm09HRweXnbQ5+jB95r0DmrZENVTx3opOHklacGYXAEm/BG4zs9+F20cBM8qNlfRr4Ghgeb2To8q1QwMSV6Eux+trNtCx48Bl49JGGOJWpna/glNP0voYDigoBQAz+z3BknXluAb4xCDlqirl2qElFTgViOmPQsfwnsi1JOOe+MOkfr6GGVM7ufTYvegc245wv4KTD9KGK1+RdCHwm3D7i8Ar5QaY2QOSdh6CbFVjsPkBgr5pBwy0LEZoExccvWdknkKUJQCBj6LU1+C9FZ28kVYxfAG4CLiNwOfwQLhvyEg6laA1PZMmZbPqXdI8vpJsw0vnLOH1NRsQ0GPD+Om8Fxk5sn3AjV3YPuvGRQOcmVk1b3WcapG2tdtbZnYG8DEz29fMzqxWRMLMrjKzLjPrGj9+fDVOOYBy7dsqae02dVwPU3qWMkKGhY1Wyq3pOGNqJ5tiIhyezejkmVSKQdKBkp4Engq395b0s0wlqyLl5vFp5/jLli1j1qxZLNi4w4AqyXJrOla72azj1IK0U4kfAUcCtwOY2SJJB5Ufki/KzeOT5vgFpdDR0cHqVdG9FeIsAI86OI1I6sxHM3upZFdZV76k64E/AbtLelnSVwchX90pVgonnXRSxRaARx2cRiStxfCSpAMBk9QGnEE4rYjDzKrinKwnpUrhnqWrWLuhZ8BxSRaARx2cRiOtxfB1gvUrO4FuYB/gtIxkygVRSuH8WxcP6Os4tr3NLQCn6UhrMexuZl8s3iFpOvBQ9UWqDRfOXsz1j7xErxnDJb7wkYn804ygAUupUhg9ejSXz30sMhFqqy1GuFJwmo60iuGnwL4p9jUEF85ezG8efrFvu9esb/uUqR0DlALEV1162NFpRpKqKz9KkPo8XtK3iz7qAMovfJBjrn+k1I8a8B+PvMiWTy4aoBRmL+zu6+JUiocdnWYkyWJ4HzAqPK4473cVcFxWQmVNXFn1JrMBSgHi15IUeNjRaUqSqivnAfMkXWNmy2okU+ZIEKUbBJEFUXHTBQP3LzhNSdqoxK8kjS1sSNpa0txsRMqWwrRgIMbx+06ILIiKmy50+jTCaVLSKoZtzWxlYcPM3ga2y0SijLl87tNsirAW2tuGcdnx0yLHVFJP4TjNQNqoxCZJk8zsRQBJOxHti8s9cdOC9zbGf52ope19NSinmUmrGL4LPBguaivg44Sl0o3CUFu0e/ai00qkXXDmD5L2BQ4Id51pZm9mJ1Z1iVpRqhifFjhOf5LyGCab2V9DpQCbuzZNCqcWj2crXnVIatHu0wLH6U+SxXAWcArwbxGfGdAQ/c29RbvjVEZSHsMp4c9DaiNONmw3qo3X12wcsN+zFh0nmqSpxLHlPjezW6srTvVZtmwZU3qWskIT+3Vecr+C48STNJX4dPhzO4KaiXvD7UOAPwK5VgyFKslp23Zw5LQ9+Om8Fz3c6DgpSJpKnAwg6U5gipm9Gm5PIFg3IrdElU5//qO71lssx2kI0mY+TiwohZDXCZasyyVRSsFxnPSkTXC6J6yNuD7cPgG4OxuRhoYrBccZOmkTnL4h6bNAoTP0VWZ2W3ZiDQ5XCo5THdJaDACPA6vN7G5JW0oabWarsxKsUlwpOE71SLvgzCnAzcAvwl2dwOyMZKoYVwqOU13SOh9PB6YTdG7CzJ4lJ2XXrhQcp/qkVQzrzWxDYUPSCHJQdu1KwXGyIa1imCfpAqBd0uHATcAd2YmVjCsFx8mOtIrhXOANYDHwNeB3wIVZCZWEKwXHyZbEqISk4cASM5sM/DJ7kcrjSsFxsifRYjCzXuBpSXXPdHSl4Di1IW0ew9bAEkmPAu8WdprZMZlIFYErBcepHWkVw//MVIoEXCk4Tm1J6scwkmCl610JHI9Xm9nAdeAzxJWC49SeJB/DtUAXgVI4iugWb5nhSsFx6kPSVGKKme0FIOlq4NHsRQpwpeA49SPJYuhrlFjLKYQrBcepL0kWw96SVoXvRZD5uCp8b2bWUW2BXCk4Tv0pazGY2XAz6whfo81sRNH7RKUg6ROSnpa0VNJ5Scdv2LDBlYLj5IC0KdEVE2ZM/m8Cp+UU4AuSppQbs2LFClcKjpMDMlMMwP7AUjN7LqzM/C3wmXIDhg8f7krBcXJAJR2cKqUTeKlo+2XgI6UHSTqVzQvkru/o6PhLhjJVk22Bhlm/k8aSt5FkhcaSN9ViKlkqhlSY2VXAVQCS5ptZV51FSkUjyQqNJW8jyQqNJa+k+WmOy3Iq0Q1MLNreMdznOE7OyVIxPAbsJmkXSe8DPg/cnuH1HMepEplNJcysR9I3gLnAcODXZrYkYdhVWcmTAY0kKzSWvI0kKzSWvKlklVndWzc6jpMzspxKOI7ToLhicBxnALlQDJWmTtcTSb+WtFxS7vMtJE2UdJ+kJyUtkXRGvWUqh6SRkh6VtCiU95J6y5SEpOGSFkr6r3rLkoSkFyQtlvREUtiy7j6GMHX6GeBwgiSox4AvmNmTdRUsBkkHAWuA68xsz3rLUw5JE4AJZva4pNHAAmBGjn+3ArYyszWS2oAHgTPM7OE6ixaLpG8T9CzpMLOj6y1POSS9AHSZWWIyVh4shopTp+uJmT0AvFVvOdJgZq+a2ePh+9XAUwQZqbnEAtaEm23hK7fecUk7Ap8CflVvWapNHhRDVOp0bv95GxVJOwNTgUfqLEpZQtP8CWA5cJeZ5VneK4DvAJvqLEdaDLhT0oKwFCGWPCgGJ2MkjQJuAc40s1VJx9cTM+s1s30IMmX3l5TL6Zqko4HlZrag3rJUwMfMbF+CiufTw2lxJHlQDJ46nSHhXP0WYJaZ3VpvedJiZiuB+4BP1FmUOKYDx4Tz9t8Ch0r6TX1FKo+ZdYc/lwO3EUzjI8mDYvDU6YwInXlXA0+Z2Q/rLU8SksZLGhu+bydwSP+1rkLFYGbnm9mOZrYzwf/svWb2pTqLFYukrUIHNJK2Ao4AYiNrdVcMYS/JQur0U8CNKVKn64ak64E/AbtLelnSV+stUxmmA18meJo9Eb4+WW+hyjABuE/SnwkeGHeZWe7DgA3C9sCDkhYRNHWeY2Z/iDu47uFKx3HyR90tBsdx8ocrBsdxBuCKwXGcAbhicBxnAK4YHMcZQFMpBknbFIXlXpPUXbT9vnrLV4qkiyWdHb7/vqS/q8I5D26ESr9Swsq/bat0rhmSvley7+KI4yIrZSWNk3SXpGfDn1uH+yXpJ2EV8J8l7Rtz/chq4TBX55Fw/w2F/0lJW4TbS8PPdw737yXpmiH+OgZFUykGM1thZvuEKbVXAj8qbJvZBkl174odh5l9z8zurrccTcJ3gJ8BSNpB0u+Br4fl3N8qOu4aojMrzwPuMbPdgHvCbQhSiXcLX6cCPy8dqPILLV1G8D+5K/A2UMiB+Srwdrj/R+FxmNliYEdJkyr+DQyRplIMUUi6RtKVkh4B/qX4KR1+/pciDf2lsB/AE5J+Ef6RS8/3gqRLCzXtkvaVNFfS/5P09aLjzpH0WPhkuaRo/3clPSPpQYp6/IdyHhe+/1449i+SrgozGJF0v6TLQhmfkfTxmK89StLNkv4qaVbR+MMU9A5YHD4ttyj6TtuG77sk3R++/9sii2uhNmfORX63ou/ydUmXF21/RdK/h+9nKyjiWaKIQh5JOxc/wSWdXXjaS/qApD+E4/9b0uSI8R8E1heVFp8JPEzwoOgC+pJ6ylTKfga4Nnx/LTCjaP91YRXow8BYBaXtxURWC4d/g0OBm2POW7jezcBhhb8ZcAdBZmVNaXrFELIjcKCZfTvuAEl7ACcA00OLoxf4YszhL4bH/DfBU+c44ADgkvBcRxA8VfYH9gGmSTpI0jSCP/I+wCeB/WLO/+9mtl/Y76EdKK7zH2Fm+xP8w18UM35q+PkU4P3AdEkjQ1lPMLO9CBoB/4+Y8QXOBk4Pv+vHgXVx361k3C3AZ4u2TyC4QQD+wcymEdyk/yhpmwQZirkK+GY4/mxCq6CE6cDjRdsbgK2BNjPbaGZPpbjO9mb2avj+NYKsQUhXCRx3zDbAyqJV44vH9o0JP38nPB5gPsHvvqbk1rSuMjeZWW/CMYcB04DHQmXdTlD6G0WhlmMxMCrsdbBa0noFuf5HhK+F4XGjCG6m0cBtZrYWQFJcTcghkr4DbAmMA5YQPDkACoVQC4CdY8Y/amYvh9d4IjxuNfC8mT0THnMtcDpB6XAcDwE/lDQLuNXMXg4VQ9R3e6AwyMzekPScpAOAZ4HJ4bkgUAYFpTExHLuijAyE32MUcCBw0+aHKVtEHDoBeKNo+3LgX4AvhfL8wMzuT7pe0XcxSfVMD14O7FDri7aKYni36H0P/S2lkeFPAdea2fkpzrc+/Lmp6H1he0R4rkvN7BfFgySdmXTi8Mn+M4JOOy+FZvTIokMK1+sl/u9XLFO54woU/076rmVmMyXNIbBuHpJ0JDHfLYLfAscTFEHdFt5gBwN/B3zUzNaGU5aRJePi/j7DCJ64+yRcdx0wpug7vAN8TdKrBPU4/ylpkpm9V+Ycr0uaYGavhlOFwgMiTSVw3DErCKYeI0KroHhsYczLCvxgY9isLEeG36mmtMpUopgXgH0BFHiVdwn33wMcJ2m78LNxknYa5DXmAv8QPuWQ1Bme9wFghqT2cL7+6YixhRvhzXD8cYOUoZSngZ0l7RpufxmYF75/gcBaAvhcYYCkD5jZYjO7jKCoaXKZ71bKbQRz5y+weRoxhsDJtjb0DxwQMe51YDsFEaYtCKdRYR+J5yX9fXhdSdo7YvxTQOE7ImkPSYX/88UEyrstYlwxtwMnhe9PAv6zaP+J4bUPAN4pTDkkFapAI6uFLShKuo/Nf8/S8xaudxxBpWbBSvkgZaogs6IVFcMtwDhJSwiqOp8BCPsgXkjQ4ebPwF0EZmnFmNmdwH8Af5K0mMChNDpss3YDsAj4PcE/UenYlcAvCf4Z5kYdM0iZ3gNOJjDFCzfIleHHlwA/VtAgtHjKdaYCB+ifgY3A7+O+W8T13ia4SXcys0fD3X8ARkh6CphJ4BQsHbcR+D5BBeBd9C+7/iLwVQUVgkuIbgH4ADC1yHk3Hfhj+N0fAf45nPqVq5SdCRwu6VkCC2dmuP93wHPAUoK/0WnhebYlsKSSqoXPBb4taSmBD+HqcP/VwDbh/m+zOQoCcAgwJ+J7ZopXVzpNh6QfA3cUh38lXWxmF2d0vaOB95vZT6p83i0IrLqPFTkta4IrBqfpkLQ98BEzu71o38GVOB3zgKTdgM56yO2KwXGcAbSij8FxnARcMTiOMwBXDI7jDMAVg+M4A3DF4DjOAP4/3tbSP0HH1XoAAAAASUVORK5CYII=)"
   ]
  },
  {
   "cell_type": "markdown",
   "metadata": {
    "id": "fAuO7cuWCWhh"
   },
   "source": [
    "⭐**Now, please switch to the Qualtrics survey tab (the tab you started this user study on), press the \"next\" button, and answer the questions listed. Keep this colab notebook open.**"
   ]
  },
  {
   "cell_type": "markdown",
   "metadata": {
    "id": "BfmXzJH_HgiP"
   },
   "source": [
    "# Defining Transformers\n",
    "\n",
    "As you saw in the tutorial, Pyreal generates ML explanations using Explainer objects, which take in data Transformers through their `transformer` parameter. These Transformers take in three flags in their initialization, two of which we will use in this user study:\n",
    "\n",
    "- Transformers with a `model=True` flag take data from the original feature space (as we loaded in above) to the feature space used by the model.\n",
    "- Transformers with an `interpret=True` flag take data from the original feature space to a feature space more readable or interpretable by humans. \n",
    "\n",
    "All transformers you will need can be found in the Pyreal `transformer` package, or defined in the next two code cells. The useful transformer classes are imported in the cells below."
   ]
  },
  {
   "cell_type": "markdown",
   "metadata": {
    "id": "ZsXVvpTYaLs7"
   },
   "source": [
    "## Model Transformers\n",
    "\n",
    "The explanation algorithms you will be using expect the data to be in the model-ready feature space. The model requires data that has the following transformations:\n",
    "1. All data should be imputed, using the mean value for numeric features and the mode for categorical features. This can be done using a [MultiTypeImputer](https://sibyl-ml.dev/pyreal/api_reference/api/pyreal.transformers.MultiTypeImputer.html#pyreal.transformers.MultiTypeImputer)\n",
    "2. The ``ocean_proximity`` feature should be one-hot encoded. This can be done using a [OneHotEncoder](https://sibyl-ml.dev/pyreal/api_reference/api/pyreal.transformers.OneHotEncoder.html#pyreal.transformers.OneHotEncoder)\n",
    "3. Two new features should be added: the average number of rooms per household (``average_rooms``) and the average number of bedrooms per household (``average_bedrooms``). Note that these features should be included in the final explanation displayed, so this transformer should be flagged `interpret=True`.\n",
    "\n",
    "We've added one Transformer class below that may be helpful. All others that you will need can be found in the pyreal ``transformer`` module.\n",
    "\n",
    "⭐**Run the cell below to define the PerHouseholdAverager, which is a transformer that can be used to add the two features introduced in item 3 above.** \n"
   ]
  },
  {
   "cell_type": "code",
   "execution_count": null,
   "metadata": {
    "id": "Yg9PZ5HDHD_C"
   },
   "outputs": [],
   "source": [
    "from pyreal.transformers import OneHotEncoder, MultiTypeImputer, Transformer, fit_transformers, run_transformers\n",
    "from pyreal.types.explanations.dataframe import AdditiveFeatureContributionExplanation\n",
    "\n",
    "class PerHouseholdAverager(Transformer):\n",
    "  def __init__(self, columns, **kwargs):\n",
    "    # columns: the columns to average. Must be list of strings (column names)\n",
    "    self.columns = columns\n",
    "    super().__init__(**kwargs)\n",
    "\n",
    "  def data_transform(self, x):\n",
    "    # Transform the data by adding a new column from total_[column] called \n",
    "    #   average_[column]. This feature represents the average value of \n",
    "    #   [column] per household. \n",
    "    for column in self.columns:\n",
    "      name = column.replace(\"total\", \"average\")\n",
    "      x[name] = x[column] / x[\"households\"]\n",
    "    return x\n",
    "\n",
    "  def inverse_transform_explanation(self, explanation):\n",
    "    # In this case, we would still like to see the average value feature\n",
    "    #   in the explanation, as it may be more meaningful and interesting\n",
    "    #   than the total number. Therefore, we will not modify the explanation\n",
    "    #   when transforming it back into the original feature space\n",
    "    return explanation"
   ]
  },
  {
   "cell_type": "markdown",
   "metadata": {
    "id": "uPtavPkfKf91"
   },
   "source": [
    "##  Interpretable Transformers\n",
    "\n",
    "You may prefer the explanations given in a more human-readable format. Here, we provide a few other transformers that may make explanations easier to use. Keep in mind the model will **not** accept data that has had these transformations, and therefore they should be flagged `model=False`. Rather, set `interpret=True` to mark these as transformers that *improve interpretability*\n",
    "\n",
    "Additionally, remember that we want to the final explanation to include the `average_rooms` and `average_bedrooms` features, so the `PerHouseholdAverager` transformer should also be flagged `interpret=True`\n",
    "\n",
    "⭐**Run the cell below to define two more transformers, which scale the units of features to their actual value, and convert lat/long values to predicted cities.** "
   ]
  },
  {
   "cell_type": "code",
   "execution_count": null,
   "metadata": {
    "id": "L5N5xe0dIuTt"
   },
   "outputs": [],
   "source": [
    "class UnitScaler(Transformer):\n",
    "  def __init__(self, column, scale, **kwargs):\n",
    "    # column: string, column to scale\n",
    "    # scale: value to multiply column by\n",
    "    self.column = column\n",
    "    self.scale = scale\n",
    "    super().__init__(**kwargs)\n",
    "\n",
    "  def data_transform(self, x):\n",
    "    # Scales the data to a more human readable scale\n",
    "    x[self.column] = x[self.column] * self.scale\n",
    "    return x\n",
    "\n",
    "  def transform_explanation(self, explanation):\n",
    "    # This transform will not modify the explanation, so we return it as is\n",
    "    return explanation\n",
    "\n",
    "  def inverse_transform_explanation(self, explanation):\n",
    "    # This transform will not modify the explanation, so we return it as is\n",
    "    return explanation\n",
    "\n",
    "class CityConverter(Transformer):\n",
    "  def __init__(self, **kwargs):\n",
    "    self.cities = cities\n",
    "    super().__init__(**kwargs)\n",
    "\n",
    "  def data_transform(self, x):\n",
    "    # Converts latitude/longitude coordinates to closest city name. Note that \n",
    "    #    we are using a very rough estimate here, assuming constant size. \n",
    "    #    For the sake of answering questions, please assume this works \n",
    "    #    sufficiently well\n",
    "    flag = False\n",
    "    if isinstance(x, pd.Series):\n",
    "      x = x.to_frame().T\n",
    "      flag = True\n",
    "    for index, row in self.cities.iterrows():\n",
    "      lat = row[\"Latitude\"]\n",
    "      lon = row[\"Longitude\"]\n",
    "      x.loc[(x[\"latitude\"] > lat-0.1) & (x[\"latitude\"] < lat+0.1) & (x[\"longitude\"] > lon-0.1) & (x[\"longitude\"] < lon+0.1), \"city\"] = row[\"Name\"]\n",
    "    x = x.drop(\"latitude\", axis=1)\n",
    "    x= x.drop(\"longitude\", axis=1)\n",
    "    if flag:\n",
    "      x = x.squeeze(axis=0)\n",
    "    return x\n",
    "\n",
    "  def transform_explanation_additive_contributions(self, explanation):\n",
    "    # In the case of additive contributions, we can combine the latitude and \n",
    "    #    longitude explanation contributions by adding to get the city \n",
    "    #    contribution\n",
    "    explanation = explanation.get()\n",
    "    explanation[\"city\"] = explanation[\"longitude\"] + explanation[\"latitude\"]\n",
    "    explanation = explanation.drop(\"longitude\", axis=1)\n",
    "    explanation = explanation.drop(\"latitude\", axis=1)\n",
    "    return AdditiveFeatureContributionExplanation(explanation)"
   ]
  },
  {
   "cell_type": "markdown",
   "metadata": {
    "id": "CSth0yZ1A2vW"
   },
   "source": [
    "# Generating Global Explanations\n",
    "\n",
    "You can now start using Pyreal Explainers to investigate the model. Remember to take a look at the links at the top of this page as needed.\n",
    "\n",
    "We will begin by generating a *global* explanation, or an explanation of how the model makes predictions in general.\n",
    "\n",
    "⭐**In the next cell, initialize, fit, and call the produce function on a `GlobalFeatureImportance` Explainer.**\n",
    "\n",
    "⭐**Remember, you will need to begin by initalizing and fitting the required transformers. Revisit the cells above for details on the transformers you will need and their flags. You can use the `fit_transformers` function to quickly fit them.** "
   ]
  },
  {
   "cell_type": "code",
   "execution_count": null,
   "metadata": {
    "id": "BBwHIp18D50V"
   },
   "outputs": [],
   "source": [
    "from pyreal.explainers import GlobalFeatureImportance\n",
    "from pyreal.transformers import fit_transformers\n",
    "from pyreal.utils import visualize\n",
    "\n",
    "# Step one: Initialize and fit transformers using fit_transformers\n",
    "# ---- Your code here ----\n",
    "\n",
    "# Step two: Initialize and fit the explainer\n",
    "# ---- Your code here ----\n",
    "\n",
    "# Step three: Generate and visualize the explanation\n",
    "# ---- Your code here ----"
   ]
  },
  {
   "cell_type": "markdown",
   "metadata": {
    "id": "p8gOOucyKt5A"
   },
   "source": [
    "⭐**Now, please press the \"next\" button on the Qualtrics survey tab and answer the next set of questions, referencing this tab as needed.** ⭐\n",
    "\n",
    "\n"
   ]
  },
  {
   "cell_type": "markdown",
   "metadata": {
    "id": "tuMCOFODGoUa"
   },
   "source": [
    "# Generating Local Explanations\n",
    "\n",
    "⭐ **Now, please consider the `sample_block` listed below, which refers to a hypothetical block of houses that might exist in California. Run the code block.**\n",
    "\n"
   ]
  },
  {
   "cell_type": "code",
   "execution_count": null,
   "metadata": {
    "id": "Bultpbt_Ktq_"
   },
   "outputs": [],
   "source": [
    "sample_block = pd.Series({\n",
    "  \"longitude\": -122.23,\n",
    "  \"latitude\": 37.88,\n",
    "  \"housing_median_age\": 16,\n",
    "  \"total_rooms\": 672,\n",
    "  \"total_bedrooms\": 230,\n",
    "  \"population\": 220,\n",
    "  \"households\": 52,\n",
    "  \"median_income\":  5.3252,\n",
    "  \"ocean_proximity\": \"NEAR BAY\" \n",
    "})\n"
   ]
  },
  {
   "cell_type": "markdown",
   "metadata": {
    "id": "KB0VFOR7K63p"
   },
   "source": [
    "We will now generate a *local* explanation, or an explanation of why the model makes the prediction it does for the specific `sample_block` above.\n",
    "\n",
    "⭐**In the next cell, initialize, fit, and call the produce function on a `LocalFeatureContribution` Explainer. Generate an explanation for the prediction of the `sample_block` above.**\n",
    "\n",
    "⭐**You can likely reuse the already-fit transformers from the previous section. If you would like to use any more, remember to fit them before using.**"
   ]
  },
  {
   "cell_type": "code",
   "execution_count": null,
   "metadata": {
    "id": "_qyjModSK6UQ"
   },
   "outputs": [],
   "source": [
    "from pyreal.explainers import LocalFeatureContribution\n",
    "from pyreal.transformers import fit_transformers\n",
    "from pyreal.utils import visualize\n",
    "\n",
    "# Step one: Initialize and fit the explainer\n",
    "# ---- Your code here ----\n",
    "\n",
    "# Step two: Generate and visualize the explanation\n",
    "# ---- Your code here ----"
   ]
  },
  {
   "cell_type": "markdown",
   "metadata": {
    "id": "RQ55r__NS8kQ"
   },
   "source": [
    "⭐**Now, please press the \"next\" button on the Qualtrics survey tab and answer the next set of questions, referencing this tab as needed.** ⭐\n"
   ]
  },
  {
   "cell_type": "markdown",
   "metadata": {
    "id": "YbdTemKIf6lp"
   },
   "source": [
    "# Downloading This Notebook\n",
    "\n",
    "⭐**Once you have finished answering all questions, save and download this notebook to a location of your choosing using `File` &#8594; `Download` &#8594; `Download .ipynb`, in the upper left toolbar of this page. You will need to upload it shortly to the Qualtrics survey.**\n",
    "\n",
    "⭐**Please return to the Qualtrics survey now and press next, then follow instructions to upload this notebook, and then answer final reflection questions.** "
   ]
  }
 ],
 "metadata": {
  "colab": {
   "collapsed_sections": [],
   "name": "Pyreal Usability Study",
   "private_outputs": true,
   "provenance": []
  },
  "kernelspec": {
   "display_name": "Python 3 (ipykernel)",
   "language": "python",
   "name": "python3"
  },
  "language_info": {
   "codemirror_mode": {
    "name": "ipython",
    "version": 3
   },
   "file_extension": ".py",
   "mimetype": "text/x-python",
   "name": "python",
   "nbconvert_exporter": "python",
   "pygments_lexer": "ipython3",
   "version": "3.8.6"
  }
 },
 "nbformat": 4,
 "nbformat_minor": 1
}
