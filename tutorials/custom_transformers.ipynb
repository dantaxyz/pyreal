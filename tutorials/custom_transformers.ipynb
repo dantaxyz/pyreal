{
 "cells": [
  {
   "cell_type": "markdown",
   "metadata": {
    "id": "kr9Ut95fpCN5"
   },
   "source": [
    "# Using Custom Transformers in Pyreal\n",
    "\n",
    "In this tutorial, we will be using Pyreal to investigate the California Housing Dataset. \n",
    "\n",
    "In order to generate useful explanations, we will making a few custom transformers, with functionality specific to this use-case."
   ]
  },
  {
   "cell_type": "markdown",
   "metadata": {},
   "source": [
    "## Data Loading\n",
    "\n",
    "This dataset includes 9 predictor variables, and one target variable. Each row in the dataset refers to a block of houses in California. The target variable is the median house value in this block.\n",
    "\n",
    "**Run the cell below to load in the California Housing Dataset.**"
   ]
  },
  {
   "cell_type": "code",
   "execution_count": 9,
   "metadata": {
    "id": "jo606ew7GUGS"
   },
   "outputs": [
    {
     "data": {
      "text/html": [
       "<div>\n",
       "<style scoped>\n",
       "    .dataframe tbody tr th:only-of-type {\n",
       "        vertical-align: middle;\n",
       "    }\n",
       "\n",
       "    .dataframe tbody tr th {\n",
       "        vertical-align: top;\n",
       "    }\n",
       "\n",
       "    .dataframe thead th {\n",
       "        text-align: right;\n",
       "    }\n",
       "</style>\n",
       "<table border=\"1\" class=\"dataframe\">\n",
       "  <thead>\n",
       "    <tr style=\"text-align: right;\">\n",
       "      <th></th>\n",
       "      <th>longitude</th>\n",
       "      <th>latitude</th>\n",
       "      <th>housing_median_age</th>\n",
       "      <th>total_rooms</th>\n",
       "      <th>total_bedrooms</th>\n",
       "      <th>population</th>\n",
       "      <th>households</th>\n",
       "      <th>median_income</th>\n",
       "      <th>ocean_proximity</th>\n",
       "      <th>median_house_value</th>\n",
       "    </tr>\n",
       "  </thead>\n",
       "  <tbody>\n",
       "    <tr>\n",
       "      <th>6026</th>\n",
       "      <td>-117.74</td>\n",
       "      <td>34.07</td>\n",
       "      <td>42</td>\n",
       "      <td>2504</td>\n",
       "      <td>553.0</td>\n",
       "      <td>1550</td>\n",
       "      <td>509</td>\n",
       "      <td>3.0294</td>\n",
       "      <td>INLAND</td>\n",
       "      <td>135700</td>\n",
       "    </tr>\n",
       "    <tr>\n",
       "      <th>665</th>\n",
       "      <td>-122.16</td>\n",
       "      <td>37.70</td>\n",
       "      <td>36</td>\n",
       "      <td>2239</td>\n",
       "      <td>391.0</td>\n",
       "      <td>1203</td>\n",
       "      <td>379</td>\n",
       "      <td>5.0043</td>\n",
       "      <td>NEAR BAY</td>\n",
       "      <td>190400</td>\n",
       "    </tr>\n",
       "    <tr>\n",
       "      <th>19863</th>\n",
       "      <td>-119.32</td>\n",
       "      <td>36.36</td>\n",
       "      <td>18</td>\n",
       "      <td>2060</td>\n",
       "      <td>383.0</td>\n",
       "      <td>1348</td>\n",
       "      <td>397</td>\n",
       "      <td>3.4312</td>\n",
       "      <td>INLAND</td>\n",
       "      <td>68400</td>\n",
       "    </tr>\n",
       "    <tr>\n",
       "      <th>9102</th>\n",
       "      <td>-117.90</td>\n",
       "      <td>34.53</td>\n",
       "      <td>8</td>\n",
       "      <td>3484</td>\n",
       "      <td>647.0</td>\n",
       "      <td>2169</td>\n",
       "      <td>619</td>\n",
       "      <td>3.9766</td>\n",
       "      <td>INLAND</td>\n",
       "      <td>135800</td>\n",
       "    </tr>\n",
       "    <tr>\n",
       "      <th>16966</th>\n",
       "      <td>-122.31</td>\n",
       "      <td>37.55</td>\n",
       "      <td>27</td>\n",
       "      <td>3931</td>\n",
       "      <td>933.0</td>\n",
       "      <td>1877</td>\n",
       "      <td>851</td>\n",
       "      <td>3.9722</td>\n",
       "      <td>NEAR OCEAN</td>\n",
       "      <td>354100</td>\n",
       "    </tr>\n",
       "    <tr>\n",
       "      <th>2529</th>\n",
       "      <td>-122.22</td>\n",
       "      <td>39.51</td>\n",
       "      <td>17</td>\n",
       "      <td>1201</td>\n",
       "      <td>268.0</td>\n",
       "      <td>555</td>\n",
       "      <td>277</td>\n",
       "      <td>2.1000</td>\n",
       "      <td>INLAND</td>\n",
       "      <td>66900</td>\n",
       "    </tr>\n",
       "    <tr>\n",
       "      <th>5232</th>\n",
       "      <td>-118.24</td>\n",
       "      <td>33.94</td>\n",
       "      <td>42</td>\n",
       "      <td>380</td>\n",
       "      <td>106.0</td>\n",
       "      <td>411</td>\n",
       "      <td>100</td>\n",
       "      <td>0.9705</td>\n",
       "      <td>&lt;1H OCEAN</td>\n",
       "      <td>90000</td>\n",
       "    </tr>\n",
       "    <tr>\n",
       "      <th>4877</th>\n",
       "      <td>-118.25</td>\n",
       "      <td>34.02</td>\n",
       "      <td>50</td>\n",
       "      <td>180</td>\n",
       "      <td>89.0</td>\n",
       "      <td>356</td>\n",
       "      <td>76</td>\n",
       "      <td>2.1944</td>\n",
       "      <td>&lt;1H OCEAN</td>\n",
       "      <td>158300</td>\n",
       "    </tr>\n",
       "    <tr>\n",
       "      <th>1112</th>\n",
       "      <td>-121.59</td>\n",
       "      <td>39.79</td>\n",
       "      <td>20</td>\n",
       "      <td>743</td>\n",
       "      <td>171.0</td>\n",
       "      <td>395</td>\n",
       "      <td>168</td>\n",
       "      <td>1.6250</td>\n",
       "      <td>INLAND</td>\n",
       "      <td>88300</td>\n",
       "    </tr>\n",
       "    <tr>\n",
       "      <th>9325</th>\n",
       "      <td>-122.52</td>\n",
       "      <td>37.96</td>\n",
       "      <td>35</td>\n",
       "      <td>2012</td>\n",
       "      <td>346.0</td>\n",
       "      <td>818</td>\n",
       "      <td>352</td>\n",
       "      <td>5.2818</td>\n",
       "      <td>NEAR BAY</td>\n",
       "      <td>331000</td>\n",
       "    </tr>\n",
       "  </tbody>\n",
       "</table>\n",
       "</div>"
      ],
      "text/plain": [
       "       longitude  latitude  housing_median_age  total_rooms  total_bedrooms  \\\n",
       "6026     -117.74     34.07                  42         2504           553.0   \n",
       "665      -122.16     37.70                  36         2239           391.0   \n",
       "19863    -119.32     36.36                  18         2060           383.0   \n",
       "9102     -117.90     34.53                   8         3484           647.0   \n",
       "16966    -122.31     37.55                  27         3931           933.0   \n",
       "2529     -122.22     39.51                  17         1201           268.0   \n",
       "5232     -118.24     33.94                  42          380           106.0   \n",
       "4877     -118.25     34.02                  50          180            89.0   \n",
       "1112     -121.59     39.79                  20          743           171.0   \n",
       "9325     -122.52     37.96                  35         2012           346.0   \n",
       "\n",
       "       population  households  median_income ocean_proximity  \\\n",
       "6026         1550         509         3.0294          INLAND   \n",
       "665          1203         379         5.0043        NEAR BAY   \n",
       "19863        1348         397         3.4312          INLAND   \n",
       "9102         2169         619         3.9766          INLAND   \n",
       "16966        1877         851         3.9722      NEAR OCEAN   \n",
       "2529          555         277         2.1000          INLAND   \n",
       "5232          411         100         0.9705       <1H OCEAN   \n",
       "4877          356          76         2.1944       <1H OCEAN   \n",
       "1112          395         168         1.6250          INLAND   \n",
       "9325          818         352         5.2818        NEAR BAY   \n",
       "\n",
       "       median_house_value  \n",
       "6026               135700  \n",
       "665                190400  \n",
       "19863               68400  \n",
       "9102               135800  \n",
       "16966              354100  \n",
       "2529                66900  \n",
       "5232                90000  \n",
       "4877               158300  \n",
       "1112                88300  \n",
       "9325               331000  "
      ]
     },
     "execution_count": 9,
     "metadata": {},
     "output_type": "execute_result"
    }
   ],
   "source": [
    "import matplotlib.pyplot as plt\n",
    "from urllib.parse import urljoin\n",
    "import pandas as pd\n",
    "\n",
    "AWS_BASE_URL = 'https://pyreal-data.s3.amazonaws.com/'\n",
    "data_url = urljoin(AWS_BASE_URL, \"usability_study/california.csv\")\n",
    "data = pd.read_csv(data_url)\n",
    "\n",
    "city_url = urljoin(AWS_BASE_URL, \"usability_study/cal_cities_lat_long.csv\")\n",
    "cities = pd.read_csv(city_url)\n",
    "\n",
    "data = data[data[\"median_house_value\"] < 500000]\n",
    "\n",
    "data = data.sample(5000, random_state=100)  # we will work with a truncated dataset to avoid memory crashes\n",
    "\n",
    "X = data.drop(\"median_house_value\", axis=1)\n",
    "y = data[\"median_house_value\"]\n",
    "\n",
    "data.sample(10)"
   ]
  },
  {
   "cell_type": "markdown",
   "metadata": {
    "id": "Yge_u_wO-dpB"
   },
   "source": [
    "We will be working with a pretrained model to predict the median house values for each block. \n",
    "\n",
    "**Run the code below to load in the model.** "
   ]
  },
  {
   "cell_type": "code",
   "execution_count": 10,
   "metadata": {
    "id": "7FIJC51KGu53"
   },
   "outputs": [],
   "source": [
    "import lightgbm\n",
    "import matplotlib.pyplot as plt\n",
    "import numpy as np\n",
    "import requests\n",
    "\n",
    "model_url = urljoin(AWS_BASE_URL, \"usability_study/model.model\")\n",
    "r = requests.get(model_url, allow_redirects=True)\n",
    "open('model.model', 'wb').write(r.content)\n",
    "\n",
    "model = lightgbm.Booster(model_file='model.model')"
   ]
  },
  {
   "cell_type": "markdown",
   "metadata": {
    "id": "BfmXzJH_HgiP"
   },
   "source": [
    "## Custom Transformers Basics\n",
    "\n",
    "Pyreal generates ML explanations using Explainer objects, which take in data Transformers through their `transformer` parameter. These Transformers take in three flags in their initialization, two of which we will use in this tutorial:\n",
    "\n",
    "- Transformers with a `model=True` flag take data from the original feature space (as we loaded in above) to the feature space used by the model.\n",
    "- Transformers with an `interpret=True` flag take data from the original feature space to a feature space more readable or interpretable by humans. \n",
    "\n",
    "For information about the third transformer flag (`algorithm`), please see the [advanced_explanation_generation](pyreal\\tutorials\\advanced_explanation_generation.ipynb) tutorial.\n",
    "\n",
    "The Pyreal `transformer` module has some common transformers available for used, but some use-cases may require you to write your own transformer. This can be done by extending the base `Transformer` class.\n",
    "\n",
    "### Transformer Functions\n",
    "When defining a custom transformer, you will have to consider three types of functions:\n",
    "- `data_transform` (*required*): A single function that transforms the data from space A to B. \n",
    "- `inverse_transform_explanation_XXX` (*optional*): Functions that transform an explanation from space B to A. This type of function only needs to be considered if the transformer is used by the explanation algorithm and leads to the data being more obfuscated/less interpretable (ie, will have the `algorithm` flag set to True and the `interpret` flag set to False)\n",
    "- `transform_explanation_XXX` (*optional*): Functions that transform an explanation from space A to B. This type of function only needs to be considered if the transformer is used to make data and explanations more interpretable than the algorithm-ready state (ie, will have the `algorithm` flag set to False and the `interpret` flag set to True)\n",
    "\n",
    "The `transform_explantion` type functions are written per Explanation output type. For this tutorial, we will consider additive local feature contribution and additive global feature importance explanations. At the end of this tutorial, we will consider some special cases."
   ]
  },
  {
   "cell_type": "markdown",
   "metadata": {
    "id": "ZsXVvpTYaLs7"
   },
   "source": [
    "### Custom Transformer Example 1: Per-Household Averager\n",
    "\n",
    "Let's take a look at one possible custom transformer we can add, which will average the values of certain features per household. We will follow these steps to write the function:\n",
    "\n",
    "1. Define the transformer `__init__()` method, using a `super()` call for the parent `Transformer` class. The function can take optional arguments to configure the transformer. We will take in a list of columns to average.\n",
    "2. Define the `data_transform()` function, which takes an input DataFrame `x` and returns `x` after undergoing the transformation. In this case, we simply divide the selected columns by the households feature.\n",
    "3. Consider which flags we expect to be used with this transformer. In this case, our transformation will be used for the explanation algorithm, but also make the data more interpretable, so our flags are `interpret=True` and `algorithm=True`. Therefore, we do not need to define any explanation transform functions for this use case. \n",
    "\n",
    "**Run the cell below to define the PerHouseholdAverager** \n"
   ]
  },
  {
   "cell_type": "code",
   "execution_count": 11,
   "metadata": {
    "id": "Yg9PZ5HDHD_C"
   },
   "outputs": [],
   "source": [
    "from pyreal.transformers import OneHotEncoder, MultiTypeImputer, Transformer, fit_transformers, run_transformers\n",
    "from pyreal.types.explanations.dataframe import AdditiveFeatureContributionExplanation\n",
    "\n",
    "class PerHouseholdAverager(Transformer):\n",
    "    def __init__(self, columns, **kwargs):\n",
    "        # columns: the columns to average. Must be list of strings (column names)\n",
    "        self.columns = columns\n",
    "        super().__init__(**kwargs)\n",
    "\n",
    "    def data_transform(self, x):\n",
    "        # Transform the data by adding a new column from total_[column] called \n",
    "        #   average_[column]. This feature represents the average value of \n",
    "        #   [column] per household. \n",
    "        for column in self.columns:\n",
    "            name = column.replace(\"total\", \"average\")\n",
    "            x[name] = x[column] / x[\"households\"]\n",
    "        return x"
   ]
  },
  {
   "cell_type": "markdown",
   "metadata": {},
   "source": [
    "### Custom Transformer Example 2: City Converter\n",
    "\n",
    "Now, let's take a look at another custom transformer, this one requiring an explanation transform. This transformer will be used to convert latitude/longitude values into city areas, based on the closest city to the given coordinates. \n",
    "\n",
    "Again, we will follow the following steps:\n",
    "\n",
    "1. Define the transformer `__init__()` method, using a `super()` call for the parent `Transformer` class. The function can take optional arguments to configure the transformer. In this case, we will not take in any parameters.\n",
    "2. Define the `data_transform()` function, which takes an input DataFrame `x` and returns `x` after undergoing the transformation. In this case, we convert long/lat values to nearby cities. \n",
    "3. Consider which flags we expect to be used with this transformer. In this case, our transformation will be used to make the data more interpretable, but will not be fed into the model, so our flags are `interpret=True` and `algorithm=model=False`. Therefore, the `transform_explanation` functions will be called, but not the `inverse_transform_explanation` functions.\n",
    "4. Consider the explanation output types you are interested in. For now, let's consider \n"
   ]
  },
  {
   "cell_type": "markdown",
   "metadata": {
    "id": "uPtavPkfKf91"
   },
   "source": [
    "##  Interpretable Transformers\n",
    "\n",
    "You may prefer the explanations given in a more human-readable format. Here, we provide a few other transformers that may make explanations easier to use. Keep in mind the model will **not** accept data that has had these transformations, and therefore they should be flagged `model=False`. Rather, set `interpret=True` to mark these as transformers that *improve interpretability*\n",
    "\n",
    "Additionally, remember that we want to the final explanation to include the `average_rooms` and `average_bedrooms` features, so the `PerHouseholdAverager` transformer should also be flagged `interpret=True`\n",
    "\n",
    "⭐**Run the cell below to define two more transformers, which scale the units of features to their actual value, and convert lat/long values to predicted cities.** "
   ]
  },
  {
   "cell_type": "code",
   "execution_count": 12,
   "metadata": {
    "id": "L5N5xe0dIuTt"
   },
   "outputs": [],
   "source": [
    "class UnitScaler(Transformer):\n",
    "  def __init__(self, column, scale, **kwargs):\n",
    "    # column: string, column to scale\n",
    "    # scale: value to multiply column by\n",
    "    self.column = column\n",
    "    self.scale = scale\n",
    "    super().__init__(**kwargs)\n",
    "\n",
    "  def data_transform(self, x):\n",
    "    # Scales the data to a more human readable scale\n",
    "    x[self.column] = x[self.column] * self.scale\n",
    "    return x\n",
    "\n",
    "  def transform_explanation(self, explanation):\n",
    "    # This transform will not modify the explanation, so we return it as is\n",
    "    return explanation\n",
    "\n",
    "  def inverse_transform_explanation(self, explanation):\n",
    "    # This transform will not modify the explanation, so we return it as is\n",
    "    return explanation\n",
    "\n",
    "class CityConverter(Transformer):\n",
    "  def __init__(self, **kwargs):\n",
    "    self.cities = cities\n",
    "    super().__init__(**kwargs)\n",
    "\n",
    "  def data_transform(self, x):\n",
    "    # Converts latitude/longitude coordinates to closest city name. Note that \n",
    "    #    we are using a very rough estimate here, assuming constant size. \n",
    "    flag = False\n",
    "    if isinstance(x, pd.Series):\n",
    "      x = x.to_frame().T\n",
    "      flag = True\n",
    "    for index, row in self.cities.iterrows():\n",
    "      lat = row[\"Latitude\"]\n",
    "      lon = row[\"Longitude\"]\n",
    "      x.loc[(x[\"latitude\"] > lat-0.1) & (x[\"latitude\"] < lat+0.1) & (x[\"longitude\"] > lon-0.1) & (x[\"longitude\"] < lon+0.1), \"city\"] = row[\"Name\"]\n",
    "    x = x.drop(\"latitude\", axis=1)\n",
    "    x= x.drop(\"longitude\", axis=1)\n",
    "    if flag:\n",
    "      x = x.squeeze(axis=0)\n",
    "    return x\n",
    "\n",
    "  def transform_explanation_additive_contributions(self, explanation):\n",
    "    # In the case of additive contributions, we can combine the latitude and \n",
    "    #    longitude explanation contributions by adding to get the city \n",
    "    #    contribution\n",
    "    explanation = explanation.get()\n",
    "    explanation[\"city\"] = explanation[\"longitude\"] + explanation[\"latitude\"]\n",
    "    explanation = explanation.drop(\"longitude\", axis=1)\n",
    "    explanation = explanation.drop(\"latitude\", axis=1)\n",
    "    return AdditiveFeatureContributionExplanation(explanation)"
   ]
  },
  {
   "cell_type": "markdown",
   "metadata": {
    "id": "CSth0yZ1A2vW"
   },
   "source": [
    "# Generating Global Explanations\n",
    "\n",
    "You can now start using Pyreal Explainers to investigate the model. Remember to take a look at the links at the top of this page as needed.\n",
    "\n",
    "We will begin by generating a *global* explanation, or an explanation of how the model makes predictions in general.\n",
    "\n",
    "⭐**In the next cell, initialize, fit, and call the produce function on a `GlobalFeatureImportance` Explainer.**\n",
    "\n",
    "⭐**Remember, you will need to begin by initalizing and fitting the required transformers. Revisit the cells above for details on the transformers you will need and their flags. You can use the `fit_transformers` function to quickly fit them.** "
   ]
  },
  {
   "cell_type": "code",
   "execution_count": 13,
   "metadata": {
    "id": "BBwHIp18D50V"
   },
   "outputs": [],
   "source": [
    "from pyreal.explainers import GlobalFeatureImportance\n",
    "from pyreal.transformers import fit_transformers\n",
    "from pyreal.utils import visualize\n",
    "\n",
    "# Step one: Initialize and fit transformers using fit_transformers\n",
    "# ---- Your code here ----\n",
    "\n",
    "# Step two: Initialize and fit the explainer\n",
    "# ---- Your code here ----\n",
    "\n",
    "# Step three: Generate and visualize the explanation\n",
    "# ---- Your code here ----"
   ]
  },
  {
   "cell_type": "markdown",
   "metadata": {
    "id": "p8gOOucyKt5A"
   },
   "source": [
    "⭐**Now, please press the \"next\" button on the Qualtrics survey tab and answer the next set of questions, referencing this tab as needed.** ⭐\n",
    "\n",
    "\n"
   ]
  },
  {
   "cell_type": "markdown",
   "metadata": {
    "id": "tuMCOFODGoUa"
   },
   "source": [
    "# Generating Local Explanations\n",
    "\n",
    "⭐ **Now, please consider the `sample_block` listed below, which refers to a hypothetical block of houses that might exist in California. Run the code block.**\n",
    "\n"
   ]
  },
  {
   "cell_type": "code",
   "execution_count": 14,
   "metadata": {
    "id": "Bultpbt_Ktq_"
   },
   "outputs": [],
   "source": [
    "sample_block = pd.Series({\n",
    "  \"longitude\": -122.23,\n",
    "  \"latitude\": 37.88,\n",
    "  \"housing_median_age\": 16,\n",
    "  \"total_rooms\": 672,\n",
    "  \"total_bedrooms\": 230,\n",
    "  \"population\": 220,\n",
    "  \"households\": 52,\n",
    "  \"median_income\":  5.3252,\n",
    "  \"ocean_proximity\": \"NEAR BAY\" \n",
    "})\n"
   ]
  },
  {
   "cell_type": "markdown",
   "metadata": {
    "id": "KB0VFOR7K63p"
   },
   "source": [
    "We will now generate a *local* explanation, or an explanation of why the model makes the prediction it does for the specific `sample_block` above.\n",
    "\n",
    "⭐**In the next cell, initialize, fit, and call the produce function on a `LocalFeatureContribution` Explainer. Generate an explanation for the prediction of the `sample_block` above.**\n",
    "\n",
    "⭐**You can likely reuse the already-fit transformers from the previous section. If you would like to use any more, remember to fit them before using.**"
   ]
  },
  {
   "cell_type": "code",
   "execution_count": 15,
   "metadata": {
    "id": "_qyjModSK6UQ"
   },
   "outputs": [],
   "source": [
    "from pyreal.explainers import LocalFeatureContribution\n",
    "from pyreal.transformers import fit_transformers\n",
    "from pyreal.utils import visualize\n",
    "\n",
    "# Step one: Initialize and fit the explainer\n",
    "# ---- Your code here ----\n",
    "\n",
    "# Step two: Generate and visualize the explanation\n",
    "# ---- Your code here ----"
   ]
  },
  {
   "cell_type": "markdown",
   "metadata": {
    "id": "RQ55r__NS8kQ"
   },
   "source": [
    "⭐**Now, please press the \"next\" button on the Qualtrics survey tab and answer the next set of questions, referencing this tab as needed.** ⭐\n"
   ]
  },
  {
   "cell_type": "markdown",
   "metadata": {
    "id": "YbdTemKIf6lp"
   },
   "source": [
    "# Downloading This Notebook\n",
    "\n",
    "⭐**Once you have finished answering all questions, save and download this notebook to a location of your choosing using `File` &#8594; `Download` &#8594; `Download .ipynb`, in the upper left toolbar of this page. You will need to upload it shortly to the Qualtrics survey.**\n",
    "\n",
    "⭐**Please return to the Qualtrics survey now and press next, then follow instructions to upload this notebook, and then answer final reflection questions.** "
   ]
  }
 ],
 "metadata": {
  "colab": {
   "collapsed_sections": [],
   "name": "Pyreal Usability Study",
   "private_outputs": true,
   "provenance": []
  },
  "kernelspec": {
   "display_name": "Python 3 (ipykernel)",
   "language": "python",
   "name": "python3"
  },
  "language_info": {
   "codemirror_mode": {
    "name": "ipython",
    "version": 3
   },
   "file_extension": ".py",
   "mimetype": "text/x-python",
   "name": "python",
   "nbconvert_exporter": "python",
   "pygments_lexer": "ipython3",
   "version": "3.8.8"
  }
 },
 "nbformat": 4,
 "nbformat_minor": 1
}
