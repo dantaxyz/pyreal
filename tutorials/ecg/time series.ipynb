{
 "cells": [
  {
   "cell_type": "code",
   "execution_count": 1,
   "id": "29d182e7",
   "metadata": {},
   "outputs": [],
   "source": [
    "import numpy as np\n",
    "from sktime.classification.kernel_based import RocketClassifier\n",
    "from sklearn.metrics import accuracy_score\n",
    "import pandas as pd"
   ]
  },
  {
   "cell_type": "code",
   "execution_count": 2,
   "id": "a0ec76a0",
   "metadata": {},
   "outputs": [
    {
     "name": "stdout",
     "output_type": "stream",
     "text": [
      "(175, 1) (36, 1)\n"
     ]
    }
   ],
   "source": [
    "from sktime.datasets import load_arrow_head  # univariate dataset\n",
    "X_train, y_train = load_arrow_head(split=\"test\", return_X_y=True)\n",
    "X_test, y_test = load_arrow_head(split=\"train\", return_X_y=True)\n",
    "print(X_train.shape, X_test.shape)"
   ]
  },
  {
   "cell_type": "code",
   "execution_count": 3,
   "id": "c603eda7",
   "metadata": {},
   "outputs": [],
   "source": [
    "from sktime.datatypes._panel._convert import (\n",
    "    from_2d_array_to_nested,\n",
    "    from_nested_to_2d_array,\n",
    "    is_nested_dataframe,\n",
    ")\n",
    "\n",
    "x_np = from_nested_to_2d_array(X_train)\n",
    "x = x_np.iloc[:10, :10] # Using first 5 steps for faster training\n",
    "X_train = from_2d_array_to_nested(x)\n"
   ]
  },
  {
   "cell_type": "code",
   "execution_count": 4,
   "id": "e78e87d4",
   "metadata": {},
   "outputs": [],
   "source": [
    "# ECG dataset\n",
    "# from sktime.datasets import load_from_arff_to_dataframe\n",
    "# from IPython.display import display\n",
    "\n",
    "# X_train, y_train = load_from_arff_to_dataframe('./ECG5000/ECG5000_TRAIN.arff')\n",
    "# X_test, y_test = load_from_arff_to_dataframe('./ECG5000/ECG5000_TEST.arff')\n"
   ]
  },
  {
   "cell_type": "code",
   "execution_count": 5,
   "id": "c0335dff",
   "metadata": {},
   "outputs": [
    {
     "data": {
      "text/plain": [
       "0.3333333333333333"
      ]
     },
     "execution_count": 5,
     "metadata": {},
     "output_type": "execute_result"
    }
   ],
   "source": [
    "rocket = RocketClassifier()\n",
    "rocket.fit(X_train, y_train)\n",
    "y_pred = rocket.predict(X_test)\n",
    "accuracy_score(y_test, y_pred)"
   ]
  },
  {
   "cell_type": "code",
   "execution_count": 6,
   "id": "83b1dc72",
   "metadata": {},
   "outputs": [
    {
     "name": "stdout",
     "output_type": "stream",
     "text": [
      "(175, 10)\n"
     ]
    }
   ],
   "source": [
    "\n",
    "X_pyreal = np.empty((X_train.shape[0], X_train.iloc[0][0].shape[0]))\n",
    "print(X_pyreal.shape)\n",
    "for i in range(X_train.shape[0]):\n",
    "    for j in range(X_train.iloc[0][0].shape[0]):\n",
    "        X_pyreal[i,j] = X_train.iloc[i][0][j]\n",
    "\n",
    "X_pyreal = pd.DataFrame(X_pyreal)"
   ]
  },
  {
   "cell_type": "code",
   "execution_count": 7,
   "id": "74ef42c5",
   "metadata": {},
   "outputs": [
    {
     "name": "stdout",
     "output_type": "stream",
     "text": [
      "[0 0 0 0 0 0 0 0 0 0 0 0 0 0 0 0 0 0 0 0 0 0 0 0 0 0 0 0 0 0 0 0 0 0 0 0 0\n",
      " 0 0 0 0 0 0 0 0 0 0 0 0 0 0 0 0 0 0 0 0 0 0 0 0 0 0 0 0 0 0 0 0 1 1 1 1 1\n",
      " 1 1 1 1 1 1 1 1 1 1 1 1 1 1 1 1 1 1 1 1 1 1 1 1 1 1 1 1 1 1 1 1 1 1 1 1 1\n",
      " 1 1 1 1 1 1 1 1 1 1 1 2 2 2 2 2 2 2 2 2 2 2 2 2 2 2 2 2 2 2 2 2 2 2 2 2 2\n",
      " 2 2 2 2 2 2 2 2 2 2 2 2 2 2 2 2 2 2 2 2 2 2 2 2 2 2 2]\n"
     ]
    }
   ],
   "source": [
    "from sktime.datatypes._panel._convert import (\n",
    "    from_2d_array_to_nested\n",
    ")\n",
    "class wrapped_model(object):\n",
    "    def __init__(self, model):\n",
    "        self.model = model\n",
    "\n",
    "    def __call__(self, X):\n",
    "        self.predict(X)\n",
    "\n",
    "    def transform(self, data):\n",
    "        df = from_2d_array_to_nested(data)\n",
    "        return df\n",
    "\n",
    "    def predict(self, X):\n",
    "        X = self.transform(X)\n",
    "        # without astype, the output is in <u1\n",
    "        return self.model.predict(X).astype('int')\n",
    "\n",
    "model = wrapped_model(rocket)\n",
    "print(model.predict(X_pyreal))\n"
   ]
  },
  {
   "cell_type": "code",
   "execution_count": null,
   "id": "f81629ec",
   "metadata": {},
   "outputs": [
    {
     "name": "stderr",
     "output_type": "stream",
     "text": [
      "Using 175 background data samples could cause slower run times. Consider using shap.sample(data, K) or shap.kmeans(data, K) to summarize the background as K samples.\n"
     ]
    },
    {
     "data": {
      "application/vnd.jupyter.widget-view+json": {
       "model_id": "0f1e98cb28b943eaa4aa37b34adeac1f",
       "version_major": 2,
       "version_minor": 0
      },
      "text/plain": [
       "  0%|          | 0/1 [00:00<?, ?it/s]"
      ]
     },
     "metadata": {},
     "output_type": "display_data"
    }
   ],
   "source": [
    "\n",
    "from pyreal.explainers import TimeSeriesImportance\n",
    "\n",
    "# change window_size to aggregate different timesteps\n",
    "explainer = TimeSeriesImportance(model, X_pyreal, window_size=3)\n",
    "explainer.fit()\n",
    "explanation, X_interpret = explainer.produce(X_pyreal.iloc[:1, :])\n",
    "\n",
    "print(explanation)\n"
   ]
  },
  {
   "cell_type": "code",
   "execution_count": null,
   "id": "a91dd446",
   "metadata": {},
   "outputs": [],
   "source": []
  }
 ],
 "metadata": {
  "kernelspec": {
   "display_name": "Python 3 (ipykernel)",
   "language": "python",
   "name": "python3"
  },
  "language_info": {
   "codemirror_mode": {
    "name": "ipython",
    "version": 3
   },
   "file_extension": ".py",
   "mimetype": "text/x-python",
   "name": "python",
   "nbconvert_exporter": "python",
   "pygments_lexer": "ipython3",
   "version": "3.8.8"
  }
 },
 "nbformat": 4,
 "nbformat_minor": 5
}