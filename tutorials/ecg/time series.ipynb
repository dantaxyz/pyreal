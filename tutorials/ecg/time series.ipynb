{
 "cells": [
  {
   "cell_type": "code",
   "execution_count": 1,
   "id": "29d182e7",
   "metadata": {},
   "outputs": [],
   "source": [
    "import numpy as np\n",
    "from sktime.classification.kernel_based import RocketClassifier\n",
    "from sklearn.metrics import accuracy_score\n",
    "import pandas as pd"
   ]
  },
  {
   "cell_type": "code",
   "execution_count": 2,
   "id": "a0ec76a0",
   "metadata": {},
   "outputs": [
    {
     "name": "stdout",
     "output_type": "stream",
     "text": [
      "(175, 1) (36, 1)\n"
     ]
    },
    {
     "data": {
      "text/html": [
       "<div>\n",
       "<style scoped>\n",
       "    .dataframe tbody tr th:only-of-type {\n",
       "        vertical-align: middle;\n",
       "    }\n",
       "\n",
       "    .dataframe tbody tr th {\n",
       "        vertical-align: top;\n",
       "    }\n",
       "\n",
       "    .dataframe thead th {\n",
       "        text-align: right;\n",
       "    }\n",
       "</style>\n",
       "<table border=\"1\" class=\"dataframe\">\n",
       "  <thead>\n",
       "    <tr style=\"text-align: right;\">\n",
       "      <th></th>\n",
       "      <th>dim_0</th>\n",
       "    </tr>\n",
       "  </thead>\n",
       "  <tbody>\n",
       "    <tr>\n",
       "      <th>0</th>\n",
       "      <td>0     -1.907777\n",
       "1     -1.904890\n",
       "2     -1.88856...</td>\n",
       "    </tr>\n",
       "    <tr>\n",
       "      <th>1</th>\n",
       "      <td>0     -1.829855\n",
       "1     -1.808497\n",
       "2     -1.79577...</td>\n",
       "    </tr>\n",
       "    <tr>\n",
       "      <th>2</th>\n",
       "      <td>0     -1.801563\n",
       "1     -1.775734\n",
       "2     -1.72848...</td>\n",
       "    </tr>\n",
       "    <tr>\n",
       "      <th>3</th>\n",
       "      <td>0     -1.885718\n",
       "1     -1.855170\n",
       "2     -1.84519...</td>\n",
       "    </tr>\n",
       "    <tr>\n",
       "      <th>4</th>\n",
       "      <td>0     -1.959051\n",
       "1     -1.974930\n",
       "2     -1.97141...</td>\n",
       "    </tr>\n",
       "    <tr>\n",
       "      <th>...</th>\n",
       "      <td>...</td>\n",
       "    </tr>\n",
       "    <tr>\n",
       "      <th>170</th>\n",
       "      <td>0     -1.625142\n",
       "1     -1.622988\n",
       "2     -1.62606...</td>\n",
       "    </tr>\n",
       "    <tr>\n",
       "      <th>171</th>\n",
       "      <td>0     -1.657757\n",
       "1     -1.664673\n",
       "2     -1.63264...</td>\n",
       "    </tr>\n",
       "    <tr>\n",
       "      <th>172</th>\n",
       "      <td>0     -1.603279\n",
       "1     -1.587365\n",
       "2     -1.57740...</td>\n",
       "    </tr>\n",
       "    <tr>\n",
       "      <th>173</th>\n",
       "      <td>0     -1.739020\n",
       "1     -1.741534\n",
       "2     -1.73286...</td>\n",
       "    </tr>\n",
       "    <tr>\n",
       "      <th>174</th>\n",
       "      <td>0     -1.630727\n",
       "1     -1.629918\n",
       "2     -1.62055...</td>\n",
       "    </tr>\n",
       "  </tbody>\n",
       "</table>\n",
       "<p>175 rows × 1 columns</p>\n",
       "</div>"
      ],
      "text/plain": [
       "                                                 dim_0\n",
       "0    0     -1.907777\n",
       "1     -1.904890\n",
       "2     -1.88856...\n",
       "1    0     -1.829855\n",
       "1     -1.808497\n",
       "2     -1.79577...\n",
       "2    0     -1.801563\n",
       "1     -1.775734\n",
       "2     -1.72848...\n",
       "3    0     -1.885718\n",
       "1     -1.855170\n",
       "2     -1.84519...\n",
       "4    0     -1.959051\n",
       "1     -1.974930\n",
       "2     -1.97141...\n",
       "..                                                 ...\n",
       "170  0     -1.625142\n",
       "1     -1.622988\n",
       "2     -1.62606...\n",
       "171  0     -1.657757\n",
       "1     -1.664673\n",
       "2     -1.63264...\n",
       "172  0     -1.603279\n",
       "1     -1.587365\n",
       "2     -1.57740...\n",
       "173  0     -1.739020\n",
       "1     -1.741534\n",
       "2     -1.73286...\n",
       "174  0     -1.630727\n",
       "1     -1.629918\n",
       "2     -1.62055...\n",
       "\n",
       "[175 rows x 1 columns]"
      ]
     },
     "execution_count": 2,
     "metadata": {},
     "output_type": "execute_result"
    }
   ],
   "source": [
    "from sktime.datasets import load_arrow_head  # univariate dataset\n",
    "X_train, y_train = load_arrow_head(split=\"test\", return_X_y=True)\n",
    "X_test, y_test = load_arrow_head(split=\"train\", return_X_y=True)\n",
    "print(X_train.shape, X_test.shape)\n",
    "\n",
    "X_train"
   ]
  },
  {
   "cell_type": "code",
   "execution_count": 3,
   "id": "2ce885b3",
   "metadata": {},
   "outputs": [],
   "source": [
    "from sktime.datatypes._panel._convert import (\n",
    "    from_2d_array_to_nested,\n",
    "    from_3d_numpy_to_nested,\n",
    "    from_nested_to_2d_array,\n",
    "    from_nested_to_3d_numpy,\n",
    "    is_nested_dataframe,\n",
    ")\n",
    "from pyreal.transformers.time_series_formatter import df_to_numpy3d, numpy3d_to_df\n",
    "\n",
    "X_np = from_nested_to_3d_numpy(X_train)\n",
    "X_orig = numpy3d_to_df(X_np)"
   ]
  },
  {
   "cell_type": "code",
   "execution_count": 4,
   "id": "e78e87d4",
   "metadata": {},
   "outputs": [],
   "source": [
    "# ECG dataset\n",
    "# from sktime.datasets import load_from_arff_to_dataframe\n",
    "# from IPython.display import display\n",
    "\n",
    "# X_train, y_train = load_from_arff_to_dataframe('./ECG5000/ECG5000_TRAIN.arff')\n",
    "# X_test, y_test = load_from_arff_to_dataframe('./ECG5000/ECG5000_TEST.arff')\n"
   ]
  },
  {
   "cell_type": "code",
   "execution_count": 5,
   "id": "c0335dff",
   "metadata": {},
   "outputs": [
    {
     "data": {
      "text/plain": [
       "0.8888888888888888"
      ]
     },
     "execution_count": 5,
     "metadata": {},
     "output_type": "execute_result"
    }
   ],
   "source": [
    "rocket = RocketClassifier()\n",
    "rocket.fit(X_train, y_train)\n",
    "y_pred = rocket.predict(X_test)\n",
    "accuracy_score(y_test, y_pred)"
   ]
  },
  {
   "cell_type": "code",
   "execution_count": 6,
   "id": "ab85a6db",
   "metadata": {},
   "outputs": [],
   "source": [
    "from pyreal.transformers import Transformer\n",
    "\n",
    "class SktimeFormatter(Transformer):\n",
    "    def data_transform(self, X):\n",
    "        array = df_to_numpy3d(X)\n",
    "        return array.squeeze(axis=1)\n",
    "    \n",
    "formatter = SktimeFormatter(algorithm=True)"
   ]
  },
  {
   "cell_type": "code",
   "execution_count": 7,
   "id": "fa85b1af",
   "metadata": {},
   "outputs": [
    {
     "name": "stdout",
     "output_type": "stream",
     "text": [
      "[0 0 0 0 0 0 0 0 0 0 0 0 0 0 0 0 0 0 0 0 0 0 0 0 0 0 0 0 0 0 0 0 0 0 0 0 0\n",
      " 0 0 0 0 0 0 0 0 0 0 0 0 0 0 0 0 0 0 0 0 0 0 0 0 0 0 0 0 0 0 0 0 1 1 1 1 1\n",
      " 1 1 1 1 1 1 1 1 1 1 1 1 1 1 1 1 1 1 1 1 1 1 1 1 1 1 1 1 1 1 1 1 1 1 1 1 1\n",
      " 1 1 1 1 1 1 1 1 1 1 1 2 2 2 2 2 2 2 2 2 2 2 2 2 2 2 2 2 2 2 2 2 2 2 2 2 2\n",
      " 2 2 2 2 2 2 2 2 2 2 2 2 2 2 2 2 2 2 2 2 2 2 2 2 2 2 2]\n"
     ]
    }
   ],
   "source": [
    "from sktime.datatypes._panel._convert import (\n",
    "    from_2d_array_to_nested\n",
    ")\n",
    "class wrapped_model(object):\n",
    "    def __init__(self, model):\n",
    "        self.model = model\n",
    "\n",
    "    def __call__(self, X):\n",
    "        print(X)\n",
    "        self.predict(X)\n",
    "\n",
    "    def predict(self, X):\n",
    "        return self.model.predict(X).astype('int')\n",
    "\n",
    "model = wrapped_model(rocket)\n",
    "print(model.predict(formatter.transform(X_orig)))"
   ]
  },
  {
   "cell_type": "code",
   "execution_count": 8,
   "id": "83b1dc72",
   "metadata": {
    "scrolled": true
   },
   "outputs": [
    {
     "ename": "TypeError",
     "evalue": "X is not of a supported input data type.X must be in a supported mtype format for Panel, found <class 'pandas.core.frame.DataFrame'>Use datatypes.check_is_mtype to check conformance with specifications.",
     "output_type": "error",
     "traceback": [
      "\u001b[1;31m---------------------------------------------------------------------------\u001b[0m",
      "\u001b[1;31mTypeError\u001b[0m                                 Traceback (most recent call last)",
      "Input \u001b[1;32mIn [8]\u001b[0m, in \u001b[0;36m<cell line: 7>\u001b[1;34m()\u001b[0m\n\u001b[0;32m      5\u001b[0m explainer \u001b[38;5;241m=\u001b[39m MaskImportance(model, X_orig, transformers\u001b[38;5;241m=\u001b[39m[formatter], window_size\u001b[38;5;241m=\u001b[39m\u001b[38;5;241m3\u001b[39m)\n\u001b[0;32m      6\u001b[0m explainer\u001b[38;5;241m.\u001b[39mfit()\n\u001b[1;32m----> 7\u001b[0m explanation, X_interpret \u001b[38;5;241m=\u001b[39m \u001b[43mexplainer\u001b[49m\u001b[38;5;241;43m.\u001b[39;49m\u001b[43mproduce\u001b[49m\u001b[43m(\u001b[49m\u001b[43mX_orig\u001b[49m\u001b[38;5;241;43m.\u001b[39;49m\u001b[43miloc\u001b[49m\u001b[43m[\u001b[49m\u001b[43m:\u001b[49m\u001b[38;5;241;43m1\u001b[39;49m\u001b[43m,\u001b[49m\u001b[43m \u001b[49m\u001b[43m:\u001b[49m\u001b[43m]\u001b[49m\u001b[43m)\u001b[49m\n\u001b[0;32m      9\u001b[0m \u001b[38;5;28mprint\u001b[39m(explanation)\n",
      "File \u001b[1;32m~\\Documents\\github\\pyreal\\pyreal\\explainers\\time\\base.py:40\u001b[0m, in \u001b[0;36mTimeSeriesImportanceBase.produce\u001b[1;34m(self, x_orig)\u001b[0m\n\u001b[0;32m     38\u001b[0m     series \u001b[38;5;241m=\u001b[39m \u001b[38;5;28;01mTrue\u001b[39;00m\n\u001b[0;32m     39\u001b[0m     x_orig \u001b[38;5;241m=\u001b[39m x_orig\u001b[38;5;241m.\u001b[39mto_frame()\u001b[38;5;241m.\u001b[39mT\n\u001b[1;32m---> 40\u001b[0m contributions \u001b[38;5;241m=\u001b[39m \u001b[38;5;28;43mself\u001b[39;49m\u001b[38;5;241;43m.\u001b[39;49m\u001b[43mget_contributions\u001b[49m\u001b[43m(\u001b[49m\u001b[43mx_orig\u001b[49m\u001b[43m)\u001b[49m\n\u001b[0;32m     41\u001b[0m contributions, x_interpret \u001b[38;5;241m=\u001b[39m \u001b[38;5;28mself\u001b[39m\u001b[38;5;241m.\u001b[39mtransform_explanation(contributions, x_orig)\n\u001b[0;32m     42\u001b[0m \u001b[38;5;28;01mif\u001b[39;00m series:\n",
      "File \u001b[1;32m~\\Documents\\github\\pyreal\\pyreal\\explainers\\time\\mask_importance.py:78\u001b[0m, in \u001b[0;36mMaskImportance.get_contributions\u001b[1;34m(self, x_orig, max_iterations, k, l1_coeff, l2_coeff)\u001b[0m\n\u001b[0;32m     67\u001b[0m \u001b[38;5;28;01mdef\u001b[39;00m \u001b[38;5;21mget_contributions\u001b[39m(\u001b[38;5;28mself\u001b[39m, x_orig, max_iterations\u001b[38;5;241m=\u001b[39m\u001b[38;5;241m10\u001b[39m, k\u001b[38;5;241m=\u001b[39m\u001b[38;5;241m0.01\u001b[39m, l1_coeff\u001b[38;5;241m=\u001b[39m\u001b[38;5;241m0.01\u001b[39m, l2_coeff\u001b[38;5;241m=\u001b[39m\u001b[38;5;241m0.001\u001b[39m):\n\u001b[0;32m     68\u001b[0m     \u001b[38;5;124;03m\"\"\"\u001b[39;00m\n\u001b[0;32m     69\u001b[0m \n\u001b[0;32m     70\u001b[0m \n\u001b[1;32m   (...)\u001b[0m\n\u001b[0;32m     76\u001b[0m \u001b[38;5;124;03m             The contribution of each feature\u001b[39;00m\n\u001b[0;32m     77\u001b[0m \u001b[38;5;124;03m    \"\"\"\u001b[39;00m\n\u001b[1;32m---> 78\u001b[0m     predicted_class \u001b[38;5;241m=\u001b[39m \u001b[38;5;28;43mself\u001b[39;49m\u001b[38;5;241;43m.\u001b[39;49m\u001b[43mmodel_predict_on_algorithm\u001b[49m\u001b[43m(\u001b[49m\u001b[43mx_orig\u001b[49m\u001b[43m)\u001b[49m\n\u001b[0;32m     79\u001b[0m     sig \u001b[38;5;241m=\u001b[39m K\u001b[38;5;241m.\u001b[39mconstant(x_orig)\n\u001b[0;32m     81\u001b[0m     mask_init \u001b[38;5;241m=\u001b[39m np\u001b[38;5;241m.\u001b[39mones(sig\u001b[38;5;241m.\u001b[39mshape, dtype\u001b[38;5;241m=\u001b[39mnp\u001b[38;5;241m.\u001b[39mfloat32)\n",
      "File \u001b[1;32m~\\Documents\\github\\pyreal\\pyreal\\explainers\\base.py:375\u001b[0m, in \u001b[0;36mExplainerBase.model_predict_on_algorithm\u001b[1;34m(self, x_algorithm)\u001b[0m\n\u001b[0;32m    373\u001b[0m     x_algorithm \u001b[38;5;241m=\u001b[39m x_algorithm\u001b[38;5;241m.\u001b[39mto_frame()\u001b[38;5;241m.\u001b[39mT\n\u001b[0;32m    374\u001b[0m x_model \u001b[38;5;241m=\u001b[39m \u001b[38;5;28mself\u001b[39m\u001b[38;5;241m.\u001b[39mtransform_x_from_algorithm_to_model(x_algorithm)\n\u001b[1;32m--> 375\u001b[0m \u001b[38;5;28;01mreturn\u001b[39;00m \u001b[38;5;28;43mself\u001b[39;49m\u001b[38;5;241;43m.\u001b[39;49m\u001b[43mmodel\u001b[49m\u001b[38;5;241;43m.\u001b[39;49m\u001b[43mpredict\u001b[49m\u001b[43m(\u001b[49m\u001b[43mx_model\u001b[49m\u001b[43m)\u001b[49m\n",
      "Input \u001b[1;32mIn [7]\u001b[0m, in \u001b[0;36mwrapped_model.predict\u001b[1;34m(self, X)\u001b[0m\n\u001b[0;32m     11\u001b[0m \u001b[38;5;28;01mdef\u001b[39;00m \u001b[38;5;21mpredict\u001b[39m(\u001b[38;5;28mself\u001b[39m, X):\n\u001b[1;32m---> 12\u001b[0m     \u001b[38;5;28;01mreturn\u001b[39;00m \u001b[38;5;28;43mself\u001b[39;49m\u001b[38;5;241;43m.\u001b[39;49m\u001b[43mmodel\u001b[49m\u001b[38;5;241;43m.\u001b[39;49m\u001b[43mpredict\u001b[49m\u001b[43m(\u001b[49m\u001b[43mX\u001b[49m\u001b[43m)\u001b[49m\u001b[38;5;241m.\u001b[39mastype(\u001b[38;5;124m'\u001b[39m\u001b[38;5;124mint\u001b[39m\u001b[38;5;124m'\u001b[39m)\n",
      "File \u001b[1;32m~\\AppData\\Local\\pypoetry\\Cache\\virtualenvs\\pyreal-BgWg7FQV-py3.8\\lib\\site-packages\\sktime\\classification\\base.py:200\u001b[0m, in \u001b[0;36mBaseClassifier.predict\u001b[1;34m(self, X)\u001b[0m\n\u001b[0;32m    197\u001b[0m \u001b[38;5;28mself\u001b[39m\u001b[38;5;241m.\u001b[39mcheck_is_fitted()\n\u001b[0;32m    199\u001b[0m \u001b[38;5;66;03m# boilerplate input checks for predict-like methods\u001b[39;00m\n\u001b[1;32m--> 200\u001b[0m X \u001b[38;5;241m=\u001b[39m \u001b[38;5;28;43mself\u001b[39;49m\u001b[38;5;241;43m.\u001b[39;49m\u001b[43m_check_convert_X_for_predict\u001b[49m\u001b[43m(\u001b[49m\u001b[43mX\u001b[49m\u001b[43m)\u001b[49m\n\u001b[0;32m    202\u001b[0m \u001b[38;5;28;01mreturn\u001b[39;00m \u001b[38;5;28mself\u001b[39m\u001b[38;5;241m.\u001b[39m_predict(X)\n",
      "File \u001b[1;32m~\\AppData\\Local\\pypoetry\\Cache\\virtualenvs\\pyreal-BgWg7FQV-py3.8\\lib\\site-packages\\sktime\\classification\\base.py:385\u001b[0m, in \u001b[0;36mBaseClassifier._check_convert_X_for_predict\u001b[1;34m(self, X)\u001b[0m\n\u001b[0;32m    368\u001b[0m \u001b[38;5;124;03m\"\"\"Input checks, capability checks, repeated in all predict/score methods.\u001b[39;00m\n\u001b[0;32m    369\u001b[0m \n\u001b[0;32m    370\u001b[0m \u001b[38;5;124;03mParameters\u001b[39;00m\n\u001b[1;32m   (...)\u001b[0m\n\u001b[0;32m    382\u001b[0m \u001b[38;5;124;03mValueError if the capabilities in self._tags do not handle the data.\u001b[39;00m\n\u001b[0;32m    383\u001b[0m \u001b[38;5;124;03m\"\"\"\u001b[39;00m\n\u001b[0;32m    384\u001b[0m X \u001b[38;5;241m=\u001b[39m _internal_convert(X)\n\u001b[1;32m--> 385\u001b[0m X_metadata \u001b[38;5;241m=\u001b[39m \u001b[43m_check_classifier_input\u001b[49m\u001b[43m(\u001b[49m\u001b[43mX\u001b[49m\u001b[43m)\u001b[49m\n\u001b[0;32m    386\u001b[0m missing \u001b[38;5;241m=\u001b[39m X_metadata[\u001b[38;5;124m\"\u001b[39m\u001b[38;5;124mhas_nans\u001b[39m\u001b[38;5;124m\"\u001b[39m]\n\u001b[0;32m    387\u001b[0m multivariate \u001b[38;5;241m=\u001b[39m \u001b[38;5;129;01mnot\u001b[39;00m X_metadata[\u001b[38;5;124m\"\u001b[39m\u001b[38;5;124mis_univariate\u001b[39m\u001b[38;5;124m\"\u001b[39m]\n",
      "File \u001b[1;32m~\\AppData\\Local\\pypoetry\\Cache\\virtualenvs\\pyreal-BgWg7FQV-py3.8\\lib\\site-packages\\sktime\\classification\\base.py:494\u001b[0m, in \u001b[0;36m_check_classifier_input\u001b[1;34m(X, y, enforce_min_instances)\u001b[0m\n\u001b[0;32m    492\u001b[0m X_valid, _, X_metadata \u001b[38;5;241m=\u001b[39m check_is_scitype(X, scitype\u001b[38;5;241m=\u001b[39m\u001b[38;5;124m\"\u001b[39m\u001b[38;5;124mPanel\u001b[39m\u001b[38;5;124m\"\u001b[39m, return_metadata\u001b[38;5;241m=\u001b[39m\u001b[38;5;28;01mTrue\u001b[39;00m)\n\u001b[0;32m    493\u001b[0m \u001b[38;5;28;01mif\u001b[39;00m \u001b[38;5;129;01mnot\u001b[39;00m X_valid:\n\u001b[1;32m--> 494\u001b[0m     \u001b[38;5;28;01mraise\u001b[39;00m \u001b[38;5;167;01mTypeError\u001b[39;00m(\n\u001b[0;32m    495\u001b[0m         \u001b[38;5;124mf\u001b[39m\u001b[38;5;124m\"\u001b[39m\u001b[38;5;124mX is not of a supported input data type.\u001b[39m\u001b[38;5;124m\"\u001b[39m\n\u001b[0;32m    496\u001b[0m         \u001b[38;5;124mf\u001b[39m\u001b[38;5;124m\"\u001b[39m\u001b[38;5;124mX must be in a supported mtype format for Panel, found \u001b[39m\u001b[38;5;132;01m{\u001b[39;00m\u001b[38;5;28mtype\u001b[39m(X)\u001b[38;5;132;01m}\u001b[39;00m\u001b[38;5;124m\"\u001b[39m\n\u001b[0;32m    497\u001b[0m         \u001b[38;5;124mf\u001b[39m\u001b[38;5;124m\"\u001b[39m\u001b[38;5;124mUse datatypes.check_is_mtype to check conformance with specifications.\u001b[39m\u001b[38;5;124m\"\u001b[39m\n\u001b[0;32m    498\u001b[0m     )\n\u001b[0;32m    499\u001b[0m n_cases \u001b[38;5;241m=\u001b[39m X_metadata[\u001b[38;5;124m\"\u001b[39m\u001b[38;5;124mn_instances\u001b[39m\u001b[38;5;124m\"\u001b[39m]\n\u001b[0;32m    500\u001b[0m \u001b[38;5;28;01mif\u001b[39;00m n_cases \u001b[38;5;241m<\u001b[39m enforce_min_instances:\n",
      "\u001b[1;31mTypeError\u001b[0m: X is not of a supported input data type.X must be in a supported mtype format for Panel, found <class 'pandas.core.frame.DataFrame'>Use datatypes.check_is_mtype to check conformance with specifications."
     ]
    }
   ],
   "source": [
    "from pyreal.explainers.time.mask_importance import MaskImportance\n",
    "\n",
    "# change window_size to aggregate different timesteps\n",
    "\n",
    "explainer = MaskImportance(model, X_orig, transformers=[formatter], window_size=3)\n",
    "explainer.fit()\n",
    "explanation, X_interpret = explainer.produce(X_orig.iloc[:1, :])\n",
    "\n",
    "print(explanation)\n"
   ]
  },
  {
   "cell_type": "code",
   "execution_count": null,
   "id": "74ef42c5",
   "metadata": {},
   "outputs": [],
   "source": [
    "\n"
   ]
  },
  {
   "cell_type": "code",
   "execution_count": null,
   "id": "f81629ec",
   "metadata": {},
   "outputs": [],
   "source": [
    "\n",
    "from pyreal.explainers import TimeSeriesImportance\n",
    "\n",
    "# change window_size to aggregate different timesteps\n",
    "explainer = TimeSeriesImportance(model, X_pyreal, window_size=3)\n",
    "explainer.fit()\n",
    "explanation, X_interpret = explainer.produce(X_pyreal.iloc[:1, :])\n",
    "\n",
    "print(explanation)\n"
   ]
  },
  {
   "cell_type": "code",
   "execution_count": null,
   "id": "a91dd446",
   "metadata": {},
   "outputs": [],
   "source": []
  }
 ],
 "metadata": {
  "kernelspec": {
   "display_name": "Python 3 (ipykernel)",
   "language": "python",
   "name": "python3"
  },
  "language_info": {
   "codemirror_mode": {
    "name": "ipython",
    "version": 3
   },
   "file_extension": ".py",
   "mimetype": "text/x-python",
   "name": "python",
   "nbconvert_exporter": "python",
   "pygments_lexer": "ipython3",
   "version": "3.8.6"
  }
 },
 "nbformat": 4,
 "nbformat_minor": 5
}
