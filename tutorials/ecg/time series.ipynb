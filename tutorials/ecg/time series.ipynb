{
 "cells": [
  {
   "cell_type": "code",
   "execution_count": 1,
   "id": "29d182e7",
   "metadata": {
    "pycharm": {
     "is_executing": true
    }
   },
   "outputs": [],
   "source": [
    "import numpy as np\n",
    "from sktime.classification.kernel_based import RocketClassifier\n",
    "from sklearn.metrics import accuracy_score\n",
    "import pandas as pd"
   ]
  },
  {
   "cell_type": "code",
   "execution_count": 2,
   "id": "a0ec76a0",
   "metadata": {
    "pycharm": {
     "is_executing": true
    }
   },
   "outputs": [
    {
     "name": "stdout",
     "output_type": "stream",
     "text": [
      "(175, 1) (36, 1)\n"
     ]
    }
   ],
   "source": [
    "from sktime.datasets import load_arrow_head  # univariate dataset\n",
    "X_train, y_train = load_arrow_head(split=\"test\", return_X_y=True)\n",
    "X_test, y_test = load_arrow_head(split=\"train\", return_X_y=True)\n",
    "print(X_train.shape, X_test.shape)"
   ]
  },
  {
   "cell_type": "code",
   "execution_count": 3,
   "id": "c603eda7",
   "metadata": {
    "pycharm": {
     "is_executing": true
    }
   },
   "outputs": [],
   "source": [
    "from sktime.datatypes._panel._convert import (\n",
    "    from_2d_array_to_nested,\n",
    "    from_nested_to_2d_array,\n",
    "    is_nested_dataframe,\n",
    ")\n",
    "\n",
    "x_np = from_nested_to_2d_array(X_train)\n",
    "#x = x_np.iloc[:10, :10] # Using first 5 steps for faster training\n",
    "X_train = from_2d_array_to_nested(x_np)\n"
   ]
  },
  {
   "cell_type": "code",
   "execution_count": 4,
   "id": "e78e87d4",
   "metadata": {
    "pycharm": {
     "is_executing": true
    }
   },
   "outputs": [],
   "source": [
    "# ECG dataset\n",
    "# from sktime.datasets import load_from_arff_to_dataframe\n",
    "# from IPython.display import display\n",
    "\n",
    "# X_train, y_train = load_from_arff_to_dataframe('./ECG5000/ECG5000_TRAIN.arff')\n",
    "# X_test, y_test = load_from_arff_to_dataframe('./ECG5000/ECG5000_TEST.arff')\n"
   ]
  },
  {
   "cell_type": "code",
   "execution_count": 5,
   "id": "c0335dff",
   "metadata": {
    "pycharm": {
     "is_executing": true
    }
   },
   "outputs": [
    {
     "name": "stdout",
     "output_type": "stream",
     "text": [
      "                                                     0\n",
      "0    0     -1.907777\n",
      "1     -1.904890\n",
      "2     -1.88856...\n",
      "1    0     -1.829855\n",
      "1     -1.808497\n",
      "2     -1.79577...\n",
      "2    0     -1.801563\n",
      "1     -1.775734\n",
      "2     -1.72848...\n",
      "3    0     -1.885718\n",
      "1     -1.855170\n",
      "2     -1.84519...\n",
      "4    0     -1.959051\n",
      "1     -1.974930\n",
      "2     -1.97141...\n",
      "..                                                 ...\n",
      "170  0     -1.625142\n",
      "1     -1.622988\n",
      "2     -1.62606...\n",
      "171  0     -1.657757\n",
      "1     -1.664673\n",
      "2     -1.63264...\n",
      "172  0     -1.603279\n",
      "1     -1.587365\n",
      "2     -1.57740...\n",
      "173  0     -1.739020\n",
      "1     -1.741534\n",
      "2     -1.73286...\n",
      "174  0     -1.630727\n",
      "1     -1.629918\n",
      "2     -1.62055...\n",
      "\n",
      "[175 rows x 1 columns]\n"
     ]
    },
    {
     "data": {
      "text/plain": [
       "0.8888888888888888"
      ]
     },
     "execution_count": 5,
     "metadata": {},
     "output_type": "execute_result"
    }
   ],
   "source": [
    "rocket = RocketClassifier()\n",
    "rocket.fit(X_train, y_train)\n",
    "y_pred = rocket.predict(X_test)\n",
    "print(X_train)\n",
    "accuracy_score(y_test, y_pred)"
   ]
  },
  {
   "cell_type": "code",
   "execution_count": 6,
   "id": "83b1dc72",
   "metadata": {
    "pycharm": {
     "is_executing": true
    }
   },
   "outputs": [
    {
     "name": "stdout",
     "output_type": "stream",
     "text": [
      "(175, 251)\n"
     ]
    }
   ],
   "source": [
    "\n",
    "X_pyreal = np.empty((X_train.shape[0], X_train.iloc[0][0].shape[0]))\n",
    "print(X_pyreal.shape)\n",
    "for i in range(X_train.shape[0]):\n",
    "    for j in range(X_train.iloc[0][0].shape[0]):\n",
    "        X_pyreal[i,j] = X_train.iloc[i][0][j]\n",
    "\n",
    "X_pyreal = pd.DataFrame(X_pyreal)"
   ]
  },
  {
   "cell_type": "code",
   "execution_count": 7,
   "id": "74ef42c5",
   "metadata": {
    "pycharm": {
     "is_executing": true
    }
   },
   "outputs": [
    {
     "name": "stdout",
     "output_type": "stream",
     "text": [
      "[0 0 0 0 0 0 0 0 0 0 0 0 0 0 0 0 0 0 0 0 0 0 0 0 0 0 0 0 0 0 0 0 0 0 0 0 0\n",
      " 0 0 0 0 0 0 0 0 0 0 0 0 0 0 0 0 0 0 0 0 0 0 0 0 0 0 0 0 0 0 0 0 1 1 1 1 1\n",
      " 1 1 1 1 1 1 1 1 1 1 1 1 1 1 1 1 1 1 1 1 1 1 1 1 1 1 1 1 1 1 1 1 1 1 1 1 1\n",
      " 1 1 1 1 1 1 1 1 1 1 1 2 2 2 2 2 2 2 2 2 2 2 2 2 2 2 2 2 2 2 2 2 2 2 2 2 2\n",
      " 2 2 2 2 2 2 2 2 2 2 2 2 2 2 2 2 2 2 2 2 2 2 2 2 2 2 2]\n",
      "(175, 251)\n"
     ]
    }
   ],
   "source": [
    "from sktime.datatypes._panel._convert import (\n",
    "    from_2d_array_to_nested\n",
    ")\n",
    "class wrapped_model(object):\n",
    "    def __init__(self, model):\n",
    "        self.model = model\n",
    "\n",
    "    def __call__(self, X):\n",
    "        self.predict(X)\n",
    "\n",
    "    def transform(self, data):\n",
    "        df = from_2d_array_to_nested(data)\n",
    "        return df\n",
    "\n",
    "    def predict(self, X):\n",
    "        X = self.transform(X)\n",
    "        # without astype, the output is in <u1\n",
    "        return self.model.predict(X).astype('int')\n",
    "\n",
    "model = wrapped_model(rocket)\n",
    "print(model.predict(X_pyreal))\n",
    "print(X_pyreal.shape)"
   ]
  },
  {
   "cell_type": "code",
   "execution_count": 8,
   "id": "f81629ec",
   "metadata": {
    "pycharm": {
     "is_executing": true
    }
   },
   "outputs": [
    {
     "name": "stdout",
     "output_type": "stream",
     "text": [
      "[[-1.9077772  -1.9048903  -1.8885626  -1.8711639  -1.8316792  -1.8065202\n",
      "  -1.7657007  -1.7158483  -1.6605015  -1.5988998  -1.5654527  -1.4927228\n",
      "  -1.3858783  -1.3388661  -1.2612161  -1.1566997  -1.0565757  -0.97513866\n",
      "  -0.84251433 -0.69873062 -0.56411964 -0.49159144 -0.34189434 -0.15826901\n",
      "  -0.09750549  0.07021113  0.23266624  0.35825193  0.42631328  0.55423639\n",
      "   0.65272451  0.70215947  0.75214697  0.82944934  0.91872593  0.97683541\n",
      "   0.94865604  0.99289622  1.0683703   1.1135463   1.1798073   1.2224954\n",
      "   1.2835942   1.3247395   1.4298022   1.5080467   1.5154345   1.5043078\n",
      "   1.5451598   1.5626423   1.5626423   1.5802536   1.5595071   1.5177704\n",
      "   1.5177704   1.4370504   1.4135179   1.3492389   1.3451166   1.318002\n",
      "   1.288404    1.2635989   1.1879479   1.0860716   1.044352    1.0133494\n",
      "   0.94901456  0.89966962  0.84737575  0.76695992  0.6976414   0.61879007\n",
      "   0.55337344  0.44777685  0.36540387  0.27987398  0.25740933  0.17573633\n",
      "   0.18829257  0.20011934  0.19631677  0.16494945  0.21649367  0.22959314\n",
      "   0.2054119   0.04530042 -0.05802084 -0.10869591 -0.24310512 -0.30684861\n",
      "  -0.40715886 -0.4644923  -0.47898863 -0.51314968 -0.54461013 -0.57023479\n",
      "  -0.61985445 -0.66734778 -0.69033392 -0.71400298 -0.71324247 -0.69025632\n",
      "  -0.68847144 -0.70514067 -0.70017404 -0.6961697  -0.69435378 -0.69028736\n",
      "  -0.66169824 -0.63394724 -0.60523396 -0.5973184  -0.58879754 -0.58429654\n",
      "  -0.58223229 -0.56525265 -0.51661079 -0.4989172  -0.49623212 -0.50434945\n",
      "  -0.50714317 -0.45479187 -0.44277885 -0.38547645 -0.38806841 -0.38993089\n",
      "  -0.44942171 -0.463887   -0.50582391 -0.58757141 -0.62572127 -0.58926316\n",
      "  -0.57439434 -0.58982191 -0.57180238 -0.58940285 -0.60299898 -0.64533943\n",
      "  -0.68275983 -0.6862675  -0.69267755 -0.74681373 -0.75004203 -0.77440952\n",
      "  -0.7761168  -0.77728085 -0.80098095 -0.82241503 -0.82095609 -0.80327802\n",
      "  -0.80380572 -0.74290251 -0.72128219 -0.67641186 -0.6732146  -0.66638549\n",
      "  -0.59249147 -0.56615285 -0.51159761 -0.47448763 -0.38761831 -0.32817405\n",
      "  -0.2229903  -0.18200015 -0.04004788  0.015361    0.11748717  0.13081944\n",
      "   0.11955142  0.13032278  0.11920996  0.12766874  0.16879858  0.23280592\n",
      "   0.2585113   0.38336597  0.42538049  0.55157615  0.6152141   0.69030166\n",
      "   0.72867503  0.80347701  0.85721121  0.89215295  0.98531436  1.0374484\n",
      "   1.097574    1.1126632   1.1908875   1.2834374   1.3135165   1.3366222\n",
      "   1.3845314   1.4467912   1.4484348   1.469931    1.5103251   1.4927138\n",
      "   1.5128209   1.4953399   1.5328612   1.5528254   1.5353429   1.4745266\n",
      "   1.4265258   1.4047363   1.3695121   1.2987579   1.242112    1.181437\n",
      "   1.1167855   1.0496492   1.0178706   0.98850542  0.98340377  0.93160966\n",
      "   0.9506939   0.84489864  0.75214697  0.67007975  0.6536899   0.53557431\n",
      "   0.38958356  0.2323403   0.15922231  0.02503039 -0.11581991 -0.27860095\n",
      "  -0.34409828 -0.5033406  -0.65966503 -0.73503352 -0.86061146 -0.97593022\n",
      "  -1.0982954  -1.1553029  -1.2597572  -1.3568391  -1.4669429  -1.5283117\n",
      "  -1.605046   -1.6518564  -1.681532   -1.7393932  -1.7678426  -1.794771\n",
      "  -1.815367   -1.8536876  -1.9062717  -1.9241205  -1.9250983 ]]\n",
      "['0']\n"
     ]
    },
    {
     "name": "stderr",
     "output_type": "stream",
     "text": [
      "invalid value encountered in true_divide\n"
     ]
    },
    {
     "ename": "ValueError",
     "evalue": "not enough values to unpack (expected 2, got 1)",
     "output_type": "error",
     "traceback": [
      "\u001B[1;31m---------------------------------------------------------------------------\u001B[0m",
      "\u001B[1;31mValueError\u001B[0m                                Traceback (most recent call last)",
      "Input \u001B[1;32mIn [8]\u001B[0m, in \u001B[0;36m<cell line: 6>\u001B[1;34m()\u001B[0m\n\u001B[0;32m      4\u001B[0m explainer \u001B[38;5;241m=\u001B[39m OcclusionSaliency(rocket, X_pyreal, window_size\u001B[38;5;241m=\u001B[39m\u001B[38;5;241m3\u001B[39m, classes\u001B[38;5;241m=\u001B[39m[\u001B[38;5;124m'\u001B[39m\u001B[38;5;124m0\u001B[39m\u001B[38;5;124m'\u001B[39m, \u001B[38;5;124m'\u001B[39m\u001B[38;5;124m1\u001B[39m\u001B[38;5;124m'\u001B[39m, \u001B[38;5;124m'\u001B[39m\u001B[38;5;124m2\u001B[39m\u001B[38;5;124m'\u001B[39m])\n\u001B[0;32m      5\u001B[0m explainer\u001B[38;5;241m.\u001B[39mfit()\n\u001B[1;32m----> 6\u001B[0m explanation, X_interpret \u001B[38;5;241m=\u001B[39m explainer\u001B[38;5;241m.\u001B[39mproduce(X_pyreal\u001B[38;5;241m.\u001B[39miloc[:\u001B[38;5;241m1\u001B[39m, :])\n\u001B[0;32m      8\u001B[0m \u001B[38;5;28mprint\u001B[39m(explanation)\n",
      "\u001B[1;31mValueError\u001B[0m: not enough values to unpack (expected 2, got 1)"
     ]
    }
   ],
   "source": [
    "from pyreal.explainers.time.occlusion_importance import OcclusionSaliency\n",
    "\n",
    "# change window_size to aggregate different timesteps\n",
    "explainer = OcclusionSaliency(rocket, X_pyreal, window_size=3, classes=['0', '1', '2'])\n",
    "explainer.fit()\n",
    "explanation = explainer.produce(X_pyreal.iloc[:1, :])\n",
    "\n",
    "print(explanation)\n"
   ]
  },
  {
   "cell_type": "code",
   "execution_count": null,
   "id": "a91dd446",
   "metadata": {
    "pycharm": {
     "is_executing": true
    }
   },
   "outputs": [],
   "source": []
  }
 ],
 "metadata": {
  "kernelspec": {
   "display_name": "Python 3 (ipykernel)",
   "language": "python",
   "name": "python3"
  },
  "language_info": {
   "codemirror_mode": {
    "name": "ipython",
    "version": 3
   },
   "file_extension": ".py",
   "mimetype": "text/x-python",
   "name": "python",
   "nbconvert_exporter": "python",
   "pygments_lexer": "ipython3",
   "version": "3.8.8"
  }
 },
 "nbformat": 4,
 "nbformat_minor": 5
}
