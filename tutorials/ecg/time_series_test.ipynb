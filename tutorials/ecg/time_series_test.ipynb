{
 "cells": [
  {
   "cell_type": "code",
   "execution_count": 1,
   "metadata": {
    "collapsed": true
   },
   "outputs": [],
   "source": [
    "from sktime.datasets import load_arrow_head  # univariate dataset\n",
    "X_train_orig, y_train_orig = load_arrow_head(split=\"test\", return_X_y=True)\n",
    "X_test_orig, y_test_orig = load_arrow_head(split=\"train\", return_X_y=True)"
   ]
  },
  {
   "cell_type": "code",
   "execution_count": 2,
   "outputs": [
    {
     "data": {
      "text/plain": "                                                 dim_0\n0    0     -1.907777\n1     -1.904890\n2     -1.88856...\n1    0     -1.829855\n1     -1.808497\n2     -1.79577...\n2    0     -1.801563\n1     -1.775734\n2     -1.72848...\n3    0     -1.885718\n1     -1.855170\n2     -1.84519...\n4    0     -1.959051\n1     -1.974930\n2     -1.97141...\n..                                                 ...\n170  0     -1.625142\n1     -1.622988\n2     -1.62606...\n171  0     -1.657757\n1     -1.664673\n2     -1.63264...\n172  0     -1.603279\n1     -1.587365\n2     -1.57740...\n173  0     -1.739020\n1     -1.741534\n2     -1.73286...\n174  0     -1.630727\n1     -1.629918\n2     -1.62055...\n\n[175 rows x 1 columns]",
      "text/html": "<div>\n<style scoped>\n    .dataframe tbody tr th:only-of-type {\n        vertical-align: middle;\n    }\n\n    .dataframe tbody tr th {\n        vertical-align: top;\n    }\n\n    .dataframe thead th {\n        text-align: right;\n    }\n</style>\n<table border=\"1\" class=\"dataframe\">\n  <thead>\n    <tr style=\"text-align: right;\">\n      <th></th>\n      <th>dim_0</th>\n    </tr>\n  </thead>\n  <tbody>\n    <tr>\n      <th>0</th>\n      <td>0     -1.907777\n1     -1.904890\n2     -1.88856...</td>\n    </tr>\n    <tr>\n      <th>1</th>\n      <td>0     -1.829855\n1     -1.808497\n2     -1.79577...</td>\n    </tr>\n    <tr>\n      <th>2</th>\n      <td>0     -1.801563\n1     -1.775734\n2     -1.72848...</td>\n    </tr>\n    <tr>\n      <th>3</th>\n      <td>0     -1.885718\n1     -1.855170\n2     -1.84519...</td>\n    </tr>\n    <tr>\n      <th>4</th>\n      <td>0     -1.959051\n1     -1.974930\n2     -1.97141...</td>\n    </tr>\n    <tr>\n      <th>...</th>\n      <td>...</td>\n    </tr>\n    <tr>\n      <th>170</th>\n      <td>0     -1.625142\n1     -1.622988\n2     -1.62606...</td>\n    </tr>\n    <tr>\n      <th>171</th>\n      <td>0     -1.657757\n1     -1.664673\n2     -1.63264...</td>\n    </tr>\n    <tr>\n      <th>172</th>\n      <td>0     -1.603279\n1     -1.587365\n2     -1.57740...</td>\n    </tr>\n    <tr>\n      <th>173</th>\n      <td>0     -1.739020\n1     -1.741534\n2     -1.73286...</td>\n    </tr>\n    <tr>\n      <th>174</th>\n      <td>0     -1.630727\n1     -1.629918\n2     -1.62055...</td>\n    </tr>\n  </tbody>\n</table>\n<p>175 rows × 1 columns</p>\n</div>"
     },
     "execution_count": 2,
     "metadata": {},
     "output_type": "execute_result"
    }
   ],
   "source": [
    "X_train_orig"
   ],
   "metadata": {
    "collapsed": false,
    "pycharm": {
     "name": "#%%\n"
    }
   }
  },
  {
   "cell_type": "code",
   "execution_count": 3,
   "outputs": [
    {
     "data": {
      "text/plain": "0.8611111111111112"
     },
     "execution_count": 3,
     "metadata": {},
     "output_type": "execute_result"
    }
   ],
   "source": [
    "from sktime.classification.shapelet_based import ShapeletTransformClassifier\n",
    "\n",
    "model = ShapeletTransformClassifier()\n",
    "model.fit(X_train_orig, y_train_orig)\n",
    "\n",
    "model.score(X_test_orig, y_test_orig)"
   ],
   "metadata": {
    "collapsed": false,
    "pycharm": {
     "name": "#%%\n"
    }
   }
  },
  {
   "cell_type": "code",
   "execution_count": 4,
   "outputs": [
    {
     "data": {
      "text/plain": "array([1., 0., 0.])"
     },
     "execution_count": 4,
     "metadata": {},
     "output_type": "execute_result"
    }
   ],
   "source": [
    "X_train_orig.iloc[0][0]\n",
    "\n",
    "model.predict_proba(X_train_orig.iloc[0:1, :]).reshape(-1)"
   ],
   "metadata": {
    "collapsed": false,
    "pycharm": {
     "name": "#%%\n"
    }
   }
  },
  {
   "cell_type": "code",
   "execution_count": null,
   "outputs": [
    {
     "name": "stdout",
     "output_type": "stream",
     "text": [
      "251\n"
     ]
    }
   ],
   "source": [
    "from pyreal.explainers.time.occlusion_importance import OcclusionImportance\n",
    "\n",
    "explainer = OcclusionImportance(model, X_train_orig, window_size=3, classes=['0', '1', '2'])\n",
    "explainer.fit()\n",
    "explanation = explainer.produce(X_train_orig.iloc[0][0])"
   ],
   "metadata": {
    "collapsed": false,
    "pycharm": {
     "name": "#%%\n",
     "is_executing": true
    }
   }
  },
  {
   "cell_type": "code",
   "execution_count": null,
   "outputs": [],
   "source": [],
   "metadata": {
    "collapsed": false,
    "pycharm": {
     "name": "#%%\n",
     "is_executing": true
    }
   }
  }
 ],
 "metadata": {
  "kernelspec": {
   "display_name": "Python 3",
   "language": "python",
   "name": "python3"
  },
  "language_info": {
   "codemirror_mode": {
    "name": "ipython",
    "version": 2
   },
   "file_extension": ".py",
   "mimetype": "text/x-python",
   "name": "python",
   "nbconvert_exporter": "python",
   "pygments_lexer": "ipython2",
   "version": "2.7.6"
  }
 },
 "nbformat": 4,
 "nbformat_minor": 0
}