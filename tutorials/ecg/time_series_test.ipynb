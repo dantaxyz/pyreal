{
 "cells": [
  {
   "cell_type": "markdown",
   "metadata": {},
   "source": [
    "Things to do:\n",
    "1. The get_contibution methods currently use a mix of predict_proba and predict. This should be fixed - expect probs, and calculate from there.\n",
    "2. Compare the runtime of get_contributions and get_contributions_slow. Check on long signal windows. If the fast version isn't faster, use the slow version (its more user friendly)\n",
    "3. Try this tutorial script with a multivariate dataset\n",
    "4. Try this tutorial with unequal lengths (like japanese vowels)\n",
    "\n",
    "Multivariate options:\n",
    "https://www.sktime.org/en/stable/api_reference/auto_generated/sktime.datasets.load_basic_motions.html#sktime.datasets.load_basic_motions\n",
    "https://www.sktime.org/en/stable/api_reference/auto_generated/sktime.datasets.load_japanese_vowels.html#sktime.datasets.load_japanese_vowels\n",
    "\n",
    "\n",
    "\n",
    "fast run - 796"
   ]
  },
  {
   "cell_type": "code",
   "execution_count": 1,
   "metadata": {
    "pycharm": {
     "is_executing": true
    }
   },
   "outputs": [],
   "source": [
    "from sktime.datasets import load_arrow_head, load_japanese_vowels  # univariate dataset, multivariate variable length\n",
    "X_train_orig, y_train_orig = load_arrow_head(split=\"train\", return_X_y=True)\n",
    "X_test_orig, y_test_orig = load_arrow_head(split=\"test\", return_X_y=True)\n",
    "\n",
    "X_train_multi, y_train_multi = load_japanese_vowels(split=\"train\", return_X_y=True)\n",
    "X_test_multi, y_test_multi = load_japanese_vowels(split=\"test\", return_X_y=True)"
   ]
  },
  {
   "cell_type": "code",
   "execution_count": 2,
   "metadata": {
    "pycharm": {
     "name": "#%%\n"
    }
   },
   "outputs": [
    {
     "data": {
      "text/html": [
       "<div>\n",
       "<style scoped>\n",
       "    .dataframe tbody tr th:only-of-type {\n",
       "        vertical-align: middle;\n",
       "    }\n",
       "\n",
       "    .dataframe tbody tr th {\n",
       "        vertical-align: top;\n",
       "    }\n",
       "\n",
       "    .dataframe thead th {\n",
       "        text-align: right;\n",
       "    }\n",
       "</style>\n",
       "<table border=\"1\" class=\"dataframe\">\n",
       "  <thead>\n",
       "    <tr style=\"text-align: right;\">\n",
       "      <th></th>\n",
       "      <th>dim_0</th>\n",
       "    </tr>\n",
       "  </thead>\n",
       "  <tbody>\n",
       "    <tr>\n",
       "      <th>0</th>\n",
       "      <td>0     -1.907777\n",
       "1     -1.904890\n",
       "2     -1.88856...</td>\n",
       "    </tr>\n",
       "    <tr>\n",
       "      <th>1</th>\n",
       "      <td>0     -1.829855\n",
       "1     -1.808497\n",
       "2     -1.79577...</td>\n",
       "    </tr>\n",
       "    <tr>\n",
       "      <th>2</th>\n",
       "      <td>0     -1.801563\n",
       "1     -1.775734\n",
       "2     -1.72848...</td>\n",
       "    </tr>\n",
       "    <tr>\n",
       "      <th>3</th>\n",
       "      <td>0     -1.885718\n",
       "1     -1.855170\n",
       "2     -1.84519...</td>\n",
       "    </tr>\n",
       "    <tr>\n",
       "      <th>4</th>\n",
       "      <td>0     -1.959051\n",
       "1     -1.974930\n",
       "2     -1.97141...</td>\n",
       "    </tr>\n",
       "    <tr>\n",
       "      <th>...</th>\n",
       "      <td>...</td>\n",
       "    </tr>\n",
       "    <tr>\n",
       "      <th>170</th>\n",
       "      <td>0     -1.625142\n",
       "1     -1.622988\n",
       "2     -1.62606...</td>\n",
       "    </tr>\n",
       "    <tr>\n",
       "      <th>171</th>\n",
       "      <td>0     -1.657757\n",
       "1     -1.664673\n",
       "2     -1.63264...</td>\n",
       "    </tr>\n",
       "    <tr>\n",
       "      <th>172</th>\n",
       "      <td>0     -1.603279\n",
       "1     -1.587365\n",
       "2     -1.57740...</td>\n",
       "    </tr>\n",
       "    <tr>\n",
       "      <th>173</th>\n",
       "      <td>0     -1.739020\n",
       "1     -1.741534\n",
       "2     -1.73286...</td>\n",
       "    </tr>\n",
       "    <tr>\n",
       "      <th>174</th>\n",
       "      <td>0     -1.630727\n",
       "1     -1.629918\n",
       "2     -1.62055...</td>\n",
       "    </tr>\n",
       "  </tbody>\n",
       "</table>\n",
       "<p>175 rows × 1 columns</p>\n",
       "</div>"
      ],
      "text/plain": [
       "                                                 dim_0\n",
       "0    0     -1.907777\n",
       "1     -1.904890\n",
       "2     -1.88856...\n",
       "1    0     -1.829855\n",
       "1     -1.808497\n",
       "2     -1.79577...\n",
       "2    0     -1.801563\n",
       "1     -1.775734\n",
       "2     -1.72848...\n",
       "3    0     -1.885718\n",
       "1     -1.855170\n",
       "2     -1.84519...\n",
       "4    0     -1.959051\n",
       "1     -1.974930\n",
       "2     -1.97141...\n",
       "..                                                 ...\n",
       "170  0     -1.625142\n",
       "1     -1.622988\n",
       "2     -1.62606...\n",
       "171  0     -1.657757\n",
       "1     -1.664673\n",
       "2     -1.63264...\n",
       "172  0     -1.603279\n",
       "1     -1.587365\n",
       "2     -1.57740...\n",
       "173  0     -1.739020\n",
       "1     -1.741534\n",
       "2     -1.73286...\n",
       "174  0     -1.630727\n",
       "1     -1.629918\n",
       "2     -1.62055...\n",
       "\n",
       "[175 rows x 1 columns]"
      ]
     },
     "execution_count": 2,
     "metadata": {},
     "output_type": "execute_result"
    }
   ],
   "source": [
    "X_train_orig"
   ]
  },
  {
   "cell_type": "code",
   "execution_count": 3,
   "metadata": {
    "pycharm": {
     "name": "#%%\n"
    }
   },
   "outputs": [
    {
     "data": {
      "text/plain": [
       "0.8888888888888888"
      ]
     },
     "execution_count": 3,
     "metadata": {},
     "output_type": "execute_result"
    }
   ],
   "source": [
    "from sktime.classification.shapelet_based import ShapeletTransformClassifier\n",
    "\n",
    "model = ShapeletTransformClassifier()\n",
    "model.fit(X_train_orig, y_train_orig)\n",
    "\n",
    "model.score(X_test_orig, y_test_orig)"
   ]
  },
  {
   "cell_type": "code",
   "execution_count": 5,
   "metadata": {
    "pycharm": {
     "name": "#%%\n"
    }
   },
   "outputs": [
    {
     "name": "stdout",
     "output_type": "stream",
     "text": [
      "running fast\n",
      "total time:  796.0441782474518\n"
     ]
    }
   ],
   "source": [
    "import importlib\n",
    "import pyreal.explainers.time.occlusion_importance as oi\n",
    "importlib.reload(oi)\n",
    "import time\n",
    "\n",
    "transformers = []\n",
    "\n",
    "explainer = oi.OcclusionImportance(model, X_train_orig, window_size=3, classes=['0', '1', '2'])\n",
    "explainer.fit()\n",
    "start = time.time()\n",
    "explanation1 = explainer.produce(X_train_orig.iloc[0][0])\n",
    "#explanation2 = explainer.produce(X_train_orig.iloc[1][0])\n",
    "print(\"total time: \", time.time() - start)"
   ]
  },
  {
   "cell_type": "code",
   "execution_count": null,
   "metadata": {
    "pycharm": {
     "is_executing": true,
     "name": "#%%\n"
    }
   },
   "outputs": [
    {
     "name": "stdout",
     "output_type": "stream",
     "text": [
      "running slow\n"
     ]
    }
   ],
   "source": [
    "import importlib\n",
    "import pyreal.explainers.time.occlusion_importance as oi\n",
    "importlib.reload(oi)\n",
    "import time\n",
    "\n",
    "transformers = []\n",
    "\n",
    "explainer = oi.OcclusionImportance(model, X_train_orig, window_size=3, classes=['0', '1', '2'])\n",
    "explainer.fit()\n",
    "start = time.time()\n",
    "explanation1 = explainer.produce(X_train_orig.iloc[0][0])\n",
    "#explanation2 = explainer.produce(X_train_orig.iloc[1][0])\n",
    "print(\"total time: \", time.time() - start)"
   ]
  },
  {
   "cell_type": "code",
   "execution_count": null,
   "metadata": {
    "pycharm": {
     "name": "#%%\n"
    }
   },
   "outputs": [],
   "source": [
    "import pyreal.utils.visualize as vis\n",
    "importlib.reload(vis)\n",
    "\n",
    "vis.plot_timeseries_saliency(X_train_orig.iloc[0][0], explanation1[0][0:245])\n",
    "vis.plot_timeseries_saliency(X_train_orig.iloc[0][0], explanation2[0][0:245])\n"
   ]
  },
  {
   "cell_type": "code",
   "execution_count": null,
   "metadata": {
    "pycharm": {
     "name": "#%%\n"
    }
   },
   "outputs": [],
   "source": []
  }
 ],
 "metadata": {
  "kernelspec": {
   "display_name": "Python 3 (ipykernel)",
   "language": "python",
   "name": "python3"
  },
  "language_info": {
   "codemirror_mode": {
    "name": "ipython",
    "version": 3
   },
   "file_extension": ".py",
   "mimetype": "text/x-python",
   "name": "python",
   "nbconvert_exporter": "python",
   "pygments_lexer": "ipython3",
   "version": "3.8.8"
  }
 },
 "nbformat": 4,
 "nbformat_minor": 1
}