{
 "cells": [
  {
   "cell_type": "markdown",
   "metadata": {},
   "source": [
    "Setup (fitting the model requires data transformers)"
   ]
  },
  {
   "cell_type": "code",
   "execution_count": 1,
   "metadata": {},
   "outputs": [
    {
     "name": "stdout",
     "output_type": "stream",
     "text": [
      "Model r-squared: 0.9998\n"
     ]
    }
   ],
   "source": [
    "import time\n",
    "from sklearn.linear_model import LinearRegression\n",
    "import numpy as np\n",
    "import pandas as pd\n",
    "from pyreal.transformers import Transformer, OneHotEncoder, Mappings, MappingsOneHotDecoder, FeatureSelectTransformer\n",
    "from pyreal.transformers import fit_transformers\n",
    "\n",
    "data_orig = pd.read_csv(\"trinket_data.csv\", index_col=0)\n",
    "y_orig = data_orig[\"price\"]\n",
    "X_orig = data_orig.drop(\"price\", axis=1)\n",
    "\n",
    "def hex_to_color_name(h):\n",
    "    h = h.lstrip('#')\n",
    "    rgb = tuple(int(h[i:i+2], 16) for i in (0, 2, 4))\n",
    "    return [\"red\", \"green\", \"blue\"][rgb.index(max(rgb))]\n",
    "\n",
    "\n",
    "class ColorTransformer(Transformer):\n",
    "    def __init__(self, columns, **kwargs):\n",
    "        self.columns = columns\n",
    "        super().__init__(**kwargs)\n",
    "\n",
    "    def fit(self, x):\n",
    "        return self\n",
    "\n",
    "    def data_transform(self, x):\n",
    "        for col in self.columns:\n",
    "            x[col] = x[col].apply(hex_to_color_name)\n",
    "        return x\n",
    "\n",
    "\n",
    "class MaxAggregator(Transformer):\n",
    "    def __init__(self, columns, **kwargs):\n",
    "        self.columns = columns\n",
    "        super().__init__(**kwargs)\n",
    "\n",
    "    def data_transform(self, x):\n",
    "        column_name = \"MAX(\"\n",
    "        column_name += \",\".join(self.columns)\n",
    "        column_name += \")\"\n",
    "        x[column_name] = x[self.columns].max(axis=1)\n",
    "        x = x.drop(self.columns, axis=1)\n",
    "        return x\n",
    "\n",
    "colorTransformer = ColorTransformer(columns=[\"color\"], interpret=True)\n",
    "colorEncoder = OneHotEncoder(columns=[\"color\"])\n",
    "maxAggregator = MaxAggregator(columns=[\"width\", \"height\"], interpret=True)\n",
    "featureSelect = FeatureSelectTransformer(['age', 'type_bar', 'type_foo', 'type_foobar',\n",
    "                                          'color_blue', 'color_green', 'color_red',\n",
    "                                          'MAX(width,height)'])\n",
    "mappings = Mappings.generate_mappings(\n",
    "    categorical_to_one_hot={\"type\": {\"type_foo\": \"foo\", \"type_bar\": \"bar\", \"type_foobar\": \"foobar\"}})\n",
    "\n",
    "model_transformers = [maxAggregator, colorTransformer, colorEncoder, featureSelect]\n",
    "X_model = fit_transformers(model_transformers, X_orig)\n",
    "\n",
    "model = LinearRegression()\n",
    "model.fit(X_model[0:400], y_orig[0:400])\n",
    "print(\"Model r-squared: %.4f\" % model.score(X_model[401:], y_orig[401:]))\n"
   ]
  },
  {
   "cell_type": "markdown",
   "metadata": {},
   "source": [
    "Local Feature Contributions - Pyreal"
   ]
  },
  {
   "cell_type": "code",
   "execution_count": 2,
   "metadata": {},
   "outputs": [
    {
     "name": "stdout",
     "output_type": "stream",
     "text": [
      "(          age  MAX(width,height)      color        type\n",
      "0  -15.656246           8.279705 -20.622256   -8.060027\n",
      "1    8.368684          39.201880 -20.622256   92.056552\n",
      "2   23.584472          13.853105  -0.876739   -8.060027\n",
      "3  -22.863724          37.544861  19.097510 -108.013055\n",
      "4  -13.253753         -20.753272  -0.876739   92.056552\n",
      "..        ...                ...        ...         ...\n",
      "95  28.389458          50.433364 -20.622256   92.056552\n",
      "96   9.169515         -32.254449  -0.876739 -108.013055\n",
      "97 -27.668710          35.592235 -20.622256   92.056552\n",
      "98  -2.842950         -78.169232  19.097510   -8.060027\n",
      "99  17.978655           3.187405  19.097510   -8.060027\n",
      "\n",
      "[100 rows x 4 columns],     color  age    type  MAX(width,height)\n",
      "0     red   41     bar          68.784567\n",
      "1     red   71  foobar          84.261218\n",
      "2   green   90     bar          71.574072\n",
      "3    blue   32     foo          83.431874\n",
      "4   green   44  foobar          54.253466\n",
      "..    ...  ...     ...                ...\n",
      "95    red   96  foobar          89.882613\n",
      "96  green   72     foo          48.497089\n",
      "97    red   26  foobar          82.454579\n",
      "98   blue   57     bar          25.516588\n",
      "99   blue   83     bar          66.235854\n",
      "\n",
      "[100 rows x 4 columns])\n",
      "runtime: 0.05146217346191406\n"
     ]
    }
   ],
   "source": [
    "from pyreal.transformers import Transformer, OneHotEncoder, Mappings, MappingsOneHotDecoder, FeatureSelectTransformer\n",
    "from pyreal.transformers import fit_transformers\n",
    "from pyreal.explainers import LocalFeatureContribution\n",
    "\n",
    "start = time.time()\n",
    "class ColorTransformer(Transformer): #****\n",
    "    def __init__(self, columns, **kwargs): #****\n",
    "        self.columns = columns\n",
    "        super().__init__(**kwargs)\n",
    "    def fit(self, x): #****\n",
    "        return self #****\n",
    "    def data_transform(self, x): #****\n",
    "        for col in self.columns:\n",
    "            x[col] = x[col].apply(hex_to_color_name)\n",
    "        return x #****\n",
    "class MaxAggregator(Transformer): #****\n",
    "    def __init__(self, columns, **kwargs): #****\n",
    "        self.columns = columns\n",
    "        super().__init__(**kwargs) \n",
    "    def data_transform(self, x): #****\n",
    "        column_name = \"MAX(\"\n",
    "        column_name += \",\".join(self.columns)\n",
    "        column_name += \")\"\n",
    "        x[column_name] = x[self.columns].max(axis=1)\n",
    "        x = x.drop(self.columns, axis=1)\n",
    "        return x #****\n",
    "colorTransformer = ColorTransformer(columns=[\"color\"], interpret=True)\n",
    "colorEncoder = OneHotEncoder(columns=[\"color\"])\n",
    "maxAggregator = MaxAggregator(columns=[\"width\", \"height\"], interpret=True)\n",
    "featureSelect = FeatureSelectTransformer(['age', 'type_bar', 'type_foo', 'type_foobar',\n",
    "                                          'color_blue', 'color_green', 'color_red',\n",
    "                                          'MAX(width,height)'])\n",
    "mappings = Mappings.generate_mappings(\n",
    "    categorical_to_one_hot={\"type\": {\"type_foo\": \"foo\", \"type_bar\": \"bar\", \"type_foobar\": \"foobar\"}})\n",
    "typeDecoder = MappingsOneHotDecoder(mappings, model=False, interpret=True)\n",
    "model_transformers = [maxAggregator, colorTransformer, colorEncoder, featureSelect, typeDecoder]\n",
    "fit_transformers(model_transformers, X_orig)\n",
    "lfc = LocalFeatureContribution(model, X_orig, transformers=model_transformers, fit_on_init=True)\n",
    "explanation_pyreal = lfc.produce(X_orig.iloc[:100])\n",
    "print(explanation_pyreal)\n",
    "print(\"runtime:\", time.time()-start)\n"
   ]
  },
  {
   "cell_type": "markdown",
   "metadata": {},
   "source": [
    "Local feature contributions - no Pyreal"
   ]
  },
  {
   "cell_type": "code",
   "execution_count": 3,
   "metadata": {},
   "outputs": [
    {
     "name": "stdout",
     "output_type": "stream",
     "text": [
      "          age  MAX(width,height)      color        type\n",
      "0  -15.656246           8.279705 -20.622256   -8.060027\n",
      "1    8.368684          39.201880 -20.622256   92.056552\n",
      "2   23.584472          13.853105  -0.876739   -8.060027\n",
      "3  -22.863724          37.544861  19.097510 -108.013055\n",
      "4  -13.253753         -20.753272  -0.876739   92.056552\n",
      "..        ...                ...        ...         ...\n",
      "95  28.389458          50.433364 -20.622256   92.056552\n",
      "96   9.169515         -32.254449  -0.876739 -108.013055\n",
      "97 -27.668710          35.592235 -20.622256   92.056552\n",
      "98  -2.842950         -78.169232  19.097510   -8.060027\n",
      "99  17.978655           3.187405  19.097510   -8.060027\n",
      "\n",
      "[100 rows x 4 columns]\n",
      "runtime: 0.020306825637817383\n"
     ]
    }
   ],
   "source": [
    "from sklearn.preprocessing import OneHotEncoder as SklearnOneHotEncoder\n",
    "import shap\n",
    "\n",
    "start = time.time()\n",
    "def color_transform(x, columns):  #****\n",
    "    for col in columns:\n",
    "        x[col] = x[col].apply(hex_to_color_name)\n",
    "    return x #****\n",
    "def max_aggregate(x, columns):  #****\n",
    "    column_name = \"MAX(\"\n",
    "    column_name += \",\".join(columns)\n",
    "    column_name += \")\"\n",
    "    x[column_name] = x[columns].max(axis=1)\n",
    "    x = x.drop(columns, axis=1)\n",
    "    return x  #****\n",
    "x_1 = max_aggregate(X_orig, columns=[\"width\", \"height\"])\n",
    "x_2 = color_transform(x_1, columns=[\"color\"])\n",
    "to_encode = x_2[[\"color\"]]\n",
    "color_ohe = SklearnOneHotEncoder(sparse=False).fit(to_encode)\n",
    "encoded_columns = color_ohe.get_feature_names(to_encode.columns)\n",
    "index = to_encode.index\n",
    "encoded = color_ohe.transform(to_encode)\n",
    "encoded_df = pd.DataFrame(encoded, columns=encoded_columns, index=index)\n",
    "x_3 = pd.concat([x_2.drop([\"color\"], axis=\"columns\"), encoded_df], axis=1)\n",
    "x_explain = x_3[['age', 'type_bar', 'type_foo', 'type_foobar',\n",
    "          'color_blue', 'color_green', 'color_red','MAX(width,height)']]\n",
    "columns = x_explain.columns\n",
    "explainer = shap.Explainer(model, x_explain)\n",
    "explanation = explainer(x_explain.iloc[0:100])\n",
    "explanation_df = pd.DataFrame(explanation.values, columns=columns)\n",
    "for col in [\"color\", \"type\"]:\n",
    "    encoded_features = [item for item in columns if item.startswith(col+'_')]\n",
    "    summed_contribution = explanation_df[encoded_features].sum(axis=1)\n",
    "    explanation_df = explanation_df.drop(encoded_features, axis=\"columns\")\n",
    "    explanation_df[col] = summed_contribution\n",
    "print(explanation_df)\n",
    "print(\"runtime:\", time.time()-start)\n"
   ]
  },
  {
   "cell_type": "markdown",
   "metadata": {},
   "source": [
    "Global feature importance - with Pyreal"
   ]
  },
  {
   "cell_type": "code",
   "execution_count": 4,
   "metadata": {},
   "outputs": [
    {
     "name": "stdout",
     "output_type": "stream",
     "text": [
      "         age  MAX(width,height)      color       type\n",
      "0  15.962804          30.875724  18.201658  89.316062\n",
      "runtime: 0.0370330810546875\n"
     ]
    }
   ],
   "source": [
    "from pyreal.transformers import Transformer, OneHotEncoder, Mappings, MappingsOneHotDecoder, FeatureSelectTransformer\n",
    "from pyreal.transformers import fit_transformers\n",
    "from pyreal.explainers import GlobalFeatureImportance\n",
    "\n",
    "start = time.time()\n",
    "class ColorTransformer(Transformer):  # ****\n",
    "    def __init__(self, columns, **kwargs):  # ****\n",
    "        self.columns = columns\n",
    "        super().__init__(**kwargs)\n",
    "    def fit(self, x):  # ****\n",
    "        return self  # ****\n",
    "    def data_transform(self, x):  # ****\n",
    "        for col in self.columns:\n",
    "            x[col] = x[col].apply(hex_to_color_name)\n",
    "        return x  # ****\n",
    "class MaxAggregator(Transformer):  # ****\n",
    "    def __init__(self, columns, **kwargs):  # ****\n",
    "        self.columns = columns\n",
    "        super().__init__(**kwargs)\n",
    "    def data_transform(self, x):  # ****\n",
    "        column_name = \"MAX(\"\n",
    "        column_name += \",\".join(self.columns)\n",
    "        column_name += \")\"\n",
    "        x[column_name] = x[self.columns].max(axis=1)\n",
    "        x = x.drop(self.columns, axis=1)\n",
    "        return x  # ****\n",
    "colorTransformer = ColorTransformer(columns=[\"color\"], interpret=True)\n",
    "colorEncoder = OneHotEncoder(columns=[\"color\"])\n",
    "maxAggregator = MaxAggregator(columns=[\"width\", \"height\"], interpret=True)\n",
    "featureSelect = FeatureSelectTransformer(['age', 'type_bar', 'type_foo', 'type_foobar',\n",
    "                                          'color_blue', 'color_green', 'color_red',\n",
    "                                          'MAX(width,height)'])\n",
    "mappings = Mappings.generate_mappings(\n",
    "    categorical_to_one_hot={\"type\": {\"type_foo\": \"foo\", \"type_bar\": \"bar\", \"type_foobar\": \"foobar\"}})\n",
    "typeDecoder = MappingsOneHotDecoder(mappings, model=False, interpret=True)\n",
    "model_transformers = [maxAggregator, colorTransformer, colorEncoder, featureSelect, typeDecoder]\n",
    "fit_transformers(model_transformers, X_orig)\n",
    "gfi = GlobalFeatureImportance(model, X_orig, transformers=model_transformers, fit_on_init=True)\n",
    "explanation_pyreal = gfi.produce()\n",
    "print(explanation_pyreal)\n",
    "print(\"runtime:\", time.time()-start)\n"
   ]
  },
  {
   "cell_type": "markdown",
   "metadata": {},
   "source": [
    "Global feature importance - no Pyreal"
   ]
  },
  {
   "cell_type": "code",
   "execution_count": 5,
   "metadata": {},
   "outputs": [
    {
     "name": "stdout",
     "output_type": "stream",
     "text": [
      "         age  MAX(width,height)      color       type\n",
      "0  15.962804          30.875724  18.201658  89.316062\n",
      "runtime: 0.03751492500305176\n"
     ]
    }
   ],
   "source": [
    "from sklearn.preprocessing import OneHotEncoder as SklearnOneHotEncoder\n",
    "import shap\n",
    "\n",
    "start = time.time()\n",
    "def color_transform(x, columns):  # ****\n",
    "    for col in columns:\n",
    "        x[col] = x[col].apply(hex_to_color_name)\n",
    "    return x  # ****\n",
    "def max_aggregate(x, columns):  # ****\n",
    "    column_name = \"MAX(\"\n",
    "    column_name += \",\".join(columns)\n",
    "    column_name += \")\"\n",
    "    x[column_name] = x[columns].max(axis=1)\n",
    "    x = x.drop(columns, axis=1)\n",
    "    return x  # ****\n",
    "x_1 = max_aggregate(X_orig, columns=[\"width\", \"height\"])\n",
    "x_2 = color_transform(x_1, columns=[\"color\"])\n",
    "to_encode = x_2[[\"color\"]]\n",
    "color_ohe = SklearnOneHotEncoder(sparse=False).fit(to_encode)\n",
    "encoded_columns = color_ohe.get_feature_names(to_encode.columns)\n",
    "index = to_encode.index\n",
    "encoded = color_ohe.transform(to_encode)\n",
    "encoded_df = pd.DataFrame(encoded, columns=encoded_columns, index=index)\n",
    "x_3 = pd.concat([x_2.drop([\"color\"], axis=\"columns\"), encoded_df], axis=1)\n",
    "x_explain = x_3[['age', 'type_bar', 'type_foo', 'type_foobar',\n",
    "                 'color_blue', 'color_green', 'color_red', 'MAX(width,height)']]\n",
    "columns = x_explain.columns\n",
    "explainer = shap.Explainer(model, x_explain)\n",
    "explanation = explainer(x_explain)\n",
    "explanation = np.mean(np.absolute(explanation.values), axis=0).reshape(1, -1)\n",
    "explanation_df = pd.DataFrame(explanation, columns=columns)\n",
    "for col in [\"color\", \"type\"]:\n",
    "    encoded_features = [item for item in columns if item.startswith(col+'_')]\n",
    "    summed_contribution = explanation_df[encoded_features].sum(axis=1)\n",
    "    explanation_df = explanation_df.drop(encoded_features, axis=\"columns\")\n",
    "    explanation_df[col] = summed_contribution\n",
    "print(explanation_df)\n",
    "print(\"runtime:\", time.time()-start)\n"
   ]
  },
  {
   "cell_type": "markdown",
   "metadata": {},
   "source": [
    "Decision Tree Explainer - with Pyreal"
   ]
  },
  {
   "cell_type": "code",
   "execution_count": 6,
   "metadata": {},
   "outputs": [
    {
     "name": "stdout",
     "output_type": "stream",
     "text": [
      "runtime: 0.03746485710144043\n"
     ]
    }
   ],
   "source": [
    "from pyreal.transformers import Transformer, OneHotEncoder, Mappings, MappingsOneHotDecoder, FeatureSelectTransformer\n",
    "from pyreal.transformers import fit_transformers\n",
    "from pyreal.explainers import DecisionTreeExplainer\n",
    "\n",
    "start = time.time()\n",
    "class ColorTransformer(Transformer):  # ****\n",
    "    def __init__(self, columns, **kwargs):  # ****\n",
    "        self.columns = columns\n",
    "        super().__init__(**kwargs)\n",
    "    def fit(self, x):  # ****\n",
    "        return self  # ****\n",
    "    def data_transform(self, x):  # ****\n",
    "        for col in self.columns:\n",
    "            x[col] = x[col].apply(hex_to_color_name)\n",
    "        return x  # ****\n",
    "class MaxAggregator(Transformer):  # ****\n",
    "    def __init__(self, columns, **kwargs):  # ****\n",
    "        self.columns = columns\n",
    "        super().__init__(**kwargs)\n",
    "    def data_transform(self, x):  # ****\n",
    "        column_name = \"MAX(\"\n",
    "        column_name += \",\".join(self.columns)\n",
    "        column_name += \")\"\n",
    "        x[column_name] = x[self.columns].max(axis=1)\n",
    "        x = x.drop(self.columns, axis=1)\n",
    "        return x  # ****\n",
    "colorTransformer = ColorTransformer(columns=[\"color\"], interpret=True)\n",
    "colorEncoder = OneHotEncoder(columns=[\"color\"])\n",
    "maxAggregator = MaxAggregator(columns=[\"width\", \"height\"], interpret=True)\n",
    "featureSelect = FeatureSelectTransformer(['age', 'type_bar', 'type_foo', 'type_foobar',\n",
    "                                          'color_blue', 'color_green', 'color_red',\n",
    "                                          'MAX(width,height)'])\n",
    "mappings = Mappings.generate_mappings(\n",
    "    categorical_to_one_hot={\"type\": {\"type_foo\": \"foo\", \"type_bar\": \"bar\", \"type_foobar\": \"foobar\"}})\n",
    "typeDecoder = MappingsOneHotDecoder(mappings, model=False, interpret=True)\n",
    "model_transformers = [maxAggregator, colorTransformer, colorEncoder, featureSelect, typeDecoder]\n",
    "fit_transformers(model_transformers, X_orig)\n",
    "dte = DecisionTreeExplainer(model, X_orig, is_classifier=False, max_depth=4, transformers=model_transformers, fit_on_init=True)\n",
    "explanation_pyreal = dte.produce()\n",
    "print(\"runtime:\", time.time()-start)\n"
   ]
  },
  {
   "cell_type": "markdown",
   "metadata": {},
   "source": [
    "Decision Tree Explainer - no Pyreal"
   ]
  },
  {
   "cell_type": "code",
   "execution_count": 7,
   "metadata": {},
   "outputs": [
    {
     "name": "stdout",
     "output_type": "stream",
     "text": [
      "runtime: 0.011514902114868164\n"
     ]
    }
   ],
   "source": [
    "from sklearn.preprocessing import OneHotEncoder as SklearnOneHotEncoder\n",
    "from sklearn import tree\n",
    "\n",
    "start = time.time()\n",
    "def color_transform(x, columns):  # ****\n",
    "    for col in columns:\n",
    "        x[col] = x[col].apply(hex_to_color_name)\n",
    "    return x  # ****\n",
    "def max_aggregate(x, columns):  # ****\n",
    "    column_name = \"MAX(\"\n",
    "    column_name += \",\".join(columns)\n",
    "    column_name += \")\"\n",
    "    x[column_name] = x[columns].max(axis=1)\n",
    "    x = x.drop(columns, axis=1)\n",
    "    return x  # ****\n",
    "x_1 = max_aggregate(X_orig, columns=[\"width\", \"height\"])\n",
    "x_2 = color_transform(x_1, columns=[\"color\"])\n",
    "to_encode = x_2[[\"color\"]]\n",
    "color_ohe = SklearnOneHotEncoder(sparse=False).fit(to_encode)\n",
    "encoded_columns = color_ohe.get_feature_names(to_encode.columns)\n",
    "index = to_encode.index\n",
    "encoded = color_ohe.transform(to_encode)\n",
    "encoded_df = pd.DataFrame(encoded, columns=encoded_columns, index=index)\n",
    "x_3 = pd.concat([x_2.drop([\"color\"], axis=\"columns\"), encoded_df], axis=1)\n",
    "x_explain = x_3[['age', 'type_bar', 'type_foo', 'type_foobar',\n",
    "                 'color_blue', 'color_green', 'color_red', 'MAX(width,height)']]\n",
    "columns = x_explain.columns\n",
    "sklearn_explanation = tree.DecisionTreeRegressor()\n",
    "sklearn_explanation.fit(x_explain, model.predict(x_explain))\n",
    "print(\"runtime:\", time.time()-start)\n"
   ]
  }
 ],
 "metadata": {
  "interpreter": {
   "hash": "c2662e62a969d186b238363db0e7047b309b16cf252eb1b8b153f7128c0a876d"
  },
  "kernelspec": {
   "display_name": "Python 3.8.8 64-bit ('pyreal-rk1el9Uh-py3.8': poetry)",
   "language": "python",
   "name": "python3"
  },
  "language_info": {
   "codemirror_mode": {
    "name": "ipython",
    "version": 3
   },
   "file_extension": ".py",
   "mimetype": "text/x-python",
   "name": "python",
   "nbconvert_exporter": "python",
   "pygments_lexer": "ipython3",
   "version": "3.8.8"
  },
  "orig_nbformat": 4
 },
 "nbformat": 4,
 "nbformat_minor": 2
}
