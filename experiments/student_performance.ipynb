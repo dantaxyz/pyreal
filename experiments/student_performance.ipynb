{
 "cells": [
  {
   "cell_type": "code",
   "execution_count": 16,
   "metadata": {
    "pycharm": {
     "name": "#%%\n"
    }
   },
   "outputs": [],
   "source": [
    "import pandas as pd\n",
    "import numpy as np\n",
    "import time"
   ]
  },
  {
   "cell_type": "code",
   "execution_count": 17,
   "metadata": {},
   "outputs": [],
   "source": [
    "feature_descriptions = {\n",
    "    \"school\":\"School\",\n",
    "    \"sex\":\"Sex\",\n",
    "    \"age\":\"Age\",\n",
    "    \"address\":\"Address type\",\n",
    "    \"famsize\":\"Family size\",\n",
    "    \"Pstatus\":\"Parent's cohibition status\",\n",
    "    \"Medu\":\"Mother's education\",\n",
    "    \"Fedu\":\"Father's education\",\n",
    "    \"Mjob\":\"Mother's job\",\n",
    "    \"Fjob\":\"Father's job\",\n",
    "    \"reason\":\"Reason for choosing this school\",\n",
    "    \"guardian\":\"Student's guardian\",\n",
    "    \"traveltime\":\"Home to school travel time\",\n",
    "    \"studytime\":\"Weekly study time\",\n",
    "    \"failures\":\"Number of past class failures\",\n",
    "    \"schoolsup\":\"Extra education support\",\n",
    "    \"famsup\":\"Family eductional support\",\n",
    "    \"paid\":\"Extra paid classes within the subject\",\n",
    "    \"activities\":\"Extra-curricular activities\",\n",
    "    \"nursery\":\"Attended nursery school\",\n",
    "    \"higher\":\"Wants to take higher education\",\n",
    "    \"internet\":\"Has internet at home\",\n",
    "    \"romantic\":\"In a romantic relationship\",\n",
    "    \"famrel\":\"Quality of family relationships (1-5)\",\n",
    "    \"freetime\":\"Amount of free time after school (1-5)\",\n",
    "    \"goout\":\"Frequency of going out with friends (1-5)\",\n",
    "    \"Dalc\":\"Frequency of workday alcohol consumption (1-5)\",\n",
    "    \"Walc\":\"Frequency of workday alcohol consumption (1-5)\",\n",
    "    \"health\":\"Current health status (1-5)\",\n",
    "    \"absences\":\"Number of school absences\"\n",
    "}\n",
    "\n",
    "file_path = \"../tutorials/student/student-por.csv\"\n",
    "data = pd.read_csv(file_path, sep=\";\")\n",
    "y = (data[\"G3\"]>10).astype(int)\n",
    "\n",
    "X_orig = data.drop([\"G1\", \"G2\", \"G3\"], axis='columns')\n",
    "\n",
    "input_to_explain = X_orig.iloc[0:600]"
   ]
  },
  {
   "cell_type": "markdown",
   "source": [
    "Local feature contributions - Pyreal"
   ],
   "metadata": {
    "collapsed": false,
    "pycharm": {
     "name": "#%% md\n"
    }
   }
  },
  {
   "cell_type": "code",
   "execution_count": 18,
   "metadata": {
    "pycharm": {
     "name": "#%%\n"
    }
   },
   "outputs": [
    {
     "name": "stdout",
     "output_type": "stream",
     "text": [
      "runtime: 0.04199838638305664\n"
     ]
    },
    {
     "name": "stderr",
     "output_type": "stream",
     "text": [
      "Trying to unpickle estimator LogisticRegression from version 0.23.1 when using version 0.24.2. This might lead to breaking code or invalid results. Use at your own risk.\n",
      "Trying to unpickle estimator LogisticRegression from version 0.23.1 when using version 0.24.2. This might lead to breaking code or invalid results. Use at your own risk.\n"
     ]
    }
   ],
   "source": [
    "from pyreal.transformers import Transformer, OneHotEncoder, DataFrameWrapper, fit_transformers\n",
    "from sklearn.preprocessing import StandardScaler\n",
    "from pyreal.explainers import LocalFeatureContribution\n",
    "\n",
    "start = time.time()\n",
    "class BooleanEncoder(Transformer): #****\n",
    "    def __init__(self, cols, **kwargs): #****\n",
    "        self.cols = cols #****\n",
    "        super().__init__(**kwargs)\n",
    "    def data_transform(self, x): #****\n",
    "        x_transform = x.copy()\n",
    "        for col in self.cols:\n",
    "            x_transform[col] = x_transform[col].replace(('yes', 'no'), (1, 0))\n",
    "        x_transform[\"famsize\"] = x_transform[\"famsize\"].astype('category')\n",
    "        x_transform[\"famsize\"] = x_transform[\"famsize\"].cat.set_categories(['LE3', 'GT3'])\n",
    "        x_transform[\"famsize\"] = x_transform[\"famsize\"].cat.reorder_categories(['LE3', 'GT3'])\n",
    "        x_transform[\"famsize\"] = x_transform[\"famsize\"].cat.codes\n",
    "        return x_transform #****\n",
    "    def inverse_transform_explanation(self, explanation): #****\n",
    "        return explanation #****\n",
    "onehotencoder = OneHotEncoder([\"school\", \"sex\", \"address\", \"Pstatus\", \"reason\", \"guardian\", \"Mjob\", \"Fjob\"])\n",
    "boolean_encoder = BooleanEncoder([\"schoolsup\", \"famsup\", \"paid\", \"activities\", \"nursery\", \"internet\", \"romantic\", \"higher\"])\n",
    "standard_scaler = DataFrameWrapper(StandardScaler())\n",
    "transformers = [onehotencoder, boolean_encoder, standard_scaler]\n",
    "fit_transformers(transformers, X_orig)\n",
    "lfc = LocalFeatureContribution(model=\"../tutorials/student/model.pkl\",\n",
    "                               x_train_orig=X_orig, transformers=transformers,\n",
    "                               feature_descriptions=feature_descriptions,\n",
    "                               fit_on_init=True)\n",
    "explanation_pyreal = lfc.produce(input_to_explain)\n",
    "print(\"runtime:\", time.time()-start)"
   ]
  },
  {
   "cell_type": "markdown",
   "source": [
    "Local feature contributions - No Pyreal"
   ],
   "metadata": {
    "collapsed": false
   }
  },
  {
   "cell_type": "code",
   "execution_count": 19,
   "metadata": {
    "pycharm": {
     "name": "#%%\n"
    }
   },
   "outputs": [
    {
     "name": "stdout",
     "output_type": "stream",
     "text": [
      "runtime: 0.028999805450439453\n"
     ]
    },
    {
     "name": "stderr",
     "output_type": "stream",
     "text": [
      "Trying to unpickle estimator LogisticRegression from version 0.23.1 when using version 0.24.2. This might lead to breaking code or invalid results. Use at your own risk.\n"
     ]
    }
   ],
   "source": [
    "from sklearn.preprocessing import OneHotEncoder as SklearnOneHotEncoder\n",
    "import shap\n",
    "from sklearn.preprocessing import StandardScaler\n",
    "import pickle\n",
    "\n",
    "start = time.time()\n",
    "def boolean_encode(X): #****\n",
    "    x_transform = X.copy()\n",
    "    for col in [\"schoolsup\", \"famsup\", \"paid\", \"activities\", \"nursery\", \"internet\", \"romantic\", \"higher\"]:\n",
    "        x_transform[col] = x_transform[col].replace(('yes', 'no'), (1, 0))\n",
    "    x_transform[\"famsize\"] = x_transform[\"famsize\"].astype('category')\n",
    "    x_transform[\"famsize\"] = x_transform[\"famsize\"].cat.set_categories(['LE3', 'GT3'])\n",
    "    x_transform[\"famsize\"] = x_transform[\"famsize\"].cat.reorder_categories(['LE3', 'GT3'])\n",
    "    x_transform[\"famsize\"] = x_transform[\"famsize\"].cat.codes\n",
    "    return x_transform #****\n",
    "X_explain = boolean_encode(X_orig)\n",
    "columns_to_encode = [\"school\", \"sex\", \"address\", \"Pstatus\", \"reason\", \"guardian\", \"Mjob\", \"Fjob\"]\n",
    "to_encode = X_orig[columns_to_encode]\n",
    "ohe = SklearnOneHotEncoder(sparse=False).fit(to_encode)\n",
    "encoded_columns = ohe.get_feature_names(to_encode.columns)\n",
    "index = to_encode.index\n",
    "encoded = ohe.transform(to_encode)\n",
    "encoded = pd.DataFrame(encoded, columns=encoded_columns, index=index)\n",
    "X_explain = pd.concat([X_explain.drop(columns_to_encode, axis=\"columns\"), encoded], axis=1)\n",
    "standard_scaler = StandardScaler()\n",
    "columns = X_explain.columns\n",
    "index= X_explain.index\n",
    "X_explain = pd.DataFrame(standard_scaler.fit_transform(X_explain), columns=columns, index=index)\n",
    "model = pickle.load(open(\"../tutorials/student/model.pkl\", \"rb\"))\n",
    "explainer = shap.Explainer(model, X_explain)\n",
    "explanation = explainer(X_explain[0:600])\n",
    "explanation_df = pd.DataFrame(explanation.values, columns=columns)\n",
    "for original_feature in columns_to_encode:\n",
    "    encoded_features = [item for item in encoded_columns if\n",
    "                        item.startswith(original_feature + \"_\")]\n",
    "    summed_contribution = explanation_df[encoded_features].sum(axis=1)\n",
    "    explanation_df = explanation_df.drop(encoded_features, axis=\"columns\")\n",
    "    explanation_df[original_feature] = summed_contribution\n",
    "\n",
    "explanation_shap = explanation_df.rename(feature_descriptions, axis=\"columns\")\n",
    "print(\"runtime:\", time.time()-start)"
   ]
  },
  {
   "cell_type": "code",
   "execution_count": 20,
   "metadata": {
    "pycharm": {
     "name": "#%%\n"
    }
   },
   "outputs": [
    {
     "data": {
      "text/plain": "Empty DataFrame\nColumns: []\nIndex: []",
      "text/html": "<div>\n<style scoped>\n    .dataframe tbody tr th:only-of-type {\n        vertical-align: middle;\n    }\n\n    .dataframe tbody tr th {\n        vertical-align: top;\n    }\n\n    .dataframe thead tr th {\n        text-align: left;\n    }\n</style>\n<table border=\"1\" class=\"dataframe\">\n  <thead>\n  </thead>\n  <tbody>\n  </tbody>\n</table>\n</div>"
     },
     "execution_count": 20,
     "metadata": {},
     "output_type": "execute_result"
    }
   ],
   "source": [
    "explanation_shap.compare(explanation_pyreal[0])"
   ]
  },
  {
   "cell_type": "markdown",
   "source": [
    "Global feature importance - Pyreal"
   ],
   "metadata": {
    "collapsed": false
   }
  },
  {
   "cell_type": "code",
   "execution_count": 21,
   "outputs": [
    {
     "name": "stdout",
     "output_type": "stream",
     "text": [
      "runtime: 0.04200005531311035\n"
     ]
    },
    {
     "name": "stderr",
     "output_type": "stream",
     "text": [
      "Trying to unpickle estimator LogisticRegression from version 0.23.1 when using version 0.24.2. This might lead to breaking code or invalid results. Use at your own risk.\n",
      "Trying to unpickle estimator LogisticRegression from version 0.23.1 when using version 0.24.2. This might lead to breaking code or invalid results. Use at your own risk.\n"
     ]
    }
   ],
   "source": [
    "from pyreal.explainers import GlobalFeatureImportance\n",
    "\n",
    "start = time.time()\n",
    "class BooleanEncoder(Transformer): #****\n",
    "    def __init__(self, cols, **kwargs): #****\n",
    "        self.cols = cols #****\n",
    "        super().__init__(**kwargs)\n",
    "    def data_transform(self, x): #****\n",
    "        x_transform = x.copy()\n",
    "        for col in self.cols:\n",
    "            x_transform[col] = x_transform[col].replace(('yes', 'no'), (1, 0))\n",
    "        x_transform[\"famsize\"] = x_transform[\"famsize\"].astype('category')\n",
    "        x_transform[\"famsize\"] = x_transform[\"famsize\"].cat.set_categories(['LE3', 'GT3'])\n",
    "        x_transform[\"famsize\"] = x_transform[\"famsize\"].cat.reorder_categories(['LE3', 'GT3'])\n",
    "        x_transform[\"famsize\"] = x_transform[\"famsize\"].cat.codes\n",
    "        return x_transform #****\n",
    "    def inverse_transform_explanation(self, explanation): #****\n",
    "        return explanation #****\n",
    "onehotencoder = OneHotEncoder([\"school\", \"sex\", \"address\", \"Pstatus\", \"reason\", \"guardian\", \"Mjob\", \"Fjob\"])\n",
    "boolean_encoder = BooleanEncoder([\"schoolsup\", \"famsup\", \"paid\", \"activities\", \"nursery\", \"internet\", \"romantic\", \"higher\"])\n",
    "standard_scaler = DataFrameWrapper(StandardScaler())\n",
    "transformers = [onehotencoder, boolean_encoder, standard_scaler]\n",
    "fit_transformers(transformers, X_orig)\n",
    "lfc = GlobalFeatureImportance(model=\"../tutorials/student/model.pkl\",\n",
    "                               x_train_orig=X_orig, transformers=transformers,\n",
    "                               feature_descriptions=feature_descriptions,\n",
    "                               fit_on_init=True)\n",
    "explanation_pyreal = lfc.produce()\n",
    "print(\"runtime:\", time.time()-start)\n"
   ],
   "metadata": {
    "collapsed": false,
    "pycharm": {
     "name": "#%%\n"
    }
   }
  },
  {
   "cell_type": "markdown",
   "source": [
    "Global feature importance - No Pyreal"
   ],
   "metadata": {
    "collapsed": false
   }
  },
  {
   "cell_type": "code",
   "execution_count": 22,
   "outputs": [
    {
     "name": "stdout",
     "output_type": "stream",
     "text": [
      "runtime: 0.03099989891052246\n"
     ]
    },
    {
     "name": "stderr",
     "output_type": "stream",
     "text": [
      "Trying to unpickle estimator LogisticRegression from version 0.23.1 when using version 0.24.2. This might lead to breaking code or invalid results. Use at your own risk.\n"
     ]
    }
   ],
   "source": [
    "start = time.time()\n",
    "def boolean_encode(X): #****\n",
    "    x_transform = X.copy()\n",
    "    for col in [\"schoolsup\", \"famsup\", \"paid\", \"activities\", \"nursery\", \"internet\", \"romantic\", \"higher\"]:\n",
    "        x_transform[col] = x_transform[col].replace(('yes', 'no'), (1, 0))\n",
    "    x_transform[\"famsize\"] = x_transform[\"famsize\"].astype('category')\n",
    "    x_transform[\"famsize\"] = x_transform[\"famsize\"].cat.set_categories(['LE3', 'GT3'])\n",
    "    x_transform[\"famsize\"] = x_transform[\"famsize\"].cat.reorder_categories(['LE3', 'GT3'])\n",
    "    x_transform[\"famsize\"] = x_transform[\"famsize\"].cat.codes\n",
    "    return x_transform #****\n",
    "X_explain = boolean_encode(X_orig)\n",
    "columns_to_encode = [\"school\", \"sex\", \"address\", \"Pstatus\", \"reason\", \"guardian\", \"Mjob\", \"Fjob\"]\n",
    "to_encode = X_orig[columns_to_encode]\n",
    "ohe = SklearnOneHotEncoder(sparse=False).fit(to_encode)\n",
    "encoded_columns = ohe.get_feature_names(to_encode.columns)\n",
    "index = to_encode.index\n",
    "encoded = ohe.transform(to_encode)\n",
    "encoded = pd.DataFrame(encoded, columns=encoded_columns, index=index)\n",
    "X_explain = pd.concat([X_explain.drop(columns_to_encode, axis=\"columns\"), encoded], axis=1)\n",
    "standard_scaler = StandardScaler()\n",
    "columns = X_explain.columns\n",
    "index= X_explain.index\n",
    "X_explain = pd.DataFrame(standard_scaler.fit_transform(X_explain), columns=columns, index=index)\n",
    "model = pickle.load(open(\"../tutorials/student/model.pkl\", \"rb\"))\n",
    "explainer = shap.Explainer(model, X_explain)\n",
    "explanation = explainer(X_explain)\n",
    "explanation = np.mean(np.absolute(explanation.values), axis=0).reshape(1, -1)\n",
    "explanation_df = pd.DataFrame(explanation, columns=columns)\n",
    "for original_feature in columns_to_encode:\n",
    "    encoded_features = [item for item in encoded_columns if\n",
    "                        item.startswith(original_feature + \"_\")]\n",
    "    summed_contribution = explanation_df[encoded_features].sum(axis=1)\n",
    "    explanation_df = explanation_df.drop(encoded_features, axis=\"columns\")\n",
    "    explanation_df[original_feature] = summed_contribution\n",
    "\n",
    "explanation_shap = explanation_df.rename(feature_descriptions, axis=\"columns\")\n",
    "print(\"runtime:\", time.time()-start)"
   ],
   "metadata": {
    "collapsed": false,
    "pycharm": {
     "name": "#%%\n"
    }
   }
  }
 ],
 "metadata": {
  "kernelspec": {
   "display_name": "Python 3 (ipykernel)",
   "language": "python",
   "name": "python3"
  },
  "language_info": {
   "codemirror_mode": {
    "name": "ipython",
    "version": 3
   },
   "file_extension": ".py",
   "mimetype": "text/x-python",
   "name": "python",
   "nbconvert_exporter": "python",
   "pygments_lexer": "ipython3",
   "version": "3.8.6"
  }
 },
 "nbformat": 4,
 "nbformat_minor": 1
}