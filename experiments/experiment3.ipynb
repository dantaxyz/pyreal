{
 "cells": [
  {
   "cell_type": "markdown",
   "source": [
    "Setup"
   ],
   "metadata": {
    "collapsed": false,
    "pycharm": {
     "name": "#%% md\n"
    }
   }
  },
  {
   "cell_type": "code",
   "execution_count": 1,
   "metadata": {
    "collapsed": true
   },
   "outputs": [],
   "source": [
    "import pandas as pd\n",
    "\n",
    "data = pd.read_csv(\"../tutorials/ames_housing/data.csv\")\n",
    "data = data[data.GrLivArea < 4000]\n",
    "y = data[\"SalePrice\"]\n",
    "X_orig = data.drop(\"SalePrice\", axis=\"columns\")\n",
    "descriptions_df = pd.read_csv(\"../tutorials/ames_housing/feature_descriptions.csv\")\n",
    "descriptions = descriptions_df.set_index(\"Name\").to_dict()[\"Description\"]"
   ]
  },
  {
   "cell_type": "markdown",
   "source": [
    "Experimental condition: using Pyreal"
   ],
   "metadata": {
    "collapsed": false,
    "pycharm": {
     "name": "#%% md\n"
    }
   }
  },
  {
   "cell_type": "code",
   "execution_count": 2,
   "outputs": [
    {
     "name": "stderr",
     "output_type": "stream",
     "text": [
      "Trying to unpickle estimator Ridge from version 0.23.1 when using version 0.24.2. This might lead to breaking code or invalid results. Use at your own risk.\n",
      "Trying to unpickle estimator Ridge from version 0.23.1 when using version 0.24.2. This might lead to breaking code or invalid results. Use at your own risk.\n"
     ]
    },
    {
     "ename": "NameError",
     "evalue": "name 'ax' is not defined",
     "output_type": "error",
     "traceback": [
      "\u001B[1;31m---------------------------------------------------------------------------\u001B[0m",
      "\u001B[1;31mNameError\u001B[0m                                 Traceback (most recent call last)",
      "\u001B[1;32m~\\AppData\\Local\\Temp\\ipykernel_3032\\3652035947.py\u001B[0m in \u001B[0;36m<module>\u001B[1;34m\u001B[0m\n\u001B[0;32m     64\u001B[0m \u001B[1;32mimport\u001B[0m \u001B[0mmatplotlib\u001B[0m\u001B[1;33m.\u001B[0m\u001B[0mpyplot\u001B[0m \u001B[1;32mas\u001B[0m \u001B[0mplt\u001B[0m\u001B[1;33m\u001B[0m\u001B[1;33m\u001B[0m\u001B[0m\n\u001B[0;32m     65\u001B[0m \u001B[1;33m\u001B[0m\u001B[0m\n\u001B[1;32m---> 66\u001B[1;33m \u001B[0mplot_tree\u001B[0m\u001B[1;33m(\u001B[0m\u001B[0mpyreal_explanation\u001B[0m\u001B[1;33m,\u001B[0m \u001B[0mfeature_names\u001B[0m\u001B[1;33m=\u001B[0m\u001B[0mdte\u001B[0m\u001B[1;33m.\u001B[0m\u001B[0mreturn_features\u001B[0m\u001B[1;33m(\u001B[0m\u001B[1;33m)\u001B[0m\u001B[1;33m,\u001B[0m \u001B[0mimpurity\u001B[0m\u001B[1;33m=\u001B[0m\u001B[1;32mFalse\u001B[0m\u001B[1;33m,\u001B[0m \u001B[0mfontsize\u001B[0m\u001B[1;33m=\u001B[0m\u001B[1;36m10\u001B[0m\u001B[1;33m,\u001B[0m \u001B[0max\u001B[0m\u001B[1;33m=\u001B[0m\u001B[0max\u001B[0m\u001B[1;33m,\u001B[0m \u001B[0mfilled\u001B[0m\u001B[1;33m=\u001B[0m\u001B[1;32mTrue\u001B[0m\u001B[1;33m)\u001B[0m\u001B[1;33m\u001B[0m\u001B[1;33m\u001B[0m\u001B[0m\n\u001B[0m\u001B[0;32m     67\u001B[0m \u001B[0mplt\u001B[0m\u001B[1;33m.\u001B[0m\u001B[0mshow\u001B[0m\u001B[1;33m(\u001B[0m\u001B[1;33m)\u001B[0m\u001B[1;33m\u001B[0m\u001B[1;33m\u001B[0m\u001B[0m\n\u001B[0;32m     68\u001B[0m \u001B[1;33m\u001B[0m\u001B[0m\n",
      "\u001B[1;31mNameError\u001B[0m: name 'ax' is not defined"
     ]
    }
   ],
   "source": [
    "from pyreal.transformers import Transformer, OneHotEncoder, fit_transformers\n",
    "from pyreal.explainers import DecisionTreeExplainer\n",
    "\n",
    "class AmesHousingImputer(Transformer):\n",
    "    def data_transform(self, x):\n",
    "            x_transform = x.copy()\n",
    "            x_transform.loc[:, \"Alley\"] = x_transform.loc[:, \"Alley\"].fillna(\"None\")\n",
    "            x_transform.loc[:, \"BedroomAbvGr\"] = x_transform.loc[:, \"BedroomAbvGr\"].fillna(0)\n",
    "            x_transform.loc[:, \"BsmtQual\"] = x_transform.loc[:, \"BsmtQual\"].fillna(\"No\")\n",
    "            x_transform.loc[:, \"BsmtCond\"] = x_transform.loc[:, \"BsmtCond\"].fillna(\"No\")\n",
    "            x_transform.loc[:, \"BsmtExposure\"] = x_transform.loc[:, \"BsmtExposure\"].fillna(\"No\")\n",
    "            x_transform.loc[:, \"BsmtFinType1\"] = x_transform.loc[:, \"BsmtFinType1\"].fillna(\"No\")\n",
    "            x_transform.loc[:, \"BsmtFinType2\"] = x_transform.loc[:, \"BsmtFinType2\"].fillna(\"No\")\n",
    "            x_transform.loc[:, \"BsmtFullBath\"] = x_transform.loc[:, \"BsmtFullBath\"].fillna(0)\n",
    "            x_transform.loc[:, \"BsmtHalfBath\"] = x_transform.loc[:, \"BsmtHalfBath\"].fillna(0)\n",
    "            x_transform.loc[:, \"BsmtUnfSF\"] = x_transform.loc[:, \"BsmtUnfSF\"].fillna(0)\n",
    "            x_transform.loc[:, \"CentralAir\"] = x_transform.loc[:, \"CentralAir\"].fillna(\"N\")\n",
    "            x_transform.loc[:, \"Condition1\"] = x_transform.loc[:, \"Condition1\"].fillna(\"Norm\")\n",
    "            x_transform.loc[:, \"Condition2\"] = x_transform.loc[:, \"Condition2\"].fillna(\"Norm\")\n",
    "            x_transform.loc[:, \"EnclosedPorch\"] = x_transform.loc[:, \"EnclosedPorch\"].fillna(0)\n",
    "            x_transform.loc[:, \"ExterCond\"] = x_transform.loc[:, \"ExterCond\"].fillna(\"TA\")\n",
    "            x_transform.loc[:, \"ExterQual\"] = x_transform.loc[:, \"ExterQual\"].fillna(\"TA\")\n",
    "            x_transform.loc[:, \"Fence\"] = x_transform.loc[:, \"Fence\"].fillna(\"No\")\n",
    "            x_transform.loc[:, \"FireplaceQu\"] = x_transform.loc[:, \"FireplaceQu\"].fillna(\"No\")\n",
    "            x_transform.loc[:, \"Fireplaces\"] = x_transform.loc[:, \"Fireplaces\"].fillna(0)\n",
    "            x_transform.loc[:, \"Functional\"] = x_transform.loc[:, \"Functional\"].fillna(\"Typ\")\n",
    "            x_transform.loc[:, \"GarageType\"] = x_transform.loc[:, \"GarageType\"].fillna(\"No\")\n",
    "            x_transform.loc[:, \"GarageFinish\"] = x_transform.loc[:, \"GarageFinish\"].fillna(\"No\")\n",
    "            x_transform.loc[:, \"GarageQual\"] = x_transform.loc[:, \"GarageQual\"].fillna(\"No\")\n",
    "            x_transform.loc[:, \"GarageCond\"] = x_transform.loc[:, \"GarageCond\"].fillna(\"No\")\n",
    "            x_transform.loc[:, \"GarageArea\"] = x_transform.loc[:, \"GarageArea\"].fillna(0)\n",
    "            x_transform.loc[:, \"GarageCars\"] = x_transform.loc[:, \"GarageCars\"].fillna(0)\n",
    "            x_transform.loc[:, \"HalfBath\"] = x_transform.loc[:, \"HalfBath\"].fillna(0)\n",
    "            x_transform.loc[:, \"HeatingQC\"] = x_transform.loc[:, \"HeatingQC\"].fillna(\"TA\")\n",
    "            x_transform.loc[:, \"KitchenAbvGr\"] = x_transform.loc[:, \"KitchenAbvGr\"].fillna(0)\n",
    "            x_transform.loc[:, \"KitchenQual\"] = x_transform.loc[:, \"KitchenQual\"].fillna(\"TA\")\n",
    "            x_transform.loc[:, \"LotFrontage\"] = x_transform.loc[:, \"LotFrontage\"].fillna(0)\n",
    "            x_transform.loc[:, \"LotShape\"] = x_transform.loc[:, \"LotShape\"].fillna(\"Reg\")\n",
    "            x_transform.loc[:, \"MasVnrType\"] = x_transform.loc[:, \"MasVnrType\"].fillna(\"None\")\n",
    "            x_transform.loc[:, \"MasVnrArea\"] = x_transform.loc[:, \"MasVnrArea\"].fillna(0)\n",
    "            x_transform.loc[:, \"MiscFeature\"] = x_transform.loc[:, \"MiscFeature\"].fillna(\"No\")\n",
    "            x_transform.loc[:, \"MiscVal\"] = x_transform.loc[:, \"MiscVal\"].fillna(0)\n",
    "            x_transform.loc[:, \"OpenPorchSF\"] = x_transform.loc[:, \"OpenPorchSF\"].fillna(0)\n",
    "            x_transform.loc[:, \"PavedDrive\"] = x_transform.loc[:, \"PavedDrive\"].fillna(\"N\")\n",
    "            x_transform.loc[:, \"PoolQC\"] = x_transform.loc[:, \"PoolQC\"].fillna(\"No\")\n",
    "            x_transform.loc[:, \"PoolArea\"] = x_transform.loc[:, \"PoolArea\"].fillna(0)\n",
    "            x_transform.loc[:, \"SaleCondition\"] = x_transform.loc[:, \"SaleCondition\"].fillna(\"Normal\")\n",
    "            x_transform.loc[:, \"ScreenPorch\"] = x_transform.loc[:, \"ScreenPorch\"].fillna(0)\n",
    "            x_transform.loc[:, \"TotRmsAbvGrd\"] = x_transform.loc[:, \"TotRmsAbvGrd\"].fillna(0)\n",
    "            x_transform.loc[:, \"Utilities\"] = x_transform.loc[:, \"Utilities\"].fillna(\"AllPub\")\n",
    "            x_transform.loc[:, \"WoodDeckSF\"] = x_transform.loc[:, \"WoodDeckSF\"].fillna(0)\n",
    "            x_transform.loc[:, \"Electrical\"] = x_transform.loc[:, \"Electrical\"].fillna(\"SBrkr\")\n",
    "            x_num = x_transform.select_dtypes(exclude=[\"object\"])\n",
    "            x_cat = x_transform.select_dtypes(include=[\"object\"])\n",
    "            x_num = x_num.fillna(x_num.median())\n",
    "            return pd.concat([x_num, x_cat], axis=1)\n",
    "object_columns = X_orig.select_dtypes(include=[\"object\"]).columns\n",
    "transformers = [AmesHousingImputer(), OneHotEncoder(object_columns)]\n",
    "fit_transformers(transformers, X_orig)\n",
    "dte = DecisionTreeExplainer(model=\"../tutorials/ames_housing/model.pkl\", x_train_orig=X_orig, is_classifier=False, max_depth=4, e_transformers=transformers, feature_descriptions=descriptions, fit_on_init=True)\n",
    "pyreal_explanation = dte.produce()\n",
    "\n",
    "from sklearn.tree import plot_tree\n",
    "import matplotlib.pyplot as plt\n",
    "\n",
    "plot_tree(pyreal_explanation, feature_names=dte.return_features(), impurity=False, fontsize=10, ax=ax, filled=True)\n",
    "plt.show()"
   ],
   "metadata": {
    "collapsed": false,
    "pycharm": {
     "name": "#%%\n"
    }
   }
  },
  {
   "cell_type": "code",
   "execution_count": null,
   "outputs": [],
   "source": [],
   "metadata": {
    "collapsed": false,
    "pycharm": {
     "name": "#%%\n"
    }
   }
  }
 ],
 "metadata": {
  "kernelspec": {
   "display_name": "Python 3",
   "language": "python",
   "name": "python3"
  },
  "language_info": {
   "codemirror_mode": {
    "name": "ipython",
    "version": 2
   },
   "file_extension": ".py",
   "mimetype": "text/x-python",
   "name": "python",
   "nbconvert_exporter": "python",
   "pygments_lexer": "ipython2",
   "version": "2.7.6"
  }
 },
 "nbformat": 4,
 "nbformat_minor": 0
}