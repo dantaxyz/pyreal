{
 "cells": [
  {
   "cell_type": "code",
   "execution_count": 1,
   "metadata": {},
   "outputs": [],
   "source": [
    "import pandas as pd\n",
    "import numpy as np\n",
    "import sys\n",
    "import pickle\n",
    "import importlib\n",
    "sys.path.insert(1, '../../../sibyl')"
   ]
  },
  {
   "cell_type": "markdown",
   "metadata": {},
   "source": [
    "In this tutorial, we use Sibyl to get feature contribution explanations for the AmesHousing dataset\n",
    "\n",
    "First, we load in the data. Sibyl expects all data as DataFrames, where columns have the feature names."
   ]
  },
  {
   "cell_type": "code",
   "execution_count": 7,
   "metadata": {},
   "outputs": [
    {
     "name": "stdout",
     "output_type": "stream",
     "text": [
      "(1456, 80) (1456,)\n"
     ]
    }
   ],
   "source": [
    "data = pd.read_csv(\"data.csv\")\n",
    "data = data[data.GrLivArea < 4000]\n",
    "y_orig = data[\"SalePrice\"]\n",
    "x_orig = data.drop(\"SalePrice\", axis=\"columns\")\n",
    "print(x_orig.shape, y_orig.shape)"
   ]
  },
  {
   "cell_type": "markdown",
   "metadata": {},
   "source": [
    "Next, we load in the interpretable feature descriptions."
   ]
  },
  {
   "cell_type": "code",
   "execution_count": 8,
   "metadata": {},
   "outputs": [],
   "source": [
    "descriptions_df = pd.read_csv(\"feature_descriptions.csv\")\n",
    "descriptions = descriptions_df.set_index(\"Name\").to_dict()[\"Description\"]"
   ]
  },
  {
   "cell_type": "markdown",
   "metadata": {},
   "source": [
    "Next, we prepare the transfomers. There are three kinds of transformers: e_transforms, m_transforms, and i_transforms. In this case, the original data is already interpretable, and the explanation algorithm will take the data in its model_ready form.\n",
    "\n",
    "Therefore, i_transforms=None and e_transforms=m_transforms.\n",
    "\n",
    "The first kind of transform we will do it to manually impute the data based on information we know about the dataset.\n",
    "We will call this the `AmesHousingImputer`\n",
    "\n",
    "This imputation code comes from https://www.kaggle.com/juliencs/a-study-on-regression-applied-to-the-ames-dataset"
   ]
  },
  {
   "cell_type": "code",
   "execution_count": 9,
   "metadata": {},
   "outputs": [],
   "source": [
    "from sibyl.utils.transformer import BaseTransformer\n",
    "class AmesHousingImputer:\n",
    "    def transform(self, x_orig):\n",
    "            x_transform = x_orig.copy()\n",
    "            # Alley : data description says NA means \"no alley access\"\n",
    "            x_transform.loc[:, \"Alley\"] = x_transform.loc[:, \"Alley\"].fillna(\"None\")\n",
    "            # BedroomAbvGr : NA most likely means 0\n",
    "            x_transform.loc[:, \"BedroomAbvGr\"] = x_transform.loc[:, \"BedroomAbvGr\"].fillna(0)\n",
    "            # BsmtQual etc : x_transform description says NA for basement features is \"no basement\"\n",
    "            x_transform.loc[:, \"BsmtQual\"] = x_transform.loc[:, \"BsmtQual\"].fillna(\"No\")\n",
    "            x_transform.loc[:, \"BsmtCond\"] = x_transform.loc[:, \"BsmtCond\"].fillna(\"No\")\n",
    "            x_transform.loc[:, \"BsmtExposure\"] = x_transform.loc[:, \"BsmtExposure\"].fillna(\"No\")\n",
    "            x_transform.loc[:, \"BsmtFinType1\"] = x_transform.loc[:, \"BsmtFinType1\"].fillna(\"No\")\n",
    "            x_transform.loc[:, \"BsmtFinType2\"] = x_transform.loc[:, \"BsmtFinType2\"].fillna(\"No\")\n",
    "            x_transform.loc[:, \"BsmtFullBath\"] = x_transform.loc[:, \"BsmtFullBath\"].fillna(0)\n",
    "            x_transform.loc[:, \"BsmtHalfBath\"] = x_transform.loc[:, \"BsmtHalfBath\"].fillna(0)\n",
    "            x_transform.loc[:, \"BsmtUnfSF\"] = x_transform.loc[:, \"BsmtUnfSF\"].fillna(0)\n",
    "            # CentralAir : NA most likely means No\n",
    "            x_transform.loc[:, \"CentralAir\"] = x_transform.loc[:, \"CentralAir\"].fillna(\"N\")\n",
    "            # Condition : NA most likely means Normal\n",
    "            x_transform.loc[:, \"Condition1\"] = x_transform.loc[:, \"Condition1\"].fillna(\"Norm\")\n",
    "            x_transform.loc[:, \"Condition2\"] = x_transform.loc[:, \"Condition2\"].fillna(\"Norm\")\n",
    "            # EnclosedPorch : NA most likely means no enclosed porch\n",
    "            x_transform.loc[:, \"EnclosedPorch\"] = x_transform.loc[:, \"EnclosedPorch\"].fillna(0)\n",
    "            # External stuff : NA most likely means average\n",
    "            x_transform.loc[:, \"ExterCond\"] = x_transform.loc[:, \"ExterCond\"].fillna(\"TA\")\n",
    "            x_transform.loc[:, \"ExterQual\"] = x_transform.loc[:, \"ExterQual\"].fillna(\"TA\")\n",
    "            # Fence : x_transform description says NA means \"no fence\"\n",
    "            x_transform.loc[:, \"Fence\"] = x_transform.loc[:, \"Fence\"].fillna(\"No\")\n",
    "            # FireplaceQu : x_transform description says NA means \"no fireplace\"\n",
    "            x_transform.loc[:, \"FireplaceQu\"] = x_transform.loc[:, \"FireplaceQu\"].fillna(\"No\")\n",
    "            x_transform.loc[:, \"Fireplaces\"] = x_transform.loc[:, \"Fireplaces\"].fillna(0)\n",
    "            # Functional : x_transform description says NA means typical\n",
    "            x_transform.loc[:, \"Functional\"] = x_transform.loc[:, \"Functional\"].fillna(\"Typ\")\n",
    "            # GarageType etc : x_transform description says NA for garage features is \"no garage\"\n",
    "            x_transform.loc[:, \"GarageType\"] = x_transform.loc[:, \"GarageType\"].fillna(\"No\")\n",
    "            x_transform.loc[:, \"GarageFinish\"] = x_transform.loc[:, \"GarageFinish\"].fillna(\"No\")\n",
    "            x_transform.loc[:, \"GarageQual\"] = x_transform.loc[:, \"GarageQual\"].fillna(\"No\")\n",
    "            x_transform.loc[:, \"GarageCond\"] = x_transform.loc[:, \"GarageCond\"].fillna(\"No\")\n",
    "            x_transform.loc[:, \"GarageArea\"] = x_transform.loc[:, \"GarageArea\"].fillna(0)\n",
    "            x_transform.loc[:, \"GarageCars\"] = x_transform.loc[:, \"GarageCars\"].fillna(0)\n",
    "            # HalfBath : NA most likely means no half baths above grade\n",
    "            x_transform.loc[:, \"HalfBath\"] = x_transform.loc[:, \"HalfBath\"].fillna(0)\n",
    "            # HeatingQC : NA most likely means typical\n",
    "            x_transform.loc[:, \"HeatingQC\"] = x_transform.loc[:, \"HeatingQC\"].fillna(\"TA\")\n",
    "            # KitchenAbvGr : NA most likely means 0\n",
    "            x_transform.loc[:, \"KitchenAbvGr\"] = x_transform.loc[:, \"KitchenAbvGr\"].fillna(0)\n",
    "            # KitchenQual : NA most likely means typical\n",
    "            x_transform.loc[:, \"KitchenQual\"] = x_transform.loc[:, \"KitchenQual\"].fillna(\"TA\")\n",
    "            # LotFrontage : NA most likely means no lot frontage\n",
    "            x_transform.loc[:, \"LotFrontage\"] = x_transform.loc[:, \"LotFrontage\"].fillna(0)\n",
    "            # LotShape : NA most likely means regular\n",
    "            x_transform.loc[:, \"LotShape\"] = x_transform.loc[:, \"LotShape\"].fillna(\"Reg\")\n",
    "            # MasVnrType : NA most likely means no veneer\n",
    "            x_transform.loc[:, \"MasVnrType\"] = x_transform.loc[:, \"MasVnrType\"].fillna(\"None\")\n",
    "            x_transform.loc[:, \"MasVnrArea\"] = x_transform.loc[:, \"MasVnrArea\"].fillna(0)\n",
    "            # MiscFeature : x_transform description says NA means \"no misc feature\"\n",
    "            x_transform.loc[:, \"MiscFeature\"] = x_transform.loc[:, \"MiscFeature\"].fillna(\"No\")\n",
    "            x_transform.loc[:, \"MiscVal\"] = x_transform.loc[:, \"MiscVal\"].fillna(0)\n",
    "            # OpenPorchSF : NA most likely means no open porch\n",
    "            x_transform.loc[:, \"OpenPorchSF\"] = x_transform.loc[:, \"OpenPorchSF\"].fillna(0)\n",
    "            # PavedDrive : NA most likely means not paved\n",
    "            x_transform.loc[:, \"PavedDrive\"] = x_transform.loc[:, \"PavedDrive\"].fillna(\"N\")\n",
    "            # PoolQC : x_transform description says NA means \"no pool\"\n",
    "            x_transform.loc[:, \"PoolQC\"] = x_transform.loc[:, \"PoolQC\"].fillna(\"No\")\n",
    "            x_transform.loc[:, \"PoolArea\"] = x_transform.loc[:, \"PoolArea\"].fillna(0)\n",
    "            # SaleCondition : NA most likely means normal sale\n",
    "            x_transform.loc[:, \"SaleCondition\"] = x_transform.loc[:, \"SaleCondition\"].fillna(\"Normal\")\n",
    "            # ScreenPorch : NA most likely means no screen porch\n",
    "            x_transform.loc[:, \"ScreenPorch\"] = x_transform.loc[:, \"ScreenPorch\"].fillna(0)\n",
    "            # TotRmsAbvGrd : NA most likely means 0\n",
    "            x_transform.loc[:, \"TotRmsAbvGrd\"] = x_transform.loc[:, \"TotRmsAbvGrd\"].fillna(0)\n",
    "            # Utilities : NA most likely means all public utilities\n",
    "            x_transform.loc[:, \"Utilities\"] = x_transform.loc[:, \"Utilities\"].fillna(\"AllPub\")\n",
    "            # WoodDeckSF : NA most likely means no wood deck\n",
    "            x_transform.loc[:, \"WoodDeckSF\"] = x_transform.loc[:, \"WoodDeckSF\"].fillna(0)\n",
    "            x_transform.loc[:, \"Electrical\"] = x_transform.loc[:, \"Electrical\"].fillna(\"SBrkr\")\n",
    "            \n",
    "            x_num = x_transform.select_dtypes(exclude=[\"object\"])\n",
    "            x_cat = x_transform.select_dtypes(include=[\"object\"])\n",
    "            x_num = x_num.fillna(x_num.median())\n",
    "            \n",
    "            return pd.concat([x_num, x_cat], axis=1)"
   ]
  },
  {
   "cell_type": "markdown",
   "metadata": {},
   "source": [
    "Next, we need to one-hot-encode the categorical variables. "
   ]
  },
  {
   "cell_type": "markdown",
   "metadata": {},
   "source": [
    "We will now fit the tranformers."
   ]
  },
  {
   "cell_type": "code",
   "execution_count": 10,
   "metadata": {},
   "outputs": [],
   "source": [
    "from sklearn.linear_model import Ridge\n",
    "from sklearn.preprocessing import StandardScaler\n",
    "from sibyl.utils.transformer import OneHotEncoderWrapper, DataFrameWrapper\n",
    "\n",
    "from keras.models import Sequential\n",
    "from keras.layers import Dense\n",
    "from keras.utils import to_categorical\n",
    "from keras.callbacks import ModelCheckpoint\n",
    "from keras.optimizers import Adam\n",
    "\n",
    "imputer = AmesHousingImputer()\n",
    "X_imputed = imputer.transform(X_orig)\n",
    "\n",
    "object_columns = X_imputed.select_dtypes(include=[\"object\"]).columns\n",
    "onehotencoder = OneHotEncoderWrapper(object_columns)\n",
    "onehotencoder.fit(X_imputed)"
   ]
  },
  {
   "cell_type": "markdown",
   "metadata": {},
   "source": [
    "Now, we can initialize the LocalFeatureContribution Explainer object."
   ]
  },
  {
   "cell_type": "code",
   "execution_count": 12,
   "metadata": {},
   "outputs": [],
   "source": [
    "from sibyl.explainers import local_feature_explanation\n",
    "importlib.reload(local_feature_explanation)\n",
    "\n",
    "m_transforms = [imputer, onehotencoder]#, standardizer]\n",
    "lfc = local_feature_explanation.LocalFeatureContribution(model_pickle_filepath=\"model.pkl\", \n",
    "                                                         x_orig=x_orig, e_transforms=m_transforms,\n",
    "                                                         m_transforms=m_transforms,\n",
    "                                                         contribution_transformers=onehotencoder,\n",
    "                                                         feature_descriptions=descriptions)"
   ]
  },
  {
   "cell_type": "markdown",
   "metadata": {},
   "source": [
    "We can make predictions using Explainer objects."
   ]
  },
  {
   "cell_type": "code",
   "execution_count": 13,
   "metadata": {},
   "outputs": [
    {
     "name": "stdout",
     "output_type": "stream",
     "text": [
      "0.008441633093187613\n"
     ]
    },
    {
     "data": {
      "image/png": "[encoded data removed]",
      "text/plain": [
       "<Figure size 432x288 with 1 Axes>"
      ]
     },
     "metadata": {
      "needs_background": "light"
     },
     "output_type": "display_data"
    }
   ],
   "source": [
    "import matplotlib.pyplot as plt\n",
    "\n",
    "preds = lfc.model_predict(X_orig).reshape(-1)\n",
    "print(np.mean((preds - np.log1p(y_orig))**2))\n",
    "\n",
    "sort_order = np.argsort(y_orig)\n",
    "\n",
    "x_axis = np.arange(len(y_orig))\n",
    "plt.plot(x_axis, np.log1p(y_orig).iloc[sort_order])\n",
    "plt.plot(x_axis, preds[sort_order])\n",
    "plt.show()\n"
   ]
  },
  {
   "cell_type": "code",
   "execution_count": 14,
   "metadata": {},
   "outputs": [],
   "source": [
    "lfc.fit()"
   ]
  },
  {
   "cell_type": "markdown",
   "metadata": {},
   "source": [
    "Finally, we can get contributions."
   ]
  },
  {
   "cell_type": "code",
   "execution_count": 27,
   "metadata": {},
   "outputs": [
    {
     "name": "stdout",
     "output_type": "stream",
     "text": [
      "Top contributing features: \n",
      " Original construction date - 0.05580365888113566\n",
      " Above grade (ground) living area square feet - 0.03817861922964804\n",
      " Rates the overall material and finish of the house - 0.037354510925780335\n",
      " Second floor square feet - 0.033370651850874906\n",
      " Remodel date (same as construction date if no remodeling or additions) - 0.014872988666617903\n",
      " Type 1 finished square feet - 0.01467236000170283\n",
      " Rating of basement finished area - 0.013872438050575647\n",
      " Basement full bathrooms - 0.013297920139855769\n",
      " Heating quality and condition - 0.012879596452316908\n",
      " Type of foundation - 0.012843783325508368\n",
      " Half baths above grade - 0.012774899651546564\n",
      " Condition of sale - 0.010201565015779995\n",
      " Identifies the general zoning classification of the sale. - 0.00861985358841419\n",
      " Exterior covering on house (if more than one material) - 0.008193244444100082\n",
      " Proximity to various conditions - 0.007351846216604659\n",
      " Full bathrooms above grade - 0.0071663528058205205\n",
      " Size of garage in car capacity - 0.006199632152764866\n",
      " Size of garage in square feet - 0.0059999489557362165\n",
      "Id - 0.005701412032013161\n",
      " Interior finish of the garage - 0.005554111738012695\n",
      " Home functionality (Assume typical unless deductions are warranted) - 0.004950392742123683\n",
      " Total rooms above grade (does not include bathrooms) - 0.004824525145559731\n",
      " Central air conditioning - 0.004056989811185319\n",
      " Rating of basement finished area (if multiple types) - 0.0033096889312493865\n",
      " Garage location - 0.003260062047690471\n",
      " Evaluates the present condition of the material on the exterior - 0.0029588884767336363\n",
      " Fence quality - 0.002853829217159483\n",
      " Type of dwelling - 0.0025106596319344455\n",
      " Unfinished square feet of basement area - 0.00230262091004488\n",
      " Kitchens above grade - 0.002055590089682379\n",
      " Month Sold (MM) - 0.0017625677918508497\n",
      " Paved driveway - 0.001412672433784338\n",
      " Masonry veneer type - 0.0014040019073202552\n",
      " Open porch area in square feet - 0.0013971710242987236\n",
      " Flatness of the property - 0.0008994591603133629\n",
      " Garage quality - 0.0007711063969751621\n",
      " Miscellaneous feature not covered in other categories - 0.0007337493169567891\n",
      " General shape of property - 0.0007263803632843223\n",
      " Garage condition - 0.0007207577902920174\n",
      " Type of road access to property - 0.000371209525763789\n",
      " Linear feet of street connected to property - 0.00036558891834429614\n",
      " Bedrooms above grade (does NOT include basement bedrooms) - 0.00035783693545100815\n",
      " Slope of property - 0.00034294543967429154\n",
      " Masonry veneer area in square feet - 0.0003037976535135619\n",
      " Pool quality - 0.00016326343245372845\n",
      " Type of utilities available - 7.73362467060035e-05\n",
      " Proximity to various conditions (if more than one is present) - 7.50486804179524e-05\n",
      " Type of heating - -4.0198704322393455e-05\n",
      " Evaluates the general condition of the basement - -4.580002486475124e-05\n",
      " Basement half bathrooms - -0.00014880530763330577\n",
      " Roof material - -0.00022166087514374007\n",
      " $Value of miscellaneous feature - -0.00022743032340479517\n",
      " Low quality finished square feet (all floors) - -0.00027023366966373667\n",
      " Year Sold (YYYY) - -0.00040663155210194426\n",
      " Three season porch area in square feet - -0.0004981184899800001\n",
      " Pool area in square feet - -0.0005094217566098476\n",
      " Type of alley access to property - -0.000722988748451509\n",
      " Electrical system - -0.0008185926423597166\n",
      " Type of roof - -0.0009246751070194371\n",
      " Identifies the type of dwelling involved in the sale. - -0.0009687016383131437\n",
      " Exterior covering on house - -0.0011533167372811922\n",
      " Evaluates the quality of the material on the exterior - -0.0019762709336033917\n",
      " Type 2 finished square feet - -0.002162553228295566\n",
      " Style of dwelling - -0.002280614465101914\n",
      " Evaluates the height of the basement - -0.002687212381357003\n",
      " Enclosed porch area in square feet - -0.0027193024755128\n",
      " Number of fireplaces - -0.0034445280828149507\n",
      " Screen porch area in square feet - -0.0039062029951263673\n",
      " Kitchen quality - -0.004125985298031315\n",
      " Lot configuration - -0.004312586880400896\n",
      " Year garage was built - -0.004921023609276639\n",
      " Lot size in square feet - -0.005293669315305456\n",
      " Physical locations within Ames city limits - -0.006782935138648714\n",
      " Refers to walkout or garden level walls - -0.006784253989615911\n",
      " Wood deck area in square feet - -0.008507367294150886\n",
      " Type of sale - -0.010002100099090512\n",
      " Fireplace quality - -0.010748373217384154\n",
      " Total square feet of basement area - -0.018560762924873575\n",
      " Rates the overall condition of the house - -0.021438186469736924\n",
      " First Floor square feet - -0.02292302712949008\n"
     ]
    }
   ],
   "source": [
    "contributions = lfc.produce(X_orig.iloc[0:1])\n",
    "top = contributions.sort_values(by=0, axis=1, ascending=False).iloc[:,:5]\n",
    "\n",
    "print(\"Top contributing features: \")\n",
    "for item in top:\n",
    "    print(item, \"-\", top[item].values[0])"
   ]
  },
  {
   "cell_type": "code",
   "execution_count": null,
   "metadata": {},
   "outputs": [],
   "source": []
  }
 ],
 "metadata": {
  "kernelspec": {
   "display_name": "Python 3",
   "language": "python",
   "name": "python3"
  },
  "language_info": {
   "codemirror_mode": {
    "name": "ipython",
    "version": 3
   },
   "file_extension": ".py",
   "mimetype": "text/x-python",
   "name": "python",
   "nbconvert_exporter": "python",
   "pygments_lexer": "ipython3",
   "version": "3.6.8"
  }
 },
 "nbformat": 4,
 "nbformat_minor": 2
}
