{
 "cells": [
  {
   "cell_type": "code",
   "execution_count": 1,
   "metadata": {},
   "outputs": [],
   "source": [
    "# Some code taken from:\n",
    "#   https://www.kaggle.com/juliencs/a-study-on-regression-applied-to-the-ames-dataset"
   ]
  },
  {
   "cell_type": "code",
   "execution_count": 2,
   "metadata": {},
   "outputs": [],
   "source": [
    "import pandas as pd\n",
    "import numpy as np\n",
    "import sys\n",
    "import pickle\n",
    "import importlib\n",
    "sys.path.insert(1, '../../../sibyl')"
   ]
  },
  {
   "cell_type": "markdown",
   "metadata": {},
   "source": [
    "In this tutorial, we use Sibyl to get feature contribution explanations for the AmesHousing dataset\n",
    "\n",
    "First, we load in the data. Sibyl expects all data as DataFrames, where columns have the feature names."
   ]
  },
  {
   "cell_type": "code",
   "execution_count": 3,
   "metadata": {},
   "outputs": [
    {
     "name": "stdout",
     "output_type": "stream",
     "text": [
      "(1460,) (1460, 80)\n"
     ]
    }
   ],
   "source": [
    "data = pd.read_csv(\"data.csv\")\n",
    "y_orig = data[\"SalePrice\"]\n",
    "X_orig = data.drop(\"SalePrice\", axis=\"columns\")\n",
    "\n",
    "print(y_orig.shape, X_orig.shape)"
   ]
  },
  {
   "cell_type": "markdown",
   "metadata": {},
   "source": [
    "Next, we prepare the transfomers. There are three kinds of transformers: e_transforms, m_transforms, and i_transforms. In this case, the original data is already interpretable, and the explanation algorithm will take the data in its model_ready form.\n",
    "\n",
    "Therefore, i_transforms=None and e_transforms=m_transforms.\n",
    "\n",
    "The first kind of transform we need will adjust the feature set and includes encoding categorical values and one-hot-encoding"
   ]
  },
  {
   "cell_type": "code",
   "execution_count": 42,
   "metadata": {},
   "outputs": [],
   "source": [
    "from sibyl.utils.transformer import BaseTransformer\n",
    "from sklearn.preprocessing import OneHotEncoder\n",
    "class AmesHousingImputer:\n",
    "    def transform(self, x_orig):\n",
    "            x_transform = x_orig.copy()\n",
    "            # Alley : data description says NA means \"no alley access\"\n",
    "            x_transform.loc[:, \"Alley\"] = x_transform.loc[:, \"Alley\"].fillna(\"None\")\n",
    "            # BedroomAbvGr : NA most likely means 0\n",
    "            x_transform.loc[:, \"BedroomAbvGr\"] = x_transform.loc[:, \"BedroomAbvGr\"].fillna(0)\n",
    "            # BsmtQual etc : x_transform description says NA for basement features is \"no basement\"\n",
    "            x_transform.loc[:, \"BsmtQual\"] = x_transform.loc[:, \"BsmtQual\"].fillna(\"No\")\n",
    "            x_transform.loc[:, \"BsmtCond\"] = x_transform.loc[:, \"BsmtCond\"].fillna(\"No\")\n",
    "            x_transform.loc[:, \"BsmtExposure\"] = x_transform.loc[:, \"BsmtExposure\"].fillna(\"No\")\n",
    "            x_transform.loc[:, \"BsmtFinType1\"] = x_transform.loc[:, \"BsmtFinType1\"].fillna(\"No\")\n",
    "            x_transform.loc[:, \"BsmtFinType2\"] = x_transform.loc[:, \"BsmtFinType2\"].fillna(\"No\")\n",
    "            x_transform.loc[:, \"BsmtFullBath\"] = x_transform.loc[:, \"BsmtFullBath\"].fillna(0)\n",
    "            x_transform.loc[:, \"BsmtHalfBath\"] = x_transform.loc[:, \"BsmtHalfBath\"].fillna(0)\n",
    "            x_transform.loc[:, \"BsmtUnfSF\"] = x_transform.loc[:, \"BsmtUnfSF\"].fillna(0)\n",
    "            # CentralAir : NA most likely means No\n",
    "            x_transform.loc[:, \"CentralAir\"] = x_transform.loc[:, \"CentralAir\"].fillna(\"N\")\n",
    "            # Condition : NA most likely means Normal\n",
    "            x_transform.loc[:, \"Condition1\"] = x_transform.loc[:, \"Condition1\"].fillna(\"Norm\")\n",
    "            x_transform.loc[:, \"Condition2\"] = x_transform.loc[:, \"Condition2\"].fillna(\"Norm\")\n",
    "            # EnclosedPorch : NA most likely means no enclosed porch\n",
    "            x_transform.loc[:, \"EnclosedPorch\"] = x_transform.loc[:, \"EnclosedPorch\"].fillna(0)\n",
    "            # External stuff : NA most likely means average\n",
    "            x_transform.loc[:, \"ExterCond\"] = x_transform.loc[:, \"ExterCond\"].fillna(\"TA\")\n",
    "            x_transform.loc[:, \"ExterQual\"] = x_transform.loc[:, \"ExterQual\"].fillna(\"TA\")\n",
    "            # Fence : x_transform description says NA means \"no fence\"\n",
    "            x_transform.loc[:, \"Fence\"] = x_transform.loc[:, \"Fence\"].fillna(\"No\")\n",
    "            # FireplaceQu : x_transform description says NA means \"no fireplace\"\n",
    "            x_transform.loc[:, \"FireplaceQu\"] = x_transform.loc[:, \"FireplaceQu\"].fillna(\"No\")\n",
    "            x_transform.loc[:, \"Fireplaces\"] = x_transform.loc[:, \"Fireplaces\"].fillna(0)\n",
    "            # Functional : x_transform description says NA means typical\n",
    "            x_transform.loc[:, \"Functional\"] = x_transform.loc[:, \"Functional\"].fillna(\"Typ\")\n",
    "            # GarageType etc : x_transform description says NA for garage features is \"no garage\"\n",
    "            x_transform.loc[:, \"GarageType\"] = x_transform.loc[:, \"GarageType\"].fillna(\"No\")\n",
    "            x_transform.loc[:, \"GarageFinish\"] = x_transform.loc[:, \"GarageFinish\"].fillna(\"No\")\n",
    "            x_transform.loc[:, \"GarageQual\"] = x_transform.loc[:, \"GarageQual\"].fillna(\"No\")\n",
    "            x_transform.loc[:, \"GarageCond\"] = x_transform.loc[:, \"GarageCond\"].fillna(\"No\")\n",
    "            x_transform.loc[:, \"GarageArea\"] = x_transform.loc[:, \"GarageArea\"].fillna(0)\n",
    "            x_transform.loc[:, \"GarageCars\"] = x_transform.loc[:, \"GarageCars\"].fillna(0)\n",
    "            # HalfBath : NA most likely means no half baths above grade\n",
    "            x_transform.loc[:, \"HalfBath\"] = x_transform.loc[:, \"HalfBath\"].fillna(0)\n",
    "            # HeatingQC : NA most likely means typical\n",
    "            x_transform.loc[:, \"HeatingQC\"] = x_transform.loc[:, \"HeatingQC\"].fillna(\"TA\")\n",
    "            # KitchenAbvGr : NA most likely means 0\n",
    "            x_transform.loc[:, \"KitchenAbvGr\"] = x_transform.loc[:, \"KitchenAbvGr\"].fillna(0)\n",
    "            # KitchenQual : NA most likely means typical\n",
    "            x_transform.loc[:, \"KitchenQual\"] = x_transform.loc[:, \"KitchenQual\"].fillna(\"TA\")\n",
    "            # LotFrontage : NA most likely means no lot frontage\n",
    "            x_transform.loc[:, \"LotFrontage\"] = x_transform.loc[:, \"LotFrontage\"].fillna(0)\n",
    "            # LotShape : NA most likely means regular\n",
    "            x_transform.loc[:, \"LotShape\"] = x_transform.loc[:, \"LotShape\"].fillna(\"Reg\")\n",
    "            # MasVnrType : NA most likely means no veneer\n",
    "            x_transform.loc[:, \"MasVnrType\"] = x_transform.loc[:, \"MasVnrType\"].fillna(\"None\")\n",
    "            x_transform.loc[:, \"MasVnrArea\"] = x_transform.loc[:, \"MasVnrArea\"].fillna(0)\n",
    "            # MiscFeature : x_transform description says NA means \"no misc feature\"\n",
    "            x_transform.loc[:, \"MiscFeature\"] = x_transform.loc[:, \"MiscFeature\"].fillna(\"No\")\n",
    "            x_transform.loc[:, \"MiscVal\"] = x_transform.loc[:, \"MiscVal\"].fillna(0)\n",
    "            # OpenPorchSF : NA most likely means no open porch\n",
    "            x_transform.loc[:, \"OpenPorchSF\"] = x_transform.loc[:, \"OpenPorchSF\"].fillna(0)\n",
    "            # PavedDrive : NA most likely means not paved\n",
    "            x_transform.loc[:, \"PavedDrive\"] = x_transform.loc[:, \"PavedDrive\"].fillna(\"N\")\n",
    "            # PoolQC : x_transform description says NA means \"no pool\"\n",
    "            x_transform.loc[:, \"PoolQC\"] = x_transform.loc[:, \"PoolQC\"].fillna(\"No\")\n",
    "            x_transform.loc[:, \"PoolArea\"] = x_transform.loc[:, \"PoolArea\"].fillna(0)\n",
    "            # SaleCondition : NA most likely means normal sale\n",
    "            x_transform.loc[:, \"SaleCondition\"] = x_transform.loc[:, \"SaleCondition\"].fillna(\"Normal\")\n",
    "            # ScreenPorch : NA most likely means no screen porch\n",
    "            x_transform.loc[:, \"ScreenPorch\"] = x_transform.loc[:, \"ScreenPorch\"].fillna(0)\n",
    "            # TotRmsAbvGrd : NA most likely means 0\n",
    "            x_transform.loc[:, \"TotRmsAbvGrd\"] = x_transform.loc[:, \"TotRmsAbvGrd\"].fillna(0)\n",
    "            # Utilities : NA most likely means all public utilities\n",
    "            x_transform.loc[:, \"Utilities\"] = x_transform.loc[:, \"Utilities\"].fillna(\"AllPub\")\n",
    "            # WoodDeckSF : NA most likely means no wood deck\n",
    "            x_transform.loc[:, \"WoodDeckSF\"] = x_transform.loc[:, \"WoodDeckSF\"].fillna(0)\n",
    "            \n",
    "            return x_transform\n",
    "\n",
    "class AmesHousingCategorizer:\n",
    "    def transform(self, x_orig):\n",
    "            x_transform = x_orig.copy()\n",
    "            x_transform = x_transform.drop(\"Id\", axis=\"columns\")\n",
    "            int_to_cat = {\"Alley\" : {\"Grvl\" : 1, \"Pave\" : 2},\n",
    "                      \"BsmtCond\" : {\"No\" : 0, \"Po\" : 1, \"Fa\" : 2, \"TA\" : 3, \"Gd\" : 4, \"Ex\" : 5},\n",
    "                      \"BsmtExposure\" : {\"No\" : 0, \"Mn\" : 1, \"Av\": 2, \"Gd\" : 3},\n",
    "                      \"BsmtFinType1\" : {\"No\" : 0, \"Unf\" : 1, \"LwQ\": 2, \"Rec\" : 3, \"BLQ\" : 4,\n",
    "                                        \"ALQ\" : 5, \"GLQ\" : 6},\n",
    "                      \"BsmtFinType2\" : {\"No\" : 0, \"Unf\" : 1, \"LwQ\": 2, \"Rec\" : 3, \"BLQ\" : 4,\n",
    "                                        \"ALQ\" : 5, \"GLQ\" : 6},\n",
    "                      \"BsmtQual\" : {\"No\" : 0, \"Po\" : 1, \"Fa\" : 2, \"TA\": 3, \"Gd\" : 4, \"Ex\" : 5},\n",
    "                      \"ExterCond\" : {\"Po\" : 1, \"Fa\" : 2, \"TA\": 3, \"Gd\": 4, \"Ex\" : 5},\n",
    "                      \"ExterQual\" : {\"Po\" : 1, \"Fa\" : 2, \"TA\": 3, \"Gd\": 4, \"Ex\" : 5},\n",
    "                      \"FireplaceQu\" : {\"No\" : 0, \"Po\" : 1, \"Fa\" : 2, \"TA\" : 3, \"Gd\" : 4, \"Ex\" : 5},\n",
    "                      \"Functional\" : {\"Sal\" : 1, \"Sev\" : 2, \"Maj2\" : 3, \"Maj1\" : 4, \"Mod\": 5,\n",
    "                               \"Min2\" : 6, \"Min1\" : 7, \"Typ\" : 8},\n",
    "                      \"GarageCond\" : {\"No\" : 0, \"Po\" : 1, \"Fa\" : 2, \"TA\" : 3, \"Gd\" : 4, \"Ex\" : 5},\n",
    "                      \"GarageQual\" : {\"No\" : 0, \"Po\" : 1, \"Fa\" : 2, \"TA\" : 3, \"Gd\" : 4, \"Ex\" : 5},\n",
    "                      \"HeatingQC\" : {\"Po\" : 1, \"Fa\" : 2, \"TA\" : 3, \"Gd\" : 4, \"Ex\" : 5},\n",
    "                      \"KitchenQual\" : {\"Po\" : 1, \"Fa\" : 2, \"TA\" : 3, \"Gd\" : 4, \"Ex\" : 5},\n",
    "                      \"LandSlope\" : {\"Sev\" : 1, \"Mod\" : 2, \"Gtl\" : 3},\n",
    "                      \"LotShape\" : {\"IR3\" : 1, \"IR2\" : 2, \"IR1\" : 3, \"Reg\" : 4},\n",
    "                      \"PavedDrive\" : {\"N\" : 0, \"P\" : 1, \"Y\" : 2},\n",
    "                      \"PoolQC\" : {\"No\" : 0, \"Fa\" : 1, \"TA\" : 2, \"Gd\" : 3, \"Ex\" : 4},\n",
    "                      \"Street\" : {\"Grvl\" : 1, \"Pave\" : 2},\n",
    "                      \"Utilities\" : {\"ELO\" : 1, \"NoSeWa\" : 2, \"NoSewr\" : 3, \"AllPub\" : 4}}\n",
    "            \n",
    "            x_transform = x_transform.replace(int_to_cat)\n",
    "            x_transform = x_transform.replace({\"MSSubClass\": {20: \"SC20\", 30: \"SC30\", 40: \"SC40\", 45: \"SC45\",\n",
    "                                                  50: \"SC50\", 60: \"SC60\", 70: \"SC70\", 75: \"SC75\",\n",
    "                                                  80: \"SC80\", 85: \"SC85\", 90: \"SC90\", 120: \"SC120\",\n",
    "                                                  150: \"SC150\", 160: \"SC160\", 180: \"SC180\", 190: \"SC190\"},\n",
    "                                                \"MoSold\": {1: \"Jan\", 2: \"Feb\", 3: \"Mar\", 4: \"Apr\", 5: \"May\", 6: \"Jun\",\n",
    "                                                  7: \"Jul\", 8: \"Aug\", 9: \"Sep\", 10: \"Oct\", 11: \"Nov\", 12: \"Dec\"}})\n",
    "            return x_transform\n",
    "\n",
    "class NumericMean:\n",
    "    def transform(self, x_orig):\n",
    "        x_num = x_orig.select_dtypes(exclude=[\"object\"])\n",
    "        x_cat = x_orig.select_dtypes(include=[\"object\"])\n",
    "        return pd.concat([x_num.fillna(x_num.median()), x_cat], axis=1).dropna()\n",
    "\n",
    "class OneHotEncoderWrapper:\n",
    "    def __init__(self):\n",
    "        self.ohe = OneHotEncoder(handle_unknown=\"ignore\", sparse=False, dtype=pd.DataFrame)\n",
    "        \n",
    "    def fit(self, x_orig):\n",
    "        self.ohe.fit(x_orig.select_dtypes(include=[\"object\"]).astype(\"str\"))\n",
    "        \n",
    "    def transform(self, x_orig):\n",
    "        x_num = x_orig.select_dtypes(exclude=[\"object\"])\n",
    "        x_cat = x_orig.select_dtypes(include=[\"object\"]).astype(\"str\")\n",
    "        x_cat_ohe = self.ohe.transform(x_cat)\n",
    "        return pd.concat([x_num, x_cat_ohe], axis=1)"
   ]
  },
  {
   "cell_type": "markdown",
   "metadata": {},
   "source": [
    "The next kind of transformer we need is a standardizer.\n",
    "todo: move fitting and training model out of this tutorial and just load in pickle files"
   ]
  },
  {
   "cell_type": "code",
   "execution_count": 43,
   "metadata": {},
   "outputs": [
    {
     "ename": "ValueError",
     "evalue": "unsupported data types in input",
     "output_type": "error",
     "traceback": [
      "\u001b[1;31m---------------------------------------------------------------------------\u001b[0m",
      "\u001b[1;31mValueError\u001b[0m                                Traceback (most recent call last)",
      "\u001b[1;32m<ipython-input-43-0b4dba3deb09>\u001b[0m in \u001b[0;36m<module>\u001b[1;34m()\u001b[0m\n\u001b[0;32m     10\u001b[0m \u001b[0mX_numeric\u001b[0m \u001b[1;33m=\u001b[0m \u001b[0mnm\u001b[0m\u001b[1;33m.\u001b[0m\u001b[0mtransform\u001b[0m\u001b[1;33m(\u001b[0m\u001b[0mX_numeric\u001b[0m\u001b[1;33m)\u001b[0m\u001b[1;33m\u001b[0m\u001b[1;33m\u001b[0m\u001b[0m\n\u001b[0;32m     11\u001b[0m \u001b[0mohe\u001b[0m\u001b[1;33m.\u001b[0m\u001b[0mfit\u001b[0m\u001b[1;33m(\u001b[0m\u001b[0mX_numeric\u001b[0m\u001b[1;33m)\u001b[0m\u001b[1;33m\u001b[0m\u001b[1;33m\u001b[0m\u001b[0m\n\u001b[1;32m---> 12\u001b[1;33m \u001b[0mX_numeric\u001b[0m \u001b[1;33m=\u001b[0m \u001b[0mohe\u001b[0m\u001b[1;33m.\u001b[0m\u001b[0mtransform\u001b[0m\u001b[1;33m(\u001b[0m\u001b[0mX_numeric\u001b[0m\u001b[1;33m)\u001b[0m\u001b[1;33m\u001b[0m\u001b[1;33m\u001b[0m\u001b[0m\n\u001b[0m\u001b[0;32m     13\u001b[0m \u001b[1;33m\u001b[0m\u001b[0m\n\u001b[0;32m     14\u001b[0m \u001b[0mstandard_transformer\u001b[0m \u001b[1;33m=\u001b[0m \u001b[0mStandardScaler\u001b[0m\u001b[1;33m(\u001b[0m\u001b[1;33m)\u001b[0m\u001b[1;33m\u001b[0m\u001b[1;33m\u001b[0m\u001b[0m\n",
      "\u001b[1;32m<ipython-input-42-0ce514202753>\u001b[0m in \u001b[0;36mtransform\u001b[1;34m(self, x_orig)\u001b[0m\n\u001b[0;32m    132\u001b[0m         \u001b[0mx_num\u001b[0m \u001b[1;33m=\u001b[0m \u001b[0mx_orig\u001b[0m\u001b[1;33m.\u001b[0m\u001b[0mselect_dtypes\u001b[0m\u001b[1;33m(\u001b[0m\u001b[0mexclude\u001b[0m\u001b[1;33m=\u001b[0m\u001b[1;33m[\u001b[0m\u001b[1;34m\"object\"\u001b[0m\u001b[1;33m]\u001b[0m\u001b[1;33m)\u001b[0m\u001b[1;33m\u001b[0m\u001b[1;33m\u001b[0m\u001b[0m\n\u001b[0;32m    133\u001b[0m         \u001b[0mx_cat\u001b[0m \u001b[1;33m=\u001b[0m \u001b[0mx_orig\u001b[0m\u001b[1;33m.\u001b[0m\u001b[0mselect_dtypes\u001b[0m\u001b[1;33m(\u001b[0m\u001b[0minclude\u001b[0m\u001b[1;33m=\u001b[0m\u001b[1;33m[\u001b[0m\u001b[1;34m\"object\"\u001b[0m\u001b[1;33m]\u001b[0m\u001b[1;33m)\u001b[0m\u001b[1;33m.\u001b[0m\u001b[0mastype\u001b[0m\u001b[1;33m(\u001b[0m\u001b[1;34m\"str\"\u001b[0m\u001b[1;33m)\u001b[0m\u001b[1;33m\u001b[0m\u001b[1;33m\u001b[0m\u001b[0m\n\u001b[1;32m--> 134\u001b[1;33m         \u001b[0mx_cat_ohe\u001b[0m \u001b[1;33m=\u001b[0m \u001b[0mself\u001b[0m\u001b[1;33m.\u001b[0m\u001b[0mohe\u001b[0m\u001b[1;33m.\u001b[0m\u001b[0mtransform\u001b[0m\u001b[1;33m(\u001b[0m\u001b[0mx_cat\u001b[0m\u001b[1;33m)\u001b[0m\u001b[1;33m\u001b[0m\u001b[1;33m\u001b[0m\u001b[0m\n\u001b[0m\u001b[0;32m    135\u001b[0m         \u001b[1;32mreturn\u001b[0m \u001b[0mpd\u001b[0m\u001b[1;33m.\u001b[0m\u001b[0mconcat\u001b[0m\u001b[1;33m(\u001b[0m\u001b[1;33m[\u001b[0m\u001b[0mx_num\u001b[0m\u001b[1;33m,\u001b[0m \u001b[0mx_cat_ohe\u001b[0m\u001b[1;33m]\u001b[0m\u001b[1;33m,\u001b[0m \u001b[0maxis\u001b[0m\u001b[1;33m=\u001b[0m\u001b[1;36m1\u001b[0m\u001b[1;33m)\u001b[0m\u001b[1;33m\u001b[0m\u001b[1;33m\u001b[0m\u001b[0m\n",
      "\u001b[1;32m~\\Anaconda3\\lib\\site-packages\\sklearn\\preprocessing\\_encoders.py\u001b[0m in \u001b[0;36mtransform\u001b[1;34m(self, X)\u001b[0m\n\u001b[0;32m    467\u001b[0m                                 dtype=self.dtype)\n\u001b[0;32m    468\u001b[0m         \u001b[1;32mif\u001b[0m \u001b[1;32mnot\u001b[0m \u001b[0mself\u001b[0m\u001b[1;33m.\u001b[0m\u001b[0msparse\u001b[0m\u001b[1;33m:\u001b[0m\u001b[1;33m\u001b[0m\u001b[1;33m\u001b[0m\u001b[0m\n\u001b[1;32m--> 469\u001b[1;33m             \u001b[1;32mreturn\u001b[0m \u001b[0mout\u001b[0m\u001b[1;33m.\u001b[0m\u001b[0mtoarray\u001b[0m\u001b[1;33m(\u001b[0m\u001b[1;33m)\u001b[0m\u001b[1;33m\u001b[0m\u001b[1;33m\u001b[0m\u001b[0m\n\u001b[0m\u001b[0;32m    470\u001b[0m         \u001b[1;32melse\u001b[0m\u001b[1;33m:\u001b[0m\u001b[1;33m\u001b[0m\u001b[1;33m\u001b[0m\u001b[0m\n\u001b[0;32m    471\u001b[0m             \u001b[1;32mreturn\u001b[0m \u001b[0mout\u001b[0m\u001b[1;33m\u001b[0m\u001b[1;33m\u001b[0m\u001b[0m\n",
      "\u001b[1;32m~\\Anaconda3\\lib\\site-packages\\scipy\\sparse\\compressed.py\u001b[0m in \u001b[0;36mtoarray\u001b[1;34m(self, order, out)\u001b[0m\n\u001b[0;32m    971\u001b[0m             \u001b[0my\u001b[0m \u001b[1;33m=\u001b[0m \u001b[0mout\u001b[0m\u001b[1;33m.\u001b[0m\u001b[0mT\u001b[0m\u001b[1;33m\u001b[0m\u001b[1;33m\u001b[0m\u001b[0m\n\u001b[0;32m    972\u001b[0m         \u001b[0mM\u001b[0m\u001b[1;33m,\u001b[0m \u001b[0mN\u001b[0m \u001b[1;33m=\u001b[0m \u001b[0mx\u001b[0m\u001b[1;33m.\u001b[0m\u001b[0m_swap\u001b[0m\u001b[1;33m(\u001b[0m\u001b[0mx\u001b[0m\u001b[1;33m.\u001b[0m\u001b[0mshape\u001b[0m\u001b[1;33m)\u001b[0m\u001b[1;33m\u001b[0m\u001b[1;33m\u001b[0m\u001b[0m\n\u001b[1;32m--> 973\u001b[1;33m         \u001b[0m_sparsetools\u001b[0m\u001b[1;33m.\u001b[0m\u001b[0mcsr_todense\u001b[0m\u001b[1;33m(\u001b[0m\u001b[0mM\u001b[0m\u001b[1;33m,\u001b[0m \u001b[0mN\u001b[0m\u001b[1;33m,\u001b[0m \u001b[0mx\u001b[0m\u001b[1;33m.\u001b[0m\u001b[0mindptr\u001b[0m\u001b[1;33m,\u001b[0m \u001b[0mx\u001b[0m\u001b[1;33m.\u001b[0m\u001b[0mindices\u001b[0m\u001b[1;33m,\u001b[0m \u001b[0mx\u001b[0m\u001b[1;33m.\u001b[0m\u001b[0mdata\u001b[0m\u001b[1;33m,\u001b[0m \u001b[0my\u001b[0m\u001b[1;33m)\u001b[0m\u001b[1;33m\u001b[0m\u001b[1;33m\u001b[0m\u001b[0m\n\u001b[0m\u001b[0;32m    974\u001b[0m         \u001b[1;32mreturn\u001b[0m \u001b[0mout\u001b[0m\u001b[1;33m\u001b[0m\u001b[1;33m\u001b[0m\u001b[0m\n\u001b[0;32m    975\u001b[0m \u001b[1;33m\u001b[0m\u001b[0m\n",
      "\u001b[1;31mValueError\u001b[0m: unsupported data types in input"
     ]
    }
   ],
   "source": [
    "from sklearn.preprocessing import StandardScaler\n",
    "\n",
    "ahi = AmesHousingImputer()\n",
    "ahc = AmesHousingCategorizer()\n",
    "ohe = OneHotEncoderWrapper()\n",
    "nm = NumericMean()\n",
    "\n",
    "X_numeric = ahi.transform(X_orig)\n",
    "X_numeric = ahc.transform(X_numeric)\n",
    "X_numeric = nm.transform(X_numeric)\n",
    "ohe.fit(X_numeric)\n",
    "X_numeric = ohe.transform(X_numeric)\n",
    "\n",
    "standard_transformer = StandardScaler()\n",
    "standard_transformer.fit(X_numeric)"
   ]
  },
  {
   "cell_type": "code",
   "execution_count": null,
   "metadata": {},
   "outputs": [],
   "source": [
    "from sklearn.linear_model import Ridge\n",
    "\n",
    "X_model = standard_transformer.transform(X_numeric)\n",
    "model = Ridge()\n",
    "model.fit(X_model, np.log1p(y_orig))\n",
    "\n",
    "pickle.dump(model, open(\"model.pkl\", \"wb\"))"
   ]
  },
  {
   "cell_type": "code",
   "execution_count": null,
   "metadata": {},
   "outputs": [],
   "source": [
    "from sibyl.explainers import local_feature_explanation\n",
    "importlib.reload(local_feature_explanation)\n",
    "\n",
    "m_transforms = [AmesHousingImputer(), AmesHousingCategorizer(), OneHotEncoderWrapper(), NumericMean(), standard_scaler]\n",
    "lfc = local_feature_explanation.LocalFeatureContribution(model_pickle_filepath=\"model.pkl\", \n",
    "                                                         X_orig=X_orig, e_transforms=m_transforms,\n",
    "                                                         m_transforms=m_transforms)"
   ]
  },
  {
   "cell_type": "code",
   "execution_count": null,
   "metadata": {
    "scrolled": false
   },
   "outputs": [],
   "source": [
    "preds = lfc.model_predict(X_orig)"
   ]
  },
  {
   "cell_type": "code",
   "execution_count": null,
   "metadata": {},
   "outputs": [],
   "source": [
    "lfc.fit()"
   ]
  },
  {
   "cell_type": "code",
   "execution_count": null,
   "metadata": {},
   "outputs": [],
   "source": [
    "contributions = lfc.produce(X_orig.iloc[0])\n",
    "print(contributions)"
   ]
  }
 ],
 "metadata": {
  "kernelspec": {
   "display_name": "Python 3",
   "language": "python",
   "name": "python3"
  },
  "language_info": {
   "codemirror_mode": {
    "name": "ipython",
    "version": 3
   },
   "file_extension": ".py",
   "mimetype": "text/x-python",
   "name": "python",
   "nbconvert_exporter": "python",
   "pygments_lexer": "ipython3",
   "version": "3.6.8"
  }
 },
 "nbformat": 4,
 "nbformat_minor": 2
}
