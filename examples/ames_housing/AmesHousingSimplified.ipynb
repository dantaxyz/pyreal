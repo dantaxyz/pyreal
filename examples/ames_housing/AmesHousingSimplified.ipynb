{
 "cells": [
  {
   "cell_type": "code",
   "execution_count": 1,
   "metadata": {},
   "outputs": [],
   "source": [
    "import pandas as pd\n",
    "import numpy as np\n",
    "import sys\n",
    "import pickle\n",
    "import importlib\n",
    "sys.path.insert(1, '../../../sibyl')"
   ]
  },
  {
   "cell_type": "markdown",
   "metadata": {},
   "source": [
    "In this tutorial, we use Sibyl to get feature contribution explanations for the AmesHousing dataset\n",
    "\n",
    "First, we load in the data. Sibyl expects all data as DataFrames, where columns have the feature names."
   ]
  },
  {
   "cell_type": "code",
   "execution_count": 2,
   "metadata": {},
   "outputs": [
    {
     "name": "stdout",
     "output_type": "stream",
     "text": [
      "(1456, 80) (1456,)\n"
     ]
    }
   ],
   "source": [
    "data = pd.read_csv(\"data.csv\")\n",
    "data = data[data.GrLivArea < 4000]\n",
    "y_orig = data[\"SalePrice\"]\n",
    "X_orig = data.drop(\"SalePrice\", axis=\"columns\")\n",
    "print(X_orig.shape, y_orig.shape)"
   ]
  },
  {
   "cell_type": "markdown",
   "metadata": {},
   "source": [
    "Next, we prepare the transfomers. There are three kinds of transformers: e_transforms, m_transforms, and i_transforms. In this case, the original data is already interpretable, and the explanation algorithm will take the data in its model_ready form.\n",
    "\n",
    "Therefore, i_transforms=None and e_transforms=m_transforms.\n",
    "\n",
    "The first kind of transform we will do it to manually impute the data based on information we know about the dataset.\n",
    "We will call this the `AmesHousingImputer`\n",
    "\n",
    "This imputation code comes from https://www.kaggle.com/juliencs/a-study-on-regression-applied-to-the-ames-dataset"
   ]
  },
  {
   "cell_type": "code",
   "execution_count": 3,
   "metadata": {},
   "outputs": [],
   "source": [
    "from sibyl.utils.transformer import BaseTransformer\n",
    "class AmesHousingImputer:\n",
    "    def transform(self, x_orig):\n",
    "            x_transform = x_orig.copy()\n",
    "            # Alley : data description says NA means \"no alley access\"\n",
    "            x_transform.loc[:, \"Alley\"] = x_transform.loc[:, \"Alley\"].fillna(\"None\")\n",
    "            # BedroomAbvGr : NA most likely means 0\n",
    "            x_transform.loc[:, \"BedroomAbvGr\"] = x_transform.loc[:, \"BedroomAbvGr\"].fillna(0)\n",
    "            # BsmtQual etc : x_transform description says NA for basement features is \"no basement\"\n",
    "            x_transform.loc[:, \"BsmtQual\"] = x_transform.loc[:, \"BsmtQual\"].fillna(\"No\")\n",
    "            x_transform.loc[:, \"BsmtCond\"] = x_transform.loc[:, \"BsmtCond\"].fillna(\"No\")\n",
    "            x_transform.loc[:, \"BsmtExposure\"] = x_transform.loc[:, \"BsmtExposure\"].fillna(\"No\")\n",
    "            x_transform.loc[:, \"BsmtFinType1\"] = x_transform.loc[:, \"BsmtFinType1\"].fillna(\"No\")\n",
    "            x_transform.loc[:, \"BsmtFinType2\"] = x_transform.loc[:, \"BsmtFinType2\"].fillna(\"No\")\n",
    "            x_transform.loc[:, \"BsmtFullBath\"] = x_transform.loc[:, \"BsmtFullBath\"].fillna(0)\n",
    "            x_transform.loc[:, \"BsmtHalfBath\"] = x_transform.loc[:, \"BsmtHalfBath\"].fillna(0)\n",
    "            x_transform.loc[:, \"BsmtUnfSF\"] = x_transform.loc[:, \"BsmtUnfSF\"].fillna(0)\n",
    "            # CentralAir : NA most likely means No\n",
    "            x_transform.loc[:, \"CentralAir\"] = x_transform.loc[:, \"CentralAir\"].fillna(\"N\")\n",
    "            # Condition : NA most likely means Normal\n",
    "            x_transform.loc[:, \"Condition1\"] = x_transform.loc[:, \"Condition1\"].fillna(\"Norm\")\n",
    "            x_transform.loc[:, \"Condition2\"] = x_transform.loc[:, \"Condition2\"].fillna(\"Norm\")\n",
    "            # EnclosedPorch : NA most likely means no enclosed porch\n",
    "            x_transform.loc[:, \"EnclosedPorch\"] = x_transform.loc[:, \"EnclosedPorch\"].fillna(0)\n",
    "            # External stuff : NA most likely means average\n",
    "            x_transform.loc[:, \"ExterCond\"] = x_transform.loc[:, \"ExterCond\"].fillna(\"TA\")\n",
    "            x_transform.loc[:, \"ExterQual\"] = x_transform.loc[:, \"ExterQual\"].fillna(\"TA\")\n",
    "            # Fence : x_transform description says NA means \"no fence\"\n",
    "            x_transform.loc[:, \"Fence\"] = x_transform.loc[:, \"Fence\"].fillna(\"No\")\n",
    "            # FireplaceQu : x_transform description says NA means \"no fireplace\"\n",
    "            x_transform.loc[:, \"FireplaceQu\"] = x_transform.loc[:, \"FireplaceQu\"].fillna(\"No\")\n",
    "            x_transform.loc[:, \"Fireplaces\"] = x_transform.loc[:, \"Fireplaces\"].fillna(0)\n",
    "            # Functional : x_transform description says NA means typical\n",
    "            x_transform.loc[:, \"Functional\"] = x_transform.loc[:, \"Functional\"].fillna(\"Typ\")\n",
    "            # GarageType etc : x_transform description says NA for garage features is \"no garage\"\n",
    "            x_transform.loc[:, \"GarageType\"] = x_transform.loc[:, \"GarageType\"].fillna(\"No\")\n",
    "            x_transform.loc[:, \"GarageFinish\"] = x_transform.loc[:, \"GarageFinish\"].fillna(\"No\")\n",
    "            x_transform.loc[:, \"GarageQual\"] = x_transform.loc[:, \"GarageQual\"].fillna(\"No\")\n",
    "            x_transform.loc[:, \"GarageCond\"] = x_transform.loc[:, \"GarageCond\"].fillna(\"No\")\n",
    "            x_transform.loc[:, \"GarageArea\"] = x_transform.loc[:, \"GarageArea\"].fillna(0)\n",
    "            x_transform.loc[:, \"GarageCars\"] = x_transform.loc[:, \"GarageCars\"].fillna(0)\n",
    "            # HalfBath : NA most likely means no half baths above grade\n",
    "            x_transform.loc[:, \"HalfBath\"] = x_transform.loc[:, \"HalfBath\"].fillna(0)\n",
    "            # HeatingQC : NA most likely means typical\n",
    "            x_transform.loc[:, \"HeatingQC\"] = x_transform.loc[:, \"HeatingQC\"].fillna(\"TA\")\n",
    "            # KitchenAbvGr : NA most likely means 0\n",
    "            x_transform.loc[:, \"KitchenAbvGr\"] = x_transform.loc[:, \"KitchenAbvGr\"].fillna(0)\n",
    "            # KitchenQual : NA most likely means typical\n",
    "            x_transform.loc[:, \"KitchenQual\"] = x_transform.loc[:, \"KitchenQual\"].fillna(\"TA\")\n",
    "            # LotFrontage : NA most likely means no lot frontage\n",
    "            x_transform.loc[:, \"LotFrontage\"] = x_transform.loc[:, \"LotFrontage\"].fillna(0)\n",
    "            # LotShape : NA most likely means regular\n",
    "            x_transform.loc[:, \"LotShape\"] = x_transform.loc[:, \"LotShape\"].fillna(\"Reg\")\n",
    "            # MasVnrType : NA most likely means no veneer\n",
    "            x_transform.loc[:, \"MasVnrType\"] = x_transform.loc[:, \"MasVnrType\"].fillna(\"None\")\n",
    "            x_transform.loc[:, \"MasVnrArea\"] = x_transform.loc[:, \"MasVnrArea\"].fillna(0)\n",
    "            # MiscFeature : x_transform description says NA means \"no misc feature\"\n",
    "            x_transform.loc[:, \"MiscFeature\"] = x_transform.loc[:, \"MiscFeature\"].fillna(\"No\")\n",
    "            x_transform.loc[:, \"MiscVal\"] = x_transform.loc[:, \"MiscVal\"].fillna(0)\n",
    "            # OpenPorchSF : NA most likely means no open porch\n",
    "            x_transform.loc[:, \"OpenPorchSF\"] = x_transform.loc[:, \"OpenPorchSF\"].fillna(0)\n",
    "            # PavedDrive : NA most likely means not paved\n",
    "            x_transform.loc[:, \"PavedDrive\"] = x_transform.loc[:, \"PavedDrive\"].fillna(\"N\")\n",
    "            # PoolQC : x_transform description says NA means \"no pool\"\n",
    "            x_transform.loc[:, \"PoolQC\"] = x_transform.loc[:, \"PoolQC\"].fillna(\"No\")\n",
    "            x_transform.loc[:, \"PoolArea\"] = x_transform.loc[:, \"PoolArea\"].fillna(0)\n",
    "            # SaleCondition : NA most likely means normal sale\n",
    "            x_transform.loc[:, \"SaleCondition\"] = x_transform.loc[:, \"SaleCondition\"].fillna(\"Normal\")\n",
    "            # ScreenPorch : NA most likely means no screen porch\n",
    "            x_transform.loc[:, \"ScreenPorch\"] = x_transform.loc[:, \"ScreenPorch\"].fillna(0)\n",
    "            # TotRmsAbvGrd : NA most likely means 0\n",
    "            x_transform.loc[:, \"TotRmsAbvGrd\"] = x_transform.loc[:, \"TotRmsAbvGrd\"].fillna(0)\n",
    "            # Utilities : NA most likely means all public utilities\n",
    "            x_transform.loc[:, \"Utilities\"] = x_transform.loc[:, \"Utilities\"].fillna(\"AllPub\")\n",
    "            # WoodDeckSF : NA most likely means no wood deck\n",
    "            x_transform.loc[:, \"WoodDeckSF\"] = x_transform.loc[:, \"WoodDeckSF\"].fillna(0)\n",
    "            x_transform.loc[:, \"Electrical\"] = x_transform.loc[:, \"Electrical\"].fillna(\"SBrkr\")\n",
    "            \n",
    "            x_num = x_transform.select_dtypes(exclude=[\"object\"])\n",
    "            x_cat = x_transform.select_dtypes(include=[\"object\"])\n",
    "            x_num = x_num.fillna(x_num.median())\n",
    "            \n",
    "            return pd.concat([x_num, x_cat], axis=1)"
   ]
  },
  {
   "cell_type": "markdown",
   "metadata": {},
   "source": [
    "Next, we need to one-hot-encode the categorical variables. "
   ]
  },
  {
   "cell_type": "markdown",
   "metadata": {},
   "source": [
    "TODO: there are other transformers we can use here that will boost performance - such as switching some variables from categorical to numeric and vice-versa\n",
    "\n",
    "We will now tranform the data to it's model-ready state, and train a simple model.\n",
    "\n",
    "TODO: remove the training code from this script - Sibyl pipeline assumes we are starting with an already trained model"
   ]
  },
  {
   "cell_type": "code",
   "execution_count": 4,
   "metadata": {},
   "outputs": [
    {
     "name": "stderr",
     "output_type": "stream",
     "text": [
      "Using TensorFlow backend.\n",
      "C:\\Users\\Ola\\AppData\\Roaming\\Python\\Python36\\site-packages\\tensorflow\\python\\framework\\dtypes.py:526: FutureWarning: Passing (type, 1) or '1type' as a synonym of type is deprecated; in a future version of numpy, it will be understood as (type, (1,)) / '(1,)type'.\n",
      "  _np_qint8 = np.dtype([(\"qint8\", np.int8, 1)])\n",
      "C:\\Users\\Ola\\AppData\\Roaming\\Python\\Python36\\site-packages\\tensorflow\\python\\framework\\dtypes.py:527: FutureWarning: Passing (type, 1) or '1type' as a synonym of type is deprecated; in a future version of numpy, it will be understood as (type, (1,)) / '(1,)type'.\n",
      "  _np_quint8 = np.dtype([(\"quint8\", np.uint8, 1)])\n",
      "C:\\Users\\Ola\\AppData\\Roaming\\Python\\Python36\\site-packages\\tensorflow\\python\\framework\\dtypes.py:528: FutureWarning: Passing (type, 1) or '1type' as a synonym of type is deprecated; in a future version of numpy, it will be understood as (type, (1,)) / '(1,)type'.\n",
      "  _np_qint16 = np.dtype([(\"qint16\", np.int16, 1)])\n",
      "C:\\Users\\Ola\\AppData\\Roaming\\Python\\Python36\\site-packages\\tensorflow\\python\\framework\\dtypes.py:529: FutureWarning: Passing (type, 1) or '1type' as a synonym of type is deprecated; in a future version of numpy, it will be understood as (type, (1,)) / '(1,)type'.\n",
      "  _np_quint16 = np.dtype([(\"quint16\", np.uint16, 1)])\n",
      "C:\\Users\\Ola\\AppData\\Roaming\\Python\\Python36\\site-packages\\tensorflow\\python\\framework\\dtypes.py:530: FutureWarning: Passing (type, 1) or '1type' as a synonym of type is deprecated; in a future version of numpy, it will be understood as (type, (1,)) / '(1,)type'.\n",
      "  _np_qint32 = np.dtype([(\"qint32\", np.int32, 1)])\n",
      "C:\\Users\\Ola\\AppData\\Roaming\\Python\\Python36\\site-packages\\tensorflow\\python\\framework\\dtypes.py:535: FutureWarning: Passing (type, 1) or '1type' as a synonym of type is deprecated; in a future version of numpy, it will be understood as (type, (1,)) / '(1,)type'.\n",
      "  np_resource = np.dtype([(\"resource\", np.ubyte, 1)])\n"
     ]
    },
    {
     "data": {
      "text/plain": [
       "'\\nmodel = Sequential()\\nmodel.add(Dense(12, input_dim=X_encoded.shape[1], kernel_initializer=\\'normal\\', activation=\\'relu\\'))\\nmodel.add(Dense(8, activation=\\'relu\\'))\\nmodel.add(Dense(1, activation=\\'linear\\'))\\n\\ncallbacks = [ModelCheckpoint(\"model.pkl\", monitor=\\'loss\\', save_best_only=True, verbose=1)]\\noptim = Adam(lr=0.001, decay=0.01)\\nmodel.compile(loss=\\'mse\\', optimizer=\\'adam\\', metrics=[\\'mse\\'])\\nmodel.fit(X_encoded, np.log1p(y_orig), callbacks=callbacks, epochs=100, batch_size=10)\\n\\nmodel = Ridge()\\nmodel.fit(X_encoded, np.log1p(y_orig))\\n\\npickle.dump(model, open(\"model.pkl\", \"wb\"))'"
      ]
     },
     "execution_count": 4,
     "metadata": {},
     "output_type": "execute_result"
    }
   ],
   "source": [
    "from sklearn.linear_model import Ridge\n",
    "from sklearn.preprocessing import StandardScaler\n",
    "from sibyl.utils.transformer import OneHotEncoderWrapper, DataFrameWrapper\n",
    "\n",
    "from keras.models import Sequential\n",
    "from keras.layers import Dense\n",
    "from keras.utils import to_categorical\n",
    "from keras.callbacks import ModelCheckpoint\n",
    "from keras.optimizers import Adam\n",
    "\n",
    "imputer = AmesHousingImputer()\n",
    "onehotencoder = OneHotEncoderWrapper()\n",
    "standardizer = DataFrameWrapper(StandardScaler())\n",
    "\n",
    "X_imputed = imputer.transform(X_orig)\n",
    "object_columns = X_imputed.select_dtypes(include=[\"object\"]).columns\n",
    "onehotencoder.fit(X_imputed, object_columns)\n",
    "X_encoded = onehotencoder.transform(X_imputed)\n",
    "standardizer.fit(X_encoded)\n",
    "#X_standardized = standardizer.transform(X_encoded)\n",
    "'''\n",
    "model = Sequential()\n",
    "model.add(Dense(12, input_dim=X_encoded.shape[1], kernel_initializer='normal', activation='relu'))\n",
    "model.add(Dense(8, activation='relu'))\n",
    "model.add(Dense(1, activation='linear'))\n",
    "\n",
    "callbacks = [ModelCheckpoint(\"model.pkl\", monitor='loss', save_best_only=True, verbose=1)]\n",
    "optim = Adam(lr=0.001, decay=0.01)\n",
    "model.compile(loss='mse', optimizer='adam', metrics=['mse'])\n",
    "model.fit(X_encoded, np.log1p(y_orig), callbacks=callbacks, epochs=100, batch_size=10)\n",
    "\n",
    "model = Ridge()\n",
    "model.fit(X_encoded, np.log1p(y_orig))\n",
    "\n",
    "pickle.dump(model, open(\"model.pkl\", \"wb\"))'''"
   ]
  },
  {
   "cell_type": "markdown",
   "metadata": {},
   "source": [
    "Now, we can initialize the LocalFeatureContribution Explainer object."
   ]
  },
  {
   "cell_type": "code",
   "execution_count": 5,
   "metadata": {},
   "outputs": [
    {
     "name": "stdout",
     "output_type": "stream",
     "text": [
      "WARNING:tensorflow:From C:\\Users\\Ola\\AppData\\Roaming\\Python\\Python36\\site-packages\\tensorflow\\python\\framework\\op_def_library.py:263: colocate_with (from tensorflow.python.framework.ops) is deprecated and will be removed in a future version.\n",
      "Instructions for updating:\n",
      "Colocations handled automatically by placer.\n",
      "WARNING:tensorflow:From C:\\Users\\Ola\\AppData\\Roaming\\Python\\Python36\\site-packages\\tensorflow\\python\\ops\\math_ops.py:3066: to_int32 (from tensorflow.python.ops.math_ops) is deprecated and will be removed in a future version.\n",
      "Instructions for updating:\n",
      "Use tf.cast instead.\n"
     ]
    }
   ],
   "source": [
    "from sibyl.explainers import local_feature_explanation\n",
    "importlib.reload(local_feature_explanation)\n",
    "\n",
    "m_transforms = [imputer, onehotencoder]#, standardizer]\n",
    "lfc = local_feature_explanation.LocalFeatureContribution(model_pickle_filepath=\"model.pkl\", \n",
    "                                                         X_orig=X_orig, e_transforms=m_transforms,\n",
    "                                                         m_transforms=m_transforms,\n",
    "                                                         contribution_transformers=onehotencoder)"
   ]
  },
  {
   "cell_type": "markdown",
   "metadata": {},
   "source": [
    "We can make predictions using Explainer objects."
   ]
  },
  {
   "cell_type": "code",
   "execution_count": 6,
   "metadata": {},
   "outputs": [
    {
     "name": "stdout",
     "output_type": "stream",
     "text": [
      "0.03058075808046608\n"
     ]
    },
    {
     "data": {
      "image/png": "[encoded data removed]",
      "text/plain": [
       "<Figure size 432x288 with 1 Axes>"
      ]
     },
     "metadata": {
      "needs_background": "light"
     },
     "output_type": "display_data"
    }
   ],
   "source": [
    "import matplotlib.pyplot as plt\n",
    "\n",
    "preds = lfc.model_predict(X_orig).reshape(-1)\n",
    "print(np.mean((preds - np.log1p(y_orig))**2))\n",
    "\n",
    "sort_order = np.argsort(y_orig)\n",
    "\n",
    "x_axis = np.arange(len(y_orig))\n",
    "plt.plot(x_axis, np.log1p(y_orig).iloc[sort_order])\n",
    "plt.plot(x_axis, preds[sort_order])\n",
    "plt.show()\n"
   ]
  },
  {
   "cell_type": "code",
   "execution_count": 7,
   "metadata": {},
   "outputs": [
    {
     "name": "stderr",
     "output_type": "stream",
     "text": [
      "Using 1456 background data samples could cause slower run times. Consider using shap.sample(data, K) or shap.kmeans(data, K) to summarize the background as K samples.\n"
     ]
    }
   ],
   "source": [
    "lfc.fit()"
   ]
  },
  {
   "cell_type": "markdown",
   "metadata": {},
   "source": [
    "Finally, we can get contributions."
   ]
  },
  {
   "cell_type": "code",
   "execution_count": 8,
   "metadata": {},
   "outputs": [
    {
     "name": "stdout",
     "output_type": "stream",
     "text": [
      "(2, 80)\n"
     ]
    },
    {
     "data": {
      "application/vnd.jupyter.widget-view+json": {
       "model_id": "1fc4cbe5e3404495b8916957ac31bd2b",
       "version_major": 2,
       "version_minor": 0
      },
      "text/plain": [
       "HBox(children=(IntProgress(value=0, max=2), HTML(value='')))"
      ]
     },
     "metadata": {},
     "output_type": "display_data"
    },
    {
     "ename": "KeyboardInterrupt",
     "evalue": "",
     "output_type": "error",
     "traceback": [
      "\u001b[1;31m---------------------------------------------------------------------------\u001b[0m",
      "\u001b[1;31mKeyboardInterrupt\u001b[0m                         Traceback (most recent call last)",
      "\u001b[1;32m<ipython-input-8-0a547846834b>\u001b[0m in \u001b[0;36m<module>\u001b[1;34m()\u001b[0m\n\u001b[1;32m----> 1\u001b[1;33m \u001b[0mcontributions\u001b[0m \u001b[1;33m=\u001b[0m \u001b[0mlfc\u001b[0m\u001b[1;33m.\u001b[0m\u001b[0mproduce\u001b[0m\u001b[1;33m(\u001b[0m\u001b[0mX_orig\u001b[0m\u001b[1;33m.\u001b[0m\u001b[0miloc\u001b[0m\u001b[1;33m[\u001b[0m\u001b[1;36m0\u001b[0m\u001b[1;33m:\u001b[0m\u001b[1;36m2\u001b[0m\u001b[1;33m]\u001b[0m\u001b[1;33m)\u001b[0m\u001b[1;33m\u001b[0m\u001b[1;33m\u001b[0m\u001b[0m\n\u001b[0m\u001b[0;32m      2\u001b[0m \u001b[0mprint\u001b[0m\u001b[1;33m(\u001b[0m\u001b[0mcontributions\u001b[0m\u001b[1;33m)\u001b[0m\u001b[1;33m\u001b[0m\u001b[1;33m\u001b[0m\u001b[0m\n",
      "\u001b[1;32m~\\Documents\\Research\\Implementations\\EvaluatingXAI\\sibyl\\sibyl\\explainers\\local_feature_explanation.py\u001b[0m in \u001b[0;36mproduce\u001b[1;34m(self, x)\u001b[0m\n\u001b[0;32m     94\u001b[0m             \u001b[0mcolumns\u001b[0m \u001b[1;33m=\u001b[0m \u001b[0mx\u001b[0m\u001b[1;33m.\u001b[0m\u001b[0mcolumns\u001b[0m\u001b[1;33m\u001b[0m\u001b[1;33m\u001b[0m\u001b[0m\n\u001b[0;32m     95\u001b[0m             \u001b[0mx\u001b[0m \u001b[1;33m=\u001b[0m \u001b[0mnp\u001b[0m\u001b[1;33m.\u001b[0m\u001b[0masanyarray\u001b[0m\u001b[1;33m(\u001b[0m\u001b[0mx\u001b[0m\u001b[1;33m)\u001b[0m\u001b[1;33m\u001b[0m\u001b[1;33m\u001b[0m\u001b[0m\n\u001b[1;32m---> 96\u001b[1;33m             \u001b[0mcontributions\u001b[0m \u001b[1;33m=\u001b[0m \u001b[0mpd\u001b[0m\u001b[1;33m.\u001b[0m\u001b[0mDataFrame\u001b[0m\u001b[1;33m(\u001b[0m\u001b[0mself\u001b[0m\u001b[1;33m.\u001b[0m\u001b[0mexplainer\u001b[0m\u001b[1;33m.\u001b[0m\u001b[0mshap_values\u001b[0m\u001b[1;33m(\u001b[0m\u001b[0mx\u001b[0m\u001b[1;33m)\u001b[0m\u001b[1;33m,\u001b[0m \u001b[0mcolumns\u001b[0m\u001b[1;33m=\u001b[0m\u001b[0mcolumns\u001b[0m\u001b[1;33m)\u001b[0m\u001b[1;33m\u001b[0m\u001b[1;33m\u001b[0m\u001b[0m\n\u001b[0m\u001b[0;32m     97\u001b[0m             \u001b[1;32mreturn\u001b[0m \u001b[0mself\u001b[0m\u001b[1;33m.\u001b[0m\u001b[0mtransform_contributions\u001b[0m\u001b[1;33m(\u001b[0m\u001b[0mcontributions\u001b[0m\u001b[1;33m)\u001b[0m\u001b[1;33m\u001b[0m\u001b[1;33m\u001b[0m\u001b[0m\n\u001b[0;32m     98\u001b[0m \u001b[1;33m\u001b[0m\u001b[0m\n",
      "\u001b[1;32m~\\AppData\\Roaming\\Python\\Python36\\site-packages\\shap\\explainers\\kernel.py\u001b[0m in \u001b[0;36mshap_values\u001b[1;34m(self, X, **kwargs)\u001b[0m\n\u001b[0;32m    209\u001b[0m                 \u001b[1;32mif\u001b[0m \u001b[0mself\u001b[0m\u001b[1;33m.\u001b[0m\u001b[0mkeep_index\u001b[0m\u001b[1;33m:\u001b[0m\u001b[1;33m\u001b[0m\u001b[1;33m\u001b[0m\u001b[0m\n\u001b[0;32m    210\u001b[0m                     \u001b[0mdata\u001b[0m \u001b[1;33m=\u001b[0m \u001b[0mconvert_to_instance_with_index\u001b[0m\u001b[1;33m(\u001b[0m\u001b[0mdata\u001b[0m\u001b[1;33m,\u001b[0m \u001b[0mcolumn_name\u001b[0m\u001b[1;33m,\u001b[0m \u001b[0mindex_value\u001b[0m\u001b[1;33m[\u001b[0m\u001b[0mi\u001b[0m\u001b[1;33m:\u001b[0m\u001b[0mi\u001b[0m \u001b[1;33m+\u001b[0m \u001b[1;36m1\u001b[0m\u001b[1;33m]\u001b[0m\u001b[1;33m,\u001b[0m \u001b[0mindex_name\u001b[0m\u001b[1;33m)\u001b[0m\u001b[1;33m\u001b[0m\u001b[1;33m\u001b[0m\u001b[0m\n\u001b[1;32m--> 211\u001b[1;33m                 \u001b[0mexplanations\u001b[0m\u001b[1;33m.\u001b[0m\u001b[0mappend\u001b[0m\u001b[1;33m(\u001b[0m\u001b[0mself\u001b[0m\u001b[1;33m.\u001b[0m\u001b[0mexplain\u001b[0m\u001b[1;33m(\u001b[0m\u001b[0mdata\u001b[0m\u001b[1;33m,\u001b[0m \u001b[1;33m**\u001b[0m\u001b[0mkwargs\u001b[0m\u001b[1;33m)\u001b[0m\u001b[1;33m)\u001b[0m\u001b[1;33m\u001b[0m\u001b[1;33m\u001b[0m\u001b[0m\n\u001b[0m\u001b[0;32m    212\u001b[0m \u001b[1;33m\u001b[0m\u001b[0m\n\u001b[0;32m    213\u001b[0m             \u001b[1;31m# vector-output\u001b[0m\u001b[1;33m\u001b[0m\u001b[1;33m\u001b[0m\u001b[1;33m\u001b[0m\u001b[0m\n",
      "\u001b[1;32m~\\AppData\\Roaming\\Python\\Python36\\site-packages\\shap\\explainers\\kernel.py\u001b[0m in \u001b[0;36mexplain\u001b[1;34m(self, incoming_instance, **kwargs)\u001b[0m\n\u001b[0;32m    399\u001b[0m \u001b[1;33m\u001b[0m\u001b[0m\n\u001b[0;32m    400\u001b[0m             \u001b[1;31m# execute the model on the synthetic samples we have created\u001b[0m\u001b[1;33m\u001b[0m\u001b[1;33m\u001b[0m\u001b[1;33m\u001b[0m\u001b[0m\n\u001b[1;32m--> 401\u001b[1;33m             \u001b[0mself\u001b[0m\u001b[1;33m.\u001b[0m\u001b[0mrun\u001b[0m\u001b[1;33m(\u001b[0m\u001b[1;33m)\u001b[0m\u001b[1;33m\u001b[0m\u001b[1;33m\u001b[0m\u001b[0m\n\u001b[0m\u001b[0;32m    402\u001b[0m \u001b[1;33m\u001b[0m\u001b[0m\n\u001b[0;32m    403\u001b[0m             \u001b[1;31m# solve then expand the feature importance (Shapley value) vector to contain the non-varying features\u001b[0m\u001b[1;33m\u001b[0m\u001b[1;33m\u001b[0m\u001b[1;33m\u001b[0m\u001b[0m\n",
      "\u001b[1;32m~\\AppData\\Roaming\\Python\\Python36\\site-packages\\shap\\explainers\\kernel.py\u001b[0m in \u001b[0;36mrun\u001b[1;34m(self)\u001b[0m\n\u001b[0;32m    530\u001b[0m             \u001b[1;32mif\u001b[0m \u001b[0mself\u001b[0m\u001b[1;33m.\u001b[0m\u001b[0mkeep_index_ordered\u001b[0m\u001b[1;33m:\u001b[0m\u001b[1;33m\u001b[0m\u001b[1;33m\u001b[0m\u001b[0m\n\u001b[0;32m    531\u001b[0m                 \u001b[0mdata\u001b[0m \u001b[1;33m=\u001b[0m \u001b[0mdata\u001b[0m\u001b[1;33m.\u001b[0m\u001b[0msort_index\u001b[0m\u001b[1;33m(\u001b[0m\u001b[1;33m)\u001b[0m\u001b[1;33m\u001b[0m\u001b[1;33m\u001b[0m\u001b[0m\n\u001b[1;32m--> 532\u001b[1;33m         \u001b[0mmodelOut\u001b[0m \u001b[1;33m=\u001b[0m \u001b[0mself\u001b[0m\u001b[1;33m.\u001b[0m\u001b[0mmodel\u001b[0m\u001b[1;33m.\u001b[0m\u001b[0mf\u001b[0m\u001b[1;33m(\u001b[0m\u001b[0mdata\u001b[0m\u001b[1;33m)\u001b[0m\u001b[1;33m\u001b[0m\u001b[1;33m\u001b[0m\u001b[0m\n\u001b[0m\u001b[0;32m    533\u001b[0m         \u001b[1;32mif\u001b[0m \u001b[0misinstance\u001b[0m\u001b[1;33m(\u001b[0m\u001b[0mmodelOut\u001b[0m\u001b[1;33m,\u001b[0m \u001b[1;33m(\u001b[0m\u001b[0mpd\u001b[0m\u001b[1;33m.\u001b[0m\u001b[0mDataFrame\u001b[0m\u001b[1;33m,\u001b[0m \u001b[0mpd\u001b[0m\u001b[1;33m.\u001b[0m\u001b[0mSeries\u001b[0m\u001b[1;33m)\u001b[0m\u001b[1;33m)\u001b[0m\u001b[1;33m:\u001b[0m\u001b[1;33m\u001b[0m\u001b[1;33m\u001b[0m\u001b[0m\n\u001b[0;32m    534\u001b[0m             \u001b[0mmodelOut\u001b[0m \u001b[1;33m=\u001b[0m \u001b[0mmodelOut\u001b[0m\u001b[1;33m.\u001b[0m\u001b[0mvalues\u001b[0m\u001b[1;33m\u001b[0m\u001b[1;33m\u001b[0m\u001b[0m\n",
      "\u001b[1;32m~\\Anaconda3\\lib\\site-packages\\keras\\engine\\training.py\u001b[0m in \u001b[0;36mpredict\u001b[1;34m(self, x, batch_size, verbose, steps)\u001b[0m\n\u001b[0;32m   1167\u001b[0m                                             \u001b[0mbatch_size\u001b[0m\u001b[1;33m=\u001b[0m\u001b[0mbatch_size\u001b[0m\u001b[1;33m,\u001b[0m\u001b[1;33m\u001b[0m\u001b[1;33m\u001b[0m\u001b[0m\n\u001b[0;32m   1168\u001b[0m                                             \u001b[0mverbose\u001b[0m\u001b[1;33m=\u001b[0m\u001b[0mverbose\u001b[0m\u001b[1;33m,\u001b[0m\u001b[1;33m\u001b[0m\u001b[1;33m\u001b[0m\u001b[0m\n\u001b[1;32m-> 1169\u001b[1;33m                                             steps=steps)\n\u001b[0m\u001b[0;32m   1170\u001b[0m \u001b[1;33m\u001b[0m\u001b[0m\n\u001b[0;32m   1171\u001b[0m     def train_on_batch(self, x, y,\n",
      "\u001b[1;32m~\\Anaconda3\\lib\\site-packages\\keras\\engine\\training_arrays.py\u001b[0m in \u001b[0;36mpredict_loop\u001b[1;34m(model, f, ins, batch_size, verbose, steps)\u001b[0m\n\u001b[0;32m    292\u001b[0m                 \u001b[0mins_batch\u001b[0m\u001b[1;33m[\u001b[0m\u001b[0mi\u001b[0m\u001b[1;33m]\u001b[0m \u001b[1;33m=\u001b[0m \u001b[0mins_batch\u001b[0m\u001b[1;33m[\u001b[0m\u001b[0mi\u001b[0m\u001b[1;33m]\u001b[0m\u001b[1;33m.\u001b[0m\u001b[0mtoarray\u001b[0m\u001b[1;33m(\u001b[0m\u001b[1;33m)\u001b[0m\u001b[1;33m\u001b[0m\u001b[1;33m\u001b[0m\u001b[0m\n\u001b[0;32m    293\u001b[0m \u001b[1;33m\u001b[0m\u001b[0m\n\u001b[1;32m--> 294\u001b[1;33m             \u001b[0mbatch_outs\u001b[0m \u001b[1;33m=\u001b[0m \u001b[0mf\u001b[0m\u001b[1;33m(\u001b[0m\u001b[0mins_batch\u001b[0m\u001b[1;33m)\u001b[0m\u001b[1;33m\u001b[0m\u001b[1;33m\u001b[0m\u001b[0m\n\u001b[0m\u001b[0;32m    295\u001b[0m             \u001b[0mbatch_outs\u001b[0m \u001b[1;33m=\u001b[0m \u001b[0mto_list\u001b[0m\u001b[1;33m(\u001b[0m\u001b[0mbatch_outs\u001b[0m\u001b[1;33m)\u001b[0m\u001b[1;33m\u001b[0m\u001b[1;33m\u001b[0m\u001b[0m\n\u001b[0;32m    296\u001b[0m             \u001b[1;32mif\u001b[0m \u001b[0mbatch_index\u001b[0m \u001b[1;33m==\u001b[0m \u001b[1;36m0\u001b[0m\u001b[1;33m:\u001b[0m\u001b[1;33m\u001b[0m\u001b[1;33m\u001b[0m\u001b[0m\n",
      "\u001b[1;32m~\\Anaconda3\\lib\\site-packages\\keras\\backend\\tensorflow_backend.py\u001b[0m in \u001b[0;36m__call__\u001b[1;34m(self, inputs)\u001b[0m\n\u001b[0;32m   2713\u001b[0m                 \u001b[1;32mreturn\u001b[0m \u001b[0mself\u001b[0m\u001b[1;33m.\u001b[0m\u001b[0m_legacy_call\u001b[0m\u001b[1;33m(\u001b[0m\u001b[0minputs\u001b[0m\u001b[1;33m)\u001b[0m\u001b[1;33m\u001b[0m\u001b[1;33m\u001b[0m\u001b[0m\n\u001b[0;32m   2714\u001b[0m \u001b[1;33m\u001b[0m\u001b[0m\n\u001b[1;32m-> 2715\u001b[1;33m             \u001b[1;32mreturn\u001b[0m \u001b[0mself\u001b[0m\u001b[1;33m.\u001b[0m\u001b[0m_call\u001b[0m\u001b[1;33m(\u001b[0m\u001b[0minputs\u001b[0m\u001b[1;33m)\u001b[0m\u001b[1;33m\u001b[0m\u001b[1;33m\u001b[0m\u001b[0m\n\u001b[0m\u001b[0;32m   2716\u001b[0m         \u001b[1;32melse\u001b[0m\u001b[1;33m:\u001b[0m\u001b[1;33m\u001b[0m\u001b[1;33m\u001b[0m\u001b[0m\n\u001b[0;32m   2717\u001b[0m             \u001b[1;32mif\u001b[0m \u001b[0mpy_any\u001b[0m\u001b[1;33m(\u001b[0m\u001b[0mis_tensor\u001b[0m\u001b[1;33m(\u001b[0m\u001b[0mx\u001b[0m\u001b[1;33m)\u001b[0m \u001b[1;32mfor\u001b[0m \u001b[0mx\u001b[0m \u001b[1;32min\u001b[0m \u001b[0minputs\u001b[0m\u001b[1;33m)\u001b[0m\u001b[1;33m:\u001b[0m\u001b[1;33m\u001b[0m\u001b[1;33m\u001b[0m\u001b[0m\n",
      "\u001b[1;32m~\\Anaconda3\\lib\\site-packages\\keras\\backend\\tensorflow_backend.py\u001b[0m in \u001b[0;36m_call\u001b[1;34m(self, inputs)\u001b[0m\n\u001b[0;32m   2673\u001b[0m             \u001b[0mfetched\u001b[0m \u001b[1;33m=\u001b[0m \u001b[0mself\u001b[0m\u001b[1;33m.\u001b[0m\u001b[0m_callable_fn\u001b[0m\u001b[1;33m(\u001b[0m\u001b[1;33m*\u001b[0m\u001b[0marray_vals\u001b[0m\u001b[1;33m,\u001b[0m \u001b[0mrun_metadata\u001b[0m\u001b[1;33m=\u001b[0m\u001b[0mself\u001b[0m\u001b[1;33m.\u001b[0m\u001b[0mrun_metadata\u001b[0m\u001b[1;33m)\u001b[0m\u001b[1;33m\u001b[0m\u001b[1;33m\u001b[0m\u001b[0m\n\u001b[0;32m   2674\u001b[0m         \u001b[1;32melse\u001b[0m\u001b[1;33m:\u001b[0m\u001b[1;33m\u001b[0m\u001b[1;33m\u001b[0m\u001b[0m\n\u001b[1;32m-> 2675\u001b[1;33m             \u001b[0mfetched\u001b[0m \u001b[1;33m=\u001b[0m \u001b[0mself\u001b[0m\u001b[1;33m.\u001b[0m\u001b[0m_callable_fn\u001b[0m\u001b[1;33m(\u001b[0m\u001b[1;33m*\u001b[0m\u001b[0marray_vals\u001b[0m\u001b[1;33m)\u001b[0m\u001b[1;33m\u001b[0m\u001b[1;33m\u001b[0m\u001b[0m\n\u001b[0m\u001b[0;32m   2676\u001b[0m         \u001b[1;32mreturn\u001b[0m \u001b[0mfetched\u001b[0m\u001b[1;33m[\u001b[0m\u001b[1;33m:\u001b[0m\u001b[0mlen\u001b[0m\u001b[1;33m(\u001b[0m\u001b[0mself\u001b[0m\u001b[1;33m.\u001b[0m\u001b[0moutputs\u001b[0m\u001b[1;33m)\u001b[0m\u001b[1;33m]\u001b[0m\u001b[1;33m\u001b[0m\u001b[1;33m\u001b[0m\u001b[0m\n\u001b[0;32m   2677\u001b[0m \u001b[1;33m\u001b[0m\u001b[0m\n",
      "\u001b[1;32m~\\AppData\\Roaming\\Python\\Python36\\site-packages\\tensorflow\\python\\client\\session.py\u001b[0m in \u001b[0;36m__call__\u001b[1;34m(self, *args, **kwargs)\u001b[0m\n\u001b[0;32m   1437\u001b[0m           ret = tf_session.TF_SessionRunCallable(\n\u001b[0;32m   1438\u001b[0m               \u001b[0mself\u001b[0m\u001b[1;33m.\u001b[0m\u001b[0m_session\u001b[0m\u001b[1;33m.\u001b[0m\u001b[0m_session\u001b[0m\u001b[1;33m,\u001b[0m \u001b[0mself\u001b[0m\u001b[1;33m.\u001b[0m\u001b[0m_handle\u001b[0m\u001b[1;33m,\u001b[0m \u001b[0margs\u001b[0m\u001b[1;33m,\u001b[0m \u001b[0mstatus\u001b[0m\u001b[1;33m,\u001b[0m\u001b[1;33m\u001b[0m\u001b[1;33m\u001b[0m\u001b[0m\n\u001b[1;32m-> 1439\u001b[1;33m               run_metadata_ptr)\n\u001b[0m\u001b[0;32m   1440\u001b[0m         \u001b[1;32mif\u001b[0m \u001b[0mrun_metadata\u001b[0m\u001b[1;33m:\u001b[0m\u001b[1;33m\u001b[0m\u001b[1;33m\u001b[0m\u001b[0m\n\u001b[0;32m   1441\u001b[0m           \u001b[0mproto_data\u001b[0m \u001b[1;33m=\u001b[0m \u001b[0mtf_session\u001b[0m\u001b[1;33m.\u001b[0m\u001b[0mTF_GetBuffer\u001b[0m\u001b[1;33m(\u001b[0m\u001b[0mrun_metadata_ptr\u001b[0m\u001b[1;33m)\u001b[0m\u001b[1;33m\u001b[0m\u001b[1;33m\u001b[0m\u001b[0m\n",
      "\u001b[1;31mKeyboardInterrupt\u001b[0m: "
     ]
    }
   ],
   "source": [
    "contributions = lfc.produce(X_orig.iloc[0:2])\n",
    "print(contributions)"
   ]
  },
  {
   "cell_type": "code",
   "execution_count": null,
   "metadata": {},
   "outputs": [],
   "source": []
  }
 ],
 "metadata": {
  "kernelspec": {
   "display_name": "Python 3",
   "language": "python",
   "name": "python3"
  },
  "language_info": {
   "codemirror_mode": {
    "name": "ipython",
    "version": 3
   },
   "file_extension": ".py",
   "mimetype": "text/x-python",
   "name": "python",
   "nbconvert_exporter": "python",
   "pygments_lexer": "ipython3",
   "version": "3.6.8"
  }
 },
 "nbformat": 4,
 "nbformat_minor": 2
}
