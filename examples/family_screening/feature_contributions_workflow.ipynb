{
 "cells": [
  {
   "cell_type": "code",
   "execution_count": 1,
   "metadata": {},
   "outputs": [],
   "source": [
    "import sys\n",
    "import os\n",
    "import pandas as pd\n",
    "import numpy as np\n",
    "import importlib\n",
    "sys.path.insert(1, '../../../sibyl')\n",
    "\n",
    "directory = \"data/\"\n",
    "dataset_filename = os.path.join(directory, \"Model_Dataset_Version_01_01.csv\")\n",
    "features_filename = os.path.join(directory, \"Design_Specification_DOUGLAS_v1.4.csv\")\n",
    "model_filename = os.path.join(directory, \"weights_model_feb2019.csv\")\n",
    "threshold_filename = os.path.join(directory, \"Performance_Matrix.csv\")\n",
    "feature_mappings_filename = os.path.join(directory, \"mappings.csv\")"
   ]
  },
  {
   "cell_type": "markdown",
   "metadata": {},
   "source": [
    "First, we load in the base model, and the features that it uses.\n",
    "For complete Sibyl use, we also need a model wrapper that converts the base model logits to 1-20 scores, but that model is not needed when computing feature contributions. Using the model wrapper instead of the model greatly increases run times."
   ]
  },
  {
   "cell_type": "code",
   "execution_count": 2,
   "metadata": {},
   "outputs": [
    {
     "name": "stdout",
     "output_type": "stream",
     "text": [
      "(2, 460) (460,)\n"
     ]
    }
   ],
   "source": [
    "# LOAD IN THE BASE MODEL\n",
    "\n",
    "from sibyl.utils import model_utils, transformer\n",
    "importlib.reload(model_utils)\n",
    "importlib.reload(transformer)\n",
    "\n",
    "weights_df = pd.read_csv(model_filename)\n",
    "weights = weights_df[\"weight\"]\n",
    "model_features = weights_df[\"name\"][1:]\n",
    "base_model = model_utils.load_model_from_weights(weights, model_type=\"linear_regression\")\n",
    "feature_select = transformer.FeatureSelectTransformer(model_features)"
   ]
  },
  {
   "cell_type": "markdown",
   "metadata": {},
   "source": [
    "The cell below will load a Mappings object from the CSV. This object allows flexibility in include mappings format, and we will have factory methods to generate one from multiple different formats."
   ]
  },
  {
   "cell_type": "code",
   "execution_count": 3,
   "metadata": {},
   "outputs": [],
   "source": [
    "from sibyl.utils import mappings\n",
    "importlib.reload(mappings)\n",
    "\n",
    "mappings = mappings.Mappings.generate_mappings(dataframe=pd.read_csv(feature_mappings_filename))"
   ]
  },
  {
   "cell_type": "code",
   "execution_count": 4,
   "metadata": {},
   "outputs": [
    {
     "name": "stderr",
     "output_type": "stream",
     "text": [
      "C:\\Users\\Ola\\Anaconda3\\lib\\site-packages\\IPython\\core\\interactiveshell.py:2785: DtypeWarning: Columns (222) have mixed types. Specify dtype option on import or set low_memory=False.\n",
      "  interactivity=interactivity, compiler=compiler, result=result)\n"
     ]
    }
   ],
   "source": [
    "# LOAD IN THE DATASET\n",
    "\n",
    "dataset = pd.read_csv(dataset_filename)\n",
    "dataset = dataset[model_features].astype(\"float\")"
   ]
  },
  {
   "cell_type": "markdown",
   "metadata": {},
   "source": [
    " Now have everything we need to set up a FeatureContributionExplainer object, and begin using it."
   ]
  },
  {
   "cell_type": "code",
   "execution_count": 5,
   "metadata": {},
   "outputs": [],
   "source": [
    "import sibyl.explainers.local_feature_explanation as lfe\n",
    "importlib.reload(lfe)\n",
    "\n",
    "n = 100000\n",
    "lce = lfe.FeatureContributionExplainer(base_model, dataset.sample(n), transformers=feature_select,\n",
    "                                       algorithm=\"shap\", fit_on_init=False)"
   ]
  },
  {
   "cell_type": "markdown",
   "metadata": {},
   "source": [
    "We can now fit the contribution explainer, and time it"
   ]
  },
  {
   "cell_type": "code",
   "execution_count": 6,
   "metadata": {},
   "outputs": [
    {
     "name": "stdout",
     "output_type": "stream",
     "text": [
      "Total time taken to fit once (100000 items): 0.055883 seconds\n"
     ]
    }
   ],
   "source": [
    "import time\n",
    "\n",
    "start_time = time.time()\n",
    "lce.fit_contributions()\n",
    "end_time = time.time()\n",
    "\n",
    "print(\"Total time taken to fit once (%i items): %f seconds\" % (n, end_time-start_time))"
   ]
  },
  {
   "cell_type": "markdown",
   "metadata": {},
   "source": [
    "Now, we can get contributions, and time the process"
   ]
  },
  {
   "cell_type": "code",
   "execution_count": 7,
   "metadata": {},
   "outputs": [
    {
     "name": "stdout",
     "output_type": "stream",
     "text": [
      "Time time taken to get contributions on 1000 items: 0.006933 seconds\n"
     ]
    }
   ],
   "source": [
    "d = 1000\n",
    "daily_set = dataset.sample(d)\n",
    "\n",
    "start_time = time.time()\n",
    "contributions = lce.get_contributions(daily_set)\n",
    "end_time = time.time()\n",
    "\n",
    "print(\"Time time taken to get contributions on %s items: %f seconds\" % (d, end_time-start_time))"
   ]
  },
  {
   "cell_type": "markdown",
   "metadata": {},
   "source": [
    "Now, we can take a look at the contributions found, and see if they make sense"
   ]
  },
  {
   "cell_type": "code",
   "execution_count": 8,
   "metadata": {},
   "outputs": [
    {
     "data": {
      "image/png": "[encoded data removed]",
      "text/plain": [
       "<Figure size 432x288 with 1 Axes>"
      ]
     },
     "metadata": {
      "needs_background": "light"
     },
     "output_type": "display_data"
    },
    {
     "data": {
      "image/png": "[encoded data removed]",
      "text/plain": [
       "<Figure size 432x288 with 1 Axes>"
      ]
     },
     "metadata": {
      "needs_background": "light"
     },
     "output_type": "display_data"
    }
   ],
   "source": [
    "import matplotlib.pyplot as plt\n",
    "\n",
    "entity = daily_set.iloc[0]\n",
    "cont = contributions[0]\n",
    "\n",
    "order = np.argsort(cont)\n",
    "top_conts = cont[order[-5:]]\n",
    "top_features = model_features[order[-5:]]\n",
    "x = np.arange(5)\n",
    "plt.barh(x, top_conts)\n",
    "values = entity[top_features]\n",
    "tick_labels = [top_features.iloc[i] + \" - \" + str(values.iloc[i]) for i in range(5)]\n",
    "plt.yticks(x, tick_labels)\n",
    "plt.show()\n",
    "\n",
    "bottom_conts = cont[order[0:5]]\n",
    "bottom_features = model_features[order[0:5]]\n",
    "x = np.arange(5)\n",
    "plt.barh(x, bottom_conts)\n",
    "values = entity[bottom_features]\n",
    "tick_labels = [bottom_features.iloc[i] + \" - \" + str(values.iloc[i]) for i in range(5)]\n",
    "plt.yticks(x, tick_labels)\n",
    "plt.show()"
   ]
  },
  {
   "cell_type": "code",
   "execution_count": 11,
   "metadata": {},
   "outputs": [
    {
     "name": "stdout",
     "output_type": "stream",
     "text": [
      "Index(['PRI_CBMS_FOCUS_CD', 'PRI_CBMS_FOCUS_CH', 'PRI_CBMS_FOCUS_CP',\n",
      "       'PRI_CBMS_FOCUS_CW', 'PRI_CBMS_FOCUS_DF', 'PRI_CBMS_FOCUS_EX',\n",
      "       'PRI_CBMS_FOCUS_FM', 'PRI_CBMS_FOCUS_FP', 'PRI_CBMS_FOCUS_FS',\n",
      "       'PRI_CBMS_FOCUS_FT',\n",
      "       ...\n",
      "       'PRI_OTHA_REF_NEGLECT_COUNT', 'PRI_OTHA_REF_EMOTIONAL_COUNT',\n",
      "       'PRI_OTHA_REF_PHYSICAL_COUNT', 'PRI_OTHA_REF_DRUG_COUNT',\n",
      "       'PRI_OTHA_REF_SEXUAL_COUNT', 'PRI_OTHA_REF_OTHER_COUNT',\n",
      "       'PRI_OTHA_REF_DOMESTIC_VIOLENCE_COUNT', 'PRI_OTHA_CYF_ACTIVE',\n",
      "       'PRI_OTHA_JUVENILE_JUSTICE', 'PRI_OTHA_COURT_ACTIVE'],\n",
      "      dtype='object', length=358)\n",
      "Time taken to encode full dataset: 0.764954 seconds\n"
     ]
    }
   ],
   "source": [
    "# time taken to convert to categorical\n",
    "from sibyl.utils import transformer\n",
    "importlib.reload(transformer)\n",
    "import time\n",
    "\n",
    "cat_transformer = transformer.MappingsDecoderTransformer(mappings)\n",
    "\n",
    "start_time = time.time()\n",
    "transformed = cat_transformer.transform(dataset)\n",
    "end_time = time.time()\n",
    "print(transformed.columns)\n",
    "\n",
    "print(\"Time taken to encode full dataset: %f seconds\" % (end_time-start_time))"
   ]
  }
 ],
 "metadata": {
  "kernelspec": {
   "display_name": "Python 3",
   "language": "python",
   "name": "python3"
  },
  "language_info": {
   "codemirror_mode": {
    "name": "ipython",
    "version": 3
   },
   "file_extension": ".py",
   "mimetype": "text/x-python",
   "name": "python",
   "nbconvert_exporter": "python",
   "pygments_lexer": "ipython3",
   "version": "3.6.8"
  }
 },
 "nbformat": 4,
 "nbformat_minor": 2
}
